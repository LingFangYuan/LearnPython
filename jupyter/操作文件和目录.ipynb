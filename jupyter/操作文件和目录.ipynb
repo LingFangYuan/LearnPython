{
 "cells": [
  {
   "cell_type": "markdown",
   "metadata": {},
   "source": [
    "## 操作文件和目录"
   ]
  },
  {
   "cell_type": "code",
   "execution_count": 5,
   "metadata": {},
   "outputs": [
    {
     "name": "stdout",
     "output_type": "stream",
     "text": [
      "nt\n",
      "D:\\anaconda3;D:\\anaconda3\\Library\\mingw-w64\\bin;D:\\anaconda3\\Library\\usr\\bin;D:\\anaconda3\\Library\\bin;D:\\anaconda3\\Scripts;D:\\app\\lingfangyuan\\product\\11.2.0\\dbhome_1\\bin;C:\\Program Files (x86)\\Common Files\\Oracle\\Java\\javapath;C:\\WINDOWS\\system32;C:\\WINDOWS;C:\\WINDOWS\\System32\\Wbem;C:\\WINDOWS\\System32\\WindowsPowerShell\\v1.0\\;C:\\Program Files\\TortoiseSVN\\bin;C:\\Program Files\\Java\\jdk1.8.0_172\\bin;C:\\Program Files\\Java\\jdk1.8.0_172\\jre\\bin;C:\\WINDOWS\\System32\\OpenSSH\\;C:\\Program Files\\Microsoft VS Code\\bin;D:\\Program Files\\MongoDB\\Server\\4.0\\bin;C:\\Program Files (x86)\\Windows Kits\\8.1\\Windows Performance Toolkit\\;C:\\Program Files\\Git\\cmd;C:\\Python37\\;C:\\Python37\\Scripts\\;D:\\anaconda3;D:\\anaconda3\\Library\\mingw-w64\\bin;D:\\anaconda3\\Library\\usr\\bin;D:\\anaconda3\\Library\\bin;D:\\anaconda3\\Scripts;C:\\Users\\lingfangyuan\\AppData\\Local\\Microsoft\\WindowsApps;C:\\Program Files\\Notepad++\\;\n"
     ]
    }
   ],
   "source": [
    "import os\n",
    "print(os.name)\n",
    "print(os.environ.get('path'))"
   ]
  },
  {
   "cell_type": "markdown",
   "metadata": {},
   "source": [
    "### 操作文件和目录\n",
    "- 操作文件和目录的函数一部分放在os模块中，一部分放在os.path模块中，这一点要注意一下。查看、创建和删除目录可以这么调用："
   ]
  },
  {
   "cell_type": "code",
   "execution_count": 11,
   "metadata": {},
   "outputs": [
    {
     "name": "stdout",
     "output_type": "stream",
     "text": [
      "F:\\GitRepository\\Learning\\jupyter\n",
      "F:\\GitRepository\\Learning\\jupyter\\testdir\n"
     ]
    }
   ],
   "source": [
    "# 查看当前目录的绝对路径\n",
    "print(os.path.abspath('.'))\n",
    "# 在某个目录下创建一个新目录，首先把新目录的完整路径表示出来\n",
    "print(os.path.join('F:\\GitRepository\\Learning\\jupyter', 'testdir'))\n",
    "# 创建一个目录\n",
    "os.mkdir('F:\\\\GitRepository\\\\Learning\\\\jupyter\\\\testdir')\n",
    "# 删除一个目录\n",
    "os.rmdir('F:\\\\GitRepository\\\\Learning\\\\jupyter\\\\testdir')"
   ]
  },
  {
   "cell_type": "code",
   "execution_count": 17,
   "metadata": {},
   "outputs": [
    {
     "name": "stdout",
     "output_type": "stream",
     "text": [
      "('F:\\\\GitRepository\\\\Learning', 'jupyter')\n",
      "('F:\\\\GitRepository\\\\Learning\\\\jupyter\\\\log', '.txt')\n"
     ]
    }
   ],
   "source": [
    "print(os.path.split('F:\\GitRepository\\Learning\\jupyter'))\n",
    "print(os.path.splitext('F:\\GitRepository\\Learning\\jupyter\\log.txt'))"
   ]
  },
  {
   "cell_type": "code",
   "execution_count": 35,
   "metadata": {},
   "outputs": [],
   "source": [
    "# 重命名文件\n",
    "os.rename('log.txt', 'log.py')\n",
    "os.rename('log.py', 'log.txt')\n",
    "# 创建文件、删除文件\n",
    "f = open('test.py', 'a+')\n",
    "f.close()\n",
    "os.remove('test.py')"
   ]
  },
  {
   "cell_type": "code",
   "execution_count": 37,
   "metadata": {},
   "outputs": [
    {
     "name": "stdout",
     "output_type": "stream",
     "text": [
      "['.ipynb_checkpoints']\n",
      "['a.py', 'b.py', 'c.py', 'd.py', 'err.py', 'orm.py']\n"
     ]
    }
   ],
   "source": [
    "print([x for x in os.listdir('.') if os.path.isdir(x)])\n",
    "print([x for x in os.listdir('.') if os.path.isfile(x) and os.path.splitext(x)[1] == '.py'])"
   ]
  },
  {
   "cell_type": "markdown",
   "metadata": {},
   "source": [
    "### 练习\n",
    "1. 利用os模块编写一个能实现dir -l输出的程序。\n",
    "2. 编写一个程序，能在当前目录以及当前目录的所有子目录下查找文件名包含指定字符串的文件，并打印出相对路径。"
   ]
  },
  {
   "cell_type": "code",
   "execution_count": null,
   "metadata": {},
   "outputs": [],
   "source": []
  },
  {
   "cell_type": "code",
   "execution_count": 55,
   "metadata": {},
   "outputs": [
    {
     "name": "stdout",
     "output_type": "stream",
     "text": [
      "F:\\GitRepository\\Learning\\jupyter\\a.py\n",
      "F:\\GitRepository\\Learning\\jupyter\\b.py\n",
      "F:\\GitRepository\\Learning\\jupyter\\c.py\n",
      "F:\\GitRepository\\Learning\\jupyter\\d.py\n",
      "F:\\GitRepository\\Learning\\jupyter\\err.py\n",
      "F:\\GitRepository\\Learning\\jupyter\\filter.ipynb\n",
      "F:\\GitRepository\\Learning\\jupyter\\functools_partial.ipynb\n",
      "F:\\GitRepository\\Learning\\jupyter\\list-generation.ipynb\n",
      "F:\\GitRepository\\Learning\\jupyter\\logging模块.ipynb\n",
      "F:\\GitRepository\\Learning\\jupyter\\map_reduce.ipynb\n",
      "F:\\GitRepository\\Learning\\jupyter\\orm.py\n",
      "F:\\GitRepository\\Learning\\jupyter\\StringIO和BytesIO.ipynb\n",
      "F:\\GitRepository\\Learning\\jupyter\\Untitled.ipynb\n",
      "F:\\GitRepository\\Learning\\jupyter\\排序.ipynb\n",
      "F:\\GitRepository\\Learning\\jupyter\\文件读取.ipynb\n",
      "F:\\GitRepository\\Learning\\jupyter\\枚举类和元类.ipynb\n",
      "F:\\GitRepository\\Learning\\jupyter\\生成器.ipynb\n",
      "F:\\GitRepository\\Learning\\jupyter\\调试.ipynb\n",
      "F:\\GitRepository\\Learning\\jupyter\\迭代器.ipynb\n",
      "F:\\GitRepository\\Learning\\jupyter\\错误处理.ipynb\n",
      "F:\\GitRepository\\Learning\\jupyter\\面向对象编程.ipynb\n",
      "F:\\GitRepository\\Learning\\jupyter\\.ipynb_checkpoints\\filter-checkpoint.ipynb\n",
      "F:\\GitRepository\\Learning\\jupyter\\.ipynb_checkpoints\\functools_partial-checkpoint.ipynb\n",
      "F:\\GitRepository\\Learning\\jupyter\\.ipynb_checkpoints\\list-generation-checkpoint.ipynb\n",
      "F:\\GitRepository\\Learning\\jupyter\\.ipynb_checkpoints\\logging模块-checkpoint.ipynb\n",
      "F:\\GitRepository\\Learning\\jupyter\\.ipynb_checkpoints\\map_reduce-checkpoint.ipynb\n",
      "F:\\GitRepository\\Learning\\jupyter\\.ipynb_checkpoints\\StringIO和BytesIO-checkpoint.ipynb\n",
      "F:\\GitRepository\\Learning\\jupyter\\.ipynb_checkpoints\\Untitled-checkpoint.ipynb\n",
      "F:\\GitRepository\\Learning\\jupyter\\.ipynb_checkpoints\\排序-checkpoint.ipynb\n",
      "F:\\GitRepository\\Learning\\jupyter\\.ipynb_checkpoints\\文件读取-checkpoint.ipynb\n",
      "F:\\GitRepository\\Learning\\jupyter\\.ipynb_checkpoints\\枚举类和元类-checkpoint.ipynb\n",
      "F:\\GitRepository\\Learning\\jupyter\\.ipynb_checkpoints\\生成器-checkpoint.ipynb\n",
      "F:\\GitRepository\\Learning\\jupyter\\.ipynb_checkpoints\\调试-checkpoint.ipynb\n",
      "F:\\GitRepository\\Learning\\jupyter\\.ipynb_checkpoints\\迭代器-checkpoint.ipynb\n",
      "F:\\GitRepository\\Learning\\jupyter\\.ipynb_checkpoints\\错误处理-checkpoint.ipynb\n",
      "F:\\GitRepository\\Learning\\jupyter\\.ipynb_checkpoints\\面向对象编程-checkpoint.ipynb\n"
     ]
    }
   ],
   "source": [
    "def find_file_02(str,path):\n",
    "    for root, dirs, files in os.walk(path):\n",
    "        for file in files:\n",
    "            if str in file:\n",
    "                print(os.path.abspath(os.path.join(root, file)))\n",
    "find_file_02('py', '.')"
   ]
  },
  {
   "cell_type": "code",
   "execution_count": 62,
   "metadata": {},
   "outputs": [
    {
     "name": "stdout",
     "output_type": "stream",
     "text": [
      ".\\.ipynb_checkpoints\\filter-checkpoint.ipynb\n",
      ".\\.ipynb_checkpoints\\functools_partial-checkpoint.ipynb\n",
      ".\\.ipynb_checkpoints\\list-generation-checkpoint.ipynb\n",
      ".\\.ipynb_checkpoints\\logging模块-checkpoint.ipynb\n",
      ".\\.ipynb_checkpoints\\map_reduce-checkpoint.ipynb\n",
      ".\\.ipynb_checkpoints\\StringIO和BytesIO-checkpoint.ipynb\n",
      ".\\.ipynb_checkpoints\\Untitled-checkpoint.ipynb\n",
      ".\\.ipynb_checkpoints\\排序-checkpoint.ipynb\n",
      ".\\.ipynb_checkpoints\\文件读取-checkpoint.ipynb\n",
      ".\\.ipynb_checkpoints\\枚举类和元类-checkpoint.ipynb\n",
      ".\\.ipynb_checkpoints\\生成器-checkpoint.ipynb\n",
      ".\\.ipynb_checkpoints\\调试-checkpoint.ipynb\n",
      ".\\.ipynb_checkpoints\\迭代器-checkpoint.ipynb\n",
      ".\\.ipynb_checkpoints\\错误处理-checkpoint.ipynb\n",
      ".\\.ipynb_checkpoints\\面向对象编程-checkpoint.ipynb\n",
      ".\\a.py\n",
      ".\\b.py\n",
      ".\\c.py\n",
      ".\\d.py\n",
      ".\\err.py\n",
      ".\\filter.ipynb\n",
      ".\\functools_partial.ipynb\n",
      ".\\list-generation.ipynb\n",
      ".\\logging模块.ipynb\n",
      ".\\map_reduce.ipynb\n",
      ".\\orm.py\n",
      ".\\StringIO和BytesIO.ipynb\n",
      ".\\Untitled.ipynb\n",
      ".\\排序.ipynb\n",
      ".\\文件读取.ipynb\n",
      ".\\枚举类和元类.ipynb\n",
      ".\\生成器.ipynb\n",
      ".\\调试.ipynb\n",
      ".\\迭代器.ipynb\n",
      ".\\错误处理.ipynb\n",
      ".\\面向对象编程.ipynb\n"
     ]
    }
   ],
   "source": [
    "def find_file(str1, path):\n",
    "    for i in os.listdir(path):\n",
    "        this_path = os.path.join(path, i)\n",
    "        if os.path.isfile(this_path):\n",
    "            if str1 in i:\n",
    "                print(this_path)\n",
    "        else:\n",
    "            find_file(str1, this_path)\n",
    "\n",
    "find_file('py', '.')"
   ]
  }
 ],
 "metadata": {
  "kernelspec": {
   "display_name": "Python 3",
   "language": "python",
   "name": "python3"
  },
  "language_info": {
   "codemirror_mode": {
    "name": "ipython",
    "version": 3
   },
   "file_extension": ".py",
   "mimetype": "text/x-python",
   "name": "python",
   "nbconvert_exporter": "python",
   "pygments_lexer": "ipython3",
   "version": "3.7.3"
  }
 },
 "nbformat": 4,
 "nbformat_minor": 2
}
