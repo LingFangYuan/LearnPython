{
 "cells": [
  {
   "cell_type": "markdown",
   "metadata": {},
   "source": [
    "## hashlib模块\n",
    "- 摘要算法又称为哈希算法、散列算法。它通过一个函数，把任意长度的数据转换为一个长度固定的数据串（通常用16进制的字符串表示）。\n",
    "- 摘要算法是一个单向函数，计算f(data)很容易，但通过digest反推data却非常困难。对原始数据做一个bit的修改，都会导致计算出的摘要完全不同。"
   ]
  },
  {
   "cell_type": "code",
   "execution_count": 8,
   "metadata": {},
   "outputs": [
    {
     "name": "stdout",
     "output_type": "stream",
     "text": [
      "d26a53750bc40b38b65a520292f69306\n"
     ]
    }
   ],
   "source": [
    "import hashlib\n",
    "\n",
    "md5 = hashlib.md5()\n",
    "md5.update('how to use md5 in '.encode('utf-8'))\n",
    "md5.update('python hashlib?'.encode('utf-8'))\n",
    "print(md5.hexdigest())"
   ]
  },
  {
   "cell_type": "code",
   "execution_count": 9,
   "metadata": {},
   "outputs": [
    {
     "name": "stdout",
     "output_type": "stream",
     "text": [
      "2c76b57293ce30acef38d98f6046927161b46a44\n"
     ]
    }
   ],
   "source": [
    "md5 = hashlib.sha1()\n",
    "md5.update('how to use sha1 in '.encode('utf-8'))\n",
    "md5.update('python hashlib?'.encode('utf-8'))\n",
    "print(md5.hexdigest())"
   ]
  },
  {
   "cell_type": "markdown",
   "metadata": {},
   "source": [
    "#### 练习\n",
    "1. 根据用户输入的口令，计算出存储在数据库中的MD5口令。\n",
    "2. 设计一个验证用户登录的函数，根据用户输入的口令是否正确，返回True或False"
   ]
  },
  {
   "cell_type": "code",
   "execution_count": 17,
   "metadata": {},
   "outputs": [],
   "source": [
    "import hashlib\n",
    "\n",
    "db = {\n",
    "    'michael': 'e10adc3949ba59abbe56e057f20f883e',\n",
    "    'bob': '878ef96e86145580c38c87f0410ad153',\n",
    "    'alice': '99b1c2188db85afee403b1536010c2c9'\n",
    "}\n",
    "\n",
    "def calc_md5(passwd):\n",
    "    md5 = hashlib.md5()\n",
    "    md5.update(passwd.encode('utf-8'))\n",
    "    return md5.hexdigest()\n",
    "\n",
    "def login(user, passwd):\n",
    "    return db[user] == calc_md5(passwd)"
   ]
  },
  {
   "cell_type": "code",
   "execution_count": 18,
   "metadata": {},
   "outputs": [
    {
     "name": "stdout",
     "output_type": "stream",
     "text": [
      "ok\n"
     ]
    }
   ],
   "source": [
    "# 测试:\n",
    "assert login('michael', '123456')\n",
    "assert login('bob', 'abc999')\n",
    "assert login('alice', 'alice2008')\n",
    "assert not login('michael', '1234567')\n",
    "assert not login('bob', '123456')\n",
    "assert not login('alice', 'Alice2008')\n",
    "print('ok')"
   ]
  },
  {
   "cell_type": "code",
   "execution_count": 12,
   "metadata": {},
   "outputs": [],
   "source": [
    "import hashlib, random\n",
    "\n",
    "def get_md5(s):\n",
    "    return hashlib.md5(s.encode('utf-8')).hexdigest()\n",
    "\n",
    "class User(object):\n",
    "    def __init__(self, username, password):\n",
    "        self.username = username\n",
    "        self.salt = ''.join([chr(random.randint(48, 122)) for i in range(20)])\n",
    "        self.password = get_md5(password + self.salt)\n",
    "db = {\n",
    "    'michael': User('michael', '123456'),\n",
    "    'bob': User('bob', 'abc999'),\n",
    "    'alice': User('alice', 'alice2008')\n",
    "}\n"
   ]
  },
  {
   "cell_type": "code",
   "execution_count": 15,
   "metadata": {},
   "outputs": [],
   "source": [
    "def login(username, password):\n",
    "    user = db[username]\n",
    "    return user.password == get_md5(password + user.salt)"
   ]
  },
  {
   "cell_type": "code",
   "execution_count": 19,
   "metadata": {},
   "outputs": [
    {
     "ename": "KeyError",
     "evalue": "'michael1'",
     "output_type": "error",
     "traceback": [
      "\u001b[1;31m---------------------------------------------------------------------------\u001b[0m",
      "\u001b[1;31mKeyError\u001b[0m                                  Traceback (most recent call last)",
      "\u001b[1;32m<ipython-input-19-8f117ab3630f>\u001b[0m in \u001b[0;36m<module>\u001b[1;34m\u001b[0m\n\u001b[0;32m      1\u001b[0m \u001b[1;31m# 测试:\u001b[0m\u001b[1;33m\u001b[0m\u001b[1;33m\u001b[0m\u001b[1;33m\u001b[0m\u001b[0m\n\u001b[1;32m----> 2\u001b[1;33m \u001b[1;32massert\u001b[0m \u001b[0mlogin\u001b[0m\u001b[1;33m(\u001b[0m\u001b[1;34m'michael1'\u001b[0m\u001b[1;33m,\u001b[0m \u001b[1;34m'123456'\u001b[0m\u001b[1;33m)\u001b[0m\u001b[1;33m\u001b[0m\u001b[1;33m\u001b[0m\u001b[0m\n\u001b[0m\u001b[0;32m      3\u001b[0m \u001b[1;32massert\u001b[0m \u001b[0mlogin\u001b[0m\u001b[1;33m(\u001b[0m\u001b[1;34m'bob'\u001b[0m\u001b[1;33m,\u001b[0m \u001b[1;34m'abc999'\u001b[0m\u001b[1;33m)\u001b[0m\u001b[1;33m\u001b[0m\u001b[1;33m\u001b[0m\u001b[0m\n\u001b[0;32m      4\u001b[0m \u001b[1;32massert\u001b[0m \u001b[0mlogin\u001b[0m\u001b[1;33m(\u001b[0m\u001b[1;34m'alice'\u001b[0m\u001b[1;33m,\u001b[0m \u001b[1;34m'alice2008'\u001b[0m\u001b[1;33m)\u001b[0m\u001b[1;33m\u001b[0m\u001b[1;33m\u001b[0m\u001b[0m\n\u001b[0;32m      5\u001b[0m \u001b[1;32massert\u001b[0m \u001b[1;32mnot\u001b[0m \u001b[0mlogin\u001b[0m\u001b[1;33m(\u001b[0m\u001b[1;34m'michael'\u001b[0m\u001b[1;33m,\u001b[0m \u001b[1;34m'1234567'\u001b[0m\u001b[1;33m)\u001b[0m\u001b[1;33m\u001b[0m\u001b[1;33m\u001b[0m\u001b[0m\n",
      "\u001b[1;32m<ipython-input-17-76d32ddc59f8>\u001b[0m in \u001b[0;36mlogin\u001b[1;34m(user, passwd)\u001b[0m\n\u001b[0;32m     13\u001b[0m \u001b[1;33m\u001b[0m\u001b[0m\n\u001b[0;32m     14\u001b[0m \u001b[1;32mdef\u001b[0m \u001b[0mlogin\u001b[0m\u001b[1;33m(\u001b[0m\u001b[0muser\u001b[0m\u001b[1;33m,\u001b[0m \u001b[0mpasswd\u001b[0m\u001b[1;33m)\u001b[0m\u001b[1;33m:\u001b[0m\u001b[1;33m\u001b[0m\u001b[1;33m\u001b[0m\u001b[0m\n\u001b[1;32m---> 15\u001b[1;33m     \u001b[1;32mreturn\u001b[0m \u001b[0mdb\u001b[0m\u001b[1;33m[\u001b[0m\u001b[0muser\u001b[0m\u001b[1;33m]\u001b[0m \u001b[1;33m==\u001b[0m \u001b[0mcalc_md5\u001b[0m\u001b[1;33m(\u001b[0m\u001b[0mpasswd\u001b[0m\u001b[1;33m)\u001b[0m\u001b[1;33m\u001b[0m\u001b[1;33m\u001b[0m\u001b[0m\n\u001b[0m",
      "\u001b[1;31mKeyError\u001b[0m: 'michael1'"
     ]
    }
   ],
   "source": [
    "# 测试:\n",
    "assert login('michael', '123456')\n",
    "assert login('bob', 'abc999')\n",
    "assert login('alice', 'alice2008')\n",
    "assert not login('michael', '1234567')\n",
    "assert not login('bob', '123456')\n",
    "assert not login('alice', 'Alice2008')\n",
    "print('ok')"
   ]
  },
  {
   "cell_type": "code",
   "execution_count": null,
   "metadata": {},
   "outputs": [],
   "source": []
  }
 ],
 "metadata": {
  "kernelspec": {
   "display_name": "Python 3",
   "language": "python",
   "name": "python3"
  },
  "language_info": {
   "codemirror_mode": {
    "name": "ipython",
    "version": 3
   },
   "file_extension": ".py",
   "mimetype": "text/x-python",
   "name": "python",
   "nbconvert_exporter": "python",
   "pygments_lexer": "ipython3",
   "version": "3.7.3"
  }
 },
 "nbformat": 4,
 "nbformat_minor": 2
}
