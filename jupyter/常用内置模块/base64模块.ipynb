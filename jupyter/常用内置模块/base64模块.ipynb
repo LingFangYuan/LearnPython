{
 "cells": [
  {
   "cell_type": "markdown",
   "metadata": {},
   "source": [
    "## base64模块\n",
    "base64的原理：\n",
    "1. 准备一个包含64个字符的数组：\n",
    " - ['A', 'B', 'C', ... 'a', 'b', 'c', ... '0', '1', ... '+', '/']\n",
    "2. 对二进制数据进行处理，每三个字节一组，一共3x8=24bit，每组划分为4小组，每小组正好6bit。\n",
    "这样就得到4个数字作为索引，然后查表，获得相应的4个字符，就是编码后的字符串。\n",
    "3. 如果要编码的二进制数据不是3的倍数，最后会剩下1个或2个字节，base64用\\x00字节在末尾补足，\n",
    "再在编码的末尾加上1个或2个=号，表示补了多少个字节，解码的时候回自动去掉。\n",
    "4. 由于=字符也可能出现在base64编码中，但=用在URL、Cookie里面会造成歧义，所以，很多base64\n",
    "会把=去掉，base64编码的长度永远是4的倍数，解码时加上=使base64字符串的长度变为4的倍数。"
   ]
  },
  {
   "cell_type": "code",
   "execution_count": 22,
   "metadata": {},
   "outputs": [
    {
     "name": "stdout",
     "output_type": "stream",
     "text": [
      "b'YmluYXJ5AHN0cmluZw=='\n",
      "b'binary\\x00string'\n",
      "b'abcd++//'\n",
      "b'abcd--__'\n",
      "b'i\\xb7\\x1d\\xfb\\xef\\xff'\n"
     ]
    }
   ],
   "source": [
    "import base64\n",
    "\n",
    "print(base64.b64encode(b'binary\\x00string'))\n",
    "print(base64.b64decode(b'YmluYXJ5AHN0cmluZw=='))\n",
    "print(base64.b64encode(b'i\\xb7\\x1d\\xfb\\xef\\xff'))\n",
    "print(base64.urlsafe_b64encode(b'i\\xb7\\x1d\\xfb\\xef\\xff'))\n",
    "print(base64.urlsafe_b64decode(b'abcd--__'))"
   ]
  },
  {
   "cell_type": "code",
   "execution_count": 9,
   "metadata": {},
   "outputs": [
    {
     "data": {
      "text/plain": [
       "102"
      ]
     },
     "execution_count": 9,
     "metadata": {},
     "output_type": "execute_result"
    }
   ],
   "source": [
    "ord('f')"
   ]
  },
  {
   "cell_type": "code",
   "execution_count": 12,
   "metadata": {},
   "outputs": [
    {
     "name": "stdout",
     "output_type": "stream",
     "text": [
      "102\n"
     ]
    }
   ],
   "source": [
    "print(0b1100110)"
   ]
  },
  {
   "cell_type": "markdown",
   "metadata": {},
   "source": [
    "### 练习\n",
    "请写一个能处理去掉=的base64解码函数："
   ]
  },
  {
   "cell_type": "code",
   "execution_count": 178,
   "metadata": {},
   "outputs": [],
   "source": [
    "import base64, re\n",
    "\n",
    "def safe_base64_decode1(s):\n",
    "    l = [ chr(ord('A')+ i) for i in range(26)] +\\\n",
    "        [chr(ord('a')+ i) for i in range(26)] +\\\n",
    "        [chr(ord('0')+ i) for i in range(10)] + ['+','/']\n",
    "    s1 = ''\n",
    "    n = 0\n",
    "    for i in s:\n",
    "        if chr(i) == '=':\n",
    "            n = n + 1\n",
    "        else:\n",
    "            t = l.index(chr(i))\n",
    "            t = str(bin(t))[2:].zfill(6)\n",
    "            s1 = s1 + t\n",
    "    rl = re.findall(r'[0-1]{8}', s1)\n",
    "    return ''.join([chr(int(i,2)) for i in rl]).encode()\n",
    "\n",
    "def safe_base64_decode(s):\n",
    "    num = len(s)%4\n",
    "    s += b'='*(4-num)\n",
    "    return base64.b64decode(s)"
   ]
  },
  {
   "cell_type": "code",
   "execution_count": 181,
   "metadata": {},
   "outputs": [
    {
     "name": "stdout",
     "output_type": "stream",
     "text": [
      "ok\n"
     ]
    }
   ],
   "source": [
    "# 测试:\n",
    "assert b'abcd' == safe_base64_decode(b'YWJjZA==')\n",
    "assert b'abcd' == safe_base64_decode(b'YWJjZA')\n",
    "print('ok')"
   ]
  }
 ],
 "metadata": {
  "kernelspec": {
   "display_name": "Python 3",
   "language": "python",
   "name": "python3"
  },
  "language_info": {
   "codemirror_mode": {
    "name": "ipython",
    "version": 3
   },
   "file_extension": ".py",
   "mimetype": "text/x-python",
   "name": "python",
   "nbconvert_exporter": "python",
   "pygments_lexer": "ipython3",
   "version": "3.7.3"
  }
 },
 "nbformat": 4,
 "nbformat_minor": 2
}
