{
 "cells": [
  {
   "cell_type": "markdown",
   "metadata": {},
   "source": [
    "## collections模块\n",
    "    collections是Python内建的一个集合模块，提供了许多有用的集合类。\n",
    "1. namedtuple\n",
    "  - namedtuple是一个函数，它用来创建一个自定义的tuple对象，并且规定了tuple元素的个数，并可以用属性而不是索引来引用tuple的某个元素。\n",
    "  - namedtuple可以很方便第定义一种数据类型，它具备tuple的不变形，又可以根据属性来引用。"
   ]
  },
  {
   "cell_type": "code",
   "execution_count": 4,
   "metadata": {},
   "outputs": [
    {
     "name": "stdout",
     "output_type": "stream",
     "text": [
      "1 2\n",
      "True True\n",
      "1 3 5\n",
      "False\n"
     ]
    }
   ],
   "source": [
    "from collections import namedtuple\n",
    "\n",
    "Point = namedtuple('Point', ['x', 'y'])\n",
    "p = Point(1, 2)\n",
    "print(p.x, p.y)\n",
    "print(isinstance(p, tuple),isinstance(p, Point))\n",
    "\n",
    "# 类型的，如果要用坐标和半径表示一个圆，也可以用namedtuple定义\n",
    "Circle = namedtuple('Circle', ['x', 'y', 'r'])\n",
    "c = Circle(1, 3, 5)\n",
    "print(c.x, c.y, c.r)"
   ]
  },
  {
   "cell_type": "markdown",
   "metadata": {},
   "source": [
    "2. deque\n",
    "  - 因为list是线性存储，数据量大的时候，插入和删除效率很低。\n",
    "  - deque是为了高效实现插入和删除操作的双向列表，适用于队列和栈。\n",
    "  - deque除了实现list的append()和pop()外，还支持appendleft()和popleft(),这样就可以非常高效地往头部添加或删除元素。"
   ]
  },
  {
   "cell_type": "code",
   "execution_count": 9,
   "metadata": {},
   "outputs": [
    {
     "name": "stdout",
     "output_type": "stream",
     "text": [
      "deque(['y', 'a', 'b', 'c', 'x'])\n",
      "deque(['y', 'd', 'a', 'b', 'c', 'x'])\n",
      "deque(['y', 'd', 'a', 'b', 'c'])\n",
      "deque(['d', 'a', 'b', 'c'])\n"
     ]
    }
   ],
   "source": [
    "from collections import deque\n",
    "\n",
    "q = deque(['a', 'b', 'c'])\n",
    "q.append('x')\n",
    "q.appendleft('y')\n",
    "print(q)\n",
    "q.insert(1, 'd')\n",
    "print(q)\n",
    "q.pop()\n",
    "print(q)\n",
    "q.popleft()\n",
    "print(q)"
   ]
  },
  {
   "cell_type": "markdown",
   "metadata": {},
   "source": [
    "3. defaultdict\n",
    "  - 使用dict时，如果引用的key不存在，就会抛出KeyError。如果希望key不存在时，返回一个默认值，就可以用defaultdict。\n",
    "  - 默认值是调用函数返回的，而函数在创建defaultdict对象时传入。\n",
    "  - 除了在key不存在时返回默认值，default的其他行为跟dict完全一样。"
   ]
  },
  {
   "cell_type": "code",
   "execution_count": 10,
   "metadata": {},
   "outputs": [
    {
     "name": "stdout",
     "output_type": "stream",
     "text": [
      "abc\n",
      "N/A\n"
     ]
    }
   ],
   "source": [
    "from collections import defaultdict\n",
    "\n",
    "dd = defaultdict(lambda: 'N/A')\n",
    "dd['key1'] = 'abc'\n",
    "print(dd['key1'])\n",
    "print(dd['key2'])"
   ]
  },
  {
   "cell_type": "markdown",
   "metadata": {},
   "source": [
    "4. OrderedDict\n",
    "  - 使用dict时，key是无序的。在对dict做迭代时，无法无法确定key的顺序。使用OrderedDict可以保存key的顺序。\n",
    "  - OrderedDict的key会按照插入的顺序排序，不是key本身排序。"
   ]
  },
  {
   "cell_type": "code",
   "execution_count": 43,
   "metadata": {},
   "outputs": [
    {
     "name": "stdout",
     "output_type": "stream",
     "text": [
      "{'a': 1, 'b': 2, 'c': 3} ['a', 'b', 'c']\n",
      "OrderedDict([('a', 1), ('b', 2), ('c', 3)]) ['a', 'b', 'c']\n"
     ]
    }
   ],
   "source": [
    "from collections import OrderedDict\n",
    "\n",
    "d = dict([('a', 1), ('b', 2), ('c', 3)])\n",
    "print(d, list(d.keys()))\n",
    "od = OrderedDict([('a', 1), ('b', 2), ('c', 3)])\n",
    "print(od, list(od.keys()))"
   ]
  },
  {
   "cell_type": "code",
   "execution_count": 45,
   "metadata": {},
   "outputs": [],
   "source": [
    "# OrderedDict可以实现一个FIFO（先进先出）的dict，当容量超出限制时，先删除最早添加的key\n",
    "from collections import OrderedDict\n",
    "\n",
    "class LastUpdateOrderedDict(OrderedDict):\n",
    "    \n",
    "    def __init__(self, capacity):\n",
    "        super(LastUpdateOrderedDict, self).__init__()\n",
    "        self._capacity = capacity\n",
    "        \n",
    "    def __setitem__(self, key, value):\n",
    "        containsKey = 1 if key in self else 0\n",
    "        if len(self) - containsKey >= self._capacity:\n",
    "            last = self.popitem(last=False)\n",
    "            print('remove:', last)\n",
    "        if containsKey:\n",
    "            del self[key]\n",
    "            print('set:', (key, value))\n",
    "        else:\n",
    "            print('add:', (key, value))\n",
    "        OrderedDict.__setitem__(self, key, value)"
   ]
  },
  {
   "cell_type": "markdown",
   "metadata": {},
   "source": [
    "5. Counter\n",
    "  - Counter是一个简单的计数器。\n",
    "  - Counter实际上也是dict的一个子类,上面的结果可以看出。"
   ]
  },
  {
   "cell_type": "code",
   "execution_count": 46,
   "metadata": {},
   "outputs": [
    {
     "name": "stdout",
     "output_type": "stream",
     "text": [
      "Counter({'r': 2, 'g': 2, 'm': 2, 'p': 1, 'o': 1, 'a': 1, 'i': 1, 'n': 1})\n"
     ]
    }
   ],
   "source": [
    "from collections import Counter\n",
    "\n",
    "c = Counter()\n",
    "for ch in 'programming':\n",
    "    c[ch] = c[ch] + 1\n",
    "print(c)"
   ]
  },
  {
   "cell_type": "code",
   "execution_count": null,
   "metadata": {},
   "outputs": [],
   "source": []
  }
 ],
 "metadata": {
  "kernelspec": {
   "display_name": "Python 3",
   "language": "python",
   "name": "python3"
  },
  "language_info": {
   "codemirror_mode": {
    "name": "ipython",
    "version": 3
   },
   "file_extension": ".py",
   "mimetype": "text/x-python",
   "name": "python",
   "nbconvert_exporter": "python",
   "pygments_lexer": "ipython3",
   "version": "3.7.3"
  }
 },
 "nbformat": 4,
 "nbformat_minor": 2
}
