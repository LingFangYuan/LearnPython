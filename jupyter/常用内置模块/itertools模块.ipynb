{
 "cells": [
  {
   "cell_type": "markdown",
   "metadata": {},
   "source": [
    "## itertools模块\n",
    "Python的内建模块itertools提供了非常有用的用于操作迭代对象的函数。\n",
    "1. 无限迭代器"
   ]
  },
  {
   "cell_type": "code",
   "execution_count": 1,
   "metadata": {},
   "outputs": [],
   "source": [
    "import itertools\n",
    "\n",
    "# count()会创建一个无线的迭代器。\n",
    "natuals = itertools.count(1)\n",
    "#for n in natuals:\n",
    "#   print(n)\n"
   ]
  },
  {
   "cell_type": "code",
   "execution_count": 2,
   "metadata": {},
   "outputs": [],
   "source": [
    "# cycle会把传入的一个序列无限重复下去。\n",
    "import itertools\n",
    "cs = itertools.cycle('ABC')\n",
    "#for c in cs:\n",
    "#    print(c)"
   ]
  },
  {
   "cell_type": "code",
   "execution_count": 3,
   "metadata": {},
   "outputs": [
    {
     "name": "stdout",
     "output_type": "stream",
     "text": [
      "A\n",
      "A\n",
      "A\n"
     ]
    }
   ],
   "source": [
    "# repeat()负责把一个元素无限重复下去，\n",
    "# 不过如果提供第二个参数就可以限定重复次数\n",
    "import itertools\n",
    "ns = itertools.repeat('A', 3)\n",
    "for n in ns:\n",
    "    print(n)"
   ]
  },
  {
   "cell_type": "markdown",
   "metadata": {},
   "source": [
    "2. 无限序列虽然可以无限迭代下去，但是通常会通过takewhile()等函数根据条件判断来截取出一个有限的序列。"
   ]
  },
  {
   "cell_type": "code",
   "execution_count": 46,
   "metadata": {},
   "outputs": [
    {
     "data": {
      "text/plain": [
       "[1, 2, 3, 4, 5, 6, 7, 8, 9]"
      ]
     },
     "execution_count": 46,
     "metadata": {},
     "output_type": "execute_result"
    }
   ],
   "source": [
    "import itertools\n",
    "\n",
    "natuals = itertools.count(1)\n",
    "ns = itertools.takewhile(lambda x: x<10, natuals)\n",
    "list(ns)"
   ]
  },
  {
   "cell_type": "markdown",
   "metadata": {},
   "source": [
    "3. chain()可以把一组迭代对象串联起来，形成一个更大的迭代器。"
   ]
  },
  {
   "cell_type": "code",
   "execution_count": 5,
   "metadata": {},
   "outputs": [
    {
     "name": "stdout",
     "output_type": "stream",
     "text": [
      "A\n",
      "B\n",
      "C\n",
      "aj\n",
      "b\n"
     ]
    }
   ],
   "source": [
    "import itertools\n",
    "\n",
    "for c in itertools.chain('ABC', {'aj': 'd','b': 3}):\n",
    "    print(c)"
   ]
  },
  {
   "cell_type": "markdown",
   "metadata": {},
   "source": [
    "4. groupby()把迭代器中相邻的重复元素挑出来放在一起\n",
    "  - 实际上挑选规则是通过函数完成的，只要作用于函数的两个元素返回的值相等\n",
    "  - 这两个元素就被认为是在一组的，而函数返回值作为组的key。"
   ]
  },
  {
   "cell_type": "code",
   "execution_count": 13,
   "metadata": {},
   "outputs": [
    {
     "name": "stdout",
     "output_type": "stream",
     "text": [
      "A ['A', 'A', 'A']\n",
      "B ['B', 'B', 'B']\n",
      "C ['C', 'C']\n",
      "A ['A', 'A', 'A']\n",
      "D ['D']\n",
      "F ['f', 'F']\n"
     ]
    }
   ],
   "source": [
    "import itertools\n",
    "\n",
    "for key, group in itertools.groupby('AAABBBCCAAADfF', lambda c: c.upper()):\n",
    "    print(key, list(group))"
   ]
  },
  {
   "cell_type": "markdown",
   "metadata": {},
   "source": [
    "### 练习\n",
    "计算圆周率可以根据公式，利用Python提供的itertools模块计算这个序列的前N项和。"
   ]
  },
  {
   "cell_type": "code",
   "execution_count": 18,
   "metadata": {},
   "outputs": [],
   "source": [
    "import itertools"
   ]
  },
  {
   "cell_type": "code",
   "execution_count": 47,
   "metadata": {},
   "outputs": [],
   "source": [
    "def pi(N):\n",
    "    ' 计算pi的值 '\n",
    "    # step 1: 创建一个奇数序列: 1, 3, 5, 7, 9, ...\n",
    "    odd = itertools.count(1, 2)\n",
    "    # step 2: 取该序列的前N项: 1, 3, 5, 7, 9, ..., 2*N-1.\n",
    "    un = itertools.takewhile(lambda x: x <= 2*N-1, odd)\n",
    "    # step 3: 添加正负符号并用4除: 4/1, -4/3, 4/5, -4/7, 4/9, ...\n",
    "    un = map(lambda x: 4/x*(-1)**(x//2), un)\n",
    "    # step 4: 求和:\n",
    "    return sum(un)"
   ]
  },
  {
   "cell_type": "code",
   "execution_count": 48,
   "metadata": {},
   "outputs": [
    {
     "name": "stdout",
     "output_type": "stream",
     "text": [
      "3.0418396189294032\n",
      "3.1315929035585537\n",
      "3.140592653839794\n",
      "3.1414926535900345\n",
      "ok\n"
     ]
    }
   ],
   "source": [
    "# 测试:\n",
    "print(pi(10))\n",
    "print(pi(100))\n",
    "print(pi(1000))\n",
    "print(pi(10000))\n",
    "assert 3.04 < pi(10) < 3.05\n",
    "assert 3.13 < pi(100) < 3.14\n",
    "assert 3.140 < pi(1000) < 3.141\n",
    "assert 3.1414 < pi(10000) < 3.1415\n",
    "print('ok')"
   ]
  },
  {
   "cell_type": "code",
   "execution_count": 45,
   "metadata": {},
   "outputs": [
    {
     "name": "stdout",
     "output_type": "stream",
     "text": [
      "[1, -3, 5, -7, 9, -11, 13, -15, 17, -19]\n"
     ]
    }
   ],
   "source": [
    "natuals = itertools.count(1, 2)\n",
    "un = itertools.takewhile(lambda x: x <= 2*10-1, natuals)\n",
    "zhengfu = itertools.cycle([1, -1])\n",
    "l = zip(zhengfu, un)\n",
    "print(list(map(lambda x: x[0]*x[1], l)))"
   ]
  },
  {
   "cell_type": "code",
   "execution_count": null,
   "metadata": {},
   "outputs": [],
   "source": []
  }
 ],
 "metadata": {
  "kernelspec": {
   "display_name": "Python 3",
   "language": "python",
   "name": "python3"
  },
  "language_info": {
   "codemirror_mode": {
    "name": "ipython",
    "version": 3
   },
   "file_extension": ".py",
   "mimetype": "text/x-python",
   "name": "python",
   "nbconvert_exporter": "python",
   "pygments_lexer": "ipython3",
   "version": "3.7.3"
  }
 },
 "nbformat": 4,
 "nbformat_minor": 2
}
