{
 "cells": [
  {
   "cell_type": "markdown",
   "metadata": {},
   "source": [
    "## XML模块\n",
    "- 操作XML有两种方法：DOM和SAX。DOM会把整个XML读入内存，解析为树，因此占用内存大，解析慢，优点是可以任意遍历树的节点。SAX是流模式，边读边解析，占用内存小，解析快，确定是我们需要自己处理事件。\n",
    "- 在Python中使用SAX解析XML非常简洁，通常我们关心的事件是start_element,end_element和char_data，准备好这3个函数，然后就可以解析XML了。\n",
    "- 当SAX解析器读取到一个节点时< a href=\"/\">python< /a>：\n",
    "  1. start_element事件，在读取< a href=\"/\">时；\n",
    "  2. char_data事件，在读取python时；\n",
    "  3. end_element事件，在读取< /a>时。"
   ]
  },
  {
   "cell_type": "code",
   "execution_count": 12,
   "metadata": {},
   "outputs": [
    {
     "name": "stdout",
     "output_type": "stream",
     "text": [
      "sax: start_element: ol, attrs: {}\n",
      "sax: char_data: \n",
      "\n",
      "sax: char_data:     \n",
      "sax: start_element: li, attrs: {}\n",
      "sax: start_element: a, attrs: {'href': '/python'}\n",
      "sax: char_data: Python\n",
      "sax: end_element: a\n",
      "sax: end_element: li\n",
      "sax: char_data: \n",
      "\n",
      "sax: char_data:     \n",
      "sax: start_element: li, attrs: {}\n",
      "sax: start_element: a, attrs: {'href': '/ruby'}\n",
      "sax: char_data: Ruby\n",
      "sax: end_element: a\n",
      "sax: end_element: li\n",
      "sax: char_data: \n",
      "\n",
      "sax: end_element: ol\n"
     ]
    },
    {
     "data": {
      "text/plain": [
       "1"
      ]
     },
     "execution_count": 12,
     "metadata": {},
     "output_type": "execute_result"
    }
   ],
   "source": [
    "from xml.parsers.expat import ParserCreate\n",
    "\n",
    "class DefaultSaxHandler(object):\n",
    "    \n",
    "    def start_element(self, name, attrs):\n",
    "        print('sax: start_element: %s, attrs: %s' % (name, str(attrs)))\n",
    "        \n",
    "    def end_element(self, name):\n",
    "        print('sax: end_element: %s' % name)\n",
    "        \n",
    "    def char_data(self, text):\n",
    "        print('sax: char_data: %s' % text)\n",
    "\n",
    "xml = r'''<?xml version=\"1.0\"?>\n",
    "<ol>\n",
    "    <li><a href=\"/python\">Python</a></li>\n",
    "    <li><a href=\"/ruby\">Ruby</a></li>\n",
    "</ol>\n",
    "'''\n",
    "\n",
    "handler = DefaultSaxHandler()\n",
    "parser = ParserCreate()\n",
    "parser.StartElementHandler = handler.start_element\n",
    "parser.EndElementHandler = handler.end_element\n",
    "parser.CharacterDataHandler = handler.char_data\n",
    "parser.Parse(xml)"
   ]
  },
  {
   "cell_type": "markdown",
   "metadata": {},
   "source": [
    "- 99%的情况下需要生成的XML结构都是非常简单的，因此，最简单也是最有效的生成XML的方法是拼接字符串"
   ]
  },
  {
   "cell_type": "code",
   "execution_count": 19,
   "metadata": {},
   "outputs": [
    {
     "name": "stdout",
     "output_type": "stream",
     "text": [
      "<?xml version=\"1.0\"?><root>some & data</root>\n"
     ]
    }
   ],
   "source": [
    "L = []\n",
    "L.append(r'<?xml version=\"1.0\"?>')\n",
    "L.append(r'<root>')\n",
    "L.append('some & data')\n",
    "L.append(r'</root>')\n",
    "print(''.join(L))"
   ]
  },
  {
   "cell_type": "code",
   "execution_count": 53,
   "metadata": {},
   "outputs": [
    {
     "name": "stdout",
     "output_type": "stream",
     "text": [
      "{\n",
      "  \"weatherinfo\": {\n",
      "    \"AP\": \"1002hPa\",\n",
      "    \"Radar\": \"JC_RADAR_AZ9010_JB\",\n",
      "    \"SD\": \"28%\",\n",
      "    \"WD\": \"南风\",\n",
      "    \"WS\": \"小于3级\",\n",
      "    \"WSE\": \"<3\",\n",
      "    \"city\": \"北京\",\n",
      "    \"cityid\": \"101010100\",\n",
      "    \"isRadar\": \"1\",\n",
      "    \"njd\": \"暂无实况\",\n",
      "    \"sm\": \"2.1\",\n",
      "    \"temp\": \"27.9\",\n",
      "    \"time\": \"17:55\"\n",
      "  }\n",
      "}\n"
     ]
    }
   ],
   "source": [
    "from urllib import request\n",
    "import json\n",
    "\n",
    "with request.urlopen('http://www.weather.com.cn/data/sk/101010100.html') as f:\n",
    "    data = f.read()\n",
    "    d = json.loads(data)\n",
    "    print(json.dumps(d, sort_keys=True, indent=2, ensure_ascii=False))"
   ]
  },
  {
   "cell_type": "code",
   "execution_count": 40,
   "metadata": {},
   "outputs": [
    {
     "data": {
      "text/plain": [
       "'北京'"
      ]
     },
     "execution_count": 40,
     "metadata": {},
     "output_type": "execute_result"
    }
   ],
   "source": [
    "b'\\u5317\\u4eac'.decode('unicode_escape')"
   ]
  }
 ],
 "metadata": {
  "kernelspec": {
   "display_name": "Python 3",
   "language": "python",
   "name": "python3"
  },
  "language_info": {
   "codemirror_mode": {
    "name": "ipython",
    "version": 3
   },
   "file_extension": ".py",
   "mimetype": "text/x-python",
   "name": "python",
   "nbconvert_exporter": "python",
   "pygments_lexer": "ipython3",
   "version": "3.7.3"
  }
 },
 "nbformat": 4,
 "nbformat_minor": 2
}
