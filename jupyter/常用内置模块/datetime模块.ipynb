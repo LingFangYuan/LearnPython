{
 "cells": [
  {
   "cell_type": "markdown",
   "metadata": {},
   "source": [
    "## datetime模块\n",
    "    datetime是Python处理日期和时间的标准库。\n",
    "1. 获取当前日期和时间\n",
    "  - datetime模块还包含一个datetime类，通过from datetime import datetime导入的才是datetime这个类。\n",
    "  - 如果仅导入import datetime，则必须引用全名datetime.datetime。\n",
    "  - datetime.now()返回当前日期和时间，其类型是datetime。"
   ]
  },
  {
   "cell_type": "code",
   "execution_count": 7,
   "metadata": {},
   "outputs": [
    {
     "name": "stdout",
     "output_type": "stream",
     "text": [
      "2019-05-01 16:43:51.894915 <class 'datetime.datetime'>\n"
     ]
    }
   ],
   "source": [
    "from datetime import datetime\n",
    "\n",
    "now = datetime.now() # 获取当前datetime\n",
    "print(now, type(now))"
   ]
  },
  {
   "cell_type": "markdown",
   "metadata": {},
   "source": [
    "2. 获取指定日期和时间\n",
    "  - 要指定某个日期和时间，我们直接用参数构造一个datetime"
   ]
  },
  {
   "cell_type": "code",
   "execution_count": 13,
   "metadata": {},
   "outputs": [
    {
     "name": "stdout",
     "output_type": "stream",
     "text": [
      "2019-05-01 15:30:40 2019-05-01 16:50:04.350935\n"
     ]
    }
   ],
   "source": [
    "dt = datetime(2019, 5, 1, 15, 30, 40) # 指定日期时间创建datetime\n",
    "print(dt, dt.now())"
   ]
  },
  {
   "cell_type": "markdown",
   "metadata": {},
   "source": [
    "3. datetime转会为timestamp\n",
    "  - 在计算机中，时间实际上是用数字表示的。我们把1970年1月1日 00:00:00 UTC+00:00时区的时刻称为epoch time，记为0，当前时间就是相对于epoch time的秒数，称为timestamp。\n",
    "  - timestamp的值与时区毫无关系，因为timestamp一旦确定，其UTC时间就确定了，转换到任意时区也是完全确定的。全球各地的计算机在任意时刻的timestamp都是完全相同的。\n",
    "  - 把一个datetime类型转换为timestamp只需简单调用timestamp()方法。\n",
    "  - Python的timestamp是一个浮点数。如果有小数位，小数位表示毫秒数。"
   ]
  },
  {
   "cell_type": "code",
   "execution_count": 15,
   "metadata": {},
   "outputs": [
    {
     "name": "stdout",
     "output_type": "stream",
     "text": [
      "1556679000.0\n"
     ]
    }
   ],
   "source": [
    "dt = datetime(2019, 5, 1, 10, 50) # 用指定日期时间创建datetime\n",
    "ts = dt.timestamp() # 把datetime转换为timestamp\n",
    "print(ts)"
   ]
  },
  {
   "cell_type": "markdown",
   "metadata": {},
   "source": [
    "4. timestamp转换为datetime\n",
    "  - 要把timestamp转换为datetime，使用datetime提供的fromtimestamp()方法\n",
    "  - timestamp是一个浮点数，它没有时区的概念，而datetime是有时区的，转换是在timestamp和本地时间做转换，本地时间是指当前操作系统设定的时区。"
   ]
  },
  {
   "cell_type": "code",
   "execution_count": 17,
   "metadata": {},
   "outputs": [
    {
     "name": "stdout",
     "output_type": "stream",
     "text": [
      "2019-05-01 10:50:00\n",
      "2019-05-01 02:50:00\n"
     ]
    }
   ],
   "source": [
    "t = 1556679000.0\n",
    "print(datetime.fromtimestamp(t)) # 本地时间\n",
    "print(datetime.utcfromtimestamp(t)) # UTC时间"
   ]
  },
  {
   "cell_type": "markdown",
   "metadata": {},
   "source": [
    "5. str转换为datetime\n",
    "  - 将一个字符串时间转换为datetime，datetime.strptime()实现，需要一个日期和时间的格式化字符串\n",
    "  - 字符串'%Y-%m-%d %H:%M:%S'规定了日期和时间部分的格式。"
   ]
  },
  {
   "cell_type": "code",
   "execution_count": 19,
   "metadata": {},
   "outputs": [
    {
     "name": "stdout",
     "output_type": "stream",
     "text": [
      "2018-05-01 10:25:35 <class 'datetime.datetime'> 1525141535.0\n"
     ]
    }
   ],
   "source": [
    "cday = datetime.strptime('2018-05-01 10:25:35', '%Y-%m-%d %H:%M:%S')\n",
    "print(cday,type(cday), cday.timestamp())"
   ]
  },
  {
   "cell_type": "markdown",
   "metadata": {},
   "source": [
    "6. datetime转换为str\n",
    "  - 把datetime对象转换为字符串的时间，转换方法是通过strftime()实现的，同样需要一个日期和时间的格式化字符串"
   ]
  },
  {
   "cell_type": "code",
   "execution_count": 63,
   "metadata": {},
   "outputs": [
    {
     "name": "stdout",
     "output_type": "stream",
     "text": [
      "2019-05-01 19:30:45\n",
      "Wed, May 01 19:30\n"
     ]
    }
   ],
   "source": [
    "now = datetime.now()\n",
    "print(now.strftime('%Y-%m-%d %H:%M:%S'))\n",
    "print(datetime.strftime(now, '%a, %b %d %H:%M'))"
   ]
  },
  {
   "cell_type": "markdown",
   "metadata": {},
   "source": [
    "7. datetime加减\n",
    "  - 对日期和时间进行加减实际上就是把datetime往前或往后计算，得到新的datetime。加减可以直接用+和-运算符，不过要导入timedelta这个类。"
   ]
  },
  {
   "cell_type": "code",
   "execution_count": 55,
   "metadata": {},
   "outputs": [
    {
     "name": "stdout",
     "output_type": "stream",
     "text": [
      "2019-05-01 17:46:34.646675\n",
      "2019-05-01 17:46:54.646675\n",
      "2019-05-01 18:06:34.646675\n",
      "2019-05-01 19:46:34.646675\n",
      "2019-04-29 17:46:34.646675\n",
      "2019-05-08 17:46:34.646675\n",
      "2019-05-02 18:06:34.646675\n"
     ]
    }
   ],
   "source": [
    "from datetime import timedelta\n",
    "\n",
    "now = datetime.now()\n",
    "print(now)\n",
    "print(now + timedelta(seconds=20))\n",
    "print(now + timedelta(minutes=20))\n",
    "print(now + timedelta(hours=2))\n",
    "print(now - timedelta(days=2))\n",
    "print(now + timedelta(weeks=1))\n",
    "print(now + timedelta(days=1, minutes=20))"
   ]
  },
  {
   "cell_type": "markdown",
   "metadata": {},
   "source": [
    "8. 本地时间转换为UTC时间\n",
    "  - datetime类型有一个时区属性tzinfo，但是默认为None，所以无法区分这个datetime到底是哪个时区，除非强行给datetime设置一个时区。"
   ]
  },
  {
   "cell_type": "code",
   "execution_count": 58,
   "metadata": {},
   "outputs": [
    {
     "name": "stdout",
     "output_type": "stream",
     "text": [
      "UTC+08:00\n",
      "2019-05-01 17:54:47.828364\n",
      "2019-05-01 17:54:47.828364+08:00\n"
     ]
    }
   ],
   "source": [
    "from datetime import timezone\n",
    "\n",
    "tz_utc_8 = timezone(timedelta(hours=8)) # 创建时区UTC+8:00\n",
    "print(tz_utc_8)\n",
    "now = datetime.now()\n",
    "print(now)\n",
    "dt = now.replace(tzinfo=tz_utc_8) # 强制设置为UTC+8:00\n",
    "print(dt)"
   ]
  },
  {
   "cell_type": "markdown",
   "metadata": {},
   "source": [
    "9. 时区转换\n",
    "  - 时区转换的关键在于，拿到一个datetime时，要获知其正确的时区，然后强制设置时区，作为基准时间。\n",
    "  - 利用带时区的datetime，通过astimezone()方法，可以转换到任意时区。"
   ]
  },
  {
   "cell_type": "code",
   "execution_count": 62,
   "metadata": {},
   "outputs": [
    {
     "name": "stdout",
     "output_type": "stream",
     "text": [
      "2019-05-01 11:25:15.607568+00:00\n",
      "2019-05-01 19:25:15.607568+08:00\n",
      "2019-05-01 20:25:15.607568+09:00\n",
      "2019-05-01 20:25:15.607568+09:00\n"
     ]
    }
   ],
   "source": [
    "utc_dt = datetime.utcnow().replace(tzinfo=timezone.utc)\n",
    "print(utc_dt)\n",
    "bj_dt = utc_dt.astimezone(timezone(timedelta(hours=8)))\n",
    "print(bj_dt)\n",
    "tokyo_dt = utc_dt.astimezone(timezone(timedelta(hours=9)))\n",
    "print(tokyo_dt)\n",
    "tokyo_dt2 = bj_dt.astimezone(timezone(timedelta(hours=9)))\n",
    "print(tokyo_dt2)"
   ]
  },
  {
   "cell_type": "markdown",
   "metadata": {},
   "source": [
    "### 练习\n",
    "假设你获取了用户输入的日期和时间如2015-1-21 9:01:30，以及一个时区信息如UTC+5:00，均是str，请编写一个函数将其转换为timestamp："
   ]
  },
  {
   "cell_type": "code",
   "execution_count": 96,
   "metadata": {},
   "outputs": [],
   "source": [
    "import re\n",
    "from datetime import datetime, timezone, timedelta\n",
    "\n",
    "def to_timestamp(dt_str, tz_str):\n",
    "    dt = datetime.strptime(dt_str, '%Y-%m-%d %H:%M:%S')\n",
    "    tz_re = re.search(r'UTC([\\+\\-])([0-9]|[0-1][0-9]|2[0-3]):([0-5][0-9])', tz_str)\n",
    "    tz = timezone(timedelta(hours=int(tz_re.group(1) + tz_re.group(2)),\\\n",
    "                           minutes=int(tz_re.group(3))))\n",
    "    dt = dt.replace(tzinfo=tz)\n",
    "    return dt.timestamp()"
   ]
  },
  {
   "cell_type": "code",
   "execution_count": 97,
   "metadata": {},
   "outputs": [
    {
     "name": "stdout",
     "output_type": "stream",
     "text": [
      "ok\n"
     ]
    }
   ],
   "source": [
    "# 测试:\n",
    "t1 = to_timestamp('2015-6-1 08:10:30', 'UTC+7:00')\n",
    "assert t1 == 1433121030.0, t1\n",
    "\n",
    "t2 = to_timestamp('2015-5-31 16:10:30', 'UTC-09:00')\n",
    "assert t2 == 1433121030.0, t2\n",
    "\n",
    "print('ok')"
   ]
  }
 ],
 "metadata": {
  "kernelspec": {
   "display_name": "Python 3",
   "language": "python",
   "name": "python3"
  },
  "language_info": {
   "codemirror_mode": {
    "name": "ipython",
    "version": 3
   },
   "file_extension": ".py",
   "mimetype": "text/x-python",
   "name": "python",
   "nbconvert_exporter": "python",
   "pygments_lexer": "ipython3",
   "version": "3.7.3"
  }
 },
 "nbformat": 4,
 "nbformat_minor": 2
}
