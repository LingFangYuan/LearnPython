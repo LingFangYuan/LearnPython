{
 "cells": [
  {
   "cell_type": "markdown",
   "metadata": {},
   "source": [
    "### 文件读取"
   ]
  },
  {
   "cell_type": "code",
   "execution_count": 39,
   "metadata": {},
   "outputs": [
    {
     "name": "stdout",
     "output_type": "stream",
     "text": [
      "2019-04-23 16:11:03,803 - __main__ - ERROR - division by zero\n",
      "Traceback (most recent call last):\n",
      "File \"<ipython-input-1-24d3ca61b73d>\", line 28, in <module>\n",
      "10/0\n",
      "ZeroDivisionError: division by zero\n",
      "2019-04-23 16:11:03,818 - __main__ - INFO - Start print log\n",
      "2019-04-23 16:11:03,821 - __main__ - WARNING - Something maybe fail.\n",
      "2019-04-23 16:11:03,825 - __main__ - INFO - Finish\n",
      "2019-04-23 16:12:19,795 - __main__ - ERROR - division by zero\n",
      "Traceback (most recent call last):\n",
      "File \"<ipython-input-1-f1cd27b3c986>\", line 28, in <module>\n",
      "10/0\n",
      "ZeroDivisionError: division by zero\n",
      "2019-04-23 16:12:19,810 - __main__ - INFO - Start print log\n",
      "2019-04-23 16:12:19,813 - __main__ - WARNING - Something maybe fail.\n",
      "2019-04-23 16:12:19,862 - __main__ - INFO - Finish\n",
      "2019-04-23 16:25:14,932 - __main__ - ERROR - dfdf\n",
      "Traceback (most recent call last):\n",
      "File \"<ipython-input-1-3254e9835aa4>\", line 28, in <module>\n",
      "10/0\n",
      "ZeroDivisionError: division by zero\n",
      "2019-04-23 16:25:14,945 - __main__ - INFO - Start print log\n",
      "2019-04-23 16:25:14,951 - __main__ - WARNING - Something maybe fail.\n",
      "2019-04-23 16:25:14,954 - __main__ - INFO - Finish\n"
     ]
    }
   ],
   "source": [
    "with open('log.txt', 'r', encoding='gbk') as f:\n",
    "    for line in f:\n",
    "        pass\n",
    "with open('log.txt', 'r') as f:\n",
    "    for line in f.readlines():\n",
    "        print(line.strip())"
   ]
  },
  {
   "cell_type": "markdown",
   "metadata": {},
   "source": [
    "- 由于文件读写时都有可能产生IOError，一旦出错，后面的f.close()就不会调用。所以，为了保证无论是否出错都能正确地关闭文件，我们可以使用try ... finally来实现："
   ]
  },
  {
   "cell_type": "code",
   "execution_count": 54,
   "metadata": {},
   "outputs": [
    {
     "name": "stdout",
     "output_type": "stream",
     "text": [
      "Hello World!Hello World!Hello World!Hello World!\n",
      "Hello World!\n",
      "Hello World!\n",
      "Hello World!\n",
      "Hello World!\n",
      "\n"
     ]
    }
   ],
   "source": [
    "try:\n",
    "    f = open('log.txt', 'r')\n",
    "    line = f.read()\n",
    "    print(line)\n",
    "finally:\n",
    "    if f:\n",
    "        f.close()"
   ]
  },
  {
   "cell_type": "markdown",
   "metadata": {},
   "source": [
    "### 二进制文件\n",
    "- 前面讲的默认都是读取文本文件，并且是UTF-8编码的文本文件。要读取二进制文件，比如图片、视频等等，用'rb'模式打开文件即可：'rb'\n",
    "\n",
    "### 字符编码\n",
    "- 要读取非UTF-8编码的文本文件，需要给open()函数掺入encoding参数。\n",
    "- 例如，读取GBK编码的文件：encoding='gbk'\n",
    "- 遇到有些编码不规范的文件，你可能会遇到UnicodeDecodeError，因为在文本文件中可能夹杂了一些非法编码的字符。遇到这种情况，open()函数还接收一个errors参数，表示如果遇到编码错误后如何处理。最简单的方式是直接忽略：errors='ignore'"
   ]
  },
  {
   "cell_type": "markdown",
   "metadata": {},
   "source": [
    "### 写文件\n",
    "- 写文件和读文件是一样的，唯一区别是调用open()函数时，传入标识符'w'或者'wb'表示写文本文件或写二进制文件。\n",
    "- 要写入特定编码的文本文件，请给open()函数传入encoding参数，将字符串自动转换成指定编码。"
   ]
  },
  {
   "cell_type": "code",
   "execution_count": 53,
   "metadata": {},
   "outputs": [],
   "source": [
    "with open('log.txt', 'a') as f:\n",
    "    f.write('Hello World!\\n')"
   ]
  },
  {
   "cell_type": "markdown",
   "metadata": {},
   "source": [
    "- 练习\n",
    "- 请将本地一个文本文件读为一个str并打印出来："
   ]
  },
  {
   "cell_type": "code",
   "execution_count": 55,
   "metadata": {},
   "outputs": [
    {
     "name": "stdout",
     "output_type": "stream",
     "text": [
      "; for 16-bit app support\n",
      "[386Enh]\n",
      "woafont=dosapp.fon\n",
      "EGA80WOA.FON=EGA80WOA.FON\n",
      "EGA40WOA.FON=EGA40WOA.FON\n",
      "CGA80WOA.FON=CGA80WOA.FON\n",
      "CGA40WOA.FON=CGA40WOA.FON\n",
      "\n",
      "[drivers]\n",
      "wave=mmdrv.dll\n",
      "timer=timer.drv\n",
      "\n",
      "[mci]\n",
      "\n"
     ]
    }
   ],
   "source": [
    "fpath = r'C:\\Windows\\system.ini'\n",
    "\n",
    "with open(fpath, 'r') as f:\n",
    "    s = f.read()\n",
    "    print(s) "
   ]
  }
 ],
 "metadata": {
  "kernelspec": {
   "display_name": "Python 3",
   "language": "python",
   "name": "python3"
  },
  "language_info": {
   "codemirror_mode": {
    "name": "ipython",
    "version": 3
   },
   "file_extension": ".py",
   "mimetype": "text/x-python",
   "name": "python",
   "nbconvert_exporter": "python",
   "pygments_lexer": "ipython3",
   "version": "3.7.3"
  }
 },
 "nbformat": 4,
 "nbformat_minor": 2
}
