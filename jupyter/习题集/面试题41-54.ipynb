{
 "cells": [
  {
   "cell_type": "markdown",
   "metadata": {},
   "source": [
    "110道Python面试题41-54\n",
    "原文链接: http://bbs.itheima.com/thread-415032-1-1.html\n",
    "41. 举例说明异常模块中try except else finally的相关意义\n",
    " - try...except...else没有捕获到异常，执行else语句\n",
    " - try...except...finally不管是否捕获到异常，都执行finally语句"
   ]
  },
  {
   "cell_type": "code",
   "execution_count": 2,
   "metadata": {},
   "outputs": [
    {
     "name": "stdout",
     "output_type": "stream",
     "text": [
      "100\n",
      "没有捕获到异常，则执行该语句\n",
      "100\n",
      "不管是否捕获到异常，都执行该语句\n"
     ]
    }
   ],
   "source": [
    "try:\n",
    "    num = 100\n",
    "    print(num)\n",
    "except NameError as e:\n",
    "    print('产生了错误了: %s' % e)\n",
    "else:\n",
    "    print('没有捕获到异常，则执行该语句')\n",
    "\n",
    "try:\n",
    "    num = 100\n",
    "    print(num)\n",
    "except NameError as e:\n",
    "    print('产生了错误了: %s' % e)\n",
    "finally:\n",
    "    print('不管是否捕获到异常，都执行该语句')"
   ]
  },
  {
   "cell_type": "markdown",
   "metadata": {},
   "source": [
    "42. python中交换两个数值"
   ]
  },
  {
   "cell_type": "code",
   "execution_count": 3,
   "metadata": {},
   "outputs": [
    {
     "name": "stdout",
     "output_type": "stream",
     "text": [
      "12 10\n"
     ]
    }
   ],
   "source": [
    "a = 10\n",
    "b = 12\n",
    "a, b = b, a\n",
    "print(a, b)"
   ]
  },
  {
   "cell_type": "markdown",
   "metadata": {},
   "source": [
    "43. 举例说明zip()函数用法\n",
    " - 将一个或多个个可迭代对象作为参数，将对象中对应的元素打包成一个个元组，然后返回由这些元组组成的对象。"
   ]
  },
  {
   "cell_type": "code",
   "execution_count": 7,
   "metadata": {},
   "outputs": [
    {
     "name": "stdout",
     "output_type": "stream",
     "text": [
      "(1, 6)\n",
      "(2, 7)\n",
      "(3, 8)\n",
      "(4, 9)\n",
      "(5, 10)\n"
     ]
    }
   ],
   "source": [
    "a = [1, 2, 3, 4, 5]\n",
    "b = [6, 7, 8, 9, 10]\n",
    "z = zip(a, b)\n",
    "for i in z:\n",
    "    print(i)"
   ]
  },
  {
   "cell_type": "markdown",
   "metadata": {},
   "source": [
    "44. a = '张明 98分'，用re.sub，将98替换为100"
   ]
  },
  {
   "cell_type": "code",
   "execution_count": 12,
   "metadata": {},
   "outputs": [
    {
     "name": "stdout",
     "output_type": "stream",
     "text": [
      "张明 100分\n"
     ]
    }
   ],
   "source": [
    "import re\n",
    "\n",
    "a = '张明 98分'\n",
    "print(re.sub(r'\\d+', '100', a))"
   ]
  },
  {
   "cell_type": "markdown",
   "metadata": {},
   "source": [
    "45. 写5条常用的sql语句\n",
    " - select * frm a;\n",
    " - update a set a1='' where a1 is null;\n",
    " - insert into a(a1, a2) values(1, 2);\n",
    " - create table();\n",
    " - alter table ..;\n",
    " - ....\n",
    "46. a = 'hello'和b = '你好'编码成bytes类型"
   ]
  },
  {
   "cell_type": "code",
   "execution_count": 14,
   "metadata": {},
   "outputs": [
    {
     "name": "stdout",
     "output_type": "stream",
     "text": [
      "b'hello'\n",
      "<class 'bytes'>\n"
     ]
    }
   ],
   "source": [
    "a = 'hello'\n",
    "b = '你好'\n",
    "print(a.encode('utf-8'))\n",
    "print(b.encode('utf-8'))"
   ]
  },
  {
   "cell_type": "markdown",
   "metadata": {},
   "source": [
    "47. [1, 2, 3] + [4, 5, 6]的结果是多少？\n",
    " - [1, 2, 3, 4, 5, 6]"
   ]
  },
  {
   "cell_type": "code",
   "execution_count": 16,
   "metadata": {},
   "outputs": [
    {
     "name": "stdout",
     "output_type": "stream",
     "text": [
      "[1, 2, 3, 4, 5, 6]\n"
     ]
    }
   ],
   "source": [
    "print([1, 2, 3] + [4, 5, 6])"
   ]
  },
  {
   "cell_type": "markdown",
   "metadata": {},
   "source": [
    "48. 提供python运行效率的方法\n",
    " 1. 使用生成器，因为可以节约大量内存\n",
    " 2. 循环代码优化，避免过多重复代码的执行\n",
    " 3. 核心模块用Cython PyPy等，提供效率\n",
    " 4. 多进程、多线程、协程\n",
    " 5. 多个if elif条件判断，可以把最有可能先发生的条件放到前面写，这样可以减少程序判断次数，提高效率。\n",
    "49. 简述mysql和redis区别\n",
    " - redis: 内存型非关系型数据库，数据保存在内存中，速度快。\n",
    " - mysql: 关系型数据库，数据保存在磁盘中，检索的话，会有一定的io操作，访问速度相对慢。\n",
    "50. 遇到bug如何处理\n",
    " 1. 细节上的错误，通过print()打印，能执行到print()说明一般上面的代码没有问题，分段检查程序是否有问题，如果是js的话可以alert或console.log。\n",
    " 2. 如果涉及一些第三方框架，会去查官方文档或者一些技术博客。\n",
    " 3. 对应bug的管理与归类总结，一般测试将测试出的bug用teambin等bug管理工具进行逻辑缜密性的方法。\n",
    " 4. 导包问题、.......\n",
    "51. 正则匹配，匹配日期2018-03-20"
   ]
  },
  {
   "cell_type": "code",
   "execution_count": 18,
   "metadata": {},
   "outputs": [
    {
     "name": "stdout",
     "output_type": "stream",
     "text": [
      "['2018-03-20', '2018-03-20']\n"
     ]
    }
   ],
   "source": [
    "url = 'https://sycm.taobao.com/bda/tradinganaly/overview/get_summary.json?dateRange=2018-03-20%7C2018-03-20&dateType=recent1&device=1&token=ff25b109b&_=1521595613462'\n",
    "r = re.compile(r'(?:[0-9]{4}\\-)(?:0[0-9]|1[0-2])\\-(?:[0-2][0-9]|3[0-1])')\n",
    "print(r.findall(url))"
   ]
  },
  {
   "cell_type": "markdown",
   "metadata": {},
   "source": [
    "\n",
    "52. list=[2, 3, 5, 4, 9, 6]，从小到大排序，不许用sort，输出[2, 3, 4, 5, 6, 9]"
   ]
  },
  {
   "cell_type": "code",
   "execution_count": 77,
   "metadata": {},
   "outputs": [
    {
     "name": "stdout",
     "output_type": "stream",
     "text": [
      "[2, 3, 4, 5, 6, 9]\n"
     ]
    }
   ],
   "source": [
    "def fun(l):\n",
    "    for i in range(len(l)-1):\n",
    "        idx = i\n",
    "        for j in range(i, len(l)):\n",
    "            if l[idx] > l[j]:\n",
    "                idx = j\n",
    "        l[i], l[idx] = l[idx], l[i]\n",
    "\n",
    "def fun1(l):\n",
    "    l1 = l.copy()\n",
    "    t = []\n",
    "    a = min(l1)\n",
    "    t.append(a)\n",
    "    l1.remove(a)\n",
    "    if len(l1) == 0:\n",
    "        return t\n",
    "    else:\n",
    "        t = t + fun1(l1)\n",
    "        return t\n",
    "\n",
    "l = [2, 3, 5, 4, 9, 6]\n",
    "t = fun1(l)\n",
    "print(t)"
   ]
  },
  {
   "cell_type": "markdown",
   "metadata": {},
   "source": [
    "53. 写一个单列模式\n",
    " - 因为创建对象时\\_\\_new\\_\\_方法执行，并且必须return返回实例化出来的对象，所有可以使用cls.\\_\\_instance是否存在，不存在的话就创建对象，存在的话就返回该对象,来保证只有一个实例对象存在。"
   ]
  },
  {
   "cell_type": "code",
   "execution_count": 95,
   "metadata": {},
   "outputs": [
    {
     "name": "stdout",
     "output_type": "stream",
     "text": [
      "init: 12\n",
      "init: 10\n",
      "2739122476032 10\n",
      "2739122476032 10\n",
      "20\n"
     ]
    }
   ],
   "source": [
    "class A(object):\n",
    "    __instance = None\n",
    "    \n",
    "    def __init__(self, num):\n",
    "        self.num = num\n",
    "        print('init: %s' % num)\n",
    "    \n",
    "    def __new__(cls, *arg, **kw):\n",
    "        if not cls.__instance:\n",
    "            cls.__instance = super(A, cls).__new__(cls)\n",
    "        return cls.__instance\n",
    "\n",
    "a = A(12)\n",
    "b = A(10)\n",
    "\n",
    "print(id(a), a.num)\n",
    "print(id(b), b.num)\n",
    "a.num = 20\n",
    "print(b.num)"
   ]
  },
  {
   "cell_type": "markdown",
   "metadata": {},
   "source": [
    "54. 保留两位小数"
   ]
  },
  {
   "cell_type": "code",
   "execution_count": 105,
   "metadata": {},
   "outputs": [
    {
     "name": "stdout",
     "output_type": "stream",
     "text": [
      "2.52\n",
      "1.330\n"
     ]
    }
   ],
   "source": [
    "n = 2.5215\n",
    "print(round(n,2))\n",
    "print('%.03f' % 1.33)"
   ]
  },
  {
   "cell_type": "code",
   "execution_count": null,
   "metadata": {},
   "outputs": [],
   "source": []
  }
 ],
 "metadata": {
  "kernelspec": {
   "display_name": "Python 3",
   "language": "python",
   "name": "python3"
  },
  "language_info": {
   "codemirror_mode": {
    "name": "ipython",
    "version": 3
   },
   "file_extension": ".py",
   "mimetype": "text/x-python",
   "name": "python",
   "nbconvert_exporter": "python",
   "pygments_lexer": "ipython3",
   "version": "3.7.3"
  }
 },
 "nbformat": 4,
 "nbformat_minor": 2
}
