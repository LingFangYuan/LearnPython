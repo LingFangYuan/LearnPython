{
 "cells": [
  {
   "cell_type": "markdown",
   "metadata": {},
   "source": [
    "## 110道Python面试题1-40\n",
    "原文链接: http://bbs.itheima.com/thread-415032-1-1.html\n",
    "1. 一行代码实现1--100之和"
   ]
  },
  {
   "cell_type": "code",
   "execution_count": 2,
   "metadata": {},
   "outputs": [
    {
     "data": {
      "text/plain": [
       "5050"
      ]
     },
     "execution_count": 2,
     "metadata": {},
     "output_type": "execute_result"
    }
   ],
   "source": [
    "sum(range(1,101))"
   ]
  },
  {
   "cell_type": "markdown",
   "metadata": {},
   "source": [
    "1. 如何在一个函数内部修改全局变量"
   ]
  },
  {
   "cell_type": "code",
   "execution_count": 3,
   "metadata": {},
   "outputs": [
    {
     "name": "stdout",
     "output_type": "stream",
     "text": [
      "1\n"
     ]
    }
   ],
   "source": [
    "a = 10\n",
    "\n",
    "def fn():\n",
    "    global a\n",
    "    a = 1\n",
    "\n",
    "fn()\n",
    "print(a)"
   ]
  },
  {
   "cell_type": "markdown",
   "metadata": {},
   "source": [
    "3. 列出5个python标准库"
   ]
  },
  {
   "cell_type": "code",
   "execution_count": 4,
   "metadata": {},
   "outputs": [],
   "source": [
    "import os,json,datetime,sys,math,re"
   ]
  },
  {
   "cell_type": "markdown",
   "metadata": {},
   "source": [
    "4. 字典如何删除键和合并两个字典"
   ]
  },
  {
   "cell_type": "code",
   "execution_count": 8,
   "metadata": {},
   "outputs": [
    {
     "name": "stdout",
     "output_type": "stream",
     "text": [
      "{'name': 'lf', 'age': 26}\n",
      "{'name': 'lf'}\n",
      "{'name': 'lf', 'job': 'software', 'aa': 'ddd'}\n"
     ]
    }
   ],
   "source": [
    "dic = {'name': 'lf', 'age': 26}\n",
    "dic1 = {'job': 'software', 'aa': 'ddd'}\n",
    "print(dic)\n",
    "del dic['age']\n",
    "print(dic)\n",
    "dic.update(dic1)\n",
    "print(dic)"
   ]
  },
  {
   "cell_type": "markdown",
   "metadata": {},
   "source": [
    "5. 谈下python的GIL\n",
    " - GIL 是python的全局解释器锁，同一进程中假如有多个线程运行，一个线程在运行python程序的时候会霸占python解释器（加了一把锁即GIL），使该进程内的其他线程无法运行，等该线程运行完后其他线程才能运行。如果线程运行过程中遇到耗时操作，则解释器锁解开，使其他线程运行。所以在多线程中，线程的运行仍是有先后顺序的，并不是同时进行。\n",
    " - 多进程中因为每个进程都能被系统分配资源，相当于每个进程有了一个python解释器，所以多进程可以实现多个进程的同时运行，缺点是进程系统资源开销大。\n",
    "6. python实现列表去重的方法"
   ]
  },
  {
   "cell_type": "code",
   "execution_count": 9,
   "metadata": {},
   "outputs": [
    {
     "name": "stdout",
     "output_type": "stream",
     "text": [
      "[1, 2, 3, 4, 6, 7, 8]\n"
     ]
    }
   ],
   "source": [
    "l = [1, 2, 3, 4, 4, 2, 3, 7, 8,6]\n",
    "s1 = set(l)\n",
    "l1 = list(s1)\n",
    "print(l1)"
   ]
  },
  {
   "cell_type": "markdown",
   "metadata": {},
   "source": [
    "7. fun(*args,**kw)中的*args,**kw什么意思？\n",
    " - *args是可变参数，会将多个不确定个数的非键值对参数组合为一个元组传入函数。\n",
    " - **kw是关键字参数，会将多个不确定个数的键值对参数组合为一个字典传入。\n",
    "8. python2和python3的range（100）的区别\n",
    " - python2返回列表，python3返回迭代器，节约内存。\n",
    "9. 一句话解释什么样的语言能够用装饰器?\n",
    " - 函数可以作为参数传递的语言，可以使用装饰器。\n",
    "10. python内建数据类型有哪些\n",
    " - int\n",
    " - str\n",
    " - float\n",
    " - list\n",
    " - tuple\n",
    " - dict\n",
    " - bool\n",
    "11. 简述面向对象中，__init__和__new__的区别。\n",
    "  1. 先执行\\_\\_new\\_\\_后执行\\_\\_init\\_\\_。\n",
    "  2. \\_\\_new\\_\\_是实际创建对象的方法。\n",
    "  3. \\_\\_init\\_\\_是创建完对象后默认调用进行初始化的方法。\n",
    "  4. \\_\\_new\\_\\_至少要有一个参数cls，代表当前类，此参数在实例化时由python解释器自动识别。\n",
    "  5. \\_\\_new\\_\\_必须要有返回值，返回实例化出来的实例，可以return父类（通过super(当前类名, cls)）\\_\\_new\\_\\_出来的实例，或者直接是object的\\_\\_new\\_\\_出来的实例。\n",
    "  6. \\_\\_init\\_\\_有一个参数self，这个就是\\_\\_new\\_\\_返回的实例，\\_\\_init\\_\\_在\\_\\_new\\_\\_的基础上可以完成一些其它初始化的动作，\\_\\_init\\_\\_不需要返回值。\n",
    "  7. 如果\\_\\_new\\_\\_创建的是当前类的实例，会自动调用\\_\\_init\\_\\_方法，通过return语句里面调用的\\_\\_new\\_\\_方法的第一个参数是cls来保证是当前类的实例，如果是其他类名，那么实际创建返回的就是其他类的实例，其实就不会调用当前类的\\_\\_init\\_\\_方法，也不会调用其他类的\\_\\_init\\_\\_方法。"
   ]
  },
  {
   "cell_type": "code",
   "execution_count": 14,
   "metadata": {},
   "outputs": [
    {
     "name": "stdout",
     "output_type": "stream",
     "text": [
      "这是cls的ID 2228083812680\n",
      "这是 new 方法:  <__main__.A object at 0x00000206C54A25C0>\n",
      "这是 init 方法:  <__main__.A object at 0x00000206C54A25C0>\n",
      "这是类A的ID:  2228083812680\n",
      "这是实例a:  <__main__.A object at 0x00000206C54A25C0>\n"
     ]
    }
   ],
   "source": [
    "class A(object):\n",
    "    \n",
    "    def __init__(self):\n",
    "        print('这是 init 方法: ', self)\n",
    "    \n",
    "    def __new__(cls):\n",
    "        print('这是cls的ID', id(cls))\n",
    "        print('这是 new 方法: ', object.__new__(cls))\n",
    "        return object.__new__(cls)\n",
    "\n",
    "a = A()\n",
    "print('这是类A的ID: ', id(A))\n",
    "print('这是实例a: ', a)"
   ]
  },
  {
   "cell_type": "markdown",
   "metadata": {},
   "source": [
    "12. 简述with方法打开处理文件帮我们做了什么？\n",
    " - with方法实现了try,except,finally,在finally中调用了close方法关闭文件。\n",
    " - 并产生了一个生产器。\n",
    "13. 列表[1, 2, 3, 4, 5]，请使用map()函数输出[1, 4, 9, 16, 25]，并使用类别推导式提取出大于10的数，最终输出[16, 25]"
   ]
  },
  {
   "cell_type": "code",
   "execution_count": 16,
   "metadata": {},
   "outputs": [
    {
     "name": "stdout",
     "output_type": "stream",
     "text": [
      "[16, 25]\n"
     ]
    }
   ],
   "source": [
    "l = [1, 2, 3, 4, 5]\n",
    "l1 = [x for x in map(lambda x: x**2, l) if x > 10]\n",
    "print(l1)"
   ]
  },
  {
   "cell_type": "markdown",
   "metadata": {},
   "source": [
    "14. python中生产随机整数、随机小数、0--1直接小数的方法。"
   ]
  },
  {
   "cell_type": "code",
   "execution_count": 55,
   "metadata": {},
   "outputs": [
    {
     "name": "stdout",
     "output_type": "stream",
     "text": [
      "9\n",
      "[ 0.07938072 -2.06874182 -0.11128291 -0.97939455  0.52753008]\n",
      "0.5526749992254051\n"
     ]
    }
   ],
   "source": [
    "from random import randint,random\n",
    "import numpy as np\n",
    "\n",
    "print(randint(1,10))\n",
    "print(np.random.randn(5))\n",
    "print(random())"
   ]
  },
  {
   "cell_type": "markdown",
   "metadata": {},
   "source": [
    "15. 避免转义给字符串加哪个字母表示原始字符串？\n",
    " - 'r'"
   ]
  },
  {
   "cell_type": "code",
   "execution_count": 57,
   "metadata": {},
   "outputs": [
    {
     "name": "stdout",
     "output_type": "stream",
     "text": [
      "\\n \n",
      "\n"
     ]
    }
   ],
   "source": [
    "print(r'\\n', '\\n')"
   ]
  },
  {
   "cell_type": "markdown",
   "metadata": {},
   "source": [
    "16. \\< div class=\"nam\"\\>中国\\< /div\\>，用正则匹配出便签里面的内容（“中国”），其中class的类名是不确定的。"
   ]
  },
  {
   "cell_type": "code",
   "execution_count": 76,
   "metadata": {},
   "outputs": [
    {
     "name": "stdout",
     "output_type": "stream",
     "text": [
      "['中国']\n"
     ]
    }
   ],
   "source": [
    "import re\n",
    "s = r'<div class=\"nam\">中国</div>'\n",
    "r = re.compile(r'<div class=\".*?\">(.*?)</div>')\n",
    "print(r.findall(s))"
   ]
  },
  {
   "cell_type": "markdown",
   "metadata": {},
   "source": [
    "17. python中断言方法举例。"
   ]
  },
  {
   "cell_type": "code",
   "execution_count": 80,
   "metadata": {},
   "outputs": [
    {
     "ename": "ZeroDivisionError",
     "evalue": "division by zero",
     "output_type": "error",
     "traceback": [
      "\u001b[1;31m---------------------------------------------------------------------------\u001b[0m",
      "\u001b[1;31mZeroDivisionError\u001b[0m                         Traceback (most recent call last)",
      "\u001b[1;32m<ipython-input-80-eedfb0db0a0c>\u001b[0m in \u001b[0;36m<module>\u001b[1;34m\u001b[0m\n\u001b[1;32m----> 1\u001b[1;33m \u001b[1;32massert\u001b[0m \u001b[1;36m1\u001b[0m\u001b[1;33m/\u001b[0m\u001b[1;36m0\u001b[0m\u001b[1;33m,\u001b[0m \u001b[1;34m'除数为0'\u001b[0m\u001b[1;33m\u001b[0m\u001b[1;33m\u001b[0m\u001b[0m\n\u001b[0m",
      "\u001b[1;31mZeroDivisionError\u001b[0m: division by zero"
     ]
    }
   ],
   "source": [
    "assert 1/0, '除数为0'"
   ]
  },
  {
   "cell_type": "markdown",
   "metadata": {},
   "source": [
    "18. 数据表student有id, name, score, city字段，其中name中的名字可有重复，需要清除重复行，请写SQL语句。\n",
    " - select distinct name from student\n",
    "19. 10个Linux常用命令\n",
    " - man：在线帮助手册\n",
    " - ls: 打印文件和目录\n",
    " - cd: 切换工作目录\n",
    " - rm: 删除文件\n",
    " - cp: 复制\n",
    " - mkdir: 创建目录\n",
    " - free: 查询内存使用情况\n",
    " - find: 查找文件\n",
    " - grep： 匹配文件内容\n",
    " - sed：流编辑器\n",
    " - cut: 列截取\n",
    " - mv: 移动文件\n",
    " - tar: 打包压缩文件\n",
    " - cat: 打印文件内容\n",
    " - echo: 打印输出\n",
    "20. python2和python3区别？列举5个\n",
    " 1. python3 的print函数必须带小括号，python两种都支持。\n",
    " 2. python2 range()返回列表，python3 range()返回迭代器，节约内存。\n",
    " 3. python2 中使用ascii编码，python3中使用utf-8编码。\n",
    " 4. python2 中unicode表示字符串序列，str表示字节序列。python3中str表示字符串序列，byte百奥赛字节序列。\n",
    " 5. python2 中为正常显示中文，引入coding声明，python3中不需要\n",
    " 6. python2 中是raw_input()函数，python3中是input()\n",
    "21. \n",
    "22. \n",
    "23. \n",
    "24. \n",
    "25. \n",
    "26. \n",
    "27. \n",
    "28. \n",
    "29. \n",
    "30. \n",
    "31. \n",
    "32. \n",
    "33. \n",
    "34. \n",
    "35. \n",
    "36. 写一段自定义异常代码"
   ]
  },
  {
   "cell_type": "code",
   "execution_count": 81,
   "metadata": {},
   "outputs": [
    {
     "name": "stdout",
     "output_type": "stream",
     "text": [
      "数字大于2了\n"
     ]
    }
   ],
   "source": [
    "def fn():\n",
    "    try:\n",
    "        for i in range(5):\n",
    "            if i > 2:\n",
    "                raise Exception('数字大于2了')\n",
    "    except Exception as e:\n",
    "        print(e)\n",
    "\n",
    "fn()"
   ]
  },
  {
   "cell_type": "markdown",
   "metadata": {},
   "source": [
    "37. 正则表达式匹配中，(.*)和(.*)匹配区别？\n",
    " - (.*)是贪婪匹配，会尽可能多地匹配。\n",
    " - (.*?)是非贪婪匹配，会尽可能少地匹配。"
   ]
  },
  {
   "cell_type": "code",
   "execution_count": 85,
   "metadata": {},
   "outputs": [
    {
     "name": "stdout",
     "output_type": "stream",
     "text": [
      "贪婪匹配 ['哈哈</a><a>呵呵']\n",
      "非贪婪匹配 ['哈哈', '呵呵']\n"
     ]
    }
   ],
   "source": [
    "s = '<a>哈哈</a><a>呵呵</a>'\n",
    "r1 = re.findall(r'<a>(.*)</a>', s)\n",
    "r2 = re.findall(r'<a>(.*?)</a>', s)\n",
    "print('贪婪匹配', r1)\n",
    "print('非贪婪匹配', r2)"
   ]
  },
  {
   "cell_type": "markdown",
   "metadata": {},
   "source": [
    "38. 简述Django的orm\n",
    " - orm是对象关系映射，将类属性与数据库字段进行映射。\n",
    " - 实现了数据模型于数据库的解耦，通过简单的配置就可以轻松更换数据库，而不需要修改代码只需要面向对象编程，orm操作本质上会根据对接的数据库引擎，翻译成对应的SQL语句，所有使用Django开发的项目无需关心程序底层使用的是MySQL、Oracle、sqlite....，如果数据库迁移，只需要更换Django的数据库引擎即可。\n",
    "39. [[1, 2], [3, 4], [5, 6]]一行代码展开该列表，得出[1, 2, 3, 4, 5, 6]"
   ]
  },
  {
   "cell_type": "code",
   "execution_count": 107,
   "metadata": {},
   "outputs": [
    {
     "name": "stdout",
     "output_type": "stream",
     "text": [
      "[1, 2, 3, 4, 5, 6]\n",
      "[1, 2, 3, 4, 5, 6]\n"
     ]
    }
   ],
   "source": [
    "l = [[1, 2], [3, 4], [5, 6]]\n",
    "l1 = [ n for m in l for n in m ]\n",
    "print(l1)\n",
    "n1 = np.array(l).flatten().tolist()\n",
    "print(n1)"
   ]
  },
  {
   "cell_type": "markdown",
   "metadata": {},
   "source": [
    "40. x='abc',y='def',z=['d','e','f']，分别求出x.join(y)和x.join(z)返回的结果\n",
    " - 'dabceabcf'\n",
    " - 'dabceabcf'"
   ]
  },
  {
   "cell_type": "code",
   "execution_count": 108,
   "metadata": {},
   "outputs": [
    {
     "name": "stdout",
     "output_type": "stream",
     "text": [
      "dabceabcf\n",
      "dabceabcf\n"
     ]
    }
   ],
   "source": [
    "x='abc'\n",
    "y='def'\n",
    "z=['d','e','f']\n",
    "print(x.join(y))\n",
    "print(x.join(z))"
   ]
  },
  {
   "cell_type": "code",
   "execution_count": null,
   "metadata": {},
   "outputs": [],
   "source": []
  }
 ],
 "metadata": {
  "kernelspec": {
   "display_name": "Python 3",
   "language": "python",
   "name": "python3"
  },
  "language_info": {
   "codemirror_mode": {
    "name": "ipython",
    "version": 3
   },
   "file_extension": ".py",
   "mimetype": "text/x-python",
   "name": "python",
   "nbconvert_exporter": "python",
   "pygments_lexer": "ipython3",
   "version": "3.7.3"
  }
 },
 "nbformat": 4,
 "nbformat_minor": 2
}
