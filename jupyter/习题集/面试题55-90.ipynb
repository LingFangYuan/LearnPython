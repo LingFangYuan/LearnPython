{
 "cells": [
  {
   "cell_type": "markdown",
   "metadata": {},
   "source": [
    "110道Python面试题55-90\n",
    "原文链接: http://bbs.itheima.com/thread-415032-1-1.html\n",
    "55. 求三个方法打印结果\n",
    " - fn('one', 1) 直接将键值对传给字典\n",
    " - fn('two', 2) 因为字典在内存中是可变数据类型，所以指向同一个地址，传了新的参数后，会相当于给字典增加键值对\n",
    " - fn('three', 3, {}) 因为传了一个字段，所以不在是原先默认参数的字典"
   ]
  },
  {
   "cell_type": "code",
   "execution_count": 46,
   "metadata": {},
   "outputs": [
    {
     "name": "stdout",
     "output_type": "stream",
     "text": [
      "{'one': 1}\n",
      "{'one': 1, 'two': 2}\n",
      "{'three': 3}\n",
      "{'one': 1, 'two': 2, 'four': 4}\n"
     ]
    }
   ],
   "source": [
    "def fn(k, v, dic={}):\n",
    "    dic[k] = v\n",
    "    print(dic)\n",
    "\n",
    "fn('one', 1)\n",
    "fn('two', 2)\n",
    "fn('three', 3, {})\n",
    "fn('four', 4)"
   ]
  },
  {
   "cell_type": "markdown",
   "metadata": {},
   "source": [
    "56. 列出常见的状态码和意义\n",
    " - 200 OK\n",
    "     - 请求正常处理完毕\n",
    " - 204 No Content\n",
    "     - 请求成功处理，没有实体的主体返回。\n",
    " - 206 Partial Content\n",
    "     - GET范围请求已成功处理\n",
    " - 301 Moved Permanently\n",
    "     - 永久重定向，资源已永久分配新URI\n",
    " - 302 Found\n",
    "     - 临时重定向，资源已临时分配新URI\n",
    " - 303 See Other\n",
    "     - 临时重定向，期望使用GET定向获取\n",
    " - 304 Not Modified\n",
    "     - 发送的附带条件请求未满足\n",
    " - 307 Temporary Redirect\n",
    "     - 临时重定向，POST不会变成GET\n",
    " - 400 Bad Request\n",
    "     - 请求报文语法错误或参数错误\n",
    " - 401 Unauthorized\n",
    "     - 需要通过HTTP认证，或认证失败\n",
    " - 403 Forbidden\n",
    "     - 资源请求被拒绝\n",
    " - 404 Not Found\n",
    "     - 无法找到请求资源（服务器无理由拒绝）\n",
    " - 500 Internal Server Error\n",
    "     - 服务器故障或Web应用故障\n",
    " - 503 Service Unavailable\n",
    "     - 服务器超负载或停机维护\n",
    "57. 分别从前端、后端；数据库阐述web项目的性能优化\n",
    "\n",
    "**前端优化**:\n",
    " 1. 减少http请求、例如制作精灵图\n",
    " 2. html和CSS放在页面上不，javascript放在页面下面，因为js加载比HTML和CSS加载慢，所以要优先加载html和css，以放页面显示不全，性能差，也影响用户体验。\n",
    " \n",
    "**后端优化**:\n",
    " 1. 缓存存储读写次数高，变化少的数据，比如网址首页的信息、商品的信息等。应用程序读取数据时，一般是先从缓存中读取，如果读取不到或数据已失效，再访问磁盘数据，并将数据再次写入缓存。\n",
    " 2. 异步方式，如果有耗时操作，可以采用异步，不如celery。\n",
    " 3. 代码优化，避免循环和判断次数太多，如果多个if else判断，邮箱判断最有可能先发生的情况。\n",
    "\n",
    "**数据库优化**：\n",
    " 1. 如有条件，数据可以存放于redis，读取速度快。\n",
    " 2. 建立索引、外键等。\n",
    " \n",
    "58. 使用pop和del删除字典中的\"name\"字段，dic={'name':'zs','age':18}"
   ]
  },
  {
   "cell_type": "code",
   "execution_count": 52,
   "metadata": {},
   "outputs": [
    {
     "name": "stdout",
     "output_type": "stream",
     "text": [
      "{'name': 'zs', 'age': 18}\n",
      "{'age': 18}\n"
     ]
    }
   ],
   "source": [
    "dic={'name':'zs','age':18}\n",
    "print(dic)\n",
    "#dic.pop('name')\n",
    "del dic['name']\n",
    "print(dic)"
   ]
  },
  {
   "cell_type": "markdown",
   "metadata": {},
   "source": [
    "59. 列出常见MYSQL数据存储引擎\n",
    "\n",
    "**InnoDB**: 支持事务处理，支持外键，支持崩溃修复能力和并发控制。如果需要对事务的完整性要求比较高，要求实现并发控制，那选择InnoDB有很大的优势。如果需要频繁的更新、删除操作的数据库，也可以选择InnoDB,因为支持事务的提交和回滚。\n",
    "\n",
    "**MyISAM**: 插入数据快，空间和内存使用比较低。如果表主要是用于插入新记录和读出记录，那么选择MyISAM能实现处理高效率。如果应用的完整性、并发性要求比较低也可以使用。\n",
    "\n",
    "**MEMORY**: 所有的数据都在内存中，数据的处理速度快，但是安全性不高。如果需要很快的读写速度，对数据的安全性要求较低，可以选择MEMORY。它对表的大小有要求，不能建立太大的的表。所以，这类数据库值使用在相对较小的的数据库表。\n",
    "\n",
    "60. 计算代码运行结果。"
   ]
  },
  {
   "cell_type": "code",
   "execution_count": 61,
   "metadata": {},
   "outputs": [
    {
     "name": "stdout",
     "output_type": "stream",
     "text": [
      "A0 {'a': 1, 'b': 2, 'c': 3, 'd': 4, 'e': 5}\n",
      "[('a', 1), ('b', 2), ('c', 3), ('d', 4), ('e', 5)]\n",
      "[]\n",
      "[1, 2, 3, 4, 5]\n"
     ]
    }
   ],
   "source": [
    "A = zip(('a', 'b', 'c', 'd', 'e'), (1, 2, 3, 4, 5))\n",
    "A0 = dict(A)\n",
    "A1 = range(10)\n",
    "A2 = [i for i in A1 if i in A0]\n",
    "A3 = [A0[s] for s in A0]\n",
    "print('A0', A0)\n",
    "print(list(zip(('a', 'b', 'c', 'd', 'e'), (1, 2, 3, 4, 5))))\n",
    "print(A2)\n",
    "print(A3)"
   ]
  },
  {
   "cell_type": "markdown",
   "metadata": {},
   "source": [
    "61. 简述同源策略\n",
    "\n",
    "同源策略需要同时满足一下三点要求：\n",
    " 1. 协议相同\n",
    " 2. 域名相同\n",
    " 3. 端口相同\n",
    "- http:www.test.com与https:www.test.com不同源----协议不同\n",
    "- http:www.test.com与http:www.admin.com不同源----域名不同\n",
    "- http:www.test.com与http:www.test.com:8081不同源----端口不同\n",
    "- 只要不满足其中任意一个要求就不符合同源策略，就好出现“跨域”\n"
   ]
  },
  {
   "cell_type": "markdown",
   "metadata": {},
   "source": [
    "62. 简述cookie和seesion的区别\n",
    " 1. seesion在服务器端，cookie在客户端。\n",
    " 2. session的运行依赖seesion id, 而seesion id 是存在cookie中的，也就是说如果浏览器禁用了cookie，同时seesion也会失效，存储seesion时，键与cookie中的seesion相同，值是开发人员设置的键值对信息，进行了base64编码，过期时由开发人员设置。\n",
    " 3. cookie安全性比seesion差。"
   ]
  },
  {
   "cell_type": "markdown",
   "metadata": {},
   "source": [
    "63. 简述多线程、多进程\n",
    "\n",
    "**进程**: \n",
    " 1. 操作系统进行资源分配和调度的基本单位，多个进程之间相互独立。\n",
    " 2. 稳定性好，如果一个进程崩溃，不影响其他进程，但是进程消耗资源大，开启的进程数量有限制。\n",
    "\n",
    "**线程**:\n",
    " 1. CPU进行资源分配和调度的基本单位，线程是进程的一部分，是比进程更小的能独立运行的基本单位，一个进程下的多个线程可以共享该进程的所有资源。\n",
    " 2. 如果IO操作密集，则可以多线程运行效率高，缺点是如果一个线程崩溃，都会造成进程的崩溃。\n",
    "\n",
    "**应用**:\n",
    " 1. IO密集的用多线程，在用户输入，sleep时候，可以切换到其他线程执行，简述等待时间。\n",
    " 2. CPU密集的用多进程，因为假如IO操作少，用多线程的话，因为线程共享一个全局解释器锁，当前运行的线程会霸占GIL，其他线程没有GIL，就不能充分利用多核CPU的优势。"
   ]
  },
  {
   "cell_type": "markdown",
   "metadata": {},
   "source": [
    "64. 简述any()和all()方法\n",
    " - any(): 只需要迭代器中有一个元素为真就为真。\n",
    " - all(): 迭代器中所有的判断项返回都是真，结果才为真。\n",
    " - python中为假的元素: (0, 空字符串, 空列表, 空字典, 空元组, None, False)"
   ]
  },
  {
   "cell_type": "code",
   "execution_count": 65,
   "metadata": {},
   "outputs": [
    {
     "name": "stdout",
     "output_type": "stream",
     "text": [
      "True\n",
      "False\n",
      "True\n",
      "False\n"
     ]
    }
   ],
   "source": [
    "print(any([1, 2, 0, '']))\n",
    "print(any([0, '', None]))\n",
    "print(all([1, 2, 3, 4, 5]))\n",
    "print(all([1, 2, 3, '']))"
   ]
  },
  {
   "cell_type": "markdown",
   "metadata": {},
   "source": [
    "65. IOError、AttributeError、ImportError、IndentationError、IndexError、KeyError、SyntaxError、NameError分别代表什么异常？\n",
    " - IOError: 输入输出异常。\n",
    " - AttributeError: 试图访问一个不存在的属性。\n",
    " - ImportError: 无法导入包或模块，基本是路径问题或未安装模块。\n",
    " - IndentationError: 语法错误，代码没有正确对齐。\n",
    " - IndexError: 索引越界。\n",
    " - KeyError：视图访问字典里不存在的键。\n",
    " - SyntaxError: 语法错误。\n",
    " - NameError: 使用一个还未赋予对象的变量。"
   ]
  },
  {
   "cell_type": "markdown",
   "metadata": {},
   "source": [
    "66. python中copy和deepcopy区别\n",
    " 1. 复制不可变数据类型，不管copy还是deepcopy，都是同一个地址。当浅复制的值是不可变对象（数值，字符串，元组）时和“=”赋值的情况一样，对象的id 值与浅复制原来的值相同。\n",
    " 2. 复制的值是可变对象（列表和字典）\n",
    "     - 浅拷贝copy有两种情况：\n",
    "        1. 复制的对象中无可变子对象，原来值的改变并不会影响浅复制的值，同时浅复制的值改变也并不会影响原来的值。原来值的id值与浅复制原来的值不用。\n",
    "        2. 复制的对象中有可变子对象，改变原来的值中的可变子对象的值，会影响浅复制的值。\n",
    "     - 深拷贝deepcopy: 完全复制独立，包括内层列表和字典。"
   ]
  },
  {
   "cell_type": "code",
   "execution_count": 70,
   "metadata": {},
   "outputs": [
    {
     "name": "stdout",
     "output_type": "stream",
     "text": [
      "哈哈 1960877424864\n",
      "哈哈 1960877424864\n",
      "哈哈 1960877424864\n",
      "哈哈 1960877424864\n",
      "[1, 2, [3, 4]] 1960877511944\n",
      "[1, 2, [3, 4]] 1960877848328\n",
      "[1, 2, [3, 4]] 1960877270984\n",
      "[10, 2, [3, 4]]\n",
      "[1, 2, [3, 4]]\n",
      "[1, 2, [3, 4]]\n",
      "[10, 2, [5, 4]]\n",
      "[1, 2, [5, 4]]\n",
      "[1, 2, [3, 4]]\n"
     ]
    }
   ],
   "source": [
    "import copy\n",
    "\n",
    "a = '哈哈'\n",
    "b = a\n",
    "c = copy.copy(a)\n",
    "d = copy.deepcopy(a)\n",
    "print(a, id(a))\n",
    "print(b, id(b))\n",
    "print(c, id(c))\n",
    "print(d, id(d))\n",
    "\n",
    "l = [1, 2, [3, 4]]\n",
    "a = copy.copy(l)\n",
    "b = copy.deepcopy(l)\n",
    "print(l, id(l))\n",
    "print(a, id(a))\n",
    "print(b, id(b))\n",
    "l[0] = 10\n",
    "print(l)\n",
    "print(a)\n",
    "print(b)\n",
    "l[2][0] = 5\n",
    "print(l)\n",
    "print(a)\n",
    "print(b)"
   ]
  },
  {
   "cell_type": "markdown",
   "metadata": {},
   "source": [
    "67. 列出几种魔法方法并简要介绍用途\n",
    " - \\_\\_init\\_\\_: 对象初始化方法\n",
    " - \\_\\_new\\_\\_: 创建对象时候执行的方法，单列模式会用到\n",
    " - \\_\\_str\\_\\_: 当使用print输出对象的时候，只要自己定义了\\_\\_str\\_\\_(self)方法，那么就会打印从这个方法中return的数据\n",
    " - \\_\\_del\\_\\_: 删除对象执行的方法"
   ]
  },
  {
   "cell_type": "markdown",
   "metadata": {},
   "source": [
    "68. \\>python 1.py 22 33 命令行启动程序并传参，print(sys.argv)会输出什么数据？\n",
    " - 文件名和参数构成的列表\n",
    " - ['1.py', '22', '33']"
   ]
  },
  {
   "cell_type": "markdown",
   "metadata": {},
   "source": [
    "69. 请将[i for i in range(3)]改成生成器\n",
    "\n",
    "生成器是特殊的迭代器。\n",
    " - 列表表达式的[]改为()即可变成生成器\n",
    " - 函数在返回值的时候出现yield就变成生成器，而不是函数了"
   ]
  },
  {
   "cell_type": "code",
   "execution_count": 73,
   "metadata": {},
   "outputs": [
    {
     "name": "stdout",
     "output_type": "stream",
     "text": [
      "<generator object <genexpr> at 0x000001C88D6F1840>\n"
     ]
    }
   ],
   "source": [
    "a = (i for i in range(3))\n",
    "print(a)"
   ]
  },
  {
   "cell_type": "markdown",
   "metadata": {},
   "source": [
    "70. a = '  hehheh  '，去除首位空格"
   ]
  },
  {
   "cell_type": "code",
   "execution_count": 76,
   "metadata": {},
   "outputs": [
    {
     "name": "stdout",
     "output_type": "stream",
     "text": [
      "  hehheh  \n",
      "hehheh\n"
     ]
    }
   ],
   "source": [
    "a = '  hehheh  '\n",
    "print(a)\n",
    "print(a.strip())"
   ]
  },
  {
   "cell_type": "markdown",
   "metadata": {},
   "source": [
    "71. 举例sort和sorted对列表排序，l=[0, -1, 3, -10, 5, 9]\n",
    " - list.sort在list的基础上修改，无返回值。\n",
    " - sorted有返回值，是新的list。"
   ]
  },
  {
   "cell_type": "code",
   "execution_count": 89,
   "metadata": {},
   "outputs": [
    {
     "name": "stdout",
     "output_type": "stream",
     "text": [
      "[-10, -1, 0, 3, 5, 9]\n",
      "[-10, -1, 0, 3, 5, 9]\n"
     ]
    }
   ],
   "source": [
    "l=[0, -1, 3, -10, 5, 9]\n",
    "l.sort()\n",
    "print(l)\n",
    "l1 = sorted(l)\n",
    "print(l1)"
   ]
  },
  {
   "cell_type": "markdown",
   "metadata": {},
   "source": [
    "72. 对list排序foo = [-5, 8, 0, 4, 9, -20, -2, 8, 2, -4]，使用lambda函数从小到大排序。"
   ]
  },
  {
   "cell_type": "code",
   "execution_count": 91,
   "metadata": {},
   "outputs": [
    {
     "name": "stdout",
     "output_type": "stream",
     "text": [
      "[-20, -5, -4, -2, 0, 2, 4, 8, 8, 9]\n"
     ]
    }
   ],
   "source": [
    "foo = [-5, 8, 0, 4, 9, -20, -2, 8, 2, -4]\n",
    "#fn = lambda l: l.sort()\n",
    "#fn(foo)\n",
    "a = sorted(foo, key=lambda x: x)\n",
    "print(a)"
   ]
  },
  {
   "cell_type": "markdown",
   "metadata": {},
   "source": [
    "73. 使用lambda函数list排序foo = [-5, 8, 0, 4, 9, -4, -20, -2, 8, 2, -4]，输出结果为：\n",
    " - [0, 2, 4, 8, 8, 9, -2, -4, -4, -5, -20],正数从小到大，复数从小到大。"
   ]
  },
  {
   "cell_type": "code",
   "execution_count": 104,
   "metadata": {},
   "outputs": [
    {
     "name": "stdout",
     "output_type": "stream",
     "text": [
      "[-2, -4, -4, -5, -20, 0, 2, 4, 8, 8, 9]\n"
     ]
    }
   ],
   "source": [
    "foo = [-5, 8, 0, 4, 9, -4, -20, -2, 8, 2, -4]\n",
    "a = sorted(foo, key=lambda x: (x>=0, abs(x)))\n",
    "print(a)"
   ]
  },
  {
   "cell_type": "markdown",
   "metadata": {},
   "source": [
    "74. 列表嵌套字典的排序，分别根据年龄和姓名排序"
   ]
  },
  {
   "cell_type": "code",
   "execution_count": 106,
   "metadata": {},
   "outputs": [
    {
     "name": "stdout",
     "output_type": "stream",
     "text": [
      "[{'name': 'wa', 'age': 17}, {'name': 'zs', 'age': 19}, {'name': 'df', 'age': 23}, {'name': 'll', 'age': 54}]\n",
      "[{'name': 'df', 'age': 23}, {'name': 'll', 'age': 54}, {'name': 'wa', 'age': 17}, {'name': 'zs', 'age': 19}]\n"
     ]
    }
   ],
   "source": [
    "foo = [{'name': 'zs', 'age': 19}, {'name': 'll', 'age': 54},\n",
    "      {'name': 'wa', 'age': 17}, {'name': 'df', 'age': 23}]\n",
    "a = sorted(foo, key=lambda x: x['age'])\n",
    "b = sorted(foo, key=lambda x: x['name'])\n",
    "print(a)\n",
    "print(b)"
   ]
  },
  {
   "cell_type": "markdown",
   "metadata": {},
   "source": [
    "75. 列表嵌套元组，分别按字母和数字排序。"
   ]
  },
  {
   "cell_type": "code",
   "execution_count": 107,
   "metadata": {},
   "outputs": [
    {
     "name": "stdout",
     "output_type": "stream",
     "text": [
      "[('df', 23), ('ll', 54), ('wa', 17), ('zs', 19)]\n",
      "[('wa', 17), ('zs', 19), ('df', 23), ('ll', 54)]\n"
     ]
    }
   ],
   "source": [
    "foo = [('zs', 19), ('ll', 54), ('wa', 17), ('df', 23)]\n",
    "a = sorted(foo, key=lambda x: x[0])\n",
    "b = sorted(foo, key=lambda x: x[1])\n",
    "print(a)\n",
    "print(b)"
   ]
  },
  {
   "cell_type": "markdown",
   "metadata": {},
   "source": [
    "76. 列表嵌套列表排序，年龄数字相同怎么办？"
   ]
  },
  {
   "cell_type": "code",
   "execution_count": 109,
   "metadata": {},
   "outputs": [
    {
     "name": "stdout",
     "output_type": "stream",
     "text": [
      "[['zs', 19], ['df', 23], ['wa', 23], ['xf', 23], ['ll', 54]]\n"
     ]
    }
   ],
   "source": [
    "foo = [['zs', 19], ['ll', 54], ['wa', 23], ['df', 23], ['xf', 23]]\n",
    "a = sorted(foo, key=lambda x: (x[1], x[0]))\n",
    "print(a)"
   ]
  },
  {
   "cell_type": "markdown",
   "metadata": {},
   "source": [
    "77. 根据键对字典排序（方法一，zip函数）"
   ]
  },
  {
   "cell_type": "code",
   "execution_count": 144,
   "metadata": {},
   "outputs": [
    {
     "name": "stdout",
     "output_type": "stream",
     "text": [
      "[('name', 'zs'), ('sex', 'man'), ('city', 'bj')]\n",
      "[('city', 'bj'), ('name', 'zs'), ('sex', 'man')]\n",
      "{'city': 'bj', 'name': 'zs', 'sex': 'man'}\n"
     ]
    }
   ],
   "source": [
    "d = {'name': 'zs', 'sex': 'man', 'city': 'bj'}\n",
    "foo = zip(d.keys(), d.values())\n",
    "foo = list(foo)\n",
    "print(foo)\n",
    "b = sorted(foo, key=lambda x: x[0])\n",
    "print(b)\n",
    "new_d = {i[0]: i[1] for i in b}\n",
    "print(new_d)"
   ]
  },
  {
   "cell_type": "markdown",
   "metadata": {},
   "source": [
    "78. 根据键对字典排序（方法二，不用zip）"
   ]
  },
  {
   "cell_type": "code",
   "execution_count": 145,
   "metadata": {},
   "outputs": [
    {
     "name": "stdout",
     "output_type": "stream",
     "text": [
      "[('city', 'bj'), ('name', 'zs'), ('sex', 'man')]\n",
      "{'city': 'bj', 'name': 'zs', 'sex': 'man'}\n"
     ]
    }
   ],
   "source": [
    "d = {'name': 'zs', 'sex': 'man', 'city': 'bj'}\n",
    "b = sorted(d.items(), key=lambda x: x[0])\n",
    "print(b)\n",
    "new_d = {i[0]: i[1] for i in b}\n",
    "print(new_d)"
   ]
  },
  {
   "cell_type": "markdown",
   "metadata": {},
   "source": [
    "79. 列表推导式、字典推导式、生成器"
   ]
  },
  {
   "cell_type": "code",
   "execution_count": 148,
   "metadata": {},
   "outputs": [
    {
     "name": "stdout",
     "output_type": "stream",
     "text": [
      "[0, 1, 2, 3, 4, 5, 6, 7, 8, 9]\n",
      "<generator object <genexpr> at 0x000001C88D6F1E58>\n",
      "{'a': 7, 'b': 5, 'c': 9, 'd': 4}\n"
     ]
    }
   ],
   "source": [
    "import random\n",
    "\n",
    "td_list = [i for i in range(10)]\n",
    "print(td_list)\n",
    "ge_list = (i for i in range(10))\n",
    "print(ge_list)\n",
    "dic = {k: random.randint(4, 9) for k in ['a', 'b', 'c', 'd']}\n",
    "print(dic)"
   ]
  },
  {
   "cell_type": "markdown",
   "metadata": {},
   "source": [
    "80. 根据字符串长度排序。"
   ]
  },
  {
   "cell_type": "code",
   "execution_count": 150,
   "metadata": {},
   "outputs": [
    {
     "name": "stdout",
     "output_type": "stream",
     "text": [
      "['a', 'ab', 'abc', 'djkj']\n",
      "['a', 'ab', 'abc', 'djkj']\n"
     ]
    }
   ],
   "source": [
    "s = ['ab', 'abc', 'a', 'djkj']\n",
    "b = sorted(s, key=lambda x: len(x))\n",
    "print(b)\n",
    "s.sort(key=len)\n",
    "print(s)"
   ]
  },
  {
   "cell_type": "markdown",
   "metadata": {},
   "source": [
    "81. 举例说明SQL注入和解决办法\n",
    " - 当以字符串格式化书写方式的时候，如果用户输入的有;+SQL语句，后面的SQL语句会执行，比如例子中的SQL注入会删除数据库demo\n",
    " - 通过传参数方式解决SQL注入"
   ]
  },
  {
   "cell_type": "code",
   "execution_count": 152,
   "metadata": {},
   "outputs": [
    {
     "name": "stdout",
     "output_type": "stream",
     "text": [
      "正常SQL语句 select * from demo where name=\"zs\"\n",
      "SQL注入的语句 select * from demo where name=\"zs;drop database demo\"\n"
     ]
    }
   ],
   "source": [
    "# SQL注入\n",
    "input_name = 'zs'\n",
    "sql = 'select * from demo where name=\"%s\"' % input_name\n",
    "print('正常SQL语句', sql)\n",
    "\n",
    "input_name = 'zs;drop database demo'\n",
    "sql = 'select * from demo where name=\"%s\"' % input_name\n",
    "print('SQL注入的语句', sql)\n",
    "\n",
    "params = [input_name]\n",
    "count = cs1.execute('select * from goods where name=%s', params)"
   ]
  },
  {
   "cell_type": "markdown",
   "metadata": {},
   "source": [
    "82. s = 'info:xiaoZhang 33 shandong'，使用正则切分字符串输出['info', 'xiaoZhang', '33', 'shandong']"
   ]
  },
  {
   "cell_type": "code",
   "execution_count": 161,
   "metadata": {},
   "outputs": [
    {
     "name": "stdout",
     "output_type": "stream",
     "text": [
      "['info', 'xiaoZhang', '33', 'shandong']\n"
     ]
    }
   ],
   "source": [
    "import re\n",
    "s = 'info:xiaoZhang 33 shandong'\n",
    "print(re.split(r':| ', s))"
   ]
  },
  {
   "cell_type": "markdown",
   "metadata": {},
   "source": [
    "83. 正则匹配以163.com结尾的邮箱"
   ]
  },
  {
   "cell_type": "code",
   "execution_count": 175,
   "metadata": {},
   "outputs": [
    {
     "name": "stdout",
     "output_type": "stream",
     "text": [
      "xiaoWang@163.com xiaoWang@163.com\n"
     ]
    }
   ],
   "source": [
    "email_list = ['xiaoWang@163.com', 'xiaoWang@163.comheihei', '.com.xiaowang@qq.com']\n",
    "for e in email_list:\n",
    "    ret = re.match(r'.*?@163\\.com$', e)\n",
    "    if ret:\n",
    "        print(e, ret.group())"
   ]
  },
  {
   "cell_type": "markdown",
   "metadata": {},
   "source": [
    "84. 递归求和（1+2+3+....+10的和）"
   ]
  },
  {
   "cell_type": "code",
   "execution_count": 189,
   "metadata": {},
   "outputs": [
    {
     "name": "stdout",
     "output_type": "stream",
     "text": [
      "55\n"
     ]
    }
   ],
   "source": [
    "def get_sum(num):\n",
    "    if num == 1:\n",
    "        return 1\n",
    "    else:\n",
    "        return num + get_sum(num-1)\n",
    "\n",
    "print(get_sum(10))"
   ]
  },
  {
   "cell_type": "markdown",
   "metadata": {},
   "source": [
    "85. python字典和json字符串相互转化方法\n",
    " - json.dumps()字典转json字符串，json.loads()json转字典"
   ]
  },
  {
   "cell_type": "code",
   "execution_count": 190,
   "metadata": {},
   "outputs": [
    {
     "name": "stdout",
     "output_type": "stream",
     "text": [
      "{\"name\": \"zs\"} <class 'str'>\n",
      "{'name': 'zs'} <class 'dict'>\n"
     ]
    }
   ],
   "source": [
    "import json\n",
    "\n",
    "dic = {'name': 'zs'}\n",
    "res = json.dumps(dic)\n",
    "print(res, type(res))\n",
    "ret = json.loads(res)\n",
    "print(ret, type(ret))"
   ]
  },
  {
   "cell_type": "markdown",
   "metadata": {},
   "source": [
    "86. MyISAM与InnoDB区别\n",
    " 1. InnoDB支持事务，MyISAM不支持，这一点是非常之重要。事务是一种高级的处理方式，如在一些列增删改查中只要哪个出错还可以回滚还原，而MyISAM就不可以。\n",
    " 2. MyISAM适合查询以及插入为主的应用，InnoDB适合频繁修改以及涉及到安全性较高的应用。\n",
    " 3. InnoDB支持外键，MyISAM不支持。\n",
    " 4. 对于自增长的字段，InnoDB中必须包含只有该字段的索引，但是在MyISAM表中可以和其他字段一起建立联合索引。\n",
    " 5. 清空整个表时，InnoDB是一行一行的删除，效率非常慢。MyISAM则会重建表。"
   ]
  },
  {
   "cell_type": "markdown",
   "metadata": {},
   "source": [
    "87. 统计字符串中某字符出现的次数。"
   ]
  },
  {
   "cell_type": "code",
   "execution_count": 191,
   "metadata": {},
   "outputs": [
    {
     "name": "stdout",
     "output_type": "stream",
     "text": [
      "2\n"
     ]
    }
   ],
   "source": [
    "s = '张三 中国 中国 张三 哈哈 张 三'\n",
    "print(s.count('张三'))"
   ]
  },
  {
   "cell_type": "markdown",
   "metadata": {},
   "source": [
    "88. 字符串转换大小写。\n",
    " - upper(): 转换成大写。\n",
    " - lower(): 转换成小写。\n",
    " - capitalize(): 首字母大写。\n",
    " - title(): 单词首字母大写。"
   ]
  },
  {
   "cell_type": "markdown",
   "metadata": {},
   "source": [
    "89. 用两种方法去空格。"
   ]
  },
  {
   "cell_type": "code",
   "execution_count": 195,
   "metadata": {},
   "outputs": [
    {
     "name": "stdout",
     "output_type": "stream",
     "text": [
      "helloworldhaha\n",
      "helloworldhaha\n"
     ]
    }
   ],
   "source": [
    "s = 'hello   world ha ha'\n",
    "print(s.replace(' ', ''))\n",
    "l1 = s.split(' ')\n",
    "print(''.join(l1))"
   ]
  },
  {
   "cell_type": "markdown",
   "metadata": {},
   "source": [
    "90. 正则匹配不是以4和7结尾的手机号。"
   ]
  },
  {
   "cell_type": "code",
   "execution_count": 198,
   "metadata": {},
   "outputs": [
    {
     "name": "stdout",
     "output_type": "stream",
     "text": [
      "<re.Match object; span=(0, 11), match='13100001234'> 13100001234\n",
      "<re.Match object; span=(0, 11), match='18800007777'> 18800007777\n"
     ]
    }
   ],
   "source": [
    "tels = ['13100001234', '18912344321', '10086', '18800007777']\n",
    "for i in tels:\n",
    "    ret = re.match(r'1\\d{9}(4|7)', i)\n",
    "    if ret:\n",
    "        print(ret,ret.group())"
   ]
  },
  {
   "cell_type": "code",
   "execution_count": null,
   "metadata": {},
   "outputs": [],
   "source": []
  }
 ],
 "metadata": {
  "kernelspec": {
   "display_name": "Python 3",
   "language": "python",
   "name": "python3"
  },
  "language_info": {
   "codemirror_mode": {
    "name": "ipython",
    "version": 3
   },
   "file_extension": ".py",
   "mimetype": "text/x-python",
   "name": "python",
   "nbconvert_exporter": "python",
   "pygments_lexer": "ipython3",
   "version": "3.7.3"
  }
 },
 "nbformat": 4,
 "nbformat_minor": 2
}
