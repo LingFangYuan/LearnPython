{
 "cells": [
  {
   "cell_type": "markdown",
   "metadata": {},
   "source": [
    "110道Python面试题91-110\n",
    "原文链接: http://bbs.itheima.com/thread-415032-1-1.html\n",
    "91. 简述python引用计数机制\n",
    " - python垃圾回收主要以引用计数为主，标记-清除和分代回收为辅的机制，其中标记清除和分代回收主要是为了处理循环引用的难题。\n",
    " - 引用计数算法：当有1个变量保存了对象的引用时，此对象的引用计数就会加1。当使用del删除变量指向的对象时，如果对象的引用计数不为1，比如3，那么此时只会让这个引用计数减1，即变为2，当再次调用del时,变为1，如果再调用1次del，此时会真的把对象进行删除。"
   ]
  },
  {
   "cell_type": "code",
   "execution_count": 3,
   "metadata": {},
   "outputs": [
    {
     "name": "stdout",
     "output_type": "stream",
     "text": [
      "__init__方法被调用\n",
      "2005407554528 2005407554528 2005407554528\n",
      "---马上 删除cat对象\n",
      "---马上 删除cat2对象\n",
      "---马上 删除cat3对象\n",
      "__del__方法被调用\n",
      "橘猫对象马上被干掉了...\n"
     ]
    }
   ],
   "source": [
    "class Animal(object):\n",
    "    # 创建完对象后会自动被调用\n",
    "    def __init__(self, name):\n",
    "        print('__init__方法被调用')\n",
    "        self.__name = name\n",
    "    \n",
    "    # 当对象被删除时，会自动被调用\n",
    "    def __del__(self):\n",
    "        print('__del__方法被调用')\n",
    "        print('%s对象马上被干掉了...' % self.__name)\n",
    "    \n",
    "cat = Animal('橘猫')\n",
    "cat2 = cat\n",
    "cat3 = cat\n",
    "print(id(cat), id(cat2), id(cat3))\n",
    "print('---马上 删除cat对象')\n",
    "del cat\n",
    "print('---马上 删除cat2对象')\n",
    "del cat2\n",
    "print('---马上 删除cat3对象')\n",
    "del cat3    "
   ]
  },
  {
   "cell_type": "markdown",
   "metadata": {},
   "source": [
    "92. int('1.4'),int(1.4)输出结果\n",
    " - int('1.4'): 报错\n",
    " - int(1.4): 1"
   ]
  },
  {
   "cell_type": "code",
   "execution_count": 6,
   "metadata": {},
   "outputs": [
    {
     "name": "stdout",
     "output_type": "stream",
     "text": [
      "1\n"
     ]
    },
    {
     "ename": "ValueError",
     "evalue": "invalid literal for int() with base 10: '1.4'",
     "output_type": "error",
     "traceback": [
      "\u001b[1;31m---------------------------------------------------------------------------\u001b[0m",
      "\u001b[1;31mValueError\u001b[0m                                Traceback (most recent call last)",
      "\u001b[1;32m<ipython-input-6-a2bf06476eb0>\u001b[0m in \u001b[0;36m<module>\u001b[1;34m\u001b[0m\n\u001b[0;32m      1\u001b[0m \u001b[0mprint\u001b[0m\u001b[1;33m(\u001b[0m\u001b[0mint\u001b[0m\u001b[1;33m(\u001b[0m\u001b[1;36m1.4\u001b[0m\u001b[1;33m)\u001b[0m\u001b[1;33m)\u001b[0m\u001b[1;33m\u001b[0m\u001b[1;33m\u001b[0m\u001b[0m\n\u001b[1;32m----> 2\u001b[1;33m \u001b[0mprint\u001b[0m\u001b[1;33m(\u001b[0m\u001b[0mint\u001b[0m\u001b[1;33m(\u001b[0m\u001b[1;34m'1.4'\u001b[0m\u001b[1;33m)\u001b[0m\u001b[1;33m)\u001b[0m\u001b[1;33m\u001b[0m\u001b[1;33m\u001b[0m\u001b[0m\n\u001b[0m",
      "\u001b[1;31mValueError\u001b[0m: invalid literal for int() with base 10: '1.4'"
     ]
    }
   ],
   "source": [
    "print(int(1.4))\n",
    "print(int('1.4'))"
   ]
  },
  {
   "cell_type": "markdown",
   "metadata": {},
   "source": [
    "93. 列举3条以上PEP8编码规范\n",
    " 1. 顶级定义之间空两行，比如函数或者类定义。\n",
    " 2. 方法定义、类定义与第一个方法之间，都应该空一行。\n",
    " 3. 三引号进行注释。\n",
    " 4. 使用pycharm、eclipse一般使用4个空格来缩进代码。"
   ]
  },
  {
   "cell_type": "markdown",
   "metadata": {},
   "source": [
    "94. 正则表达式匹配第一个URL。\n",
    " - findall结果无限加group(),search()需要加group()提取。"
   ]
  },
  {
   "cell_type": "markdown",
   "metadata": {},
   "source": [
    "95. 正则匹配中文。\n",
    " - 基本汉字的的UNICODE编码：4e00-9fa5"
   ]
  },
  {
   "cell_type": "code",
   "execution_count": 2,
   "metadata": {},
   "outputs": [
    {
     "name": "stdout",
     "output_type": "stream",
     "text": [
      "['你好', '世界']\n"
     ]
    }
   ],
   "source": [
    "import re\n",
    "\n",
    "s = '你好，hello，世界！'\n",
    "p = re.compile(r'[\\u4e00-\\u9fa5]+')\n",
    "r = p.findall(s)\n",
    "print(r)"
   ]
  },
  {
   "cell_type": "markdown",
   "metadata": {},
   "source": [
    "96. 简述乐观锁和悲观锁\n",
    "\n",
    " **悲观锁**：就是很悲观，每次取拿数据的时候都认为别人会修改，所有每次在拿数据的时候都会上锁，这样别人想拿这个数据就会block知道它拿到锁。传统的关系型数据库里边就用到了很多这种锁机制，比如行锁，表锁等，读锁，写锁，都是在做操作之前先上锁。\n",
    " \n",
    " **乐观锁**: 就是很乐观，每次取拿数据的时候都认为别人不会修改，所以不会上锁，但是在更新的时候回判断一下在此期间别人有没有去更新这个数据，可以使用版本号等机制，乐观锁适用于多读的应用类型，这样可以提高吞吐量。"
   ]
  },
  {
   "cell_type": "markdown",
   "metadata": {},
   "source": [
    "97. r、r+、rb、rb+文件打开模式区别\n",
    "\n",
    "模式|说明\n",
    "-|-:\n",
    "r|已只读方式打开文件，文件的指针将会放在文件的开头，这是默认模式。\n",
    "w|打开一个文件只用于写入，如果该文件已存在则将其覆盖，如果该文件不存在，创建新文件。\n",
    "a|打开一个文件用于追加，如果该文件已存在，文件指针将会放在文件的结尾，也就是说，新的内容将会被写入到已有内容之后，如果该文件不存在，创建新文件进行写入。\n",
    "rb|以二进制格式打开一个文件用于只读，文件指针将会放在文件的开头。\n",
    "wb|以二进制格式打开一个文件只用于写入，如果该文件已存在则将其覆盖，如果该文件不存在，创建新文件。\n",
    "rb|以二进制格式打开一个文件用于追加，如果该文件已存在，文件指针将会放在文件的结尾，也就是说，新的内容将会被写入到已有内容之后，如果该文件不存在，创建新文件进行写入。\n",
    "r+|打开一个文件用于读写，文件指针将会放在文件的开头。\n",
    "w+|打开一个文件用于读写，如果该文件已存在则将其覆盖，如果该文件不在存在，创建新文件。\n",
    "a+|打开一个文件用于读写，如果该文件已存在，文件指针将会放在文件的结尾，文件打开时回是追加模式，如果文件不存在，创建新文件用于读写。\n",
    "rb+|以二进制格式打开一个文件用于读写，文件指针将会放在文件的开头。\n",
    "wb+|以二进制格式打开一个文件用于读写，如果该文件已存在则将其覆盖，如果该文件不存在，创建新文件。\n",
    "ab+|以二进制格式打开一个文件用于追加，如果该文件已存在，文件指针将会放在文件的结尾，如果该文件不存在，创建新文件用于读写。"
   ]
  },
  {
   "cell_type": "markdown",
   "metadata": {},
   "source": [
    "98. Linux命令重定向>和>>\n",
    " - Linux 允许将命令执行结果重定向到一个文件，将本应显示在终端上的内容输出或追加到指定文件中。\n",
    " - \\>: 表示输出，将输出从标准输出重定向到指定位置，指定位置为文件时回覆盖已存在文件。\n",
    " - \\>\\>: 表示追加，将输出从标准输出重定向到指定位置，指定位置为文件时追加到已存在文件的结尾。"
   ]
  },
  {
   "cell_type": "markdown",
   "metadata": {},
   "source": [
    "99. 正则表达式匹配出：\\< html\\>\\< h1\\>www.itcast.cn< /h1\\>\\< /html\\>"
   ]
  },
  {
   "cell_type": "code",
   "execution_count": 25,
   "metadata": {},
   "outputs": [
    {
     "name": "stdout",
     "output_type": "stream",
     "text": [
      "<html><h1>www.itcast.cn</h1></html> 是符合要求的标签\n",
      "<html><h1>www.itcast.cn</h2></html> 不符合要求\n"
     ]
    }
   ],
   "source": [
    "labels = ['<html><h1>www.itcast.cn</h1></html>', '<html><h1>www.itcast.cn</h2></html>']\n",
    "p = re.compile(r'<(\\w+)><(\\w+)>.*</\\2></\\1>')\n",
    "for i in labels:\n",
    "    ret = p.match(i)\n",
    "    if ret:\n",
    "        print('%s 是符合要求的标签' % ret.group())\n",
    "    else:\n",
    "        print('%s 不符合要求' % i)"
   ]
  },
  {
   "cell_type": "markdown",
   "metadata": {},
   "source": [
    "100. python传参数是传值还是传址？\n",
    " - python中函数参数是引用传递。对应不可变类型（数值型、字符串、元组），因变量不能修改，所有运算不会影响到变量自身；而对应可变类型（列表、字典）来说，函数体运算可能会更改传入的参数变量。"
   ]
  },
  {
   "cell_type": "code",
   "execution_count": 28,
   "metadata": {},
   "outputs": [
    {
     "name": "stdout",
     "output_type": "stream",
     "text": [
      "1\n",
      "1\n",
      "[1, 2]\n",
      "[1, 2, 1, 2]\n"
     ]
    }
   ],
   "source": [
    "def myAdd(a):\n",
    "    # a = a + 2，生成一个新的对象，新对象名字还是a,但是指向的内存地址已经变了。\n",
    "    # a += 2，对于不变对象，生成一个新对象，对于可变对象，都是在原对象上操作。\n",
    "    a += a\n",
    "\n",
    "a_int = 1\n",
    "print(a_int)\n",
    "myAdd(a_int)\n",
    "print(a_int)\n",
    "\n",
    "a_list = [1, 2]\n",
    "print(a_list)\n",
    "myAdd(a_list)\n",
    "print(a_list)\n"
   ]
  },
  {
   "cell_type": "markdown",
   "metadata": {},
   "source": [
    "101. 求两个列表的交集、差集、并集"
   ]
  },
  {
   "cell_type": "code",
   "execution_count": 36,
   "metadata": {},
   "outputs": [
    {
     "name": "stdout",
     "output_type": "stream",
     "text": [
      "[3]\n",
      "[1, 2, 3, 4, 5]\n",
      "[1, 2]\n"
     ]
    }
   ],
   "source": [
    "a = [1, 2, 3]\n",
    "b = [3, 4, 5]\n",
    "print(list(set(a).intersection(set(b)))) # 交集\n",
    "print(list(set(a).union(set(b)))) # 并集\n",
    "print(list(set(a).difference(set(b)))) # 差集"
   ]
  },
  {
   "cell_type": "markdown",
   "metadata": {},
   "source": [
    "102. 生成0-100的随机数。"
   ]
  },
  {
   "cell_type": "code",
   "execution_count": 92,
   "metadata": {},
   "outputs": [
    {
     "name": "stdout",
     "output_type": "stream",
     "text": [
      "31.692169682851812\n",
      "25\n",
      "56\n"
     ]
    }
   ],
   "source": [
    "import random\n",
    "\n",
    "print(random.random()*100)\n",
    "print(random.choice(range(0,101)))\n",
    "print(random.randint(1, 100))"
   ]
  },
  {
   "cell_type": "markdown",
   "metadata": {},
   "source": [
    "103. lambda匿名函数好处。\n",
    " - 精简代码，lambda省去了定义函数，map省去了写for循环过程。"
   ]
  },
  {
   "cell_type": "markdown",
   "metadata": {},
   "source": [
    "104. 常见的网络传输协议。\n",
    " - UDP、TCP、FTP、HTTP、SMTP"
   ]
  },
  {
   "cell_type": "markdown",
   "metadata": {},
   "source": [
    "105. 单引号、双引号、三引号用法。\n",
    " 1. 单引号和双引号没有什么区别，不过单引号不用按shift，打字稍微快一点。表示字符串的时候，单引号里面可以有双引号，而不用转义字符，反之亦然。\n",
    " 2. 但是如果直接用单引号扩住引号，则需要转义。\n",
    " 3. 三引号可以直接书写多行，通常用于大段，大篇幅的字符串。"
   ]
  },
  {
   "cell_type": "markdown",
   "metadata": {},
   "source": [
    "106. python垃圾回收机制\n",
    " - 主要以引用计数为主。\n",
    " - 当有一个变量保存了对象的引用时，此对象的引用计数就会加1。\n",
    " - 当使用del删除变量指向的对象时，引用计数减1，引用计数为0时删除对象。"
   ]
  },
  {
   "cell_type": "markdown",
   "metadata": {},
   "source": [
    "107. HTTP请求中get和post区别\n",
    " 1. GET请求是通过URL直接请求数据，数据信息可以在URL中直接看到，比如浏览器访问；而POST请求是放在请求头中的，我们是无法直接看到的。\n",
    " 2. GET提交有数据大小的限制，一般是不超过1024个字节，而这种说法也不完全准确，HTTP协议并没有设定URL字节长度的上限，而是浏览器做了写处理，所以长度依据浏览器的不同而有所不同；POST请求在HTTP协议中也没有做说明，一般来说是没有设置现在的，但是实际上浏览器也有默认值。总体来说，少量的数据使用GET，大量的数据使用POST。\n",
    " 3. GET请求因为数据参数是暴露在URL中的，所有安全性比较低，比如密码是不能暴露的，就不能使用GET请求；POST请求中，请求参数信息是放在请求头的，所以安全性较高，可以使用。在实际中，涉及到登录操作的时候，尽量使用HTTPS请求，安全性更好。"
   ]
  },
  {
   "cell_type": "markdown",
   "metadata": {},
   "source": [
    "108. python中读取excel文件的方法。\n",
    " - 应用数据分析库pandas\n",
    " - pandas.read_excel()"
   ]
  },
  {
   "cell_type": "markdown",
   "metadata": {},
   "source": [
    "109. 简述多线程、多进程\n",
    " \n",
    " **进程**: \n",
    "   1. 操作系统进行资源分配和调度的基本单位，多个进程之间相互独立。\n",
    "   2. 稳定性好，如果一个进程崩溃，不影响其他进程，但是进程消耗资源大，开启的进程数量有限制。\n",
    " \n",
    " **线程**:\n",
    "   1. CPU进行资源分配和调度的基本单位，线程是进程的一部分，是比进程更小的能独立运行的基本单位，一个进程下的多个线程可以共享该进程的所有资源。\n",
    "   2. 如果IO操作密集，则可以多线程运行效率高，确定是如果一个线程崩溃，都会造成进程的崩溃。\n",
    " \n",
    " **应用**:\n",
    "   1. IO密集的用多线程，在用户输入，sleep时候，可以切换到其他线程执行，减少等待的时间。\n",
    "   2. CPU密集的用多进程，因为假如IO操作少，用多线程的话，因为线程共享一个GIL，当前运行的线程会霸占GIL，其他线程没有GIL，就不能充分利用多核CPU的优势。"
   ]
  },
  {
   "cell_type": "markdown",
   "metadata": {},
   "source": [
    "110. python正则中search和match\n",
    " - search: 在字符串中匹配。\n",
    " - match: 从字符串开头匹配。"
   ]
  }
 ],
 "metadata": {
  "kernelspec": {
   "display_name": "Python 3",
   "language": "python",
   "name": "python3"
  },
  "language_info": {
   "codemirror_mode": {
    "name": "ipython",
    "version": 3
   },
   "file_extension": ".py",
   "mimetype": "text/x-python",
   "name": "python",
   "nbconvert_exporter": "python",
   "pygments_lexer": "ipython3",
   "version": "3.7.3"
  }
 },
 "nbformat": 4,
 "nbformat_minor": 2
}
