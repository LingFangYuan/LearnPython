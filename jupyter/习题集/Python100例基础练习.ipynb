{
 "cells": [
  {
   "cell_type": "markdown",
   "metadata": {},
   "source": [
    "## 【郑州校区】Python100例基础练习\n",
    "源链接：http://bbs.itheima.com/thread-385296-1-1.html\n",
    "1. 有四个数字：1、2、3、4能组成多少个互不相同且无重复的数字的三位数？各是多少？\n",
    " 1. 去重。\n",
    " 2. 计算总数。"
   ]
  },
  {
   "cell_type": "code",
   "execution_count": 3,
   "metadata": {},
   "outputs": [
    {
     "name": "stdout",
     "output_type": "stream",
     "text": [
      "24 [123, 124, 132, 134, 142, 143, 213, 214, 231, 234, 241, 243, 312, 314, 321, 324, 341, 342, 412, 413, 421, 423, 431, 432]\n"
     ]
    }
   ],
   "source": [
    "# 方法一：\n",
    "nums = [1, 2, 3, 4]\n",
    "ret = []\n",
    "for i in nums:\n",
    "    for j in nums:\n",
    "        for k in nums:\n",
    "            if i != j and i != k and j != k:\n",
    "                ret.append(i * 100 + j * 10 + k)\n",
    "                \n",
    "print(len(ret), ret)"
   ]
  },
  {
   "cell_type": "code",
   "execution_count": 4,
   "metadata": {},
   "outputs": [
    {
     "name": "stdout",
     "output_type": "stream",
     "text": [
      "24 [123, 124, 132, 134, 142, 143, 213, 214, 231, 234, 241, 243, 312, 314, 321, 324, 341, 342, 412, 413, 421, 423, 431, 432]\n"
     ]
    }
   ],
   "source": [
    "# 方法二：\n",
    "ret = [ x*100 + y*10 + z for x in nums for y in nums for z in nums if x!=y and x!=z and y!=z]\n",
    "print(len(ret), ret)"
   ]
  },
  {
   "cell_type": "markdown",
   "metadata": {},
   "source": [
    "2. 题目：企业发放的奖金根据利润提成。  \n",
    "利润(I)低于或等于10万元时，奖金可提10%；  \n",
    "利润高于10万元，低于20万元时，低于10万元的部分按10%提成，高于10万元的部分，可提成7.5%；  \n",
    "20万到40万之间时，高于20万元的部分，可提成5%；  \n",
    "40万到60万之间时，高于40万元的部分，可提成3%；  \n",
    "60万到100万之间时，高于60万元的部分，可提成1.5%；  \n",
    "高于100万元时，超过100万元的部分按1%提成。  \n",
    "从键盘输入当月利润I，求应发放奖金总数？"
   ]
  },
  {
   "cell_type": "code",
   "execution_count": 7,
   "metadata": {},
   "outputs": [
    {
     "name": "stdout",
     "output_type": "stream",
     "text": [
      "输入当月利润:545555\n",
      "应发放奖金总数为: 31866.7\n"
     ]
    }
   ],
   "source": [
    "# 方法一：\n",
    "def fun1(n1):\n",
    "    if n1 <= 100000:\n",
    "        return n1 * 0.1\n",
    "    elif n1 <= 200000:\n",
    "        temp = n1 - 100000\n",
    "        return temp * 0.075 + fun1(100000)\n",
    "    elif n1 <= 400000:\n",
    "        temp = n1 - 200000\n",
    "        return temp * 0.05 + fun1(200000)\n",
    "    elif n1 <= 600000:\n",
    "        temp = n1 - 400000\n",
    "        return temp * 0.03 + fun1(400000)\n",
    "    elif n1 <= 1000000:\n",
    "        temp = n1 - 600000\n",
    "        return temp * 0.015 + fun1(600000)\n",
    "    else:\n",
    "        temp = n1 - 1000000\n",
    "        return temp * 0.01 + fun1(1000000)\n",
    "\n",
    "\n",
    "n = int(input('输入当月利润:'))\n",
    "ll = round(fun1(n), 1)\n",
    "print('应发放奖金总数为:', ll)"
   ]
  },
  {
   "cell_type": "code",
   "execution_count": 6,
   "metadata": {},
   "outputs": [
    {
     "name": "stdout",
     "output_type": "stream",
     "text": [
      "净润:545555\n",
      "4366.65\n",
      "10000.0\n",
      "7500.0\n",
      "10000.0\n",
      "奖金: 31866.65\n"
     ]
    }
   ],
   "source": [
    "# 方法二：列表\n",
    "i = int(input('净润:'))\n",
    "bonus = [1000000, 600000, 400000, 200000, 100000, 0] # 利润\n",
    "bonusList = [0.01, 0.015, 0.03, 0.05, 0.075, 0.1] # 利润对应的利率\n",
    "count = 0 # 计数器\n",
    "for idem in range(len(bonus)):\n",
    "    if i > bonus[idem]: # 大于奖励金额\n",
    "        count += (i - bonus[idem]) * bonusList[idem] # 计算 count+本金*提成\n",
    "        print((i - bonus[idem]) * bonusList[idem])\n",
    "        i = bonus[idem]\n",
    "print('奖金:', count)"
   ]
  },
  {
   "cell_type": "code",
   "execution_count": 2,
   "metadata": {},
   "outputs": [
    {
     "name": "stdout",
     "output_type": "stream",
     "text": [
      "净利润:545555\n",
      "31866.65\n"
     ]
    }
   ],
   "source": [
    "# 方法二：嵌套列表\n",
    "profit = int(input('净利润:'))\n",
    "count = 0\n",
    "bonusList = [[100, 0.01], [60, 0.15], [40, 0.03], [20, 0.05], [10, 0.075], [0, 0.1]]\n",
    "profit /= 10000\n",
    "for bonus in bonusList:\n",
    "    if profit > bonus[0]:\n",
    "        count += (profit - bonus[0]) * bonus[1]\n",
    "        profit = bonus[0]\n",
    "        # print(profit)\n",
    "print(count * 10000)"
   ]
  },
  {
   "cell_type": "markdown",
   "metadata": {},
   "source": [
    "3. 一个整数，它加上100后是一个完全平方数，再加上168又是一个完全平方数，请问该数是多少？"
   ]
  },
  {
   "cell_type": "code",
   "execution_count": 78,
   "metadata": {},
   "outputs": [
    {
     "name": "stdout",
     "output_type": "stream",
     "text": [
      "21\n",
      "261\n"
     ]
    }
   ],
   "source": [
    "# my\n",
    "import itertools\n",
    "\n",
    "def integer():\n",
    "    i = 0\n",
    "    while True:\n",
    "        i += 1\n",
    "        yield i\n",
    "\n",
    "def fun2():\n",
    "    it = itertools.takewhile(lambda x: x<1000, integer())\n",
    "    for i in it:\n",
    "        i1 = i + 100\n",
    "        i2 = i1 + 168\n",
    "        for j in range(1, i1):\n",
    "            if j**2  == i1:\n",
    "                break\n",
    "        else:\n",
    "            continue\n",
    "        for k in range(1, i2):\n",
    "            if k**2 == i2:\n",
    "                break\n",
    "        else:\n",
    "            continue\n",
    "        print(i)\n",
    "    \n",
    "fun2()"
   ]
  },
  {
   "cell_type": "code",
   "execution_count": 55,
   "metadata": {},
   "outputs": [
    {
     "name": "stdout",
     "output_type": "stream",
     "text": [
      "13 1 -99\n",
      "17 11 21\n",
      "23 19 261\n",
      "43 41 1581\n"
     ]
    }
   ],
   "source": [
    "# 方法一：\n",
    "# 思路：\n",
    "# 1. 设n+100=x^2,n+100+168=y^2\n",
    "# 2. 所n=x^2-100(求n)\n",
    "# 3. 故x^2-y^2=(x+y)(x-y)=168\n",
    "for x in range(168):\n",
    "    for y in range(x):\n",
    "        if x**2 - y**2 == 168:\n",
    "            n = y**2 -100\n",
    "            print(x, y, n)"
   ]
  },
  {
   "cell_type": "code",
   "execution_count": 90,
   "metadata": {},
   "outputs": [
    {
     "name": "stdout",
     "output_type": "stream",
     "text": [
      "{261, 1581, 21, -99}\n"
     ]
    }
   ],
   "source": [
    "# 方法二：交集\n",
    "# 思路：根据公式球x和y的，然后交集操作得结果\n",
    "x = map(lambda n: n**2 - 100, range(1, 100))\n",
    "y = map(lambda n: n**2 - 100 - 168, range(1, 100))\n",
    "print(set(x)&(set(y)))"
   ]
  },
  {
   "cell_type": "markdown",
   "metadata": {},
   "source": [
    "4. 输入某年某月某日，判断这一天是这一年的第几天？"
   ]
  },
  {
   "cell_type": "code",
   "execution_count": 114,
   "metadata": {},
   "outputs": [
    {
     "name": "stdout",
     "output_type": "stream",
     "text": [
      "输入年:2019\n",
      "输入月:06\n",
      "输入日:12\n",
      "这一天是这一年的第: 163 天\n"
     ]
    }
   ],
   "source": [
    "# my\n",
    "import time\n",
    "\n",
    "year = input('输入年:')\n",
    "month = input('输入月:')\n",
    "day = input('输入日:')\n",
    "date = year + month + day\n",
    "t = time.strptime(date, '%Y%m%d')\n",
    "print('这一天是这一年的第: %s 天' % t.tm_yday)\n",
    "# print(time.strftime('%Y', t))"
   ]
  },
  {
   "cell_type": "code",
   "execution_count": 115,
   "metadata": {},
   "outputs": [
    {
     "name": "stdout",
     "output_type": "stream",
     "text": [
      "输入年:2019\n",
      "输入月:6\n",
      "输入日:12\n",
      "163\n"
     ]
    }
   ],
   "source": [
    "# 方法一：calendar日历模块\n",
    "import calendar\n",
    "year = int(input('输入年:'))\n",
    "month = int(input('输入月:'))\n",
    "day = int(input('输入日:'))\n",
    "days = 0\n",
    "if 0 < month <= 12:\n",
    "    month_day = calendar.monthrange(year, month)[1]\n",
    "    if day <= month_day:\n",
    "        for m in range(1, month):\n",
    "            month_day = calendar.monthrange(year, m)[1]\n",
    "            days += month_day\n",
    "        days += day\n",
    "        print(days)\n",
    "    else:\n",
    "        print('输入的日期错误！')\n",
    "else:\n",
    "    print('输入的月份错误！')"
   ]
  },
  {
   "cell_type": "markdown",
   "metadata": {},
   "source": [
    "calendar模块函数及描述\n",
    "1. calendar.calendar(year,w=2,l=1,c=6)\n",
    "返回一个多行字符串格式的year年年历，3个月一行，间隔距离为c。 每日宽度间隔为w字符。每行长度为21 W+18+2 C。l是每星期行数。\n",
    "2. calendar.firstweekday( )\n",
    "返回当前每周起始日期的设置。默认情况下，首次载入caendar模块时返回0，即星期一。\n",
    "3. calendar.isleap(year)\n",
    "是闰年返回True，否则为false。\n",
    "4. calendar.leapdays(y1,y2)\n",
    "返回在Y1，Y2两年之间的闰年总数。\n",
    "5. calendar.month(year,month,w=2,l=1)\n",
    "返回一个多行字符串格式的year年month月日历，两行标题，一周一行。每日宽度间隔为w字符。每行的长度为7* w+6。l是每星期的行数。\n",
    "6. calendar.monthcalendar(year,month)\n",
    "返回一个整数的单层嵌套列表。每个子列表装载代表一个星期的整数。Year年month月外的日期都设为0;范围内的日子都由该月第几日表示，从1开始。\n",
    "7. calendar.monthrange(year,month)\n",
    "返回两个整数。第一个是该月的星期几的日期码，第二个是该月的日期码。日从0（星期一）到6（星期日）;月从1到12。\n",
    "8. calendar.prcal(year,w=2,l=1,c=6)\n",
    "相当于 print calendar.calendar(year,w,l,c).\n",
    "9. calendar.prmonth(year,month,w=2,l=1)\n",
    "相当于 print calendar.calendar（year，w，l，c）\n",
    "10. calendar.setfirstweekday(weekday)\n",
    "设置每周的起始日期码。0（星期一）到6（星期日）。\n",
    "11. calendar.timegm(tupletime)\n",
    "和time.gmtime相反：接受一个时间元组形式，返回该时刻的时间辍（1970纪元后经过的浮点秒数）。\n",
    "12. calendar.weekday(year,month,day)\n",
    "返回给定日期的日期码。0（星期一）到6（星期日）。月份为 1（一月） 到 12（12月）。"
   ]
  },
  {
   "cell_type": "code",
   "execution_count": 153,
   "metadata": {},
   "outputs": [
    {
     "name": "stdout",
     "output_type": "stream",
     "text": [
      "                                  2019\n",
      "\n",
      "      January                   February                   March\n",
      "Mo Tu We Th Fr Sa Su      Mo Tu We Th Fr Sa Su      Mo Tu We Th Fr Sa Su\n",
      "    1  2  3  4  5  6                   1  2  3                   1  2  3\n",
      " 7  8  9 10 11 12 13       4  5  6  7  8  9 10       4  5  6  7  8  9 10\n",
      "14 15 16 17 18 19 20      11 12 13 14 15 16 17      11 12 13 14 15 16 17\n",
      "21 22 23 24 25 26 27      18 19 20 21 22 23 24      18 19 20 21 22 23 24\n",
      "28 29 30 31               25 26 27 28               25 26 27 28 29 30 31\n",
      "\n",
      "       April                      May                       June\n",
      "Mo Tu We Th Fr Sa Su      Mo Tu We Th Fr Sa Su      Mo Tu We Th Fr Sa Su\n",
      " 1  2  3  4  5  6  7             1  2  3  4  5                      1  2\n",
      " 8  9 10 11 12 13 14       6  7  8  9 10 11 12       3  4  5  6  7  8  9\n",
      "15 16 17 18 19 20 21      13 14 15 16 17 18 19      10 11 12 13 14 15 16\n",
      "22 23 24 25 26 27 28      20 21 22 23 24 25 26      17 18 19 20 21 22 23\n",
      "29 30                     27 28 29 30 31            24 25 26 27 28 29 30\n",
      "\n",
      "        July                     August                  September\n",
      "Mo Tu We Th Fr Sa Su      Mo Tu We Th Fr Sa Su      Mo Tu We Th Fr Sa Su\n",
      " 1  2  3  4  5  6  7                1  2  3  4                         1\n",
      " 8  9 10 11 12 13 14       5  6  7  8  9 10 11       2  3  4  5  6  7  8\n",
      "15 16 17 18 19 20 21      12 13 14 15 16 17 18       9 10 11 12 13 14 15\n",
      "22 23 24 25 26 27 28      19 20 21 22 23 24 25      16 17 18 19 20 21 22\n",
      "29 30 31                  26 27 28 29 30 31         23 24 25 26 27 28 29\n",
      "                                                    30\n",
      "\n",
      "      October                   November                  December\n",
      "Mo Tu We Th Fr Sa Su      Mo Tu We Th Fr Sa Su      Mo Tu We Th Fr Sa Su\n",
      "    1  2  3  4  5  6                   1  2  3                         1\n",
      " 7  8  9 10 11 12 13       4  5  6  7  8  9 10       2  3  4  5  6  7  8\n",
      "14 15 16 17 18 19 20      11 12 13 14 15 16 17       9 10 11 12 13 14 15\n",
      "21 22 23 24 25 26 27      18 19 20 21 22 23 24      16 17 18 19 20 21 22\n",
      "28 29 30 31               25 26 27 28 29 30         23 24 25 26 27 28 29\n",
      "                                                    30 31\n",
      "\n",
      "0\n",
      "False\n",
      "2\n",
      "     June 2019\n",
      "Mo Tu We Th Fr Sa Su\n",
      "                1  2\n",
      " 3  4  5  6  7  8  9\n",
      "10 11 12 13 14 15 16\n",
      "17 18 19 20 21 22 23\n",
      "24 25 26 27 28 29 30\n",
      "\n",
      "[[1, 2, 3, 4, 5, 6, 7], [8, 9, 10, 11, 12, 13, 14], [15, 16, 17, 18, 19, 20, 21], [22, 23, 24, 25, 26, 27, 28], [29, 30, 31, 0, 0, 0, 0]]\n",
      "(5, 30)\n",
      "                                  2019\n",
      "\n",
      "      January                   February                   March\n",
      "Mo Tu We Th Fr Sa Su      Mo Tu We Th Fr Sa Su      Mo Tu We Th Fr Sa Su\n",
      "    1  2  3  4  5  6                   1  2  3                   1  2  3\n",
      " 7  8  9 10 11 12 13       4  5  6  7  8  9 10       4  5  6  7  8  9 10\n",
      "14 15 16 17 18 19 20      11 12 13 14 15 16 17      11 12 13 14 15 16 17\n",
      "21 22 23 24 25 26 27      18 19 20 21 22 23 24      18 19 20 21 22 23 24\n",
      "28 29 30 31               25 26 27 28               25 26 27 28 29 30 31\n",
      "\n",
      "       April                      May                       June\n",
      "Mo Tu We Th Fr Sa Su      Mo Tu We Th Fr Sa Su      Mo Tu We Th Fr Sa Su\n",
      " 1  2  3  4  5  6  7             1  2  3  4  5                      1  2\n",
      " 8  9 10 11 12 13 14       6  7  8  9 10 11 12       3  4  5  6  7  8  9\n",
      "15 16 17 18 19 20 21      13 14 15 16 17 18 19      10 11 12 13 14 15 16\n",
      "22 23 24 25 26 27 28      20 21 22 23 24 25 26      17 18 19 20 21 22 23\n",
      "29 30                     27 28 29 30 31            24 25 26 27 28 29 30\n",
      "\n",
      "        July                     August                  September\n",
      "Mo Tu We Th Fr Sa Su      Mo Tu We Th Fr Sa Su      Mo Tu We Th Fr Sa Su\n",
      " 1  2  3  4  5  6  7                1  2  3  4                         1\n",
      " 8  9 10 11 12 13 14       5  6  7  8  9 10 11       2  3  4  5  6  7  8\n",
      "15 16 17 18 19 20 21      12 13 14 15 16 17 18       9 10 11 12 13 14 15\n",
      "22 23 24 25 26 27 28      19 20 21 22 23 24 25      16 17 18 19 20 21 22\n",
      "29 30 31                  26 27 28 29 30 31         23 24 25 26 27 28 29\n",
      "                                                    30\n",
      "\n",
      "      October                   November                  December\n",
      "Mo Tu We Th Fr Sa Su      Mo Tu We Th Fr Sa Su      Mo Tu We Th Fr Sa Su\n",
      "    1  2  3  4  5  6                   1  2  3                         1\n",
      " 7  8  9 10 11 12 13       4  5  6  7  8  9 10       2  3  4  5  6  7  8\n",
      "14 15 16 17 18 19 20      11 12 13 14 15 16 17       9 10 11 12 13 14 15\n",
      "21 22 23 24 25 26 27      18 19 20 21 22 23 24      16 17 18 19 20 21 22\n",
      "28 29 30 31               25 26 27 28 29 30         23 24 25 26 27 28 29\n",
      "                                                    30 31\n",
      "None\n",
      "2\n"
     ]
    }
   ],
   "source": [
    "print(calendar.calendar(2019, w=2, l=1, c=6))\n",
    "print(calendar.firstweekday())\n",
    "print(calendar.isleap(2019))\n",
    "print(calendar.leapdays(2010,2019))\n",
    "print(calendar.month(2019, 6, w=2, l=1))\n",
    "print(calendar.monthcalendar(2019, 7))\n",
    "print(calendar.monthrange(2019, 6))\n",
    "print(calendar.prcal(2019, w=2, l=1, c=6))\n",
    "print(calendar.weekday(2019, 6, 12))"
   ]
  },
  {
   "cell_type": "markdown",
   "metadata": {},
   "source": [
    "5. 随机输入三个数x、y、z，并把这三个数有小到大排列。"
   ]
  },
  {
   "cell_type": "code",
   "execution_count": 156,
   "metadata": {},
   "outputs": [
    {
     "name": "stdout",
     "output_type": "stream",
     "text": [
      "输入x:55\n",
      "输入y:22\n",
      "输入z:31\n",
      "yzx\n"
     ]
    }
   ],
   "source": [
    "# my\n",
    "x = int(input('输入x:'))\n",
    "y = int(input('输入y:'))\n",
    "z = int(input('输入z:'))\n",
    "nums = [['x', x], ['y', y], ['z', z]]\n",
    "nums.sort(key=lambda x: x[1])\n",
    "print(''.join([s[0] for s in nums]))"
   ]
  },
  {
   "cell_type": "markdown",
   "metadata": {},
   "source": [
    "6. 斐波拉契数列  \n",
    "斐波那契数列指的是这样一个数列 1, 1, 2, 3, 5, 8, 13, 21, 34, 55, 89, 144, 233，377，610，987，1597，2584，4181，6765，10946，17711，28657，46368........  \n",
    "自然中的斐波那契数列  \n",
    "这个数列从第3项开始，每一项都等于前两项之和。"
   ]
  },
  {
   "cell_type": "code",
   "execution_count": 164,
   "metadata": {},
   "outputs": [
    {
     "name": "stdout",
     "output_type": "stream",
     "text": [
      "1\n",
      "1\n",
      "2\n",
      "3\n",
      "5\n",
      "8\n",
      "13\n",
      "21\n",
      "34\n",
      "55\n",
      "89\n",
      "144\n"
     ]
    }
   ],
   "source": [
    "# my\n",
    "def fibo():\n",
    "    a = 0\n",
    "    b = 1\n",
    "    while True:\n",
    "        a, b = b, a+b\n",
    "        yield a\n",
    "\n",
    "f = fibo()\n",
    "n = 0\n",
    "while n < 100:\n",
    "    n = next(f)\n",
    "    print(n)"
   ]
  },
  {
   "cell_type": "code",
   "execution_count": 167,
   "metadata": {},
   "outputs": [
    {
     "name": "stdout",
     "output_type": "stream",
     "text": [
      "[1, 1, 2, 3, 5, 8, 13, 21, 34, 55]\n"
     ]
    }
   ],
   "source": [
    "# 方法一：\n",
    "def Fib(n):\n",
    "    if n==1:\n",
    "        return [1]\n",
    "    if n==2:\n",
    "        return [1,1]\n",
    "    fibs=[1,1]\n",
    "    for i in range(2,n):\n",
    "        fibs.append(fibs[-1]+fibs[-2])\n",
    "    return fibs\n",
    "#打印前十个斐波那契数列\n",
    "print(Fib(10))"
   ]
  },
  {
   "cell_type": "markdown",
   "metadata": {},
   "source": [
    "7. 将一个列表的数据复制到另一个列表\n",
    " - 使用copy\n",
    " - 注意浅copy和深copy的区别  \n",
    "**深copy与浅copy:**  \n",
    "共同点：不会因为列表的父层变动而变动  \n",
    "不同点：子列表修改时，浅copy会跟随变动而变动，而深copy不会变动。"
   ]
  },
  {
   "cell_type": "markdown",
   "metadata": {},
   "source": [
    "8. 输出9*9的乘法口诀表"
   ]
  },
  {
   "cell_type": "code",
   "execution_count": 212,
   "metadata": {},
   "outputs": [
    {
     "name": "stdout",
     "output_type": "stream",
     "text": [
      "1 * 1 =  1  \n",
      "1 * 2 =  2  2 * 2 =  4  \n",
      "1 * 3 =  3  2 * 3 =  6  3 * 3 =  9  \n",
      "1 * 4 =  4  2 * 4 =  8  3 * 4 = 12  4 * 4 = 16  \n",
      "1 * 5 =  5  2 * 5 = 10  3 * 5 = 15  4 * 5 = 20  5 * 5 = 25  \n",
      "1 * 6 =  6  2 * 6 = 12  3 * 6 = 18  4 * 6 = 24  5 * 6 = 30  6 * 6 = 36  \n",
      "1 * 7 =  7  2 * 7 = 14  3 * 7 = 21  4 * 7 = 28  5 * 7 = 35  6 * 7 = 42  7 * 7 = 49  \n",
      "1 * 8 =  8  2 * 8 = 16  3 * 8 = 24  4 * 8 = 32  5 * 8 = 40  6 * 8 = 48  7 * 8 = 56  8 * 8 = 64  \n",
      "1 * 9 =  9  2 * 9 = 18  3 * 9 = 27  4 * 9 = 36  5 * 9 = 45  6 * 9 = 54  7 * 9 = 63  8 * 9 = 72  9 * 9 = 81  \n"
     ]
    }
   ],
   "source": [
    "for i in range(1, 10):\n",
    "    for j in range(1, i + 1):\n",
    "        print('{:d} * {:d} = {:>2d}'.format(j, i, i*j), end='  ')\n",
    "    print()"
   ]
  },
  {
   "cell_type": "markdown",
   "metadata": {},
   "source": [
    "9. 暂停两秒输出\n",
    " - 使用time模块\n",
    " - time.sleep(2)"
   ]
  },
  {
   "cell_type": "markdown",
   "metadata": {},
   "source": [
    "10. 暂停一秒输出，并格式化当前时间"
   ]
  },
  {
   "cell_type": "code",
   "execution_count": 227,
   "metadata": {},
   "outputs": [
    {
     "name": "stdout",
     "output_type": "stream",
     "text": [
      "2019-06-18 16:39:01\n",
      "2019-06-18 16:39:02\n"
     ]
    }
   ],
   "source": [
    "import time\n",
    "print(time.strftime('%Y-%m-%d %H:%M:%S', time.localtime(time.time())))\n",
    "time.sleep(1)\n",
    "print(time.strftime('%Y-%m-%d %H:%M:%S', time.localtime(time.time())))"
   ]
  },
  {
   "cell_type": "code",
   "execution_count": null,
   "metadata": {},
   "outputs": [],
   "source": []
  }
 ],
 "metadata": {
  "kernelspec": {
   "display_name": "Python 3",
   "language": "python",
   "name": "python3"
  },
  "language_info": {
   "codemirror_mode": {
    "name": "ipython",
    "version": 3
   },
   "file_extension": ".py",
   "mimetype": "text/x-python",
   "name": "python",
   "nbconvert_exporter": "python",
   "pygments_lexer": "ipython3",
   "version": "3.7.3"
  }
 },
 "nbformat": 4,
 "nbformat_minor": 2
}
