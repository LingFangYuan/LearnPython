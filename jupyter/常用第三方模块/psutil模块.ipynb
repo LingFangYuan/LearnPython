{
 "cells": [
  {
   "cell_type": "markdown",
   "metadata": {},
   "source": [
    "## psutil模块\n",
    "在Python中获取系统信息的另一个好办法是使用psutil这个第三方模块。顾名思义，psutil = process and system utilities，它不仅可以通过一两行代码实现系统监控，还可以跨平台使用，支持Linux／UNIX／OSX／Windows等，是系统管理员和运维小伙伴不可或缺的必备模块。\n",
    "1. 获取CPU信息"
   ]
  },
  {
   "cell_type": "code",
   "execution_count": 1,
   "metadata": {},
   "outputs": [
    {
     "name": "stdout",
     "output_type": "stream",
     "text": [
      "4\n",
      "2\n",
      "scputimes(user=30137.296875, system=26307.140625, idle=860051.234375, interrupt=1390.0625, dpc=613.546875)\n",
      "[10.8, 9.4, 4.7, 10.9]\n",
      "[9.4, 10.9, 12.5, 12.5]\n",
      "[35.8, 29.2, 23.4, 25.0]\n",
      "[10.8, 7.8, 17.2, 7.8]\n",
      "[19.7, 12.5, 18.8, 9.4]\n",
      "[6.2, 7.8, 10.9, 6.2]\n",
      "[12.1, 1.6, 3.1, 6.2]\n",
      "[4.7, 1.6, 1.6, 7.8]\n",
      "[3.1, 6.2, 4.7, 3.1]\n",
      "[9.4, 4.7, 4.7, 4.7]\n"
     ]
    }
   ],
   "source": [
    "import psutil\n",
    "\n",
    "print(psutil.cpu_count()) # CUP逻辑数量\n",
    "print(psutil.cpu_count(logical=False)) # CPU物理核心\n",
    "print(psutil.cpu_times()) # 统计CPU的用户/系统/空闲时间\n",
    "for x in range(10):\n",
    "    print(psutil.cpu_percent(interval=1, percpu=True))"
   ]
  },
  {
   "cell_type": "markdown",
   "metadata": {},
   "source": [
    "2. 获取内存信息"
   ]
  },
  {
   "cell_type": "code",
   "execution_count": 5,
   "metadata": {},
   "outputs": [
    {
     "name": "stdout",
     "output_type": "stream",
     "text": [
      "svmem(total=8311197696, available=4717641728, percent=43.2, used=3593555968, free=4717641728)\n",
      "sswap(total=16901132288, used=4391100416, free=12510031872, percent=26.0, sin=0, sout=0)\n"
     ]
    }
   ],
   "source": [
    "print(psutil.virtual_memory()) # 物理内存\n",
    "print(psutil.swap_memory()) # 交换内存"
   ]
  },
  {
   "cell_type": "markdown",
   "metadata": {},
   "source": [
    "3. 获取磁盘信息"
   ]
  },
  {
   "cell_type": "code",
   "execution_count": 7,
   "metadata": {},
   "outputs": [
    {
     "name": "stdout",
     "output_type": "stream",
     "text": [
      "[sdiskpart(device='C:\\\\', mountpoint='C:\\\\', fstype='NTFS', opts='rw,fixed'), sdiskpart(device='D:\\\\', mountpoint='D:\\\\', fstype='NTFS', opts='rw,fixed'), sdiskpart(device='E:\\\\', mountpoint='E:\\\\', fstype='NTFS', opts='rw,fixed'), sdiskpart(device='F:\\\\', mountpoint='F:\\\\', fstype='NTFS', opts='rw,fixed')]\n",
      "sdiskusage(total=75164020736, used=55175086080, free=19988934656, percent=73.4)\n",
      "sdiskio(read_count=1181780, write_count=1480842, read_bytes=45995744256, write_bytes=26613697024, read_time=31459, write_time=9955)\n"
     ]
    }
   ],
   "source": [
    "print(psutil.disk_partitions()) # 磁盘分区信息\n",
    "print(psutil.disk_usage('c:')) # 磁盘使用情况\n",
    "print(psutil.disk_io_counters()) # 磁盘IO"
   ]
  },
  {
   "cell_type": "markdown",
   "metadata": {},
   "source": [
    "4. 获取网络信息"
   ]
  },
  {
   "cell_type": "code",
   "execution_count": null,
   "metadata": {},
   "outputs": [],
   "source": [
    "print(psutil.net_io_counters()) # 获取网络读写字节/包的个数\n",
    "print(psutil.net_if_addrs()) # 获取网络接口信息\n",
    "print(psutil.net_if_stats()) # 获取网络接口状态"
   ]
  },
  {
   "cell_type": "code",
   "execution_count": 26,
   "metadata": {},
   "outputs": [
    {
     "name": "stdout",
     "output_type": "stream",
     "text": [
      "[sconn(fd=-1, family=<AddressFamily.AF_INET: 2>, type=1, laddr=addr(ip='172.30.196.138', port=63231), raddr=addr(ip='172.30.88.82', port=80), status='TIME_WAIT', pid=0), sconn(fd=-1, family=<AddressFamily.AF_INET6: 23>, type=1, laddr=addr(ip='::', port=135), raddr=(), status='LISTEN', pid=480), sconn(fd=-1, family=<AddressFamily.AF_INET: 2>, type=1, laddr=addr(ip='127.0.0.1', port=62658), raddr=(), status='LISTEN', pid=12640), sconn(fd=-1, family=<AddressFamily.AF_INET: 2>, type=1, laddr=addr(ip='172.30.196.138', port=59468), raddr=addr(ip='165.160.13.20', port=80), status='ESTABLISHED', pid=1492), sconn(fd=-1, family=<AddressFamily.AF_INET: 2>, type=2, laddr=addr(ip='0.0.0.0', port=55108), raddr=(), status='NONE', pid=3396), sconn(fd=-1, family=<AddressFamily.AF_INET: 2>, type=1, laddr=addr(ip='127.0.0.1', port=62661), raddr=addr(ip='127.0.0.1', port=62662), status='ESTABLISHED', pid=12640), sconn(fd=-1, family=<AddressFamily.AF_INET: 2>, type=1, laddr=addr(ip='172.30.196.138', port=63239), raddr=addr(ip='172.30.88.82', port=80), status='TIME_WAIT', pid=0), sconn(fd=-1, family=<AddressFamily.AF_INET: 2>, type=2, laddr=addr(ip='0.0.0.0', port=55648), raddr=(), status='NONE', pid=3088), sconn(fd=-1, family=<AddressFamily.AF_INET: 2>, type=1, laddr=addr(ip='172.30.196.138', port=63137), raddr=addr(ip='221.181.72.244', port=443), status='CLOSE_WAIT', pid=1492), sconn(fd=-1, family=<AddressFamily.AF_INET: 2>, type=2, laddr=addr(ip='0.0.0.0', port=123), raddr=(), status='NONE', pid=1224), sconn(fd=-1, family=<AddressFamily.AF_INET: 2>, type=1, laddr=addr(ip='127.0.0.1', port=62671), raddr=addr(ip='127.0.0.1', port=62670), status='ESTABLISHED', pid=12640), sconn(fd=-1, family=<AddressFamily.AF_INET6: 23>, type=2, laddr=addr(ip='::', port=4500), raddr=(), status='NONE', pid=2096), sconn(fd=-1, family=<AddressFamily.AF_INET: 2>, type=1, laddr=addr(ip='127.0.0.1', port=62644), raddr=addr(ip='127.0.0.1', port=62645), status='ESTABLISHED', pid=12640), sconn(fd=-1, family=<AddressFamily.AF_INET6: 23>, type=1, laddr=addr(ip='::', port=49666), raddr=(), status='LISTEN', pid=1984), sconn(fd=-1, family=<AddressFamily.AF_INET: 2>, type=2, laddr=addr(ip='0.0.0.0', port=61812), raddr=(), status='NONE', pid=5768), sconn(fd=-1, family=<AddressFamily.AF_INET: 2>, type=2, laddr=addr(ip='172.30.196.138', port=137), raddr=(), status='NONE', pid=4), sconn(fd=-1, family=<AddressFamily.AF_INET: 2>, type=1, laddr=addr(ip='172.30.196.138', port=65019), raddr=addr(ip='120.198.203.183', port=443), status='CLOSE_WAIT', pid=12508), sconn(fd=-1, family=<AddressFamily.AF_INET: 2>, type=1, laddr=addr(ip='172.30.196.138', port=139), raddr=(), status='LISTEN', pid=4), sconn(fd=-1, family=<AddressFamily.AF_INET: 2>, type=1, laddr=addr(ip='172.30.196.138', port=49746), raddr=addr(ip='61.135.248.145', port=80), status='CLOSE_WAIT', pid=5768), sconn(fd=-1, family=<AddressFamily.AF_INET: 2>, type=2, laddr=addr(ip='192.168.56.1', port=1900), raddr=(), status='NONE', pid=760), sconn(fd=-1, family=<AddressFamily.AF_INET: 2>, type=2, laddr=addr(ip='172.30.196.138', port=5353), raddr=(), status='NONE', pid=3540), sconn(fd=-1, family=<AddressFamily.AF_INET: 2>, type=1, laddr=addr(ip='172.30.196.138', port=49749), raddr=addr(ip='61.135.248.145', port=80), status='CLOSE_WAIT', pid=5768), sconn(fd=-1, family=<AddressFamily.AF_INET: 2>, type=2, laddr=addr(ip='0.0.0.0', port=500), raddr=(), status='NONE', pid=2096), sconn(fd=-1, family=<AddressFamily.AF_INET: 2>, type=1, laddr=addr(ip='127.0.0.1', port=1521), raddr=(), status='LISTEN', pid=4772), sconn(fd=-1, family=<AddressFamily.AF_INET: 2>, type=1, laddr=addr(ip='127.0.0.1', port=62648), raddr=addr(ip='127.0.0.1', port=62647), status='ESTABLISHED', pid=12640), sconn(fd=-1, family=<AddressFamily.AF_INET: 2>, type=1, laddr=addr(ip='127.0.0.1', port=62659), raddr=addr(ip='127.0.0.1', port=62660), status='ESTABLISHED', pid=12640), sconn(fd=-1, family=<AddressFamily.AF_INET: 2>, type=1, laddr=addr(ip='0.0.0.0', port=49671), raddr=(), status='LISTEN', pid=748), sconn(fd=-1, family=<AddressFamily.AF_INET: 2>, type=1, laddr=addr(ip='127.0.0.1', port=62673), raddr=addr(ip='127.0.0.1', port=62672), status='ESTABLISHED', pid=12640), sconn(fd=-1, family=<AddressFamily.AF_INET: 2>, type=1, laddr=addr(ip='172.30.196.138', port=49751), raddr=addr(ip='61.135.248.145', port=80), status='CLOSE_WAIT', pid=5768), sconn(fd=-1, family=<AddressFamily.AF_INET: 2>, type=1, laddr=addr(ip='127.0.0.1', port=62743), raddr=addr(ip='127.0.0.1', port=62744), status='ESTABLISHED', pid=12640), sconn(fd=-1, family=<AddressFamily.AF_INET: 2>, type=1, laddr=addr(ip='172.30.196.138', port=63202), raddr=addr(ip='121.51.139.184', port=14000), status='CLOSE_WAIT', pid=12508), sconn(fd=-1, family=<AddressFamily.AF_INET6: 23>, type=1, laddr=addr(ip='::', port=49678), raddr=(), status='LISTEN', pid=740), sconn(fd=-1, family=<AddressFamily.AF_INET: 2>, type=2, laddr=addr(ip='0.0.0.0', port=55355), raddr=(), status='NONE', pid=3088), sconn(fd=-1, family=<AddressFamily.AF_INET: 2>, type=1, laddr=addr(ip='127.0.0.1', port=62674), raddr=addr(ip='127.0.0.1', port=62675), status='ESTABLISHED', pid=7140), sconn(fd=-1, family=<AddressFamily.AF_INET6: 23>, type=2, laddr=addr(ip='::1', port=57538), raddr=(), status='NONE', pid=760), sconn(fd=-1, family=<AddressFamily.AF_INET: 2>, type=1, laddr=addr(ip='127.0.0.1', port=62639), raddr=addr(ip='127.0.0.1', port=62638), status='ESTABLISHED', pid=12640), sconn(fd=-1, family=<AddressFamily.AF_INET: 2>, type=1, laddr=addr(ip='127.0.0.1', port=62620), raddr=addr(ip='127.0.0.1', port=62653), status='ESTABLISHED', pid=12640), sconn(fd=-1, family=<AddressFamily.AF_INET: 2>, type=1, laddr=addr(ip='127.0.0.1', port=62621), raddr=(), status='LISTEN', pid=12640), sconn(fd=-1, family=<AddressFamily.AF_INET: 2>, type=2, laddr=addr(ip='127.0.0.1', port=57541), raddr=(), status='NONE', pid=760), sconn(fd=-1, family=<AddressFamily.AF_INET: 2>, type=1, laddr=addr(ip='127.0.0.1', port=49932), raddr=addr(ip='127.0.0.1', port=49931), status='ESTABLISHED', pid=7140), sconn(fd=-1, family=<AddressFamily.AF_INET: 2>, type=1, laddr=addr(ip='192.168.56.1', port=139), raddr=(), status='LISTEN', pid=4), sconn(fd=-1, family=<AddressFamily.AF_INET: 2>, type=1, laddr=addr(ip='172.30.196.138', port=62944), raddr=addr(ip='221.181.72.244', port=443), status='CLOSE_WAIT', pid=1492), sconn(fd=-1, family=<AddressFamily.AF_INET: 2>, type=1, laddr=addr(ip='127.0.0.1', port=62619), raddr=addr(ip='127.0.0.1', port=62676), status='ESTABLISHED', pid=12640), sconn(fd=-1, family=<AddressFamily.AF_INET: 2>, type=1, laddr=addr(ip='127.0.0.1', port=62660), raddr=addr(ip='127.0.0.1', port=62659), status='ESTABLISHED', pid=12640), sconn(fd=-1, family=<AddressFamily.AF_INET: 2>, type=1, laddr=addr(ip='172.30.196.138', port=49743), raddr=addr(ip='61.135.248.145', port=80), status='CLOSE_WAIT', pid=5768), sconn(fd=-1, family=<AddressFamily.AF_INET: 2>, type=1, laddr=addr(ip='172.30.196.138', port=62233), raddr=addr(ip='223.167.166.49', port=80), status='ESTABLISHED', pid=8060), sconn(fd=-1, family=<AddressFamily.AF_INET: 2>, type=1, laddr=addr(ip='127.0.0.1', port=62628), raddr=addr(ip='127.0.0.1', port=62629), status='ESTABLISHED', pid=7140), sconn(fd=-1, family=<AddressFamily.AF_INET: 2>, type=1, laddr=addr(ip='127.0.0.1', port=62654), raddr=addr(ip='127.0.0.1', port=62655), status='ESTABLISHED', pid=12640), sconn(fd=-1, family=<AddressFamily.AF_INET: 2>, type=1, laddr=addr(ip='172.30.196.138', port=62877), raddr=addr(ip='111.30.132.26', port=80), status='CLOSE_WAIT', pid=12508), sconn(fd=-1, family=<AddressFamily.AF_INET6: 23>, type=1, laddr=addr(ip='::', port=49669), raddr=(), status='LISTEN', pid=748), sconn(fd=-1, family=<AddressFamily.AF_INET: 2>, type=1, laddr=addr(ip='127.0.0.1', port=62651), raddr=addr(ip='127.0.0.1', port=62652), status='ESTABLISHED', pid=12640), sconn(fd=-1, family=<AddressFamily.AF_INET: 2>, type=1, laddr=addr(ip='127.0.0.1', port=62744), raddr=addr(ip='127.0.0.1', port=62743), status='ESTABLISHED', pid=12640), sconn(fd=-1, family=<AddressFamily.AF_INET: 2>, type=1, laddr=addr(ip='0.0.0.0', port=5040), raddr=(), status='LISTEN', pid=2280), sconn(fd=-1, family=<AddressFamily.AF_INET6: 23>, type=2, laddr=addr(ip='::', port=5353), raddr=(), status='NONE', pid=1472), sconn(fd=-1, family=<AddressFamily.AF_INET: 2>, type=1, laddr=addr(ip='127.0.0.1', port=62642), raddr=addr(ip='127.0.0.1', port=62643), status='ESTABLISHED', pid=12640), sconn(fd=-1, family=<AddressFamily.AF_INET: 2>, type=1, laddr=addr(ip='0.0.0.0', port=49665), raddr=(), status='LISTEN', pid=1848), sconn(fd=-1, family=<AddressFamily.AF_INET: 2>, type=1, laddr=addr(ip='127.0.0.1', port=62681), raddr=addr(ip='127.0.0.1', port=62680), status='ESTABLISHED', pid=7140), sconn(fd=-1, family=<AddressFamily.AF_INET6: 23>, type=1, laddr=addr(ip='::', port=49664), raddr=(), status='LISTEN', pid=664), sconn(fd=-1, family=<AddressFamily.AF_INET: 2>, type=2, laddr=addr(ip='192.168.56.1', port=57540), raddr=(), status='NONE', pid=760), sconn(fd=-1, family=<AddressFamily.AF_INET: 2>, type=1, laddr=addr(ip='172.30.196.138', port=64558), raddr=addr(ip='120.198.203.183', port=80), status='CLOSE_WAIT', pid=12508), sconn(fd=-1, family=<AddressFamily.AF_INET: 2>, type=1, laddr=addr(ip='172.30.196.138', port=63227), raddr=addr(ip='172.30.88.82', port=80), status='TIME_WAIT', pid=0), sconn(fd=-1, family=<AddressFamily.AF_INET6: 23>, type=1, laddr=addr(ip='::', port=49671), raddr=(), status='LISTEN', pid=748), sconn(fd=-1, family=<AddressFamily.AF_INET: 2>, type=1, laddr=addr(ip='127.0.0.1', port=62621), raddr=addr(ip='127.0.0.1', port=62682), status='ESTABLISHED', pid=12640), sconn(fd=-1, family=<AddressFamily.AF_INET: 2>, type=1, laddr=addr(ip='172.30.196.138', port=63136), raddr=addr(ip='221.181.72.244', port=443), status='CLOSE_WAIT', pid=1492), sconn(fd=-1, family=<AddressFamily.AF_INET: 2>, type=1, laddr=addr(ip='127.0.0.1', port=62653), raddr=addr(ip='127.0.0.1', port=62620), status='ESTABLISHED', pid=7140), sconn(fd=-1, family=<AddressFamily.AF_INET: 2>, type=1, laddr=addr(ip='172.30.196.138', port=49747), raddr=addr(ip='61.135.248.145', port=80), status='CLOSE_WAIT', pid=5768), sconn(fd=-1, family=<AddressFamily.AF_INET: 2>, type=1, laddr=addr(ip='127.0.0.1', port=62622), raddr=addr(ip='127.0.0.1', port=62667), status='ESTABLISHED', pid=12640), sconn(fd=-1, family=<AddressFamily.AF_INET: 2>, type=1, laddr=addr(ip='127.0.0.1', port=62650), raddr=addr(ip='127.0.0.1', port=62649), status='ESTABLISHED', pid=12640), sconn(fd=-1, family=<AddressFamily.AF_INET: 2>, type=2, laddr=addr(ip='0.0.0.0', port=5355), raddr=(), status='NONE', pid=1472), sconn(fd=-1, family=<AddressFamily.AF_INET: 2>, type=1, laddr=addr(ip='127.0.0.1', port=5939), raddr=(), status='LISTEN', pid=3540), sconn(fd=-1, family=<AddressFamily.AF_INET: 2>, type=1, laddr=addr(ip='127.0.0.1', port=62623), raddr=(), status='LISTEN', pid=12640), sconn(fd=-1, family=<AddressFamily.AF_INET: 2>, type=2, laddr=addr(ip='0.0.0.0', port=54298), raddr=(), status='NONE', pid=3088), sconn(fd=-1, family=<AddressFamily.AF_INET: 2>, type=1, laddr=addr(ip='0.0.0.0', port=135), raddr=(), status='LISTEN', pid=480), sconn(fd=-1, family=<AddressFamily.AF_INET: 2>, type=2, laddr=addr(ip='172.30.196.138', port=57539), raddr=(), status='NONE', pid=760), sconn(fd=-1, family=<AddressFamily.AF_INET: 2>, type=1, laddr=addr(ip='127.0.0.1', port=49906), raddr=addr(ip='127.0.0.1', port=49905), status='ESTABLISHED', pid=7140), sconn(fd=-1, family=<AddressFamily.AF_INET: 2>, type=1, laddr=addr(ip='127.0.0.1', port=49930), raddr=addr(ip='127.0.0.1', port=49929), status='ESTABLISHED', pid=7140), sconn(fd=-1, family=<AddressFamily.AF_INET: 2>, type=1, laddr=addr(ip='127.0.0.1', port=62675), raddr=addr(ip='127.0.0.1', port=62674), status='ESTABLISHED', pid=7140), sconn(fd=-1, family=<AddressFamily.AF_INET: 2>, type=1, laddr=addr(ip='127.0.0.1', port=4301), raddr=(), status='LISTEN', pid=12508), sconn(fd=-1, family=<AddressFamily.AF_INET6: 23>, type=1, laddr=addr(ip='::1', port=8888), raddr=(), status='LISTEN', pid=7140), sconn(fd=-1, family=<AddressFamily.AF_INET: 2>, type=1, laddr=addr(ip='127.0.0.1', port=62657), raddr=addr(ip='127.0.0.1', port=62656), status='ESTABLISHED', pid=12640), sconn(fd=-1, family=<AddressFamily.AF_INET: 2>, type=1, laddr=addr(ip='172.30.196.138', port=62854), raddr=addr(ip='183.232.127.166', port=443), status='ESTABLISHED', pid=12508), sconn(fd=-1, family=<AddressFamily.AF_INET: 2>, type=1, laddr=addr(ip='127.0.0.1', port=62663), raddr=addr(ip='127.0.0.1', port=62664), status='ESTABLISHED', pid=12640), sconn(fd=-1, family=<AddressFamily.AF_INET: 2>, type=2, laddr=addr(ip='192.168.56.1', port=137), raddr=(), status='NONE', pid=4), sconn(fd=-1, family=<AddressFamily.AF_INET: 2>, type=1, laddr=addr(ip='172.30.196.138', port=63232), raddr=addr(ip='172.30.88.82', port=80), status='TIME_WAIT', pid=0), sconn(fd=-1, family=<AddressFamily.AF_INET: 2>, type=1, laddr=addr(ip='0.0.0.0', port=51497), raddr=(), status='LISTEN', pid=2132), sconn(fd=-1, family=<AddressFamily.AF_INET: 2>, type=1, laddr=addr(ip='172.30.196.138', port=49750), raddr=addr(ip='61.135.248.145', port=80), status='CLOSE_WAIT', pid=5768), sconn(fd=-1, family=<AddressFamily.AF_INET: 2>, type=1, laddr=addr(ip='127.0.0.1', port=62622), raddr=(), status='LISTEN', pid=12640), sconn(fd=-1, family=<AddressFamily.AF_INET6: 23>, type=1, laddr=addr(ip='::1', port=8888), raddr=addr(ip='::1', port=62631), status='ESTABLISHED', pid=7140), sconn(fd=-1, family=<AddressFamily.AF_INET: 2>, type=1, laddr=addr(ip='0.0.0.0', port=445), raddr=(), status='LISTEN', pid=4), sconn(fd=-1, family=<AddressFamily.AF_INET6: 23>, type=1, laddr=addr(ip='::1', port=8888), raddr=addr(ip='::1', port=62505), status='ESTABLISHED', pid=7140), sconn(fd=-1, family=<AddressFamily.AF_INET: 2>, type=2, laddr=addr(ip='0.0.0.0', port=50719), raddr=(), status='NONE', pid=3540), sconn(fd=-1, family=<AddressFamily.AF_INET: 2>, type=1, laddr=addr(ip='127.0.0.1', port=8082), raddr=(), status='LISTEN', pid=1492), sconn(fd=-1, family=<AddressFamily.AF_INET: 2>, type=1, laddr=addr(ip='172.30.196.138', port=63046), raddr=addr(ip='221.181.72.244', port=443), status='CLOSE_WAIT', pid=1492), sconn(fd=-1, family=<AddressFamily.AF_INET: 2>, type=1, laddr=addr(ip='172.30.196.138', port=63249), raddr=addr(ip='172.30.88.82', port=80), status='TIME_WAIT', pid=0), sconn(fd=-1, family=<AddressFamily.AF_INET: 2>, type=2, laddr=addr(ip='0.0.0.0', port=52295), raddr=(), status='NONE', pid=3088), sconn(fd=-1, family=<AddressFamily.AF_INET: 2>, type=2, laddr=addr(ip='0.0.0.0', port=5050), raddr=(), status='NONE', pid=2280), sconn(fd=-1, family=<AddressFamily.AF_INET: 2>, type=2, laddr=addr(ip='0.0.0.0', port=55596), raddr=(), status='NONE', pid=3088), sconn(fd=-1, family=<AddressFamily.AF_INET: 2>, type=1, laddr=addr(ip='172.30.196.138', port=62800), raddr=addr(ip='59.111.179.142', port=80), status='CLOSE_WAIT', pid=5768), sconn(fd=-1, family=<AddressFamily.AF_INET: 2>, type=1, laddr=addr(ip='0.0.0.0', port=49664), raddr=(), status='LISTEN', pid=664), sconn(fd=-1, family=<AddressFamily.AF_INET: 2>, type=1, laddr=addr(ip='127.0.0.1', port=62620), raddr=(), status='LISTEN', pid=12640), sconn(fd=-1, family=<AddressFamily.AF_INET: 2>, type=1, laddr=addr(ip='172.30.196.138', port=62208), raddr=addr(ip='52.139.250.253', port=443), status='ESTABLISHED', pid=3624), sconn(fd=-1, family=<AddressFamily.AF_INET: 2>, type=1, laddr=addr(ip='172.30.196.138', port=59469), raddr=addr(ip='165.160.13.20', port=80), status='ESTABLISHED', pid=1492), sconn(fd=-1, family=<AddressFamily.AF_INET: 2>, type=1, laddr=addr(ip='127.0.0.1', port=49931), raddr=addr(ip='127.0.0.1', port=49932), status='ESTABLISHED', pid=7140), sconn(fd=-1, family=<AddressFamily.AF_INET6: 23>, type=1, laddr=addr(ip='::', port=49668), raddr=(), status='LISTEN', pid=3828), sconn(fd=-1, family=<AddressFamily.AF_INET: 2>, type=1, laddr=addr(ip='172.30.196.138', port=63130), raddr=addr(ip='111.62.0.35', port=443), status='CLOSE_WAIT', pid=1492), sconn(fd=-1, family=<AddressFamily.AF_INET: 2>, type=2, laddr=addr(ip='0.0.0.0', port=50825), raddr=(), status='NONE', pid=12508), sconn(fd=-1, family=<AddressFamily.AF_INET: 2>, type=1, laddr=addr(ip='172.30.196.138', port=63241), raddr=addr(ip='172.30.88.82', port=80), status='TIME_WAIT', pid=0), sconn(fd=-1, family=<AddressFamily.AF_INET: 2>, type=1, laddr=addr(ip='127.0.0.1', port=62625), raddr=addr(ip='127.0.0.1', port=62626), status='ESTABLISHED', pid=7140), sconn(fd=-1, family=<AddressFamily.AF_INET: 2>, type=1, laddr=addr(ip='127.0.0.1', port=62652), raddr=addr(ip='127.0.0.1', port=62651), status='ESTABLISHED', pid=12640), sconn(fd=-1, family=<AddressFamily.AF_INET6: 23>, type=2, laddr=addr(ip='::', port=500), raddr=(), status='NONE', pid=2096), sconn(fd=-1, family=<AddressFamily.AF_INET6: 23>, type=2, laddr=addr(ip='fe80::1c08:5bc8:7dd3:58b1', port=57536), raddr=(), status='NONE', pid=760), sconn(fd=-1, family=<AddressFamily.AF_INET: 2>, type=1, laddr=addr(ip='127.0.0.1', port=62656), raddr=addr(ip='127.0.0.1', port=62657), status='ESTABLISHED', pid=12640), sconn(fd=-1, family=<AddressFamily.AF_INET: 2>, type=1, laddr=addr(ip='172.30.196.138', port=63134), raddr=addr(ip='221.181.72.244', port=443), status='CLOSE_WAIT', pid=1492), sconn(fd=-1, family=<AddressFamily.AF_INET: 2>, type=2, laddr=addr(ip='127.0.0.1', port=58263), raddr=(), status='NONE', pid=2112), sconn(fd=-1, family=<AddressFamily.AF_INET: 2>, type=1, laddr=addr(ip='172.30.196.138', port=63234), raddr=addr(ip='172.30.88.82', port=80), status='TIME_WAIT', pid=0), sconn(fd=-1, family=<AddressFamily.AF_INET: 2>, type=1, laddr=addr(ip='172.30.196.138', port=63244), raddr=addr(ip='172.30.88.82', port=80), status='TIME_WAIT', pid=0), sconn(fd=-1, family=<AddressFamily.AF_INET: 2>, type=1, laddr=addr(ip='127.0.0.1', port=818), raddr=(), status='LISTEN', pid=14500), sconn(fd=-1, family=<AddressFamily.AF_INET: 2>, type=1, laddr=addr(ip='172.30.196.138', port=63248), raddr=addr(ip='172.30.88.82', port=80), status='ESTABLISHED', pid=3088), sconn(fd=-1, family=<AddressFamily.AF_INET: 2>, type=1, laddr=addr(ip='0.0.0.0', port=49678), raddr=(), status='LISTEN', pid=740), sconn(fd=-1, family=<AddressFamily.AF_INET: 2>, type=1, laddr=addr(ip='172.30.196.138', port=49738), raddr=addr(ip='103.72.47.247', port=80), status='CLOSE_WAIT', pid=5768), sconn(fd=-1, family=<AddressFamily.AF_INET: 2>, type=1, laddr=addr(ip='172.30.196.138', port=49740), raddr=addr(ip='61.135.221.33', port=80), status='CLOSE_WAIT', pid=5768), sconn(fd=-1, family=<AddressFamily.AF_INET: 2>, type=2, laddr=addr(ip='172.30.196.138', port=1900), raddr=(), status='NONE', pid=760), sconn(fd=-1, family=<AddressFamily.AF_INET6: 23>, type=2, laddr=addr(ip='::1', port=1900), raddr=(), status='NONE', pid=760), sconn(fd=-1, family=<AddressFamily.AF_INET: 2>, type=1, laddr=addr(ip='127.0.0.1', port=62665), raddr=addr(ip='127.0.0.1', port=62666), status='ESTABLISHED', pid=12640), sconn(fd=-1, family=<AddressFamily.AF_INET: 2>, type=1, laddr=addr(ip='172.30.196.138', port=65018), raddr=addr(ip='120.198.203.183', port=443), status='CLOSE_WAIT', pid=12508), sconn(fd=-1, family=<AddressFamily.AF_INET: 2>, type=1, laddr=addr(ip='127.0.0.1', port=49677), raddr=(), status='LISTEN', pid=4772), sconn(fd=-1, family=<AddressFamily.AF_INET: 2>, type=1, laddr=addr(ip='127.0.0.1', port=62677), raddr=addr(ip='127.0.0.1', port=62678), status='ESTABLISHED', pid=7140), sconn(fd=-1, family=<AddressFamily.AF_INET: 2>, type=1, laddr=addr(ip='127.0.0.1', port=62668), raddr=addr(ip='127.0.0.1', port=62669), status='ESTABLISHED', pid=12640), sconn(fd=-1, family=<AddressFamily.AF_INET: 2>, type=1, laddr=addr(ip='127.0.0.1', port=62672), raddr=addr(ip='127.0.0.1', port=62673), status='ESTABLISHED', pid=12640), sconn(fd=-1, family=<AddressFamily.AF_INET: 2>, type=1, laddr=addr(ip='172.30.196.138', port=59467), raddr=addr(ip='165.160.15.20', port=80), status='ESTABLISHED', pid=1492), sconn(fd=-1, family=<AddressFamily.AF_INET6: 23>, type=1, laddr=addr(ip='::', port=445), raddr=(), status='LISTEN', pid=4), sconn(fd=-1, family=<AddressFamily.AF_INET: 2>, type=1, laddr=addr(ip='172.30.196.138', port=62799), raddr=addr(ip='59.111.179.142', port=80), status='CLOSE_WAIT', pid=5768), sconn(fd=-1, family=<AddressFamily.AF_INET: 2>, type=1, laddr=addr(ip='127.0.0.1', port=62666), raddr=addr(ip='127.0.0.1', port=62665), status='ESTABLISHED', pid=12640), sconn(fd=-1, family=<AddressFamily.AF_INET: 2>, type=2, laddr=addr(ip='0.0.0.0', port=61811), raddr=(), status='NONE', pid=5768), sconn(fd=-1, family=<AddressFamily.AF_INET: 2>, type=1, laddr=addr(ip='127.0.0.1', port=62643), raddr=addr(ip='127.0.0.1', port=62642), status='ESTABLISHED', pid=12640), sconn(fd=-1, family=<AddressFamily.AF_INET: 2>, type=1, laddr=addr(ip='127.0.0.1', port=62680), raddr=addr(ip='127.0.0.1', port=62681), status='ESTABLISHED', pid=7140), sconn(fd=-1, family=<AddressFamily.AF_INET: 2>, type=1, laddr=addr(ip='172.30.196.138', port=63229), raddr=addr(ip='124.172.246.196', port=9990), status='ESTABLISHED', pid=4080), sconn(fd=-1, family=<AddressFamily.AF_INET: 2>, type=2, laddr=addr(ip='192.168.56.1', port=5353), raddr=(), status='NONE', pid=3540), sconn(fd=-1, family=<AddressFamily.AF_INET: 2>, type=1, laddr=addr(ip='127.0.0.1', port=62649), raddr=addr(ip='127.0.0.1', port=62650), status='ESTABLISHED', pid=12640), sconn(fd=-1, family=<AddressFamily.AF_INET: 2>, type=1, laddr=addr(ip='127.0.0.1', port=62626), raddr=addr(ip='127.0.0.1', port=62625), status='ESTABLISHED', pid=7140), sconn(fd=-1, family=<AddressFamily.AF_INET: 2>, type=1, laddr=addr(ip='0.0.0.0', port=49666), raddr=(), status='LISTEN', pid=1984), sconn(fd=-1, family=<AddressFamily.AF_INET: 2>, type=2, laddr=addr(ip='0.0.0.0', port=55078), raddr=(), status='NONE', pid=8524), sconn(fd=-1, family=<AddressFamily.AF_INET6: 23>, type=1, laddr=addr(ip='::', port=49665), raddr=(), status='LISTEN', pid=1848), sconn(fd=-1, family=<AddressFamily.AF_INET: 2>, type=1, laddr=addr(ip='127.0.0.1', port=62647), raddr=addr(ip='127.0.0.1', port=62648), status='ESTABLISHED', pid=12640), sconn(fd=-1, family=<AddressFamily.AF_INET: 2>, type=1, laddr=addr(ip='127.0.0.1', port=62620), raddr=addr(ip='127.0.0.1', port=62679), status='ESTABLISHED', pid=12640), sconn(fd=-1, family=<AddressFamily.AF_INET: 2>, type=2, laddr=addr(ip='0.0.0.0', port=61079), raddr=(), status='NONE', pid=3088), sconn(fd=-1, family=<AddressFamily.AF_INET: 2>, type=1, laddr=addr(ip='127.0.0.1', port=49927), raddr=addr(ip='127.0.0.1', port=49928), status='ESTABLISHED', pid=7140), sconn(fd=-1, family=<AddressFamily.AF_INET: 2>, type=1, laddr=addr(ip='172.30.196.138', port=63135), raddr=addr(ip='221.181.72.244', port=443), status='CLOSE_WAIT', pid=1492), sconn(fd=-1, family=<AddressFamily.AF_INET: 2>, type=2, laddr=addr(ip='0.0.0.0', port=5353), raddr=(), status='NONE', pid=1472), sconn(fd=-1, family=<AddressFamily.AF_INET: 2>, type=2, laddr=addr(ip='0.0.0.0', port=52855), raddr=(), status='NONE', pid=5768), sconn(fd=-1, family=<AddressFamily.AF_INET: 2>, type=1, laddr=addr(ip='172.30.196.138', port=49742), raddr=addr(ip='61.135.248.145', port=80), status='CLOSE_WAIT', pid=5768), sconn(fd=-1, family=<AddressFamily.AF_INET: 2>, type=2, laddr=addr(ip='0.0.0.0', port=4500), raddr=(), status='NONE', pid=2096), sconn(fd=-1, family=<AddressFamily.AF_INET: 2>, type=1, laddr=addr(ip='127.0.0.1', port=62629), raddr=addr(ip='127.0.0.1', port=62628), status='ESTABLISHED', pid=7140), sconn(fd=-1, family=<AddressFamily.AF_INET: 2>, type=2, laddr=addr(ip='0.0.0.0', port=62112), raddr=(), status='NONE', pid=3088), sconn(fd=-1, family=<AddressFamily.AF_INET: 2>, type=1, laddr=addr(ip='127.0.0.1', port=62676), raddr=addr(ip='127.0.0.1', port=62619), status='ESTABLISHED', pid=7140), sconn(fd=-1, family=<AddressFamily.AF_INET: 2>, type=1, laddr=addr(ip='127.0.0.1', port=62640), raddr=addr(ip='127.0.0.1', port=62641), status='ESTABLISHED', pid=12640), sconn(fd=-1, family=<AddressFamily.AF_INET6: 23>, type=2, laddr=addr(ip='fe80::616f:c8d6:890d:4470', port=1900), raddr=(), status='NONE', pid=760), sconn(fd=-1, family=<AddressFamily.AF_INET: 2>, type=1, laddr=addr(ip='127.0.0.1', port=21440), raddr=(), status='LISTEN', pid=3968), sconn(fd=-1, family=<AddressFamily.AF_INET: 2>, type=1, laddr=addr(ip='127.0.0.1', port=62645), raddr=addr(ip='127.0.0.1', port=62644), status='ESTABLISHED', pid=12640), sconn(fd=-1, family=<AddressFamily.AF_INET: 2>, type=1, laddr=addr(ip='127.0.0.1', port=4300), raddr=(), status='LISTEN', pid=12508), sconn(fd=-1, family=<AddressFamily.AF_INET: 2>, type=1, laddr=addr(ip='172.30.196.138', port=62908), raddr=addr(ip='59.111.179.144', port=80), status='ESTABLISHED', pid=5768), sconn(fd=-1, family=<AddressFamily.AF_INET: 2>, type=1, laddr=addr(ip='127.0.0.1', port=8888), raddr=(), status='LISTEN', pid=7140), sconn(fd=-1, family=<AddressFamily.AF_INET: 2>, type=1, laddr=addr(ip='127.0.0.1', port=62670), raddr=addr(ip='127.0.0.1', port=62671), status='ESTABLISHED', pid=12640), sconn(fd=-1, family=<AddressFamily.AF_INET: 2>, type=2, laddr=addr(ip='127.0.0.1', port=1900), raddr=(), status='NONE', pid=760), sconn(fd=-1, family=<AddressFamily.AF_INET: 2>, type=1, laddr=addr(ip='127.0.0.1', port=49905), raddr=addr(ip='127.0.0.1', port=49906), status='ESTABLISHED', pid=7140), sconn(fd=-1, family=<AddressFamily.AF_INET: 2>, type=1, laddr=addr(ip='172.30.196.138', port=49745), raddr=addr(ip='61.135.248.145', port=80), status='CLOSE_WAIT', pid=5768), sconn(fd=-1, family=<AddressFamily.AF_INET: 2>, type=1, laddr=addr(ip='127.0.0.1', port=62641), raddr=addr(ip='127.0.0.1', port=62640), status='ESTABLISHED', pid=12640), sconn(fd=-1, family=<AddressFamily.AF_INET: 2>, type=1, laddr=addr(ip='127.0.0.1', port=62662), raddr=addr(ip='127.0.0.1', port=62661), status='ESTABLISHED', pid=12640), sconn(fd=-1, family=<AddressFamily.AF_INET: 2>, type=1, laddr=addr(ip='127.0.0.1', port=62679), raddr=addr(ip='127.0.0.1', port=62620), status='ESTABLISHED', pid=7140), sconn(fd=-1, family=<AddressFamily.AF_INET: 2>, type=1, laddr=addr(ip='127.0.0.1', port=62667), raddr=addr(ip='127.0.0.1', port=62622), status='ESTABLISHED', pid=7140), sconn(fd=-1, family=<AddressFamily.AF_INET: 2>, type=2, laddr=addr(ip='0.0.0.0', port=60850), raddr=(), status='NONE', pid=1492), sconn(fd=-1, family=<AddressFamily.AF_INET6: 23>, type=2, laddr=addr(ip='::', port=50720), raddr=(), status='NONE', pid=3540), sconn(fd=-1, family=<AddressFamily.AF_INET: 2>, type=1, laddr=addr(ip='172.30.196.138', port=49744), raddr=addr(ip='61.135.248.145', port=80), status='CLOSE_WAIT', pid=5768), sconn(fd=-1, family=<AddressFamily.AF_INET: 2>, type=1, laddr=addr(ip='127.0.0.1', port=62682), raddr=addr(ip='127.0.0.1', port=62621), status='ESTABLISHED', pid=7140), sconn(fd=-1, family=<AddressFamily.AF_INET: 2>, type=1, laddr=addr(ip='172.30.196.138', port=63156), raddr=addr(ip='221.181.72.244', port=443), status='CLOSE_WAIT', pid=1492), sconn(fd=-1, family=<AddressFamily.AF_INET: 2>, type=1, laddr=addr(ip='127.0.0.1', port=62678), raddr=addr(ip='127.0.0.1', port=62677), status='ESTABLISHED', pid=7140), sconn(fd=-1, family=<AddressFamily.AF_INET: 2>, type=2, laddr=addr(ip='0.0.0.0', port=53390), raddr=(), status='NONE', pid=4080), sconn(fd=-1, family=<AddressFamily.AF_INET: 2>, type=1, laddr=addr(ip='127.0.0.1', port=62664), raddr=addr(ip='127.0.0.1', port=62663), status='ESTABLISHED', pid=12640), sconn(fd=-1, family=<AddressFamily.AF_INET: 2>, type=1, laddr=addr(ip='127.0.0.1', port=49929), raddr=addr(ip='127.0.0.1', port=49930), status='ESTABLISHED', pid=7140), sconn(fd=-1, family=<AddressFamily.AF_INET: 2>, type=2, laddr=addr(ip='0.0.0.0', port=51465), raddr=(), status='NONE', pid=3396), sconn(fd=-1, family=<AddressFamily.AF_INET: 2>, type=1, laddr=addr(ip='172.30.196.138', port=62925), raddr=addr(ip='221.181.72.244', port=443), status='CLOSE_WAIT', pid=1492), sconn(fd=-1, family=<AddressFamily.AF_INET: 2>, type=1, laddr=addr(ip='127.0.0.1', port=49928), raddr=addr(ip='127.0.0.1', port=49927), status='ESTABLISHED', pid=7140), sconn(fd=-1, family=<AddressFamily.AF_INET: 2>, type=1, laddr=addr(ip='172.30.196.138', port=63236), raddr=addr(ip='172.30.88.88', port=3690), status='TIME_WAIT', pid=0), sconn(fd=-1, family=<AddressFamily.AF_INET: 2>, type=1, laddr=addr(ip='172.30.196.138', port=63242), raddr=addr(ip='172.30.88.82', port=80), status='TIME_WAIT', pid=0), sconn(fd=-1, family=<AddressFamily.AF_INET: 2>, type=2, laddr=addr(ip='0.0.0.0', port=55351), raddr=(), status='NONE', pid=3088), sconn(fd=-1, family=<AddressFamily.AF_INET: 2>, type=1, laddr=addr(ip='172.30.196.138', port=62792), raddr=addr(ip='111.206.58.9', port=80), status='ESTABLISHED', pid=1492), sconn(fd=-1, family=<AddressFamily.AF_INET: 2>, type=1, laddr=addr(ip='172.30.196.138', port=49748), raddr=addr(ip='61.135.248.145', port=80), status='CLOSE_WAIT', pid=5768), sconn(fd=-1, family=<AddressFamily.AF_INET: 2>, type=1, laddr=addr(ip='127.0.0.1', port=62655), raddr=addr(ip='127.0.0.1', port=62654), status='ESTABLISHED', pid=12640), sconn(fd=-1, family=<AddressFamily.AF_INET: 2>, type=1, laddr=addr(ip='127.0.0.1', port=21441), raddr=(), status='LISTEN', pid=3968), sconn(fd=-1, family=<AddressFamily.AF_INET: 2>, type=1, laddr=addr(ip='172.30.196.138', port=63238), raddr=addr(ip='172.30.88.82', port=80), status='TIME_WAIT', pid=0), sconn(fd=-1, family=<AddressFamily.AF_INET6: 23>, type=2, laddr=addr(ip='::', port=5355), raddr=(), status='NONE', pid=1472), sconn(fd=-1, family=<AddressFamily.AF_INET6: 23>, type=2, laddr=addr(ip='fe80::616f:c8d6:890d:4470', port=57537), raddr=(), status='NONE', pid=760), sconn(fd=-1, family=<AddressFamily.AF_INET: 2>, type=1, laddr=addr(ip='172.30.196.138', port=63225), raddr=addr(ip='172.30.88.82', port=80), status='TIME_WAIT', pid=0), sconn(fd=-1, family=<AddressFamily.AF_INET: 2>, type=1, laddr=addr(ip='172.30.196.138', port=63243), raddr=addr(ip='172.30.88.82', port=80), status='TIME_WAIT', pid=0), sconn(fd=-1, family=<AddressFamily.AF_INET: 2>, type=1, laddr=addr(ip='127.0.0.1', port=50000), raddr=(), status='LISTEN', pid=5768), sconn(fd=-1, family=<AddressFamily.AF_INET: 2>, type=2, laddr=addr(ip='172.30.196.138', port=138), raddr=(), status='NONE', pid=4), sconn(fd=-1, family=<AddressFamily.AF_INET: 2>, type=1, laddr=addr(ip='127.0.0.1', port=62619), raddr=(), status='LISTEN', pid=12640), sconn(fd=-1, family=<AddressFamily.AF_INET: 2>, type=1, laddr=addr(ip='172.30.196.138', port=63228), raddr=addr(ip='172.30.88.82', port=80), status='TIME_WAIT', pid=0), sconn(fd=-1, family=<AddressFamily.AF_INET6: 23>, type=1, laddr=addr(ip='::', port=51497), raddr=(), status='LISTEN', pid=2132), sconn(fd=-1, family=<AddressFamily.AF_INET6: 23>, type=1, laddr=addr(ip='::1', port=62505), raddr=addr(ip='::1', port=8888), status='ESTABLISHED', pid=1492), sconn(fd=-1, family=<AddressFamily.AF_INET: 2>, type=1, laddr=addr(ip='172.30.196.138', port=62187), raddr=addr(ip='223.119.202.32', port=443), status='CLOSE_WAIT', pid=3896), sconn(fd=-1, family=<AddressFamily.AF_INET: 2>, type=1, laddr=addr(ip='172.30.196.138', port=63246), raddr=addr(ip='172.30.88.82', port=80), status='TIME_WAIT', pid=0), sconn(fd=-1, family=<AddressFamily.AF_INET: 2>, type=1, laddr=addr(ip='0.0.0.0', port=49669), raddr=(), status='LISTEN', pid=748), sconn(fd=-1, family=<AddressFamily.AF_INET6: 23>, type=1, laddr=addr(ip='::1', port=62631), raddr=addr(ip='::1', port=8888), status='ESTABLISHED', pid=1492), sconn(fd=-1, family=<AddressFamily.AF_INET: 2>, type=1, laddr=addr(ip='172.30.196.138', port=63240), raddr=addr(ip='221.179.183.26', port=80), status='TIME_WAIT', pid=0), sconn(fd=-1, family=<AddressFamily.AF_INET: 2>, type=1, laddr=addr(ip='172.30.196.138', port=63233), raddr=addr(ip='172.30.88.82', port=80), status='TIME_WAIT', pid=0), sconn(fd=-1, family=<AddressFamily.AF_INET: 2>, type=2, laddr=addr(ip='0.0.0.0', port=50826), raddr=(), status='NONE', pid=12508), sconn(fd=-1, family=<AddressFamily.AF_INET: 2>, type=2, laddr=addr(ip='192.168.56.1', port=138), raddr=(), status='NONE', pid=4), sconn(fd=-1, family=<AddressFamily.AF_INET: 2>, type=1, laddr=addr(ip='127.0.0.1', port=62638), raddr=addr(ip='127.0.0.1', port=62639), status='ESTABLISHED', pid=12640), sconn(fd=-1, family=<AddressFamily.AF_INET: 2>, type=1, laddr=addr(ip='172.30.196.138', port=63230), raddr=addr(ip='172.30.88.82', port=80), status='TIME_WAIT', pid=0), sconn(fd=-1, family=<AddressFamily.AF_INET: 2>, type=1, laddr=addr(ip='172.30.196.138', port=63237), raddr=addr(ip='172.30.88.88', port=3690), status='TIME_WAIT', pid=0), sconn(fd=-1, family=<AddressFamily.AF_INET: 2>, type=2, laddr=addr(ip='127.0.0.1', port=52426), raddr=(), status='NONE', pid=748), sconn(fd=-1, family=<AddressFamily.AF_INET: 2>, type=1, laddr=addr(ip='127.0.0.1', port=62669), raddr=addr(ip='127.0.0.1', port=62668), status='ESTABLISHED', pid=12640), sconn(fd=-1, family=<AddressFamily.AF_INET6: 23>, type=2, laddr=addr(ip='::1', port=5353), raddr=(), status='NONE', pid=3540), sconn(fd=-1, family=<AddressFamily.AF_INET: 2>, type=1, laddr=addr(ip='172.30.196.138', port=63247), raddr=addr(ip='172.30.88.82', port=80), status='TIME_WAIT', pid=0), sconn(fd=-1, family=<AddressFamily.AF_INET6: 23>, type=2, laddr=addr(ip='::', port=123), raddr=(), status='NONE', pid=1224), sconn(fd=-1, family=<AddressFamily.AF_INET: 2>, type=2, laddr=addr(ip='0.0.0.0', port=52428), raddr=(), status='NONE', pid=8060), sconn(fd=-1, family=<AddressFamily.AF_INET: 2>, type=1, laddr=addr(ip='172.30.196.138', port=63203), raddr=addr(ip='121.51.0.22', port=443), status='CLOSE_WAIT', pid=12508), sconn(fd=-1, family=<AddressFamily.AF_INET: 2>, type=1, laddr=addr(ip='0.0.0.0', port=49668), raddr=(), status='LISTEN', pid=3828), sconn(fd=-1, family=<AddressFamily.AF_INET6: 23>, type=2, laddr=addr(ip='fe80::1c08:5bc8:7dd3:58b1', port=1900), raddr=(), status='NONE', pid=760)]\n"
     ]
    }
   ],
   "source": [
    "print(psutil.net_connections()) # 获取当前网络连接信息"
   ]
  },
  {
   "cell_type": "markdown",
   "metadata": {},
   "source": [
    "5. 获取进程信息"
   ]
  },
  {
   "cell_type": "code",
   "execution_count": null,
   "metadata": {},
   "outputs": [],
   "source": [
    "print(psutil.pids()) # 所有进程ID\n",
    "p = psutil.Process(7140) # 获取指定进程ID\n",
    "print(p.name()) # 获取进程名称\n",
    "print(p.exe()) # 进程exe路径\n",
    "print(p.cwd()) #进程工作目录\n",
    "print(p.cmdline()) # 进程启动的命令行\n",
    "print(p.ppid()) # 父进程ID\n",
    "print(p.parent()) # 父进程\n",
    "print(p.children()) # 子进程列表\n",
    "print(p.status()) # 进程状态\n",
    "print(p.username()) # 进程用户名\n",
    "print(p.create_time()) # 进程创建时间\n",
    "# print(p.terminal()) # 进程终端\n",
    "print(p.cpu_times()) # 进程使用的CPU时间\n",
    "print(p.memory_info()) # 进程使用的内存\n",
    "print(p.open_files()) # 进程打开的文件\n",
    "print(p.connections()) # 进程相关网络连接\n",
    "print(p.num_threads()) # 进程的线程数量\n",
    "print(p.threads()) # 所有线程信息\n",
    "print(p.environ()) # 进程环境变量\n",
    "# p.terminate() # 结束进程"
   ]
  },
  {
   "cell_type": "code",
   "execution_count": 2,
   "metadata": {},
   "outputs": [
    {
     "name": "stdout",
     "output_type": "stream",
     "text": [
      "USER         PID %MEM     VSZ     RSS TTY           START    TIME  COMMAND\n",
      "SYSTEM         0    ?      52       8 ?             Apr28   55:08  System Idle Process\n",
      "SYSTEM         4    ?     192      24 ?             Apr28   46:04  System\n",
      "SYSTEM        96  0.2    1260   17344 ?             Apr28   00:09  Registry\n",
      "SYSTEM       404    ?     492     524 ?             Apr28   00:00  smss.exe\n",
      "NETWORK SE   480  0.1    8840   11076 ?             Apr28   03:33  svchost.exe\n",
      "SYSTEM       552    ?    1940    2032 ?             Apr28   00:06  csrss.exe\n",
      "SYSTEM       664    ?    1668    3168 ?             Apr28   00:00  wininit.exe\n",
      "SYSTEM       740  0.1    6864    8524 ?             Apr28   01:26  services.exe\n",
      "SYSTEM       748  0.2    7536   12336 ?             Apr28   00:57  lsass.exe\n",
      "LOCAL SERV   760    ?    2312    3460 ?             Apr28   00:24  svchost.exe\n",
      "SYSTEM       780  0.1    3212    5152 ?             Apr28   00:08  svchost.exe\n",
      "lingfangyu   848  0.1    2244   11232 ?             08:54   00:00  RuntimeBroker.exe\n",
      "lingfangyu   856  0.1    5180    9676 ?             08:53   00:00  conhost.exe\n",
      "SYSTEM       880    ?    1000     396 ?             Apr28   00:00  svchost.exe\n",
      "SYSTEM       904  0.3   18972   25432 ?             Apr28   03:10  svchost.exe\n",
      "UMFD-0       936    ?    3620     164 ?             Apr28   00:00  fontdrvhost.exe\n",
      "SYSTEM      1156  0.1    2236    5224 ?             Apr28   00:01  svchost.exe\n",
      "LOCAL SERV  1208  0.1    2368    4560 ?             Apr28   00:02  svchost.exe\n",
      "LOCAL SERV  1216  0.1    4428    4576 ?             Apr28   00:02  svchost.exe\n",
      "LOCAL SERV  1224    ?    1804    2668 ?             Apr28   00:00  svchost.exe\n",
      "LOCAL SERV  1308  0.2   14560   17440 ?             Apr28   00:36  svchost.exe\n",
      "LOCAL SERV  1384    ?    2548    3680 ?             Apr28   01:21  svchost.exe\n",
      "SYSTEM      1420    ?    1620    1924 ?             Apr28   00:00  svchost.exe\n",
      "NETWORK SE  1472  0.1    4476    5544 ?             Apr28   00:36  svchost.exe\n",
      "lingfangyu  1492  2.9  122576  237140 ?             08:56   07:47  360se.exe\n",
      "LOCAL SERV  1580    ?   25012    3128 ?             Apr29   00:00  PresentationFontCache.exe\n",
      "SYSTEM      1620  0.1    2916    5724 ?             Apr28   00:02  svchost.exe\n",
      "SYSTEM      1664  0.1    3756    4228 ?             Apr28   00:00  LPlatSvc.exe\n",
      "SYSTEM      1672    ?    1804    2140 ?             Apr28   00:00  ibmpmsvc.exe\n",
      "lingfangyu  1720  0.1    2308    9084 ?             09:31   00:00  YoudaoEH.exe\n",
      "SYSTEM      1796  0.1    3652    5284 ?             Apr28   00:01  svchost.exe\n",
      "SYSTEM      1820    ?    1732    1748 ?             Apr28   00:00  atiesrxx.exe\n",
      "LOCAL SERV  1848  0.2   14896   12336 ?             Apr28   00:47  svchost.exe\n",
      "LOCAL SERV  1920    ?    2044    4016 ?             Apr28   00:00  svchost.exe\n",
      "SYSTEM      1984  0.1    6992    9332 ?             Apr28   00:31  svchost.exe\n",
      "SYSTEM      2052    ?    1368    1416 ?             Apr28   00:00  svchost.exe\n",
      "SYSTEM      2088  0.2   10736   13068 ?             Apr28   02:30  svchost.exe\n",
      "SYSTEM      2096    ?    2620    2428 ?             Apr28   00:02  svchost.exe\n",
      "SYSTEM      2104  1.0   91508   85116 ?             Apr28   23:06  svchost.exe\n",
      "NETWORK SE  2112  0.1    5336    8000 ?             Apr28   00:57  svchost.exe\n",
      "NETWORK SE  2132    ?    1844    3960 ?             Apr28   00:09  svchost.exe\n",
      "SYSTEM      2168  0.1    2796    6092 ?             Apr28   00:06  svchost.exe\n",
      "SYSTEM      2244    ?    3396    3732 ?             Apr28   00:04  SgrmBroker.exe\n",
      "LOCAL SERV  2280  0.1    4268    8628 ?             Apr28   00:02  svchost.exe\n",
      "LOCAL SERV  2316  0.1    2520    6604 ?             Apr28   00:30  svchost.exe\n",
      "SYSTEM      2400  1.4     544  111732 ?             Apr28   03:49  Memory Compression\n",
      "SYSTEM      2432  0.1    2284    4908 ?             Apr28   00:00  svchost.exe\n",
      "LOCAL SERV  2496  0.1    3364    5532 ?             Apr28   00:16  svchost.exe\n",
      "SYSTEM      2516  0.1    2288    4528 ?             Apr28   00:00  igfxCUIService.exe\n",
      "lingfangyu  2524  1.1   39968   89792 ?             08:53   00:06  ShellExperienceHost.exe\n",
      "SYSTEM      2540  0.1    3552    7020 ?             Apr28   00:02  svchost.exe\n",
      "SYSTEM      2608    ?    1856    3656 ?             Apr28   00:00  svchost.exe\n",
      "LOCAL SERV  2620  0.1    2120    4248 ?             Apr28   00:01  svchost.exe\n",
      "SYSTEM      2716    ?    1388    2328 ?             Apr29   00:00  svchost.exe\n",
      "SYSTEM      2724  0.1    5680   11060 ?             Apr28   03:15  svchost.exe\n",
      "SYSTEM      2764  0.1    4340    9528 ?             May05   00:01  svchost.exe\n",
      "LOCAL SERV  2824    ?    2480    4004 ?             Apr29   00:01  svchost.exe\n",
      "SYSTEM      2912  0.1    3032    4436 ?             Apr28   00:00  tphkload.exe\n",
      "LOCAL SERV  2936  0.1    3316    7984 ?             Apr28   00:13  svchost.exe\n",
      "SYSTEM      2968  0.4   45928   33048 ?             Apr28   04:04  svchost.exe\n",
      "NETWORK SE  3076    ?    2668    3040 ?             Apr28   00:00  svchost.exe\n",
      "SYSTEM      3088  0.3  123044   21648 ?             Apr28   08:36  360EntClient.exe\n",
      "LOCAL SERV  3096    ?    1824    2272 ?             Apr28   00:03  svchost.exe\n",
      "LOCAL SERV  3116  0.1    3836    6848 ?             Apr28   01:54  svchost.exe\n",
      "SYSTEM      3128  0.1   11524   11528 ?             Apr28   00:15  ZhuDongFangYu.exe\n",
      "SYSTEM      3180    ?    1356    1012 ?             Apr28   00:00  SASrv.exe\n",
      "LOCAL SERV  3236  0.1    2624    5324 ?             Apr28   00:00  svchost.exe\n",
      "SYSTEM      3360  0.1    6096    8600 ?             Apr28   01:13  svchost.exe\n",
      "SYSTEM      3396  0.1   17496   10660 ?             Apr28   00:05  QQProtect.exe\n",
      "SYSTEM      3440  0.1    2492    8932 ?             08:53   00:00  shtctky.exe\n",
      "LOCAL SERV  3456  0.1    2252    4908 ?             Apr28   00:00  svchost.exe\n",
      "lingfangyu  3484  0.3    6532   26816 ?             08:53   00:09  sihost.exe\n",
      "SYSTEM      3540  0.2    8408   15436 ?             Apr28   00:08  TeamViewer_Service.exe\n",
      "SYSTEM      3552  0.1    5384    9800 ?             Apr28   00:02  SecurityHealthService.exe\n",
      "lingfangyu  3556  0.3   21928   24256 ?             08:57   00:02  360se.exe\n",
      "SYSTEM      3624  0.2    5084   12920 ?             Apr28   00:04  svchost.exe\n",
      "SYSTEM      3712    ?    1836    3180 ?             Apr29   00:00  svchost.exe\n",
      "SYSTEM      3724  0.1    2136    6100 ?             Apr28   00:00  svchost.exe\n",
      "SYSTEM      3780  0.1    2732    7160 ?             Apr28   00:01  svchost.exe\n",
      "SYSTEM      3828  0.2    6328   13308 ?             Apr28   00:04  spoolsv.exe\n",
      "NETWORK SE  3864    ?    2136    2724 ?             Apr28   00:01  svchost.exe\n",
      "lingfangyu  3896    ?   24108     632 ?             10:28   00:00  Video.UI.exe\n",
      "SYSTEM      3932    ?    1272    2652 ?             Apr28   00:00  HidMonitorSvc.exe\n",
      "NETWORK SE  3940  0.1    3868    8064 ?             Apr28   00:03  svchost.exe\n",
      "SYSTEM      3948  0.2   11940   17744 ?             Apr28   00:12  svchost.exe\n",
      "LOCAL SERV  3956  0.4   34332   35984 ?             Apr28   03:19  svchost.exe\n",
      "SYSTEM      3968  0.1    4864    7008 ?             Apr28   00:01  FlashHelperService.exe\n",
      "SYSTEM      3976    ?    2108    2436 ?             Apr28   00:00  micmute.exe\n",
      "SYSTEM      3984    ?     960    1920 ?             Apr28   00:00  ibtsiva.exe\n",
      "SYSTEM      4008    ?    2448    3364 ?             Apr28   00:02  svchost.exe\n",
      "lingfangyu  4080  1.6  106464  132528 ?             08:59   04:58  360se.exe\n",
      "SYSTEM      4112  0.3   31820   28240 ?             Apr28   01:48  SearchIndexer.exe\n",
      "LOCAL SERV  4224    ?    1636     628 ?             Apr28   00:00  svchost.exe\n",
      "LOCAL SERV  4232    ?    1356    1088 ?             Apr28   00:00  svchost.exe\n",
      "DWM-6       4280  1.1   56116   89112 ?             May07   02:49  dwm.exe\n",
      "SYSTEM      4304    ?    1456    2284 ?             Apr28   00:00  unsecapp.exe\n",
      "lingfangyu  4344  0.2   10088   16148 ?             08:57   00:00  wdswfsafe.exe\n",
      "SYSTEM      4504  0.1    2796    6280 ?             Apr28   00:04  svchost.exe\n",
      "lingfangyu  4516  0.1    1124    5192 ?             08:53   00:25  ApMsgFwd.exe\n",
      "SYSTEM      4584  0.1    3976    5648 ?             Apr28   00:05  svchost.exe\n",
      "SYSTEM      4756    ?   10052    1948 ?             Apr28   00:00  omtsreco.exe\n",
      "SYSTEM      4772    ?   15908    1600 ?             Apr28   00:00  TNSLSNR.EXE\n",
      "SYSTEM      4812  0.1    3084    6572 ?             Apr28   00:03  WmiPrvSE.exe\n",
      "LOCAL SERV  5028  0.2   12224   17792 ?             May07   02:08  audiodg.exe\n",
      "SYSTEM      5344  0.1    3468    9388 ?             Apr28   00:04  svchost.exe\n",
      "SYSTEM      5372    ?    1980    3664 ?             Apr28   00:00  CxAudMsg64.exe\n",
      "SYSTEM      5696  0.1    3380    7052 ?             Apr29   00:57  svchost.exe\n",
      "lingfangyu  5768  0.4  100348   34504 ?             09:31   00:35  YoudaoDict.exe\n",
      "SYSTEM      5952  0.1    2196    4616 ?             Apr28   00:00  svchost.exe\n",
      "SYSTEM      5976  0.1    1784    4456 ?             Apr29   00:02  svchost.exe\n",
      "lingfangyu  6072  0.1    1900    9812 ?             09:04   00:00  dllhost.exe\n",
      "lingfangyu  6304  0.4   12288   30872 ?             09:41   00:07  SogouCloud.exe\n",
      "SYSTEM      6452  0.1    2284    9620 ?             11:36   00:00  SearchProtocolHost.exe\n",
      "NETWORK SE  7544  0.1    3660    8376 ?             May06   00:01  WmiPrvSE.exe\n",
      "LOCAL SERV  7908  0.1    4108    9924 ?             Apr29   00:04  svchost.exe\n",
      "lingfangyu  7952  0.1    1884    8300 ?             08:53   00:00  CAudioFilterAgent64.exe\n",
      "lingfangyu  8060  0.3   57484   23944 ?             08:53   00:43  360tray.exe\n",
      "lingfangyu  8468  0.1    2344    9200 ?             08:53   00:00  igfxHK.exe\n",
      "lingfangyu  8524  1.0   51716   78004 ?             09:00   00:05  360se.exe\n",
      "lingfangyu  8632  0.3    4644   22396 ?             09:03   00:00  ApplicationFrameHost.exe\n",
      "lingfangyu  8844  0.1    1972    9456 ?             08:53   00:00  MSASCuiL.exe\n",
      "lingfangyu  8916  0.6   61860   49980 ?             11:31   00:01  YoudaoOcr.exe\n",
      "lingfangyu  9020  1.4   98240  114404 ?             09:06   10:28  360se.exe\n",
      "lingfangyu  9120  0.1   10764   11672 ?             08:53   00:15  TSVNCache.exe\n",
      "LOCAL SERV  9896  0.1    1728    6800 ?             08:53   00:00  svchost.exe\n",
      "lingfangyu 10204  0.2    5624   16728 ?             08:53   00:07  RuntimeBroker.exe\n",
      "lingfangyu 10308  0.3    6784   22676 ?             08:53   00:30  RuntimeBroker.exe\n",
      "lingfangyu 10324  0.2    2372   12576 ?             08:53   00:00  tposd.exe\n",
      "LOCAL SERV 10848  0.1    2196    9696 ?             May07   00:00  svchost.exe\n",
      "lingfangyu 11104  0.5   18312   37468 ?             08:53   00:00  SkypeApp.exe\n",
      "LOCAL SERV 11116  0.1    1868    6876 ?             May07   00:00  dasHost.exe\n",
      "lingfangyu 11168  0.3    3556   21160 ?             08:53   00:00  RuntimeBroker.exe\n",
      "lingfangyu 11532  0.4   11972   30344 ?             11:38   00:00  conhost.exe\n",
      "lingfangyu 11736  1.0   73200   80632 ?             08:57   03:02  360se.exe\n",
      "lingfangyu 12076  0.4   29344   36196 ?             09:31   00:00  YoudaoDictHelper.exe\n",
      "SYSTEM     12088  0.1    2036    5416 ?             May07   00:00  svchost.exe\n",
      "SYSTEM     12156    ?    6252    2300 ?             Apr29   00:00  svchost.exe\n",
      "lingfangyu 12260  2.0  105556  164004 ?             08:53   01:33  explorer.exe\n",
      "lingfangyu 12308  0.2    3688   15300 ?             08:53   00:00  svchost.exe\n",
      "lingfangyu 12340  1.6   72568  132616 ?             08:53   00:39  SearchUI.exe\n",
      "lingfangyu 12508  2.2  128228  177212 ?             08:55   01:16  TIM.exe\n",
      "lingfangyu 12584  0.1    4428    4556 ?             08:55   00:00  TXPlatform.exe\n",
      "lingfangyu 12612  0.9   74276   69420 ?             08:57   00:37  360se.exe\n",
      "SYSTEM     12644  0.1    1396    6236 ?             11:36   00:00  SearchFilterHost.exe\n",
      "SYSTEM     12960  0.1    2452    6096 ?             May07   00:52  csrss.exe\n",
      "lingfangyu 12988  0.2    8284   18748 ?             11:38   00:00  SGTool.exe\n",
      "lingfangyu 13528  1.0   75924   83648 ?             11:38   00:05  360se.exe\n",
      "lingfangyu 13820  0.4    7124   28476 ?             08:53   00:03  svchost.exe\n",
      "lingfangyu 14000  0.1    2436    9876 ?             08:54   00:10  logon.exe\n",
      "lingfangyu 14264  0.1    2084   11940 ?             08:54   00:00  SkypeBackgroundHost.exe\n",
      "lingfangyu 14360  0.1    1244    6212 ?             09:41   00:00  RuntimeBroker.exe\n",
      "lingfangyu 14500  0.1  122028    9168 ?             08:53   00:39  360EntClient.exe\n",
      "lingfangyu 14672  0.3   12848   23676 ?             08:53   00:01  taskhostw.exe\n",
      "lingfangyu 14892  0.1    1948    8668 ?             10:28   00:00  RuntimeBroker.exe\n",
      "lingfangyu 14920  0.2    5148   18888 ?             08:55   00:00  svchost.exe\n",
      "lingfangyu 15132  0.1    1712    7032 ?             08:53   00:00  ApntEx.exe\n",
      "lingfangyu 15212  0.2    3312   12280 ?             08:53   00:00  igfxEM.exe\n",
      "lingfangyu 15276  0.6   37668   46024 ?             09:31   00:03  YoudaoDictHelper.exe\n",
      "lingfangyu 15380  0.1    1052    4932 ?             09:31   00:00  YoudaoWSH.exe\n",
      "SYSTEM     15392  0.1    2420   10216 ?             08:53   00:23  atieclxx.exe\n",
      "UMFD-6     15536  0.4    6372   30748 ?             May07   00:15  fontdrvhost.exe\n",
      "lingfangyu 15724  0.3    5368   21872 ?             08:53   00:01  Apoint.exe\n",
      "lingfangyu 16352  0.4   15880   29832 ?             08:53   00:30  ctfmon.exe\n",
      "lingfangyu 16576  0.1    2436    9352 ?             08:53   00:01  tpnumlkd.exe\n",
      "SYSTEM     16668  0.1    1484    5744 ?             11:24   00:00  svchost.exe\n",
      "lingfangyu 17060  1.0   66416   83864 ?             11:38   00:04  python.exe\n",
      "lingfangyu 17108  0.2    8184   15152 ?             11:38   00:00  python.exe\n",
      "lingfangyu 17168  0.5   19636   44184 ?             09:41   00:04  WindowsInternal.ComposableShell.Experiences.TextInput.InputApp.exe\n",
      "lingfangyu 17248  0.8   53760   61400 ?             11:38   00:02  python.exe\n",
      "lingfangyu 17252  0.1    1864    7232 ?             08:53   00:00  LPlatSvc.exe\n",
      "lingfangyu 17292    ?    3320    2920 ?             08:53   00:04  PowerMgr.exe\n",
      "SYSTEM     18192  0.1    2468    8708 ?             May07   00:00  winlogon.exe\n",
      "SYSTEM     18316  0.3    9772   21248 ?             May07   00:00  svchost.exe\n"
     ]
    }
   ],
   "source": [
    "psutil.test()"
   ]
  }
 ],
 "metadata": {
  "kernelspec": {
   "display_name": "Python 3",
   "language": "python",
   "name": "python3"
  },
  "language_info": {
   "codemirror_mode": {
    "name": "ipython",
    "version": 3
   },
   "file_extension": ".py",
   "mimetype": "text/x-python",
   "name": "python",
   "nbconvert_exporter": "python",
   "pygments_lexer": "ipython3",
   "version": "3.7.3"
  }
 },
 "nbformat": 4,
 "nbformat_minor": 2
}
