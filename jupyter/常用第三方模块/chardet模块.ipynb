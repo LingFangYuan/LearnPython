{
 "cells": [
  {
   "cell_type": "markdown",
   "metadata": {},
   "source": [
    "## chardet模块\n",
    "对于未知编码的bytes，使用chardet来检测编码"
   ]
  },
  {
   "cell_type": "code",
   "execution_count": 2,
   "metadata": {},
   "outputs": [
    {
     "name": "stdout",
     "output_type": "stream",
     "text": [
      "{'encoding': 'ascii', 'confidence': 1.0, 'language': ''}\n"
     ]
    }
   ],
   "source": [
    "import chardet\n",
    "\n",
    "print(chardet.detect(b'Hello, world!'))"
   ]
  },
  {
   "cell_type": "markdown",
   "metadata": {},
   "source": [
    "- 检测出的编码是ascii，confidence表示检测的概率，1.0是100%"
   ]
  },
  {
   "cell_type": "code",
   "execution_count": 12,
   "metadata": {},
   "outputs": [
    {
     "name": "stdout",
     "output_type": "stream",
     "text": [
      "{'encoding': 'GB2312', 'confidence': 0.7407407407407407, 'language': 'Chinese'}\n",
      "{'encoding': 'utf-8', 'confidence': 0.99, 'language': ''}\n",
      "{'encoding': 'EUC-JP', 'confidence': 0.99, 'language': 'Japanese'}\n",
      "{'encoding': 'Windows-1252', 'confidence': 0.73, 'language': ''}\n"
     ]
    }
   ],
   "source": [
    "data = '离离原上草，一岁一枯荣'.encode('gbk')\n",
    "data1 = '离离原上草，一岁一枯荣'.encode('utf-8')\n",
    "data2 = '最新の主要ニュース'.encode('euc-jp')\n",
    "print(chardet.detect(data))\n",
    "print(chardet.detect(data1))\n",
    "print(chardet.detect(data2))"
   ]
  },
  {
   "cell_type": "code",
   "execution_count": null,
   "metadata": {},
   "outputs": [],
   "source": []
  }
 ],
 "metadata": {
  "kernelspec": {
   "display_name": "Python 3",
   "language": "python",
   "name": "python3"
  },
  "language_info": {
   "codemirror_mode": {
    "name": "ipython",
    "version": 3
   },
   "file_extension": ".py",
   "mimetype": "text/x-python",
   "name": "python",
   "nbconvert_exporter": "python",
   "pygments_lexer": "ipython3",
   "version": "3.7.3"
  }
 },
 "nbformat": 4,
 "nbformat_minor": 2
}
