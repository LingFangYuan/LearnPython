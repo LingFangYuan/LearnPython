{
 "cells": [
  {
   "cell_type": "code",
   "execution_count": 1,
   "metadata": {},
   "outputs": [],
   "source": [
    "import numpy as np"
   ]
  },
  {
   "cell_type": "code",
   "execution_count": 16,
   "metadata": {},
   "outputs": [
    {
     "name": "stdout",
     "output_type": "stream",
     "text": [
      "[1 2 4] <class 'numpy.ndarray'>\n",
      "[[1 2]\n",
      " [3 4]]\n",
      "[[1 2 3 4]]\n",
      "[1.+0.j 2.+0.j 3.+0.j 4.+0.j]\n"
     ]
    }
   ],
   "source": [
    "a = np.array([1, 2, 4])\n",
    "print(a, type(a))\n",
    "a = np.array([[1, 2], [3, 4]])\n",
    "print(a)\n",
    "a = np.array([1, 2, 3, 4], ndmin=2)\n",
    "print(a)\n",
    "a = np.array([1, 2, 3, 4], dtype=np.complex)\n",
    "print(a)"
   ]
  },
  {
   "cell_type": "code",
   "execution_count": 30,
   "metadata": {},
   "outputs": [
    {
     "name": "stdout",
     "output_type": "stream",
     "text": [
      "[('ling', 10) ('fang', 20) ('yuan', 30)] [10 20 30] ['ling' 'fang' 'yuan']\n"
     ]
    }
   ],
   "source": [
    "dt = np.dtype([('name', 'U20'), ('age', 'i8')])\n",
    "a = np.array([('ling', 10), ('fang', 20), ('yuan', 30)], dtype=dt)\n",
    "print(a, a['age'], a['name'])"
   ]
  },
  {
   "cell_type": "code",
   "execution_count": 38,
   "metadata": {},
   "outputs": [
    {
     "name": "stdout",
     "output_type": "stream",
     "text": [
      "(2, 3)\n",
      "[[1 2]\n",
      " [3 4]\n",
      " [5 6]]\n",
      "[[1 2 3]\n",
      " [4 5 6]]\n",
      "2\n"
     ]
    }
   ],
   "source": [
    "a = np.array([[1, 2, 3], [4, 5, 6]])\n",
    "print(a.shape)\n",
    "a.shape = (3, 2)\n",
    "print(a)\n",
    "b = a.reshape(2, 3)\n",
    "print(b)\n",
    "print(b.ndim)"
   ]
  },
  {
   "cell_type": "code",
   "execution_count": 44,
   "metadata": {},
   "outputs": [
    {
     "name": "stdout",
     "output_type": "stream",
     "text": [
      "1\n",
      "[[[ 0  1  2]\n",
      "  [ 3  4  5]\n",
      "  [ 6  7  8]\n",
      "  [ 9 10 11]]\n",
      "\n",
      " [[12 13 14]\n",
      "  [15 16 17]\n",
      "  [18 19 20]\n",
      "  [21 22 23]]]\n",
      "4\n",
      "  C_CONTIGUOUS : True\n",
      "  F_CONTIGUOUS : False\n",
      "  OWNDATA : False\n",
      "  WRITEABLE : True\n",
      "  ALIGNED : True\n",
      "  WRITEBACKIFCOPY : False\n",
      "  UPDATEIFCOPY : False\n"
     ]
    }
   ],
   "source": [
    "a = np.arange(24)\n",
    "print(a.ndim)\n",
    "b = a.reshape(2, 4, 3)\n",
    "print(b)\n",
    "print(b.itemsize)\n",
    "print(b.flags)"
   ]
  },
  {
   "cell_type": "code",
   "execution_count": 53,
   "metadata": {},
   "outputs": [
    {
     "name": "stdout",
     "output_type": "stream",
     "text": [
      "np.empty\n",
      " [[0 0]\n",
      " [0 0]\n",
      " [0 0]]\n",
      "np.zeros\n",
      " [[0 0]\n",
      " [0 0]\n",
      " [0 0]]\n",
      "np.zeros\n",
      " [[(0, 0) (0, 0)]\n",
      " [(0, 0) (0, 0)]]\n",
      "np.ones\n",
      " [[1 1 1]\n",
      " [1 1 1]\n",
      " [1 1 1]]\n"
     ]
    }
   ],
   "source": [
    "x = np.empty([3, 2], dtype='i4')\n",
    "print('np.empty\\n', x)\n",
    "x = np.zeros([3, 2], dtype='i4')\n",
    "print('np.zeros\\n', x)\n",
    "x = np.zeros([2, 2], dtype=[('x', 'i4'), ('y', 'i4')])\n",
    "print('np.zeros\\n', x)\n",
    "x = np.ones([3, 3], dtype='i4')\n",
    "print('np.ones\\n', x)"
   ]
  },
  {
   "cell_type": "code",
   "execution_count": 56,
   "metadata": {},
   "outputs": [
    {
     "name": "stdout",
     "output_type": "stream",
     "text": [
      "[2. 3. 5.]\n"
     ]
    }
   ],
   "source": [
    "x = [2, 3, 5]\n",
    "a = np.asarray(x, dtype='f')\n",
    "print(a)"
   ]
  },
  {
   "cell_type": "code",
   "execution_count": 61,
   "metadata": {},
   "outputs": [
    {
     "name": "stdout",
     "output_type": "stream",
     "text": [
      "[b'H' b'e' b'l' b'l' b'o' b' ' b'W' b'o' b'r' b'l' b'd']\n"
     ]
    }
   ],
   "source": [
    "s = b'Hello World'\n",
    "a = np.frombuffer(s, dtype='S1')\n",
    "print(a)"
   ]
  },
  {
   "cell_type": "code",
   "execution_count": 64,
   "metadata": {},
   "outputs": [
    {
     "name": "stdout",
     "output_type": "stream",
     "text": [
      "[0. 1. 2. 3. 4.]\n"
     ]
    }
   ],
   "source": [
    "li = range(5)\n",
    "x = np.fromiter(li, dtype='f')\n",
    "print(x)"
   ]
  },
  {
   "cell_type": "code",
   "execution_count": 65,
   "metadata": {},
   "outputs": [
    {
     "name": "stdout",
     "output_type": "stream",
     "text": [
      "[ 2.  5.  8. 11. 14. 17.]\n"
     ]
    }
   ],
   "source": [
    "x = np.arange(2, 20, 3, dtype='f')\n",
    "print(x)"
   ]
  },
  {
   "cell_type": "code",
   "execution_count": 73,
   "metadata": {},
   "outputs": [
    {
     "name": "stdout",
     "output_type": "stream",
     "text": [
      "(array([1. , 1.9, 2.8, 3.7, 4.6, 5.5, 6.4, 7.3, 8.2, 9.1], dtype=float32), 0.9)\n"
     ]
    }
   ],
   "source": [
    "x = np.linspace(1, 10, 10, endpoint=False, retstep=True, dtype='f')\n",
    "print(x)"
   ]
  },
  {
   "cell_type": "code",
   "execution_count": 75,
   "metadata": {},
   "outputs": [
    {
     "name": "stdout",
     "output_type": "stream",
     "text": [
      "[ 2.  4.  8. 16.]\n"
     ]
    }
   ],
   "source": [
    "x = np.logspace(1, 4, 4, endpoint=True, base=2, dtype='f')\n",
    "print(x)"
   ]
  },
  {
   "cell_type": "code",
   "execution_count": 94,
   "metadata": {},
   "outputs": [
    {
     "name": "stdout",
     "output_type": "stream",
     "text": [
      "[2 4 6] [2 4 6]\n",
      "[[2 4]\n",
      " [8 9]]\n",
      "[[2 4]\n",
      " [5 6]\n",
      " [8 9]]\n"
     ]
    }
   ],
   "source": [
    "# 切片\n",
    "a = np.arange(10)\n",
    "s = slice(2, 7, 2)\n",
    "print(a[s], a[2:7:2])\n",
    "a = np.array([[1, 2, 4], [3, 5, 6], [7, 8, 9]])\n",
    "print(a[::2, 1:3])\n",
    "print(a[..., 1:3])"
   ]
  },
  {
   "cell_type": "code",
   "execution_count": 95,
   "metadata": {},
   "outputs": [
    {
     "name": "stdout",
     "output_type": "stream",
     "text": [
      "[1 4 5]\n"
     ]
    }
   ],
   "source": [
    "# 高级索引\n",
    "x = np.array([[1, 2], [3, 4], [5, 6]])\n",
    "y = x[[0, 1, 2], [0, 1, 0]]\n",
    "print(y)"
   ]
  },
  {
   "cell_type": "code",
   "execution_count": 97,
   "metadata": {},
   "outputs": [
    {
     "name": "stdout",
     "output_type": "stream",
     "text": [
      "[[ 0  1  2]\n",
      " [ 3  4  5]\n",
      " [ 6  7  8]\n",
      " [ 9 10 11]]\n",
      "[ 6  7  8  9 10 11]\n",
      "[nan  1.  2. nan  3.  4.  5.]\n",
      "[1. 2. 3. 4. 5.]\n"
     ]
    }
   ],
   "source": [
    "# 布尔索引\n",
    "x = np.array([[0,  1,  2], [3,  4,  5], [6,  7,  8], [9,  10,  11]])\n",
    "print(x)\n",
    "print(x[x > 5])\n",
    "a = np.array([np.nan,  1,2,np.nan,3,4,5])  \n",
    "print(a)\n",
    "print(a[~np.isnan(a)])"
   ]
  },
  {
   "cell_type": "code",
   "execution_count": 99,
   "metadata": {},
   "outputs": [
    {
     "name": "stdout",
     "output_type": "stream",
     "text": [
      "[[ 10  20  30  40]\n",
      " [ 20  40  60  80]\n",
      " [ 30  60  90 120]\n",
      " [ 40  80 120 160]]\n"
     ]
    }
   ],
   "source": [
    "# 广播\n",
    "a = np.array([1, 2, 3, 4]).reshape(1, 4)\n",
    "b = np.array([10, 20, 30, 40]).reshape(4, 1)\n",
    "c = a * b\n",
    "print(c)"
   ]
  },
  {
   "cell_type": "code",
   "execution_count": 106,
   "metadata": {},
   "outputs": [
    {
     "name": "stdout",
     "output_type": "stream",
     "text": [
      "[[ 0  5 10 15]\n",
      " [20 25 30 35]\n",
      " [40 45 50 55]]\n",
      "0\n",
      "40\n",
      "80\n",
      "10\n",
      "50\n",
      "90\n",
      "20\n",
      "60\n",
      "100\n",
      "30\n",
      "70\n",
      "110\n"
     ]
    }
   ],
   "source": [
    "# 迭代\n",
    "a = np.arange(0, 60, 5).reshape(3, 4)\n",
    "print(a)\n",
    "for x in np.nditer(a, order='F', op_flags=['readwrite']):\n",
    "    x[...] = 2 * x\n",
    "    print(x)"
   ]
  },
  {
   "cell_type": "code",
   "execution_count": 110,
   "metadata": {},
   "outputs": [
    {
     "name": "stdout",
     "output_type": "stream",
     "text": [
      "第一个数组：\n",
      "[[ 0  5 10 15]\n",
      " [20 25 30 35]\n",
      " [40 45 50 55]]\n",
      "第二个数组：\n",
      "[1 2 3 4]\n",
      "修改后的数组是：\n",
      "0:1\n",
      "5:2\n",
      "10:3\n",
      "15:4\n",
      "20:1\n",
      "25:2\n",
      "30:3\n",
      "35:4\n",
      "40:1\n",
      "45:2\n",
      "50:3\n",
      "55:4\n"
     ]
    }
   ],
   "source": [
    "# 广播迭代\n",
    "a = np.arange(0, 60, 5)\n",
    "a = a.reshape(3, 4)\n",
    "print('第一个数组：')\n",
    "print(a)\n",
    "print('第二个数组：')\n",
    "b = np.array([1,  2,  3,  4], dtype=int)\n",
    "print(b)\n",
    "print('修改后的数组是：')\n",
    "for x, y in np.nditer([a, b]):\n",
    "    print(\"%d:%d\" % (x, y))"
   ]
  },
  {
   "cell_type": "code",
   "execution_count": 120,
   "metadata": {},
   "outputs": [
    {
     "name": "stdout",
     "output_type": "stream",
     "text": [
      "[0.         0.5        0.70710678 0.8660254  1.        ]\n",
      "[1.00000000e+00 8.66025404e-01 7.07106781e-01 5.00000000e-01\n",
      " 6.12323400e-17]\n",
      "[0.00000000e+00 5.77350269e-01 1.00000000e+00 1.73205081e+00\n",
      " 1.63312394e+16]\n",
      "[0.         0.5        0.70710678 0.8660254  1.        ]\n",
      "[0.         0.52359878 0.78539816 1.04719755 1.57079633]\n",
      "[ 0. 30. 45. 60. 90.]\n"
     ]
    }
   ],
   "source": [
    "a = np.array([0,30,45,60,90])\n",
    "print(np.sin(a * np.pi / 180))\n",
    "print(np.cos(a * np.pi / 180))\n",
    "print(np.tan(a * np.pi / 180))\n",
    "sin = np.sin(a * np.pi / 180)\n",
    "print(sin)\n",
    "print(np.arcsin(sin))\n",
    "print(np.degrees(np.arcsin(sin)))"
   ]
  },
  {
   "cell_type": "code",
   "execution_count": 131,
   "metadata": {},
   "outputs": [
    {
     "name": "stdout",
     "output_type": "stream",
     "text": [
      "[  1.    5.6 123.    0.6  25.5]\n",
      "[  1.   5. 123.   0.  25.]\n",
      "[  1.   6. 123.   1.  26.]\n"
     ]
    }
   ],
   "source": [
    "a = np.array([1.0, 5.55,  123,  0.567,  25.532])\n",
    "print(np.around(a, 1))\n",
    "print(np.floor(a))\n",
    "print(np.ceil(a))"
   ]
  },
  {
   "cell_type": "code",
   "execution_count": 145,
   "metadata": {},
   "outputs": [
    {
     "name": "stdout",
     "output_type": "stream",
     "text": [
      "[  0   1   2   0 100]\n",
      "[-9223372036854775808                    1                    0\n",
      " -9223372036854775808                    0]\n"
     ]
    },
    {
     "name": "stderr",
     "output_type": "stream",
     "text": [
      "D:\\anaconda3\\lib\\site-packages\\ipykernel_launcher.py:3: RuntimeWarning: divide by zero encountered in reciprocal\n",
      "  This is separate from the ipykernel package so we can avoid doing imports until\n",
      "D:\\anaconda3\\lib\\site-packages\\ipykernel_launcher.py:3: RuntimeWarning: invalid value encountered in reciprocal\n",
      "  This is separate from the ipykernel package so we can avoid doing imports until\n"
     ]
    }
   ],
   "source": [
    "a = np.array([0.25,  1.33,  2.5,  0.1,  100.0], dtype='i8')\n",
    "print(a)\n",
    "print(np.reciprocal(a))"
   ]
  },
  {
   "cell_type": "code",
   "execution_count": 147,
   "metadata": {},
   "outputs": [
    {
     "name": "stdout",
     "output_type": "stream",
     "text": [
      "1.118033988749895\n",
      "1.25\n"
     ]
    }
   ],
   "source": [
    "# 标准差\n",
    "print(np.std([1,2,3,4]))\n",
    "# 方差\n",
    "print(np.var([1,2,3,4]))"
   ]
  },
  {
   "cell_type": "code",
   "execution_count": 150,
   "metadata": {},
   "outputs": [
    {
     "name": "stdout",
     "output_type": "stream",
     "text": [
      "[[1. 0. 0. 0. 0.]\n",
      " [0. 1. 0. 0. 0.]\n",
      " [0. 0. 1. 0. 0.]\n",
      " [0. 0. 0. 1. 0.]\n",
      " [0. 0. 0. 0. 1.]]\n"
     ]
    }
   ],
   "source": [
    "import numpy.matlib\n",
    "print(np.matlib.identity(5, dtype='f'))"
   ]
  },
  {
   "cell_type": "code",
   "execution_count": 154,
   "metadata": {},
   "outputs": [
    {
     "name": "stdout",
     "output_type": "stream",
     "text": [
      "[[1 2]\n",
      " [3 4]]\n",
      "[[11 12]\n",
      " [13 14]]\n",
      "[[37 40]\n",
      " [85 92]]\n",
      "[[11 24]\n",
      " [39 56]]\n"
     ]
    }
   ],
   "source": [
    "a = np.array([[1,2],[3,4]]) \n",
    "b = np.array([[11,12],[13,14]])\n",
    "print(a)\n",
    "print(b)\n",
    "print(np.dot(a,b))\n",
    "print(a * b)"
   ]
  },
  {
   "cell_type": "code",
   "execution_count": 157,
   "metadata": {},
   "outputs": [
    {
     "name": "stdout",
     "output_type": "stream",
     "text": [
      "a:\n",
      "[[[0 1]\n",
      "  [2 3]]\n",
      "\n",
      " [[4 5]\n",
      "  [6 7]]]\n",
      "b:\n",
      "[[0 1]\n",
      " [2 3]]\n",
      "matmul:\n",
      "[[[ 2  3]\n",
      "  [ 6 11]]\n",
      "\n",
      " [[10 19]\n",
      "  [14 27]]]\n"
     ]
    }
   ],
   "source": [
    "a = np.arange(8).reshape(2,2,2) \n",
    "b = np.arange(4).reshape(2,2) \n",
    "print('a:')\n",
    "print(a)\n",
    "print('b:')\n",
    "print(b)\n",
    "print('matmul:')\n",
    "print(np.matmul(a,b))"
   ]
  }
 ],
 "metadata": {
  "kernelspec": {
   "display_name": "Python 3",
   "language": "python",
   "name": "python3"
  },
  "language_info": {
   "codemirror_mode": {
    "name": "ipython",
    "version": 3
   },
   "file_extension": ".py",
   "mimetype": "text/x-python",
   "name": "python",
   "nbconvert_exporter": "python",
   "pygments_lexer": "ipython3",
   "version": "3.7.3"
  }
 },
 "nbformat": 4,
 "nbformat_minor": 2
}
