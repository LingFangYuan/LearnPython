{
 "cells": [
  {
   "cell_type": "markdown",
   "metadata": {},
   "source": [
    "## 正则表达式\n",
    "- 正则表达式是一种用来匹配字符串的强有力的武器。它的设计思想是用一种描述性的语言来给字符串定义一个规则，凡是符合规则的字符串，我们就认为它“匹配”了，否则，该字符串就是不合法的。"
   ]
  },
  {
   "cell_type": "code",
   "execution_count": 31,
   "metadata": {},
   "outputs": [
    {
     "name": "stdout",
     "output_type": "stream",
     "text": [
      "0210-2124\n"
     ]
    }
   ],
   "source": [
    "import re\n",
    "\n",
    "rs = re.match(r'\\d{3,8}\\-\\d{3,8}', '0210-2124')\n",
    "print(rs.group())"
   ]
  },
  {
   "cell_type": "markdown",
   "metadata": {},
   "source": [
    "- match()方法判断是否匹配，如果匹配成功，返回一个Match对象，否则返回None。常见的判断方法就是："
   ]
  },
  {
   "cell_type": "code",
   "execution_count": 32,
   "metadata": {},
   "outputs": [
    {
     "name": "stdout",
     "output_type": "stream",
     "text": [
      "ok\n"
     ]
    }
   ],
   "source": [
    "test = '用户输入的字符串'\n",
    "if re.match(r'用户', test):\n",
    "    print('ok')\n",
    "else:\n",
    "    print('failed')"
   ]
  },
  {
   "cell_type": "markdown",
   "metadata": {},
   "source": [
    "#### 切分字符串\n",
    "- 用正则表达式切分字符串比用固定的字符更灵活"
   ]
  },
  {
   "cell_type": "code",
   "execution_count": 39,
   "metadata": {},
   "outputs": [
    {
     "name": "stdout",
     "output_type": "stream",
     "text": [
      "['a', 'b', '', '', 'c']\n",
      "['a', 'b', 'c']\n",
      "['a', 'b', 'c', 'd']\n"
     ]
    }
   ],
   "source": [
    "print('a b   c'.split(' '))\n",
    "print(re.split(r'\\s+', 'a b   c'))\n",
    "print(re.split(r'[\\s,\\;]+', 'a,b;; c   d'))"
   ]
  },
  {
   "cell_type": "markdown",
   "metadata": {},
   "source": [
    "#### 分组\n",
    "- 除了简单地判断是否匹配之外，正则表达式还有提取子串的强大功能。用()表示的就是要提取的分组(Group)。\n",
    "- 如果正则表达式中定义了组，就可以在Match对象上用group()方法提取出子串来。\n",
    "- 注意到group(0)永远是原始字符串，group(1)、group(2)……表示第1、2、……个子串。\n",
    "- groups()返回子串组成的元组。"
   ]
  },
  {
   "cell_type": "code",
   "execution_count": 50,
   "metadata": {},
   "outputs": [
    {
     "name": "stdout",
     "output_type": "stream",
     "text": [
      "020-56546\n",
      "020\n",
      "56546\n",
      "('020', '56546')\n"
     ]
    }
   ],
   "source": [
    "m = re.match(r'^(\\d{3})-(\\d{3,8})$', '020-56546')\n",
    "print(m.group(0))\n",
    "print(m.group(1))\n",
    "print(m.group(2))\n",
    "print(m.groups())"
   ]
  },
  {
   "cell_type": "code",
   "execution_count": 56,
   "metadata": {},
   "outputs": [
    {
     "name": "stdout",
     "output_type": "stream",
     "text": [
      "('19', '05', '30')\n"
     ]
    }
   ],
   "source": [
    "t = '19:05:30'\n",
    "m = re.match(r'(0[0-9]|1[0-9]|2[0-3]|[0-9]):([0-5][0-9]|[0-9]):([0-5][0-9]|[0-9])', t)\n",
    "print(m.groups())"
   ]
  },
  {
   "cell_type": "markdown",
   "metadata": {},
   "source": [
    "#### 贪婪匹配\n",
    "- 正则匹配默认是贪婪匹配，也就是匹配尽可能多的字符。\n",
    "- 在“+”、“*”、“?”后面加“?”使用非贪婪匹配，也就是尽可能少匹配。"
   ]
  },
  {
   "cell_type": "code",
   "execution_count": 63,
   "metadata": {},
   "outputs": [
    {
     "name": "stdout",
     "output_type": "stream",
     "text": [
      "('10023001', '000') ('10023001', '000')\n"
     ]
    }
   ],
   "source": [
    "m = re.match(r'^(\\d+?)(0*)$', '10023001000')\n",
    "m1 = re.match(r'^(\\d+?)(0*)$', '10023001000')\n",
    "print(m.groups(),m1.groups())"
   ]
  },
  {
   "cell_type": "markdown",
   "metadata": {},
   "source": [
    "#### 编译\n",
    "- 当我们在Python中使用正则表达式是，re模块内部会干两件事：\n",
    " 1. 编译正则表达式，如果正则表达式的字符串本身不合法，会报错；\n",
    " 2. 用编译后的正则表达式去匹配字符串。"
   ]
  },
  {
   "cell_type": "code",
   "execution_count": 64,
   "metadata": {},
   "outputs": [
    {
     "name": "stdout",
     "output_type": "stream",
     "text": [
      "('010', '515144')\n",
      "('020', '221651')\n"
     ]
    }
   ],
   "source": [
    "import re\n",
    "\n",
    "re_telephone = re.compile(r'^(\\d{3})-(\\d{3,8})$')\n",
    "print(re_telephone.match('010-515144').groups())\n",
    "print(re_telephone.match('020-221651').groups())"
   ]
  },
  {
   "cell_type": "markdown",
   "metadata": {},
   "source": [
    "### 练习\n",
    "请尝试写一个验证Email地址的正则表达式。版本一应该可以验证出类似的Email：\n",
    "- someone@gmail.com\n",
    "- bill.gates@microsoft.com"
   ]
  },
  {
   "cell_type": "code",
   "execution_count": 87,
   "metadata": {},
   "outputs": [],
   "source": [
    "import re\n",
    "\n",
    "def is_valid_email(addr):\n",
    "    re_addr = re.compile(r'([\\w]+_?[\\w]+\\.)*(\\w+?)@(\\w+)(\\.\\w+)+')\n",
    "    return re_addr.match(addr)"
   ]
  },
  {
   "cell_type": "code",
   "execution_count": 88,
   "metadata": {},
   "outputs": [
    {
     "name": "stdout",
     "output_type": "stream",
     "text": [
      "ok\n"
     ]
    }
   ],
   "source": [
    "# 测试:\n",
    "assert is_valid_email('someone@gmail.com')\n",
    "assert is_valid_email('bill.gates@microsoft.com')\n",
    "assert not is_valid_email('bob#example.com')\n",
    "assert not is_valid_email('mr-bob@example.com')\n",
    "print('ok')"
   ]
  },
  {
   "cell_type": "markdown",
   "metadata": {},
   "source": [
    "提取出带名字的Email地址：\n",
    "- <Tom Paris> tom@voyager.org => Tom Paris\n",
    "- bob@example.com => bob"
   ]
  },
  {
   "cell_type": "code",
   "execution_count": 120,
   "metadata": {},
   "outputs": [],
   "source": [
    "import re\n",
    "\n",
    "def name_of_email(addr):\n",
    "    re_addr = re.compile(r'^(?:<(.*?)>\\s?\\w+)?(\\w+)@(?:\\w+)(?:\\.\\w+)+$')\n",
    "    return re_addr.match(addr).group(1) if re_addr.match(addr).group(1) else re_addr.match(addr).group(2)"
   ]
  },
  {
   "cell_type": "code",
   "execution_count": 121,
   "metadata": {},
   "outputs": [
    {
     "name": "stdout",
     "output_type": "stream",
     "text": [
      "ok\n"
     ]
    }
   ],
   "source": [
    "# 测试:\n",
    "assert name_of_email('<Tom Paris> tom@voyager.org') == 'Tom Paris'\n",
    "assert name_of_email('tom@voyager.org') == 'tom'\n",
    "print('ok')"
   ]
  },
  {
   "cell_type": "code",
   "execution_count": null,
   "metadata": {},
   "outputs": [],
   "source": []
  }
 ],
 "metadata": {
  "kernelspec": {
   "display_name": "Python 3",
   "language": "python",
   "name": "python3"
  },
  "language_info": {
   "codemirror_mode": {
    "name": "ipython",
    "version": 3
   },
   "file_extension": ".py",
   "mimetype": "text/x-python",
   "name": "python",
   "nbconvert_exporter": "python",
   "pygments_lexer": "ipython3",
   "version": "3.7.3"
  }
 },
 "nbformat": 4,
 "nbformat_minor": 2
}
