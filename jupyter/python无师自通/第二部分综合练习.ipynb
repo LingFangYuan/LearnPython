{
 "cells": [
  {
   "cell_type": "markdown",
   "metadata": {},
   "source": [
    "### 本章将学习开发著名的棋牌游戏 — 战争。在该游戏中，每名玩家从牌堆中抽取一张牌，牌面点数最高的玩家获胜。我们将分别定义表示扑克牌、牌堆、玩家和游戏的类，来逐步开发“战争”。"
   ]
  },
  {
   "cell_type": "code",
   "execution_count": 18,
   "metadata": {},
   "outputs": [],
   "source": [
    "class Card(object):\n",
    "    '''\n",
    "    卡牌\n",
    "    '''\n",
    "    suits = ['diamonds',\n",
    "             'clubs',\n",
    "             'hearts',\n",
    "             'spades'\n",
    "             ]\n",
    "\n",
    "    values = [None, None, '2', '3',\n",
    "              '4', '5', '6', '7',\n",
    "              '8', '9', '10',\n",
    "              'Jack', 'Queen',\n",
    "              'King', 'Ace']\n",
    "\n",
    "    def __init__(self, v, s):\n",
    "        '''\n",
    "        suit 和 value的值都为整型数\n",
    "        '''\n",
    "        self.value = v\n",
    "        self.suit = s\n",
    "\n",
    "    def __lt__(self, c2):\n",
    "        if self.value < c2.value:\n",
    "            return True\n",
    "        if self.value == c2.value:\n",
    "            if self.suit < c2.suit:\n",
    "                return True\n",
    "            else:\n",
    "                return False\n",
    "        return False\n",
    "\n",
    "    def __gt__(self, c2):\n",
    "        if self.value > c2.value:\n",
    "            return True\n",
    "        if self.value == c2.value:\n",
    "            if self.suit > self.suit:\n",
    "                return True\n",
    "            else:\n",
    "                return False\n",
    "        return False\n",
    "\n",
    "    def __repr__(self):\n",
    "        v = self.values[self.value] + ' of ' \\\n",
    "            + self.suits[self.suit]\n",
    "        return v"
   ]
  },
  {
   "cell_type": "code",
   "execution_count": 19,
   "metadata": {},
   "outputs": [
    {
     "name": "stdout",
     "output_type": "stream",
     "text": [
      "10 of diamonds King of diamonds\n",
      "False\n"
     ]
    }
   ],
   "source": [
    "card1 = Card(10, 0)\n",
    "card2 = Card(13, 0)\n",
    "print(card1, card2)\n",
    "print(card1 > card2)"
   ]
  },
  {
   "cell_type": "code",
   "execution_count": 21,
   "metadata": {},
   "outputs": [],
   "source": [
    "from random import shuffle\n",
    "\n",
    "\n",
    "class Deck(object):\n",
    "    '''\n",
    "    牌堆\n",
    "    '''\n",
    "\n",
    "    def __init__(self):\n",
    "        self.cards = []\n",
    "        for i in range(2, 15):\n",
    "            for j in range(4):\n",
    "                self.cards.append(Card(i, j))\n",
    "        shuffle(self.cards)\n",
    "\n",
    "    def rm_card(self):\n",
    "        if len(self.cards) == 0:\n",
    "            return\n",
    "        return self.cards.pop()"
   ]
  },
  {
   "cell_type": "code",
   "execution_count": 22,
   "metadata": {},
   "outputs": [
    {
     "name": "stdout",
     "output_type": "stream",
     "text": [
      "Jack of clubs\n",
      "10 of hearts\n",
      "8 of spades\n",
      "3 of spades\n",
      "10 of spades\n",
      "10 of clubs\n",
      "3 of diamonds\n",
      "5 of hearts\n",
      "5 of spades\n",
      "2 of spades\n",
      "2 of diamonds\n",
      "Queen of hearts\n",
      "2 of clubs\n",
      "8 of diamonds\n",
      "Queen of clubs\n",
      "7 of diamonds\n",
      "8 of hearts\n",
      "9 of diamonds\n",
      "8 of clubs\n",
      "4 of clubs\n",
      "9 of hearts\n",
      "2 of hearts\n",
      "King of spades\n",
      "Jack of diamonds\n",
      "Ace of diamonds\n",
      "4 of hearts\n",
      "6 of hearts\n",
      "9 of spades\n",
      "Queen of diamonds\n",
      "6 of diamonds\n",
      "Ace of spades\n",
      "Ace of hearts\n",
      "King of diamonds\n",
      "3 of hearts\n",
      "Ace of clubs\n",
      "6 of spades\n",
      "6 of clubs\n",
      "Queen of spades\n",
      "7 of spades\n",
      "4 of spades\n",
      "7 of hearts\n",
      "5 of clubs\n",
      "Jack of spades\n",
      "5 of diamonds\n",
      "4 of diamonds\n",
      "10 of diamonds\n",
      "3 of clubs\n",
      "King of clubs\n",
      "7 of clubs\n",
      "King of hearts\n",
      "9 of clubs\n",
      "Jack of hearts\n"
     ]
    }
   ],
   "source": [
    "deck = Deck()\n",
    "for card in deck.cards:\n",
    "    print(card)"
   ]
  },
  {
   "cell_type": "code",
   "execution_count": 23,
   "metadata": {},
   "outputs": [],
   "source": [
    "class Player(object):\n",
    "    '''\n",
    "    玩家\n",
    "    '''\n",
    "    def __init__(self, name):\n",
    "        self.wins = 0\n",
    "        self.card = None\n",
    "        self.name = name"
   ]
  },
  {
   "cell_type": "code",
   "execution_count": 28,
   "metadata": {},
   "outputs": [],
   "source": [
    "class Game(object):\n",
    "    '''\n",
    "    游戏\n",
    "    '''\n",
    "\n",
    "    def __init__(self):\n",
    "        name1 = input('p1 name: ')\n",
    "        name2 = input('p2 name: ')\n",
    "        self.deck = Deck()\n",
    "        self.p1 = Player(name1)\n",
    "        self.p2 = Player(name2)\n",
    "\n",
    "    def wins(self, winner):\n",
    "        w = '{} wins this round!'\n",
    "        w = w.format(winner)\n",
    "        print(w)\n",
    "\n",
    "    def draw(self, p1n, p1c, p2n, p2c):\n",
    "        d = '{} draw {} , {} draw {}'\n",
    "        d = d.format(p1n, p1c, p2n, p2c)\n",
    "        print(d)\n",
    "\n",
    "    def play_game(self):\n",
    "        cards = self.deck.cards\n",
    "        print('beginning War!')\n",
    "        while len(cards) >= 2:\n",
    "            m = 'q to quit. Any ' + 'key to paly:'\n",
    "            response = input(m)\n",
    "            if response == 'q':\n",
    "                break\n",
    "            p1c = self.deck.rm_card()\n",
    "            p2c = self.deck.rm_card()\n",
    "            p1n = self.p1.name\n",
    "            p2n = self.p2.name\n",
    "            self.draw(p1n, p1c, p2n, p2c)\n",
    "            if p1c > p2c:\n",
    "                self.p1.wins += 1\n",
    "                self.wins(self.p1.name)\n",
    "            else:\n",
    "                self.p2.wins += 1\n",
    "                self.wins(self.p2.name)\n",
    "\n",
    "        win = self.winner(self.p1, self.p2)\n",
    "\n",
    "        print('War is over. {} wins.'.format(win))\n",
    "\n",
    "    def winner(self, p1, p2):\n",
    "        if p1.wins > p2.wins:\n",
    "            return p1.name\n",
    "        if p1.wins < p2.wins:\n",
    "            return p2.name\n",
    "        return 'It was a tie!'"
   ]
  },
  {
   "cell_type": "code",
   "execution_count": 29,
   "metadata": {},
   "outputs": [
    {
     "name": "stdout",
     "output_type": "stream",
     "text": [
      "p1 name: ling\n",
      "p2 name: tang\n",
      "beginning War!\n",
      "q to quit. Any key to paly:2\n",
      "ling draw 10 of clubs , tang draw 10 of spades\n",
      "tang wins this round!\n",
      "q to quit. Any key to paly:5\n",
      "ling draw 7 of clubs , tang draw 4 of clubs\n",
      "ling wins this round!\n",
      "q to quit. Any key to paly:5\n",
      "ling draw Jack of hearts , tang draw 9 of hearts\n",
      "ling wins this round!\n",
      "q to quit. Any key to paly:q\n",
      "War is over. ling wins.\n"
     ]
    }
   ],
   "source": [
    "game = Game()\n",
    "game.play_game()"
   ]
  },
  {
   "cell_type": "code",
   "execution_count": null,
   "metadata": {},
   "outputs": [],
   "source": []
  }
 ],
 "metadata": {
  "kernelspec": {
   "display_name": "Python 3",
   "language": "python",
   "name": "python3"
  },
  "language_info": {
   "codemirror_mode": {
    "name": "ipython",
    "version": 3
   },
   "file_extension": ".py",
   "mimetype": "text/x-python",
   "name": "python",
   "nbconvert_exporter": "python",
   "pygments_lexer": "ipython3",
   "version": "3.7.3"
  }
 },
 "nbformat": 4,
 "nbformat_minor": 2
}
