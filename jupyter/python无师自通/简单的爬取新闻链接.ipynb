{
 "cells": [
  {
   "cell_type": "markdown",
   "metadata": {},
   "source": [
    "## 简单的爬取新闻链接"
   ]
  },
  {
   "cell_type": "code",
   "execution_count": 1,
   "metadata": {},
   "outputs": [],
   "source": [
    "import urllib.request\n",
    "from bs4 import BeautifulSoup"
   ]
  },
  {
   "cell_type": "code",
   "execution_count": 47,
   "metadata": {},
   "outputs": [],
   "source": [
    "class Scraper(object):\n",
    "\n",
    "    def __init__(self, site):\n",
    "        self.site = site\n",
    "\n",
    "    def scrape(self):\n",
    "        r = urllib.request.urlopen(self.site)\n",
    "        html = r.read().decode('utf-8')\n",
    "        # print(html)\n",
    "        parser = 'html.parser'\n",
    "        sp = BeautifulSoup(html, parser)\n",
    "        for tag in sp.find_all('a'):\n",
    "            url = tag.get('href')\n",
    "            if url is None:\n",
    "                continue\n",
    "            if 'html' in url:\n",
    "                print('\\n' + url)"
   ]
  },
  {
   "cell_type": "code",
   "execution_count": 48,
   "metadata": {},
   "outputs": [
    {
     "name": "stdout",
     "output_type": "stream",
     "text": [
      "\n",
      "http://m.news.cctv.com/2019/07/17/ARTIiGzwHdjTPqYiORZv19G2190717.shtml\n",
      "\n",
      "http://news.cctv.com/2019/07/16/ARTI6sfe75cBqWE89s1yA2mL190716.shtml?from=singlemessage\n",
      "\n",
      "//news-bos.cdn.bcebos.com/mvideo/baidu_news_protocol.html\n",
      "\n",
      "https://www.baidu.com/duty/wise/wise_secretright.html\n",
      "\n",
      "//news-bos.cdn.bcebos.com/mvideo/pcnews_licence.html\n"
     ]
    }
   ],
   "source": [
    "s = Scraper('https://news.baidu.com/')\n",
    "s.scrape()"
   ]
  },
  {
   "cell_type": "code",
   "execution_count": null,
   "metadata": {},
   "outputs": [],
   "source": []
  }
 ],
 "metadata": {
  "kernelspec": {
   "display_name": "Python 3",
   "language": "python",
   "name": "python3"
  },
  "language_info": {
   "codemirror_mode": {
    "name": "ipython",
    "version": 3
   },
   "file_extension": ".py",
   "mimetype": "text/x-python",
   "name": "python",
   "nbconvert_exporter": "python",
   "pygments_lexer": "ipython3",
   "version": "3.7.3"
  }
 },
 "nbformat": 4,
 "nbformat_minor": 2
}
