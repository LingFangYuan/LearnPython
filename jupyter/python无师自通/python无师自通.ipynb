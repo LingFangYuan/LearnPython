{
 "cells": [
  {
   "cell_type": "markdown",
   "metadata": {},
   "source": [
    "## 第一部分 编程简介"
   ]
  },
  {
   "cell_type": "code",
   "execution_count": 3,
   "metadata": {},
   "outputs": [
    {
     "name": "stdout",
     "output_type": "stream",
     "text": [
      "Hello, World!\n"
     ]
    }
   ],
   "source": [
    "print('Hello, World!')"
   ]
  },
  {
   "cell_type": "code",
   "execution_count": 4,
   "metadata": {},
   "outputs": [
    {
     "name": "stdout",
     "output_type": "stream",
     "text": [
      "Hello, World!\n",
      "Hello, World!\n",
      "Hello, World!\n",
      "Hello, World!\n",
      "Hello, World!\n",
      "Hello, World!\n",
      "Hello, World!\n",
      "Hello, World!\n",
      "Hello, World!\n",
      "Hello, World!\n",
      "Hello, World!\n",
      "Hello, World!\n",
      "Hello, World!\n",
      "Hello, World!\n",
      "Hello, World!\n",
      "Hello, World!\n",
      "Hello, World!\n",
      "Hello, World!\n",
      "Hello, World!\n",
      "Hello, World!\n",
      "Hello, World!\n",
      "Hello, World!\n",
      "Hello, World!\n",
      "Hello, World!\n",
      "Hello, World!\n",
      "Hello, World!\n",
      "Hello, World!\n",
      "Hello, World!\n",
      "Hello, World!\n",
      "Hello, World!\n",
      "Hello, World!\n",
      "Hello, World!\n",
      "Hello, World!\n",
      "Hello, World!\n",
      "Hello, World!\n",
      "Hello, World!\n",
      "Hello, World!\n",
      "Hello, World!\n",
      "Hello, World!\n",
      "Hello, World!\n",
      "Hello, World!\n",
      "Hello, World!\n",
      "Hello, World!\n",
      "Hello, World!\n",
      "Hello, World!\n",
      "Hello, World!\n",
      "Hello, World!\n",
      "Hello, World!\n",
      "Hello, World!\n",
      "Hello, World!\n",
      "Hello, World!\n",
      "Hello, World!\n",
      "Hello, World!\n",
      "Hello, World!\n",
      "Hello, World!\n",
      "Hello, World!\n",
      "Hello, World!\n",
      "Hello, World!\n",
      "Hello, World!\n",
      "Hello, World!\n",
      "Hello, World!\n",
      "Hello, World!\n",
      "Hello, World!\n",
      "Hello, World!\n",
      "Hello, World!\n",
      "Hello, World!\n",
      "Hello, World!\n",
      "Hello, World!\n",
      "Hello, World!\n",
      "Hello, World!\n",
      "Hello, World!\n",
      "Hello, World!\n",
      "Hello, World!\n",
      "Hello, World!\n",
      "Hello, World!\n",
      "Hello, World!\n",
      "Hello, World!\n",
      "Hello, World!\n",
      "Hello, World!\n",
      "Hello, World!\n",
      "Hello, World!\n",
      "Hello, World!\n",
      "Hello, World!\n",
      "Hello, World!\n",
      "Hello, World!\n",
      "Hello, World!\n",
      "Hello, World!\n",
      "Hello, World!\n",
      "Hello, World!\n",
      "Hello, World!\n",
      "Hello, World!\n",
      "Hello, World!\n",
      "Hello, World!\n",
      "Hello, World!\n",
      "Hello, World!\n",
      "Hello, World!\n",
      "Hello, World!\n",
      "Hello, World!\n",
      "Hello, World!\n",
      "Hello, World!\n"
     ]
    }
   ],
   "source": [
    "for i in range(100):\n",
    "    print('Hello, World!')"
   ]
  },
  {
   "cell_type": "code",
   "execution_count": 5,
   "metadata": {},
   "outputs": [
    {
     "name": "stdout",
     "output_type": "stream",
     "text": [
      "0.125\n"
     ]
    }
   ],
   "source": [
    "print (1/2**3)"
   ]
  },
  {
   "cell_type": "code",
   "execution_count": 6,
   "metadata": {},
   "outputs": [
    {
     "name": "stdout",
     "output_type": "stream",
     "text": [
      "type a number:5\n",
      "type a number:0\n",
      "Invalid input.\n"
     ]
    }
   ],
   "source": [
    "try:\n",
    "    a = input('type a number:')\n",
    "    b = input('type a number:')\n",
    "    a = int(a)\n",
    "    b = int(b)\n",
    "    print(a/b)\n",
    "except (ZeroDivisionError, ValueError):\n",
    "    print('Invalid input.')"
   ]
  },
  {
   "cell_type": "code",
   "execution_count": 7,
   "metadata": {},
   "outputs": [
    {
     "ename": "NameError",
     "evalue": "name 'add' is not defined",
     "output_type": "error",
     "traceback": [
      "\u001b[1;31m---------------------------------------------------------------------------\u001b[0m",
      "\u001b[1;31mNameError\u001b[0m                                 Traceback (most recent call last)",
      "\u001b[1;32m<ipython-input-7-55afc69db37f>\u001b[0m in \u001b[0;36m<module>\u001b[1;34m\u001b[0m\n\u001b[0;32m      7\u001b[0m     \u001b[1;32mreturn\u001b[0m \u001b[0mx\u001b[0m \u001b[1;33m**\u001b[0m \u001b[1;36m2\u001b[0m\u001b[1;33m\u001b[0m\u001b[1;33m\u001b[0m\u001b[0m\n\u001b[0;32m      8\u001b[0m \u001b[1;33m\u001b[0m\u001b[0m\n\u001b[1;32m----> 9\u001b[1;33m \u001b[0mprint\u001b[0m\u001b[1;33m(\u001b[0m\u001b[0madd\u001b[0m\u001b[1;33m(\u001b[0m\u001b[1;36m2\u001b[0m\u001b[1;33m)\u001b[0m\u001b[1;33m)\u001b[0m\u001b[1;33m\u001b[0m\u001b[1;33m\u001b[0m\u001b[0m\n\u001b[0m",
      "\u001b[1;31mNameError\u001b[0m: name 'add' is not defined"
     ]
    }
   ],
   "source": [
    "def power(x):\n",
    "    '''\n",
    "    返回 x 的平方 的值\n",
    "    :param x: int.\n",
    "    :return: int, x 的平方\n",
    "    '''\n",
    "    return x ** 2\n",
    "\n",
    "print(add(2))"
   ]
  },
  {
   "cell_type": "code",
   "execution_count": null,
   "metadata": {},
   "outputs": [],
   "source": [
    "def print_str(s):\n",
    "    '''\n",
    "    打印参数。\n",
    "    :param s: str\n",
    "    :return: None\n",
    "    '''\n",
    "    print(s)\n",
    "\n",
    "print_str('I am grut')"
   ]
  },
  {
   "cell_type": "code",
   "execution_count": null,
   "metadata": {},
   "outputs": [],
   "source": [
    "def fn(a, b, c, d=0, e=0):\n",
    "    '''\n",
    "    3个位置参数，2个可变参数的函数。\n",
    "    :param a: int, 必须参数。\n",
    "    :param b: int，必须参数。\n",
    "    :param c: int，必须参数。\n",
    "    :param d: int，可选参数，默认为0。\n",
    "    :param e: int，可选参数，默认为0。\n",
    "    :return: None。\n",
    "    '''\n",
    "    pass"
   ]
  },
  {
   "cell_type": "code",
   "execution_count": null,
   "metadata": {},
   "outputs": [],
   "source": [
    "def division_two(n):\n",
    "    '''\n",
    "    将参数除以2\n",
    "    :param n: int\n",
    "    :return: n 除以 2。\n",
    "    '''\n",
    "    return n / 2\n",
    "\n",
    "def multiply_four(n):\n",
    "    '''\n",
    "    将参数乘以4\n",
    "    :param n: int\n",
    "    :return: n 乘以 4\n",
    "    '''\n",
    "    return n * 4\n",
    "\n",
    "n = division_two(4)\n",
    "print(multiply_four(n))"
   ]
  },
  {
   "cell_type": "code",
   "execution_count": null,
   "metadata": {},
   "outputs": [],
   "source": [
    "def str2float(s):\n",
    "    '''\n",
    "    将字符串转换为float类型，s 参数不能转换为数字时，\n",
    "    做异常处理，打印该字符串。\n",
    "    :param s: str\n",
    "    :return: s 转换为 float 类型的数字\n",
    "    '''\n",
    "    try:\n",
    "        return float(s)\n",
    "    except ValueError:\n",
    "        print('Invalid number: %s' % s)\n",
    "\n",
    "n = str2float('512.2d')\n",
    "print(n)"
   ]
  },
  {
   "cell_type": "code",
   "execution_count": null,
   "metadata": {},
   "outputs": [],
   "source": [
    "my_tuple = tuple()\n",
    "print(my_tuple)"
   ]
  },
  {
   "cell_type": "code",
   "execution_count": null,
   "metadata": {},
   "outputs": [],
   "source": [
    "print('four score {1} and...{0}'.format('ling', 'dfsd'))"
   ]
  },
  {
   "cell_type": "code",
   "execution_count": null,
   "metadata": {},
   "outputs": [],
   "source": [
    "for i in 'Camus':\n",
    "    print(i)"
   ]
  },
  {
   "cell_type": "code",
   "execution_count": null,
   "metadata": {},
   "outputs": [],
   "source": [
    "s = [\"The\", \"fox\", \"jumped\", \"over\", \"the\", \"fence\", \".\"]\n",
    "print(' '.join(s[:-1]) + s[-1])"
   ]
  },
  {
   "cell_type": "code",
   "execution_count": null,
   "metadata": {},
   "outputs": [],
   "source": [
    "for i in s:\n",
    "    print(i)"
   ]
  },
  {
   "cell_type": "code",
   "execution_count": null,
   "metadata": {},
   "outputs": [],
   "source": [
    "for i, show in enumerate(s):\n",
    "    print(i, show)"
   ]
  },
  {
   "cell_type": "code",
   "execution_count": null,
   "metadata": {},
   "outputs": [],
   "source": [
    "for i in [\"The Walking Dead\", \"Entourage\", \"The Sopranos\",\n",
    "          \"The Vampire Diaries\"]:\n",
    "    print(i)"
   ]
  },
  {
   "cell_type": "code",
   "execution_count": null,
   "metadata": {},
   "outputs": [],
   "source": [
    "for i in range(25, 50):\n",
    "    print(i)"
   ]
  },
  {
   "cell_type": "code",
   "execution_count": null,
   "metadata": {},
   "outputs": [],
   "source": [
    "for i, e in enumerate([\"The Walking Dead\", \"Entourage\", \"The Sopranos\",\n",
    "                       \"The Vampire Diaries\"]):\n",
    "    print(i, e)"
   ]
  },
  {
   "cell_type": "code",
   "execution_count": null,
   "metadata": {},
   "outputs": [],
   "source": [
    "import random\n",
    "nums = [0, 2, 5, 65, 5]\n",
    "while True:\n",
    "    n = input('请猜一个数字(输入q退出):')\n",
    "    if n == 'q':\n",
    "        break\n",
    "    elif n == str((random.choice(nums))):\n",
    "        print('恭喜你，猜对了！')\n",
    "    else:\n",
    "        print('很遗憾，猜错了！')\n",
    "    i = (i + 1) % 5"
   ]
  },
  {
   "cell_type": "code",
   "execution_count": null,
   "metadata": {},
   "outputs": [],
   "source": [
    "a = [8, 19, 148, 4]\n",
    "b = [9, 1, 33, 83]\n",
    "mult = []\n",
    "for i in a:\n",
    "    for j in b:\n",
    "        mult.append(i * j)\n",
    "print(mult)"
   ]
  },
  {
   "cell_type": "code",
   "execution_count": null,
   "metadata": {},
   "outputs": [],
   "source": [
    "import statistics\n",
    "\n",
    "nums = [1, 5, 33, 12, 55, 46, 33, 2]\n",
    "print(statistics.mean(nums))\n",
    "print(statistics.median(nums))\n",
    "print(statistics.mode(nums))\n",
    "print(statistics.stdev(nums))"
   ]
  },
  {
   "cell_type": "code",
   "execution_count": null,
   "metadata": {},
   "outputs": [],
   "source": [
    "import keyword\n",
    "\n",
    "print(keyword.iskeyword('for'))\n",
    "print(keyword.iskeyword('football'))"
   ]
  },
  {
   "cell_type": "code",
   "execution_count": null,
   "metadata": {},
   "outputs": [],
   "source": [
    "import csv\n",
    "\n",
    "lists = [[\"Top Gun\", \"Risky Business\",\n",
    "          \"Minority Report\"], [\"Titanic\", \"The Revenant\", \"Inception\"],\n",
    "         [\"Training Day\", \"Man on Fire\", \"Flight\"]]\n",
    "\n",
    "with open('test.csv', 'w') as f:\n",
    "    w = csv.writer(f, delimiter=',', lineterminator='\\n')\n",
    "    for i in lists:\n",
    "        w.writerow(i)"
   ]
  },
  {
   "cell_type": "code",
   "execution_count": null,
   "metadata": {},
   "outputs": [],
   "source": [
    "with open('test.csv', 'r') as f:\n",
    "    r = csv.reader(f, delimiter=',')\n",
    "    for row in r:\n",
    "        print(','.join(row))"
   ]
  },
  {
   "cell_type": "markdown",
   "metadata": {},
   "source": [
    "#### Hangman"
   ]
  },
  {
   "cell_type": "code",
   "execution_count": 33,
   "metadata": {},
   "outputs": [],
   "source": [
    "import random\n",
    "\n",
    "\n",
    "def hangman():\n",
    "    words = ['Welcome', 'to', 'GuangZhou']\n",
    "    word = random.choice(words)\n",
    "    wrong = 0\n",
    "    stages = ['',\n",
    "              '_______        ',\n",
    "              '|              ',\n",
    "              '|       |      ',\n",
    "              '|       0      ',\n",
    "              '|      /|\\     ',\n",
    "              '|      / \\     ',\n",
    "              '|              '\n",
    "              ]\n",
    "    rletters = list(word)\n",
    "    board = ['__'] * len(word)\n",
    "    win = False\n",
    "    print('Welcome to Hangman')\n",
    "\n",
    "    while wrong < len(stages) - 1:\n",
    "        print()\n",
    "        msg = 'Guess a letter'\n",
    "        char = input(msg)\n",
    "        if char in rletters:\n",
    "            cind = rletters.index(char)\n",
    "            board[cind] = char\n",
    "            rletters[cind] = '$'\n",
    "        else:\n",
    "            wrong += 1\n",
    "        print(' '.join(board))\n",
    "        e = wrong + 1\n",
    "        print('\\n'.join(stages[0:e]))\n",
    "        if '__' not in board:\n",
    "            print('You win!')\n",
    "            print(' '.join(board))\n",
    "            win = True\n",
    "            break\n",
    "    if not win:\n",
    "        print('\\n'.join(stages[0:wrong]))\n",
    "        print('You lose! It was {}.'.format(word))"
   ]
  },
  {
   "cell_type": "code",
   "execution_count": 37,
   "metadata": {},
   "outputs": [
    {
     "name": "stdout",
     "output_type": "stream",
     "text": [
      "Welcome to Hangman\n",
      "\n",
      "Guess a letterg\n",
      "__ __\n",
      "\n",
      "_______        \n",
      "\n",
      "Guess a letterg\n",
      "__ __\n",
      "\n",
      "_______        \n",
      "|              \n",
      "\n",
      "Guess a letterg\n",
      "__ __\n",
      "\n",
      "_______        \n",
      "|              \n",
      "|       |      \n",
      "\n",
      "Guess a letterg\n",
      "__ __\n",
      "\n",
      "_______        \n",
      "|              \n",
      "|       |      \n",
      "|       0      \n",
      "\n",
      "Guess a letterg\n",
      "__ __\n",
      "\n",
      "_______        \n",
      "|              \n",
      "|       |      \n",
      "|       0      \n",
      "|      /|\\     \n",
      "\n",
      "Guess a letterg\n",
      "__ __\n",
      "\n",
      "_______        \n",
      "|              \n",
      "|       |      \n",
      "|       0      \n",
      "|      /|\\     \n",
      "|      / \\     \n",
      "\n",
      "Guess a letterg\n",
      "__ __\n",
      "\n",
      "_______        \n",
      "|              \n",
      "|       |      \n",
      "|       0      \n",
      "|      /|\\     \n",
      "|      / \\     \n",
      "|              \n",
      "\n",
      "_______        \n",
      "|              \n",
      "|       |      \n",
      "|       0      \n",
      "|      /|\\     \n",
      "|      / \\     \n",
      "You lose! It was to.\n"
     ]
    }
   ],
   "source": [
    "hangman()"
   ]
  },
  {
   "cell_type": "markdown",
   "metadata": {},
   "source": [
    "### 面向对象编程"
   ]
  },
  {
   "cell_type": "code",
   "execution_count": 42,
   "metadata": {},
   "outputs": [],
   "source": [
    "# 过程式编程\n",
    "\n",
    "rock = []\n",
    "country = []\n",
    "\n",
    "\n",
    "def collect_songs():\n",
    "    song = 'Enter a song: '\n",
    "    ask = 'Type r or c. q to quit: '\n",
    "\n",
    "    while True:\n",
    "        genre = input(ask)\n",
    "        if genre == 'q':\n",
    "            break\n",
    "        elif genre == 'r':\n",
    "            rk = input(song)\n",
    "            rock.append(rk)\n",
    "        elif genre == 'c':\n",
    "            cy = input(song)\n",
    "            country.append(cy)\n",
    "        else:\n",
    "            print('Invalid.')\n",
    "    print(rock)\n",
    "    print(country)"
   ]
  },
  {
   "cell_type": "code",
   "execution_count": 43,
   "metadata": {},
   "outputs": [
    {
     "name": "stdout",
     "output_type": "stream",
     "text": [
      "Type r or c. q to quit: d\n",
      "Invalid.\n",
      "Type r or c. q to quit: d\n",
      "Invalid.\n",
      "Type r or c. q to quit: c\n",
      "Enter a song: ded\n",
      "Type r or c. q to quit: c\n",
      "Enter a song: dfd\n",
      "Type r or c. q to quit: q\n",
      "[]\n",
      "['ded', 'dfd']\n"
     ]
    }
   ],
   "source": [
    "collect_songs()"
   ]
  },
  {
   "cell_type": "code",
   "execution_count": 48,
   "metadata": {},
   "outputs": [
    {
     "name": "stdout",
     "output_type": "stream",
     "text": [
      "Created!\n",
      "<__main__.Orange object at 0x0000025184211B70>\n",
      "10 dark orange\n",
      "0\n",
      "970\n"
     ]
    }
   ],
   "source": [
    "# 面向对象编程\n",
    "\n",
    "\n",
    "class Orange(object):\n",
    "\n",
    "    def __init__(self, w, c):\n",
    "        self.weight = w\n",
    "        self.color = c\n",
    "        self.mold = 0\n",
    "        print('Created!')\n",
    "\n",
    "    def rot(self, days, temp):\n",
    "        self.mold = days * temp\n",
    "\n",
    "\n",
    "cr1 = Orange(10, 'dark orange')\n",
    "print(cr1)\n",
    "print(cr1.weight, cr1.color)\n",
    "print(cr1.mold)\n",
    "cr1.rot(10, 97)\n",
    "print(cr1.mold)"
   ]
  },
  {
   "cell_type": "code",
   "execution_count": 49,
   "metadata": {},
   "outputs": [],
   "source": [
    "class Rectangle(object):\n",
    "    \n",
    "    def __init__(self, w, l):\n",
    "        self.width = w\n",
    "        self.len = l\n",
    "    \n",
    "    def area(self):\n",
    "        return self.width * self.len\n",
    "    \n",
    "    def change_size(self, w, l):\n",
    "        self.width = w\n",
    "        self.len = l"
   ]
  },
  {
   "cell_type": "code",
   "execution_count": 51,
   "metadata": {},
   "outputs": [
    {
     "name": "stdout",
     "output_type": "stream",
     "text": [
      "200\n",
      "800\n"
     ]
    }
   ],
   "source": [
    "rec = Rectangle(10, 20)\n",
    "print(rec.area())\n",
    "rec.change_size(20, 40)\n",
    "print(rec.area())"
   ]
  },
  {
   "cell_type": "code",
   "execution_count": 52,
   "metadata": {},
   "outputs": [],
   "source": [
    "class Apple(object):\n",
    "    \n",
    "    def __init__(self, weight, color, kind, yieldly):\n",
    "        self.weight = weight\n",
    "        self.color = color\n",
    "        self.kind = kind\n",
    "        self.yieldly = yieldly"
   ]
  },
  {
   "cell_type": "code",
   "execution_count": 53,
   "metadata": {},
   "outputs": [
    {
     "name": "stdout",
     "output_type": "stream",
     "text": [
      "78.53981633974483\n"
     ]
    }
   ],
   "source": [
    "import math\n",
    "\n",
    "\n",
    "class Circle(object):\n",
    "    \n",
    "    def __init__(self, r):\n",
    "        self.radius = r\n",
    "    \n",
    "    def area(self):\n",
    "        return math.pi * self.radius ** 2\n",
    "\n",
    "c1 = Circle(5)\n",
    "print(c1.area())"
   ]
  },
  {
   "cell_type": "code",
   "execution_count": 56,
   "metadata": {},
   "outputs": [
    {
     "name": "stdout",
     "output_type": "stream",
     "text": [
      "10.0\n"
     ]
    }
   ],
   "source": [
    "class Triangle(object):\n",
    "    \n",
    "    def __init__(self, base, height):\n",
    "        self.base = base\n",
    "        self.height = height\n",
    "    \n",
    "    def area(self):\n",
    "        return (self.base * self.height) / 2\n",
    "tr1 = Triangle(4, 5)\n",
    "print(tr1.area())"
   ]
  },
  {
   "cell_type": "code",
   "execution_count": 57,
   "metadata": {},
   "outputs": [
    {
     "name": "stdout",
     "output_type": "stream",
     "text": [
      "23\n"
     ]
    }
   ],
   "source": [
    "class Hexagon(object):\n",
    "    \n",
    "    def __init__(self, s1, s2, s3, s4, s5, s6):\n",
    "        self.s1 = s1\n",
    "        self.s2 = s2\n",
    "        self.s3 = s3\n",
    "        self.s4 = s4\n",
    "        self.s5 = s5\n",
    "        self.s6 = s6\n",
    "    \n",
    "    def perimeter(self):\n",
    "        return self.s1 + self.s2 + self.s3 + self.s4 + self.s5 + self.s6\n",
    "\n",
    "h1 = Hexagon(1, 2, 4, 5, 6, 5)\n",
    "print(h1.perimeter())"
   ]
  },
  {
   "cell_type": "markdown",
   "metadata": {},
   "source": [
    "#### 面向对象编程有四大概念：封装、抽象、多态、继承。"
   ]
  },
  {
   "cell_type": "code",
   "execution_count": 11,
   "metadata": {},
   "outputs": [],
   "source": [
    "class Shape(object):\n",
    "\n",
    "    def __init__(self, w, l):\n",
    "        self.width = w\n",
    "        self.len = l\n",
    "\n",
    "    def print_size(self):\n",
    "        print('''{} by {}\n",
    "        '''.format(self.width, self.len))\n",
    "        \n",
    "    def calculate_perimeter(self):\n",
    "        return (self.width + self.len) * 2\n",
    "    \n",
    "    def what_am_i(self):\n",
    "        print('I am a {}'.format(self.__class__.__name__))"
   ]
  },
  {
   "cell_type": "code",
   "execution_count": 12,
   "metadata": {},
   "outputs": [
    {
     "name": "stdout",
     "output_type": "stream",
     "text": [
      "20 by 25\n",
      "        \n",
      "I am a Shape\n"
     ]
    }
   ],
   "source": [
    "my_shape = Shape(20, 25)\n",
    "my_shape.print_size()\n",
    "my_shape.what_am_i()"
   ]
  },
  {
   "cell_type": "code",
   "execution_count": 22,
   "metadata": {},
   "outputs": [],
   "source": [
    "class Square(Shape):\n",
    "    square_list = []\n",
    "\n",
    "    def __init__(self, brim):\n",
    "        self.square_list.append(super().__init__(brim, brim))\n",
    "\n",
    "    def __repr__(self):\n",
    "        return '{} by {} by {} by {}'.format(self.width, self.width,\n",
    "                                             self.len, self.len)\n",
    "\n",
    "    def print_size(self):\n",
    "        print('''I am {} by {}\n",
    "        '''.format(self.width, self.len))\n",
    "\n",
    "    def area(self):\n",
    "        return self.width * self.len\n",
    "\n",
    "    def change_size(self, l):\n",
    "        self.width, self.len = l, l"
   ]
  },
  {
   "cell_type": "code",
   "execution_count": 24,
   "metadata": {},
   "outputs": [
    {
     "name": "stdout",
     "output_type": "stream",
     "text": [
      "I am 25 by 25\n",
      "        \n",
      "625\n",
      "100\n",
      "25 by 25 by 25 by 25\n",
      "I am a Square\n"
     ]
    }
   ],
   "source": [
    "a_square = Square(25)\n",
    "a_square.print_size()\n",
    "print(a_square.area())\n",
    "print(a_square.calculate_perimeter())\n",
    "print(a_square)\n",
    "a_square.what_am_i()"
   ]
  },
  {
   "cell_type": "code",
   "execution_count": 12,
   "metadata": {},
   "outputs": [],
   "source": [
    "# 组合\n",
    "class Dog(object):\n",
    "    \n",
    "    def __init__(self, name, breed, owner):\n",
    "        self.name = name\n",
    "        self.breed = breed\n",
    "        self.owner = owner\n",
    "    \n",
    "class Person(object):\n",
    "    \n",
    "    def __init__(self, name):\n",
    "        self.name = name"
   ]
  },
  {
   "cell_type": "code",
   "execution_count": 13,
   "metadata": {},
   "outputs": [
    {
     "name": "stdout",
     "output_type": "stream",
     "text": [
      "Mick Jagger\n"
     ]
    }
   ],
   "source": [
    "mick = Person('Mick Jagger')\n",
    "stan = Dog('Stanley', 'Bulldog', mick)\n",
    "print(stan.owner.name)"
   ]
  },
  {
   "cell_type": "code",
   "execution_count": 7,
   "metadata": {},
   "outputs": [
    {
     "name": "stdout",
     "output_type": "stream",
     "text": [
      "DilbertLion\n",
      "56\n"
     ]
    }
   ],
   "source": [
    "class Lion(object):\n",
    "    \n",
    "    def __init__(self, name, n):\n",
    "        self.name = name\n",
    "        self.n = n\n",
    "    \n",
    "    def __repr__(self):\n",
    "        return self.name + self.__class__.__name__\n",
    "    \n",
    "    def __add__(self, other):\n",
    "        return self.n + other.n\n",
    "\n",
    "lion = Lion('Dilbert', 30)\n",
    "lion1 = Lion('ling', 26)\n",
    "print(lion)\n",
    "print(lion + lion1)"
   ]
  },
  {
   "cell_type": "markdown",
   "metadata": {},
   "source": [
    "### 正则表达式"
   ]
  },
  {
   "cell_type": "code",
   "execution_count": 2,
   "metadata": {},
   "outputs": [
    {
     "name": "stdout",
     "output_type": "stream",
     "text": [
      "['Beautiful']\n"
     ]
    }
   ],
   "source": [
    "import re\n",
    "\n",
    "l = 'Beautiful is better than ugly.'\n",
    "matches = re.findall(r'beautiful', l, re.I)\n",
    "print(matches)"
   ]
  },
  {
   "cell_type": "code",
   "execution_count": 16,
   "metadata": {},
   "outputs": [
    {
     "name": "stdout",
     "output_type": "stream",
     "text": [
      "['If', 'If']\n"
     ]
    }
   ],
   "source": [
    "zen = \"\"\"Although never is\n",
    "often better than\n",
    "* right * now.\n",
    "If the implementation\n",
    "is hard to explain,\n",
    "it's a bad idea.\n",
    "If the implementation\n",
    "is easy to explain,\n",
    "it may be a good\n",
    "idea. Namesapces\n",
    "are one honking\n",
    "great idea -- let's\n",
    "do more of those!\n",
    "\"\"\"\n",
    "\n",
    "m = re.findall(r'^if', zen, re.M|re.I )\n",
    "print(m)"
   ]
  },
  {
   "cell_type": "code",
   "execution_count": 18,
   "metadata": {},
   "outputs": [
    {
     "name": "stdout",
     "output_type": "stream",
     "text": [
      "['Two', 'too']\n"
     ]
    }
   ],
   "source": [
    "s = 'Two too'\n",
    "\n",
    "m = re.findall(r't[wo]o', s, re.I)\n",
    "print(m)"
   ]
  },
  {
   "cell_type": "code",
   "execution_count": 3,
   "metadata": {},
   "outputs": [
    {
     "name": "stdout",
     "output_type": "stream",
     "text": [
      "['1', '2', '3', '7', '5', '4', '6', '5']\n"
     ]
    }
   ],
   "source": [
    "line = '12375465 hello?'\n",
    "m = re.findall(r'\\d', line)\n",
    "print(m)"
   ]
  },
  {
   "cell_type": "code",
   "execution_count": 7,
   "metadata": {},
   "outputs": [
    {
     "name": "stdout",
     "output_type": "stream",
     "text": [
      "['__one__', '__three__']\n"
     ]
    }
   ],
   "source": [
    "t = '__one__two__three__'\n",
    "r = re.compile(r'__.*?__')\n",
    "f = r.findall(t)\n",
    "print(f)"
   ]
  },
  {
   "cell_type": "code",
   "execution_count": 17,
   "metadata": {},
   "outputs": [
    {
     "name": "stdout",
     "output_type": "stream",
     "text": [
      "['$']\n"
     ]
    }
   ],
   "source": [
    "t = 'I love $'\n",
    "f = re.findall(r'\\$', t)\n",
    "print(f)"
   ]
  },
  {
   "cell_type": "markdown",
   "metadata": {},
   "source": [
    "### 数据结构"
   ]
  },
  {
   "cell_type": "code",
   "execution_count": 1,
   "metadata": {},
   "outputs": [],
   "source": [
    "class Stack(object):\n",
    "\n",
    "    def __init__(self):\n",
    "        self.items = []\n",
    "\n",
    "    def is_empty(self):\n",
    "        return self.items == []\n",
    "\n",
    "    def push(self, item):\n",
    "        self.items.append(item)\n",
    "\n",
    "    def pop(self):\n",
    "        return self.items.pop()\n",
    "\n",
    "    def peek(self):\n",
    "        last = len(self.items) - 1\n",
    "        return self.items[last]\n",
    "\n",
    "    def size(self):\n",
    "        return len(self.items)"
   ]
  },
  {
   "cell_type": "code",
   "execution_count": 8,
   "metadata": {},
   "outputs": [
    {
     "name": "stdout",
     "output_type": "stream",
     "text": [
      "5\n",
      "2\n"
     ]
    }
   ],
   "source": [
    "s = Stack()\n",
    "s.push(3)\n",
    "s.push(4)\n",
    "s.pop()\n",
    "s.push(5)\n",
    "print(s.peek())\n",
    "print(s.size())"
   ]
  },
  {
   "cell_type": "code",
   "execution_count": 9,
   "metadata": {},
   "outputs": [
    {
     "name": "stdout",
     "output_type": "stream",
     "text": [
      "!dlrow olleH\n"
     ]
    }
   ],
   "source": [
    "s1 = Stack()\n",
    "for c in 'Hello world!':\n",
    "    s1.push(c)\n",
    "reverse = ''\n",
    "for i in range(s1.size()):\n",
    "    reverse += s1.pop()\n",
    "print(reverse)"
   ]
  },
  {
   "cell_type": "code",
   "execution_count": 25,
   "metadata": {},
   "outputs": [],
   "source": [
    "import time\n",
    "import random\n",
    "\n",
    "class Queue(object):\n",
    "    \n",
    "    def __init__(self):\n",
    "        self.items = []\n",
    "    \n",
    "    def is_empty(self):\n",
    "        return self.items == []\n",
    "    \n",
    "    def enqueue(self, item):\n",
    "        self.items.insert(0, item)\n",
    "    \n",
    "    def dequeue(self):\n",
    "        return self.items.pop()\n",
    "    \n",
    "    def size(self):\n",
    "        return len(self.items)\n",
    "    \n",
    "    def simulate_line(self, till_show, max_time):\n",
    "        pq = Queue()\n",
    "        tix_sold = []\n",
    "        \n",
    "        for i in range(10):\n",
    "            pq.enqueue('person' + str(i))\n",
    "        \n",
    "        t_end = time.time() + till_show\n",
    "        now = time.time()\n",
    "        while now < t_end and not pq.is_empty():\n",
    "            now = time.time()\n",
    "            r = random.randint(0, max_time)\n",
    "            time.sleep(r)\n",
    "            person = pq.dequeue()\n",
    "            print(person)\n",
    "            tix_sold.append(person)\n",
    "        \n",
    "        return tix_sold\n",
    "    "
   ]
  },
  {
   "cell_type": "code",
   "execution_count": 26,
   "metadata": {},
   "outputs": [
    {
     "name": "stdout",
     "output_type": "stream",
     "text": [
      "False 2\n"
     ]
    }
   ],
   "source": [
    "q = Queue()\n",
    "q.enqueue(1)\n",
    "q.enqueue(2)\n",
    "q.dequeue()\n",
    "q.enqueue(4)\n",
    "print(q.is_empty(), q.size())"
   ]
  },
  {
   "cell_type": "code",
   "execution_count": 27,
   "metadata": {},
   "outputs": [
    {
     "name": "stdout",
     "output_type": "stream",
     "text": [
      "person0\n",
      "person1\n",
      "person2\n",
      "person3\n",
      "person4\n",
      "person5\n",
      "person6\n",
      "person7\n",
      "person8\n",
      "person9\n",
      "['person0', 'person1', 'person2', 'person3', 'person4', 'person5', 'person6', 'person7', 'person8', 'person9']\n"
     ]
    }
   ],
   "source": [
    "q1 = Queue()\n",
    "sold = q1.simulate_line(5, 1)\n",
    "print(sold)"
   ]
  },
  {
   "cell_type": "markdown",
   "metadata": {},
   "source": [
    "### 算法\n",
    "1. 编写一个程序，打印从 1 到 100 之间的数字。碰到 3 的倍数时，不打印数字，而是\n",
    "打印\"Fizz\"；碰到 5 的倍数时，则打印\"Buzz\"；如果是 3 和 5 共同的倍数，则打印\n",
    "\"FizzBuzz\"。"
   ]
  },
  {
   "cell_type": "code",
   "execution_count": 3,
   "metadata": {},
   "outputs": [],
   "source": [
    "def fizz_buzz():\n",
    "    for i in range(1, 101):\n",
    "        if i % 3 == 0 and i % 5 == 0:\n",
    "            print('FizzBuzz')\n",
    "        elif i % 3 == 0:\n",
    "            print('Fizz')\n",
    "        elif i % 5 == 0:\n",
    "            print('Buzz')\n",
    "        else:\n",
    "            print(i)"
   ]
  },
  {
   "cell_type": "code",
   "execution_count": 4,
   "metadata": {},
   "outputs": [
    {
     "name": "stdout",
     "output_type": "stream",
     "text": [
      "1\n",
      "2\n",
      "Fizz\n",
      "4\n",
      "Buzz\n",
      "Fizz\n",
      "7\n",
      "8\n",
      "Fizz\n",
      "Buzz\n",
      "11\n",
      "Fizz\n",
      "13\n",
      "14\n",
      "FizzBuzz\n",
      "16\n",
      "17\n",
      "Fizz\n",
      "19\n",
      "Buzz\n",
      "Fizz\n",
      "22\n",
      "23\n",
      "Fizz\n",
      "Buzz\n",
      "26\n",
      "Fizz\n",
      "28\n",
      "29\n",
      "FizzBuzz\n",
      "31\n",
      "32\n",
      "Fizz\n",
      "34\n",
      "Buzz\n",
      "Fizz\n",
      "37\n",
      "38\n",
      "Fizz\n",
      "Buzz\n",
      "41\n",
      "Fizz\n",
      "43\n",
      "44\n",
      "FizzBuzz\n",
      "46\n",
      "47\n",
      "Fizz\n",
      "49\n",
      "Buzz\n",
      "Fizz\n",
      "52\n",
      "53\n",
      "Fizz\n",
      "Buzz\n",
      "56\n",
      "Fizz\n",
      "58\n",
      "59\n",
      "FizzBuzz\n",
      "61\n",
      "62\n",
      "Fizz\n",
      "64\n",
      "Buzz\n",
      "Fizz\n",
      "67\n",
      "68\n",
      "Fizz\n",
      "Buzz\n",
      "71\n",
      "Fizz\n",
      "73\n",
      "74\n",
      "FizzBuzz\n",
      "76\n",
      "77\n",
      "Fizz\n",
      "79\n",
      "Buzz\n",
      "Fizz\n",
      "82\n",
      "83\n",
      "Fizz\n",
      "Buzz\n",
      "86\n",
      "Fizz\n",
      "88\n",
      "89\n",
      "FizzBuzz\n",
      "91\n",
      "92\n",
      "Fizz\n",
      "94\n",
      "Buzz\n",
      "Fizz\n",
      "97\n",
      "98\n",
      "Fizz\n",
      "Buzz\n"
     ]
    }
   ],
   "source": [
    "fizz_buzz()"
   ]
  },
  {
   "cell_type": "code",
   "execution_count": 8,
   "metadata": {},
   "outputs": [],
   "source": [
    "# 顺序搜索\n",
    "def ss(number_list, n):\n",
    "    for i in number_list:\n",
    "        if i == n:\n",
    "            return True\n",
    "    return False"
   ]
  },
  {
   "cell_type": "code",
   "execution_count": 9,
   "metadata": {},
   "outputs": [
    {
     "name": "stdout",
     "output_type": "stream",
     "text": [
      "True\n",
      "False\n"
     ]
    }
   ],
   "source": [
    "numbers = range(100)\n",
    "s = ss(numbers, 10)\n",
    "print(s)\n",
    "s = ss(numbers, 100)\n",
    "print(s)"
   ]
  },
  {
   "cell_type": "code",
   "execution_count": 22,
   "metadata": {},
   "outputs": [],
   "source": [
    "# 回文词\n",
    "def palindrome(s):\n",
    "    s = s.strip().lower()\n",
    "    return s == s[::-1]"
   ]
  },
  {
   "cell_type": "code",
   "execution_count": 23,
   "metadata": {},
   "outputs": [
    {
     "name": "stdout",
     "output_type": "stream",
     "text": [
      "True\n"
     ]
    }
   ],
   "source": [
    "print(palindrome('  Ada'))"
   ]
  },
  {
   "cell_type": "code",
   "execution_count": 24,
   "metadata": {},
   "outputs": [],
   "source": [
    "# 变位词\n",
    "def anagram(w1, w2):\n",
    "    w1 = w1.lower()\n",
    "    w2 = w2.lower()\n",
    "    return sorted(w1) == sorted(w2)"
   ]
  },
  {
   "cell_type": "code",
   "execution_count": 25,
   "metadata": {},
   "outputs": [
    {
     "name": "stdout",
     "output_type": "stream",
     "text": [
      "True\n"
     ]
    }
   ],
   "source": [
    "print(anagram('abc', 'cab'))"
   ]
  },
  {
   "cell_type": "code",
   "execution_count": 30,
   "metadata": {},
   "outputs": [],
   "source": [
    "# 计算字母频数\n",
    "def count_characters(s):\n",
    "    count_dict = {}\n",
    "    for c in set (s):\n",
    "        count_dict[c] = s.count(c)\n",
    "    return count_dict"
   ]
  },
  {
   "cell_type": "code",
   "execution_count": 32,
   "metadata": {},
   "outputs": [
    {
     "name": "stdout",
     "output_type": "stream",
     "text": [
      "{'f': 2, 's': 2, 'd': 2, 'g': 1, 'e': 1}\n"
     ]
    }
   ],
   "source": [
    "print(count_characters('dfsdfseg'))"
   ]
  },
  {
   "cell_type": "code",
   "execution_count": null,
   "metadata": {},
   "outputs": [],
   "source": []
  }
 ],
 "metadata": {
  "kernelspec": {
   "display_name": "Python 3",
   "language": "python",
   "name": "python3"
  },
  "language_info": {
   "codemirror_mode": {
    "name": "ipython",
    "version": 3
   },
   "file_extension": ".py",
   "mimetype": "text/x-python",
   "name": "python",
   "nbconvert_exporter": "python",
   "pygments_lexer": "ipython3",
   "version": "3.7.3"
  }
 },
 "nbformat": 4,
 "nbformat_minor": 2
}
