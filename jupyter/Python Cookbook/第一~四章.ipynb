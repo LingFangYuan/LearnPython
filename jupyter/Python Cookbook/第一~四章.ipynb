{
 "cells": [
  {
   "cell_type": "markdown",
   "metadata": {},
   "source": [
    "### 第一章 数据结构和算法\n",
    "#### 1.1 解压序列赋值给多个变量"
   ]
  },
  {
   "cell_type": "code",
   "execution_count": 2,
   "metadata": {},
   "outputs": [
    {
     "name": "stdout",
     "output_type": "stream",
     "text": [
      "4 5\n"
     ]
    },
    {
     "ename": "ValueError",
     "evalue": "not enough values to unpack (expected 3, got 2)",
     "output_type": "error",
     "traceback": [
      "\u001b[1;31m---------------------------------------------------------------------------\u001b[0m",
      "\u001b[1;31mValueError\u001b[0m                                Traceback (most recent call last)",
      "\u001b[1;32m<ipython-input-2-76350f2625db>\u001b[0m in \u001b[0;36m<module>\u001b[1;34m\u001b[0m\n\u001b[0;32m      1\u001b[0m \u001b[0mx\u001b[0m\u001b[1;33m,\u001b[0m \u001b[0my\u001b[0m \u001b[1;33m=\u001b[0m \u001b[1;33m(\u001b[0m\u001b[1;36m4\u001b[0m\u001b[1;33m,\u001b[0m \u001b[1;36m5\u001b[0m\u001b[1;33m)\u001b[0m\u001b[1;33m\u001b[0m\u001b[1;33m\u001b[0m\u001b[0m\n\u001b[0;32m      2\u001b[0m \u001b[0mprint\u001b[0m\u001b[1;33m(\u001b[0m\u001b[0mx\u001b[0m\u001b[1;33m,\u001b[0m \u001b[0my\u001b[0m\u001b[1;33m)\u001b[0m\u001b[1;33m\u001b[0m\u001b[1;33m\u001b[0m\u001b[0m\n\u001b[1;32m----> 3\u001b[1;33m \u001b[0mx\u001b[0m\u001b[1;33m,\u001b[0m \u001b[0my\u001b[0m\u001b[1;33m,\u001b[0m \u001b[0mz\u001b[0m \u001b[1;33m=\u001b[0m \u001b[1;33m(\u001b[0m\u001b[1;36m4\u001b[0m\u001b[1;33m,\u001b[0m \u001b[1;36m5\u001b[0m\u001b[1;33m)\u001b[0m\u001b[1;33m\u001b[0m\u001b[1;33m\u001b[0m\u001b[0m\n\u001b[0m",
      "\u001b[1;31mValueError\u001b[0m: not enough values to unpack (expected 3, got 2)"
     ]
    }
   ],
   "source": [
    "x, y = (4, 5)\n",
    "print(x, y)\n",
    "x, y, z = (4, 5)"
   ]
  },
  {
   "cell_type": "markdown",
   "metadata": {},
   "source": [
    "#### 1.2 解压可迭代对象赋值给多个变量"
   ]
  },
  {
   "cell_type": "code",
   "execution_count": 6,
   "metadata": {},
   "outputs": [
    {
     "name": "stdout",
     "output_type": "stream",
     "text": [
      "[1, 2, 3, 4] 5\n",
      "sdf 2019\n",
      "sdf 2019\n"
     ]
    }
   ],
   "source": [
    "*x, y = (1, 2, 3, 4, 5)\n",
    "print(x, y)\n",
    "record = ('sdf', 50, 123.45, (12, 18, 2019))\n",
    "name, year = record[0], record[-1][-1]\n",
    "print(name, year)\n",
    "name, *_, (*_, year) = record\n",
    "print(name, year)"
   ]
  },
  {
   "cell_type": "markdown",
   "metadata": {},
   "source": [
    "#### 1.3 保留最后 N 个元素"
   ]
  },
  {
   "cell_type": "code",
   "execution_count": 27,
   "metadata": {},
   "outputs": [],
   "source": [
    "from collections import deque\n",
    "def search(lines, pattern, history=5):\n",
    "    previous_lines = deque(maxlen=history)\n",
    "    for line in lines:\n",
    "        if pattern in line:\n",
    "            yield line, previous_lines\n",
    "        previous_lines.append(line)"
   ]
  },
  {
   "cell_type": "code",
   "execution_count": 34,
   "metadata": {},
   "outputs": [],
   "source": [
    "lines = ['aaaaaaaaaa', 'python', 'bbbbbbbb', 'python', 'cccccc', 'dddddd']\n",
    "gen = search(lines, 'python')"
   ]
  },
  {
   "cell_type": "code",
   "execution_count": 35,
   "metadata": {},
   "outputs": [
    {
     "name": "stdout",
     "output_type": "stream",
     "text": [
      "python deque(['aaaaaaaaaa'], maxlen=5)\n",
      "python deque(['aaaaaaaaaa', 'python', 'bbbbbbbb'], maxlen=5)\n",
      "deque(['python', 'bbbbbbbb', 'python', 'cccccc', 'dddddd'], maxlen=5)\n"
     ]
    }
   ],
   "source": [
    "for lin, pre in gen:\n",
    "    print(lin, pre)\n",
    "print(pre)"
   ]
  },
  {
   "cell_type": "markdown",
   "metadata": {},
   "source": [
    "#### 1.4 查找最大或最小的 N 个元素"
   ]
  },
  {
   "cell_type": "code",
   "execution_count": 36,
   "metadata": {},
   "outputs": [
    {
     "name": "stdout",
     "output_type": "stream",
     "text": [
      "[42, 37, 23]\n",
      "[-4, 1, 2]\n"
     ]
    }
   ],
   "source": [
    "import heapq\n",
    "\n",
    "nums = [1, 8, 2, 23, 7, -4, 18, 23, 42, 37, 2]\n",
    "print(heapq.nlargest(3, nums))\n",
    "print(heapq.nsmallest(3, nums))"
   ]
  },
  {
   "cell_type": "code",
   "execution_count": 37,
   "metadata": {},
   "outputs": [
    {
     "name": "stdout",
     "output_type": "stream",
     "text": [
      "[{'name': 'YHOO', 'shares': 45, 'price': 16.35}, {'name': 'FB', 'shares': 200, 'price': 21.09}, {'name': 'HPQ', 'shares': 35, 'price': 31.75}]\n",
      "[{'name': 'AAPL', 'shares': 50, 'price': 543.22}, {'name': 'ACME', 'shares': 75, 'price': 115.65}, {'name': 'IBM', 'shares': 100, 'price': 91.1}]\n"
     ]
    }
   ],
   "source": [
    "portfolio = [\n",
    "{'name': 'IBM', 'shares': 100, 'price': 91.1},\n",
    "{'name': 'AAPL', 'shares': 50, 'price': 543.22},\n",
    "{'name': 'FB', 'shares': 200, 'price': 21.09},\n",
    "{'name': 'HPQ', 'shares': 35, 'price': 31.75},\n",
    "{'name': 'YHOO', 'shares': 45, 'price': 16.35},\n",
    "{'name': 'ACME', 'shares': 75, 'price': 115.65}\n",
    "]\n",
    "cheap = heapq.nsmallest(3, portfolio, key=lambda s: s['price'])\n",
    "expensive = heapq.nlargest(3, portfolio, key=lambda s: s['price'])\n",
    "print(cheap)\n",
    "print(expensive)"
   ]
  },
  {
   "cell_type": "code",
   "execution_count": 51,
   "metadata": {},
   "outputs": [
    {
     "name": "stdout",
     "output_type": "stream",
     "text": [
      "[-4, 2, 1, 23, 7, 2, 18, 23, 42, 37, 8]\n"
     ]
    }
   ],
   "source": [
    "nums = [1, 8, 2, 23, 7, -4, 18, 23, 42, 37, 2]\n",
    "heap = list(nums)\n",
    "heapq.heapify(heap)\n",
    "print(heap)"
   ]
  },
  {
   "cell_type": "code",
   "execution_count": 52,
   "metadata": {},
   "outputs": [
    {
     "data": {
      "text/plain": [
       "-4"
      ]
     },
     "execution_count": 52,
     "metadata": {},
     "output_type": "execute_result"
    }
   ],
   "source": [
    "heapq.heappop(heap)"
   ]
  },
  {
   "cell_type": "markdown",
   "metadata": {},
   "source": [
    "#### 1.5 实现一个优先级队列\n",
    "怎样实现一个按优先级排序的队列？并且在这个队列上面每次 pop 操作总是返回\n",
    "优先级最高的那个元素"
   ]
  },
  {
   "cell_type": "code",
   "execution_count": 57,
   "metadata": {},
   "outputs": [],
   "source": [
    "import heapq\n",
    "\n",
    "class PriorityQueue:\n",
    "    \n",
    "    def __init__(self):\n",
    "        self._queue = []\n",
    "        self._index = 0\n",
    "    \n",
    "    def push(self, item, priority):\n",
    "        heapq.heappush(self._queue, (-priority, self._index, item))\n",
    "        self._index += 1\n",
    "    \n",
    "    def pop(self):\n",
    "        return heapq.heappop(self._queue)[-1]"
   ]
  },
  {
   "cell_type": "code",
   "execution_count": 64,
   "metadata": {},
   "outputs": [],
   "source": [
    "q = PriorityQueue()\n",
    "q.push('a', 1)\n",
    "q.push('b', 5)\n",
    "q.push('c', 4)\n",
    "q.push('d', 1)"
   ]
  },
  {
   "cell_type": "code",
   "execution_count": 65,
   "metadata": {},
   "outputs": [
    {
     "data": {
      "text/plain": [
       "'b'"
      ]
     },
     "execution_count": 65,
     "metadata": {},
     "output_type": "execute_result"
    }
   ],
   "source": [
    "q.pop()"
   ]
  },
  {
   "cell_type": "markdown",
   "metadata": {},
   "source": [
    "#### 1.6 字典中的键映射多个值\n",
    "怎样实现一个键对应多个值的字典（也叫 multidict）？"
   ]
  },
  {
   "cell_type": "code",
   "execution_count": 2,
   "metadata": {},
   "outputs": [
    {
     "name": "stdout",
     "output_type": "stream",
     "text": [
      "defaultdict(<class 'set'>, {'a': {1, 2}, 'b': {3}})\n"
     ]
    }
   ],
   "source": [
    "from collections import defaultdict\n",
    "\n",
    "d = defaultdict(set)\n",
    "d['a'].add(1)\n",
    "d['a'].add(2)\n",
    "d['b'].add(3)\n",
    "print(d)"
   ]
  },
  {
   "cell_type": "markdown",
   "metadata": {},
   "source": [
    "#### 1.7 字典排序\n",
    "你想创建一个字典，并且在迭代或序列化这个字典的时候能够控制元素的顺序。"
   ]
  },
  {
   "cell_type": "code",
   "execution_count": 4,
   "metadata": {},
   "outputs": [
    {
     "name": "stdout",
     "output_type": "stream",
     "text": [
      "a 1\n",
      "b 2\n",
      "c 3\n"
     ]
    }
   ],
   "source": [
    "from collections import OrderedDict\n",
    "\n",
    "d = OrderedDict()\n",
    "d['a'] = 1\n",
    "d['b'] = 2\n",
    "d['c'] = 3\n",
    "for k in d:\n",
    "    print(k, d[k])"
   ]
  },
  {
   "cell_type": "markdown",
   "metadata": {},
   "source": [
    "#### 1.8 字典的运算\n",
    "怎样在数据字典中执行一些计算操作（比如求最小值、最大值、排序等等）？"
   ]
  },
  {
   "cell_type": "code",
   "execution_count": 5,
   "metadata": {},
   "outputs": [],
   "source": [
    "prices = {\n",
    "'ACME': 45.23,\n",
    "'AAPL': 612.78,\n",
    "'IBM': 205.55,\n",
    "'HPQ': 37.20,\n",
    "'FB': 10.75\n",
    "}"
   ]
  },
  {
   "cell_type": "code",
   "execution_count": 14,
   "metadata": {},
   "outputs": [
    {
     "name": "stdout",
     "output_type": "stream",
     "text": [
      "(10.75, 'FB')\n",
      "(612.78, 'AAPL')\n",
      "[(10.75, 'FB'), (37.2, 'HPQ'), (45.23, 'ACME'), (205.55, 'IBM'), (612.78, 'AAPL')]\n"
     ]
    }
   ],
   "source": [
    "min_price = min(zip(prices.values(), prices.keys()))\n",
    "print(min_price)\n",
    "max_price = max(zip(prices.values(), prices.keys()))\n",
    "print(max_price)\n",
    "prices_sorted = sorted(zip(prices.values(), prices.keys()))\n",
    "print(prices_sorted)"
   ]
  },
  {
   "cell_type": "markdown",
   "metadata": {},
   "source": [
    "#### 1.9 查找两字典的相同点\n",
    "怎样在两个字典中寻找相同点（比如相同的键、相同的值等等）？"
   ]
  },
  {
   "cell_type": "code",
   "execution_count": 15,
   "metadata": {},
   "outputs": [],
   "source": [
    "a = {\n",
    "'x' : 1,\n",
    "'y' : 2,\n",
    "'z' : 3\n",
    "}\n",
    "b = {\n",
    "'w' : 10,\n",
    "'x' : 11,\n",
    "'y' : 2\n",
    "}"
   ]
  },
  {
   "cell_type": "code",
   "execution_count": 31,
   "metadata": {},
   "outputs": [
    {
     "name": "stdout",
     "output_type": "stream",
     "text": [
      "{'x', 'y'}\n",
      "{'z'}\n",
      "{('y', 2)}\n",
      "{'x': 1, 'y': 2}\n"
     ]
    }
   ],
   "source": [
    "print(a.keys() & b.keys())\n",
    "print(a.keys() - b.keys())\n",
    "print(a.items() & b.items())\n",
    "c = {key: a[key] for key in a.keys() - {'z': 'w'}}\n",
    "print(c)"
   ]
  },
  {
   "cell_type": "markdown",
   "metadata": {},
   "source": [
    "#### 1.10 删除序列相同元素并保持顺序\n",
    "怎样在一个序列上面保持元素顺序的同时消除重复的值？"
   ]
  },
  {
   "cell_type": "code",
   "execution_count": 40,
   "metadata": {},
   "outputs": [],
   "source": [
    "def dedupe1(items):\n",
    "    seen = set()\n",
    "    for item in items:\n",
    "        if item not in seen:\n",
    "            yield item\n",
    "            seen.add(item)\n",
    "def dedupe(items, key=None):\n",
    "    seen = set()\n",
    "    for item in items:\n",
    "        val = item if key is None else key(item)\n",
    "        if val not in seen:\n",
    "            yield item\n",
    "            seen.add(val)"
   ]
  },
  {
   "cell_type": "code",
   "execution_count": 41,
   "metadata": {},
   "outputs": [
    {
     "name": "stdout",
     "output_type": "stream",
     "text": [
      "[1, 5, 2, 9, 10]\n"
     ]
    }
   ],
   "source": [
    "a = [1, 5, 2, 1, 9, 1, 5, 10]\n",
    "print(list(dedupe(a)))"
   ]
  },
  {
   "cell_type": "markdown",
   "metadata": {},
   "source": [
    "#### 1.11 命名切片\n",
    "你的程序已经出现一大堆已无法直视的硬编码切片下标，然后你想清理下代码。"
   ]
  },
  {
   "cell_type": "code",
   "execution_count": 43,
   "metadata": {},
   "outputs": [
    {
     "name": "stdout",
     "output_type": "stream",
     "text": [
      "51325.0\n"
     ]
    }
   ],
   "source": [
    "######    0123456789012345678901234567890123456789012345678901234567890'\n",
    "record = '....................100 .......513.25 ..........'\n",
    "cost = int(record[20:23]) * float(record[31:37])\n",
    "print(cost)"
   ]
  },
  {
   "cell_type": "code",
   "execution_count": 45,
   "metadata": {},
   "outputs": [
    {
     "name": "stdout",
     "output_type": "stream",
     "text": [
      "51325.0\n"
     ]
    }
   ],
   "source": [
    "SHARES = slice(20, 24)\n",
    "PRICE = slice(31, 37)\n",
    "cost = int(record[SHARES]) * float(record[PRICE])\n",
    "print(cost)"
   ]
  },
  {
   "cell_type": "code",
   "execution_count": 51,
   "metadata": {},
   "outputs": [
    {
     "name": "stdout",
     "output_type": "stream",
     "text": [
      "(5, 10, 2)\n",
      "W\n",
      "r\n",
      "d\n"
     ]
    }
   ],
   "source": [
    "a = slice(5, 50, 2)\n",
    "s = 'HelloWorld'\n",
    "print(a.indices(len(s)))\n",
    "for i in range(*a.indices(len(s))):\n",
    "    print(s[i])"
   ]
  },
  {
   "cell_type": "markdown",
   "metadata": {},
   "source": [
    "#### 1.12 序列中出现次数最多的元素\n",
    "怎样找出一个序列中出现次数最多的元素呢？"
   ]
  },
  {
   "cell_type": "code",
   "execution_count": 55,
   "metadata": {},
   "outputs": [
    {
     "name": "stdout",
     "output_type": "stream",
     "text": [
      "[('eyes', 8), ('the', 5), ('look', 4)]\n"
     ]
    }
   ],
   "source": [
    "from collections import Counter\n",
    "\n",
    "words = [\n",
    "'look', 'into', 'my', 'eyes', 'look', 'into', 'my', 'eyes',\n",
    "'the', 'eyes', 'the', 'eyes', 'the', 'eyes', 'not', 'around', 'the',\n",
    "'eyes', \"don't\", 'look', 'around', 'the', 'eyes', 'look', 'into',\n",
    "'my', 'eyes', \"you're\", 'under'\n",
    "]\n",
    "word_counts = Counter(words)\n",
    "top_three = word_counts.most_common(3)\n",
    "print(top_three)"
   ]
  },
  {
   "cell_type": "markdown",
   "metadata": {},
   "source": [
    "#### 1.13 通过某个关键字排序一个字典列表\n",
    "你有一个字典列表，你想根据某个或某几个字典字段来排序这个列表。"
   ]
  },
  {
   "cell_type": "code",
   "execution_count": 62,
   "metadata": {},
   "outputs": [
    {
     "name": "stdout",
     "output_type": "stream",
     "text": [
      "[{'fname': 'John', 'lname': 'Cleese', 'uid': 1001}, {'fname': 'David', 'lname': 'Beazley', 'uid': 1002}, {'fname': 'Brian', 'lname': 'Jones', 'uid': 1003}, {'fname': 'Big', 'lname': 'Jones', 'uid': 1004}]\n"
     ]
    }
   ],
   "source": [
    "rows = [\n",
    "{'fname': 'Brian', 'lname': 'Jones', 'uid': 1003},\n",
    "{'fname': 'David', 'lname': 'Beazley', 'uid': 1002},\n",
    "{'fname': 'John', 'lname': 'Cleese', 'uid': 1001},\n",
    "{'fname': 'Big', 'lname': 'Jones', 'uid': 1004}\n",
    "]\n",
    "rows.sort(key=lambda n: n['uid'])\n",
    "print(rows)"
   ]
  },
  {
   "cell_type": "code",
   "execution_count": 64,
   "metadata": {},
   "outputs": [
    {
     "name": "stdout",
     "output_type": "stream",
     "text": [
      "[{'fname': 'Big', 'lname': 'Jones', 'uid': 1004}, {'fname': 'Brian', 'lname': 'Jones', 'uid': 1003}, {'fname': 'David', 'lname': 'Beazley', 'uid': 1002}, {'fname': 'John', 'lname': 'Cleese', 'uid': 1001}]\n",
      "[{'fname': 'John', 'lname': 'Cleese', 'uid': 1001}, {'fname': 'David', 'lname': 'Beazley', 'uid': 1002}, {'fname': 'Brian', 'lname': 'Jones', 'uid': 1003}, {'fname': 'Big', 'lname': 'Jones', 'uid': 1004}]\n"
     ]
    }
   ],
   "source": [
    "rows = [\n",
    "{'fname': 'Brian', 'lname': 'Jones', 'uid': 1003},\n",
    "{'fname': 'David', 'lname': 'Beazley', 'uid': 1002},\n",
    "{'fname': 'John', 'lname': 'Cleese', 'uid': 1001},\n",
    "{'fname': 'Big', 'lname': 'Jones', 'uid': 1004}\n",
    "]\n",
    "from operator import itemgetter\n",
    "\n",
    "rows_by_fname = sorted(rows, key=itemgetter('fname'))\n",
    "rows_by_uid = sorted(rows, key=itemgetter('uid'))\n",
    "print(rows_by_fname)\n",
    "print(rows_by_uid)"
   ]
  },
  {
   "cell_type": "markdown",
   "metadata": {},
   "source": [
    "#### 1.14 排序不支持原生比较的对象\n",
    "你想排序类型相同的对象，但是他们不支持原生的比较操作。\n"
   ]
  },
  {
   "cell_type": "code",
   "execution_count": 68,
   "metadata": {},
   "outputs": [],
   "source": [
    "class User:\n",
    "    def __init__(self, user_id):\n",
    "        self.user_id = user_id\n",
    "    def __repr__(self):\n",
    "        return 'User({})'.format(self.user_id)"
   ]
  },
  {
   "cell_type": "code",
   "execution_count": 69,
   "metadata": {},
   "outputs": [
    {
     "name": "stdout",
     "output_type": "stream",
     "text": [
      "[User(3), User(23), User(99)]\n"
     ]
    }
   ],
   "source": [
    "from operator import attrgetter\n",
    "\n",
    "users = [User(23), User(3), User(99)]\n",
    "print(sorted(users, key=attrgetter('user_id')))"
   ]
  },
  {
   "cell_type": "markdown",
   "metadata": {},
   "source": [
    "#### 1.15 通过某个字段将记录分组\n",
    "你有一个字典或者实例的序列，然后你想根据某个特定的字段比如 date 来分组迭\n",
    "代访问。"
   ]
  },
  {
   "cell_type": "code",
   "execution_count": 70,
   "metadata": {},
   "outputs": [],
   "source": [
    "rows = [\n",
    "{'address': '5412 N CLARK', 'date': '07/01/2012'},\n",
    "{'address': '5148 N CLARK', 'date': '07/04/2012'},\n",
    "{'address': '5800 E 58TH', 'date': '07/02/2012'},\n",
    "{'address': '2122 N CLARK', 'date': '07/03/2012'},\n",
    "{'address': '5645 N RAVENSWOOD', 'date': '07/02/2012'},\n",
    "{'address': '1060 W ADDISON', 'date': '07/02/2012'},\n",
    "{'address': '4801 N BROADWAY', 'date': '07/01/2012'},\n",
    "{'address': '1039 W GRANVILLE', 'date': '07/04/2012'},\n",
    "]"
   ]
  },
  {
   "cell_type": "code",
   "execution_count": 81,
   "metadata": {},
   "outputs": [
    {
     "name": "stdout",
     "output_type": "stream",
     "text": [
      "07/01/2012\n",
      "  {'address': '5412 N CLARK', 'date': '07/01/2012'}\n",
      "  {'address': '4801 N BROADWAY', 'date': '07/01/2012'}\n",
      "07/02/2012\n",
      "  {'address': '5800 E 58TH', 'date': '07/02/2012'}\n",
      "  {'address': '5645 N RAVENSWOOD', 'date': '07/02/2012'}\n",
      "  {'address': '1060 W ADDISON', 'date': '07/02/2012'}\n",
      "07/03/2012\n",
      "  {'address': '2122 N CLARK', 'date': '07/03/2012'}\n",
      "07/04/2012\n",
      "  {'address': '5148 N CLARK', 'date': '07/04/2012'}\n",
      "  {'address': '1039 W GRANVILLE', 'date': '07/04/2012'}\n"
     ]
    }
   ],
   "source": [
    "from operator import itemgetter\n",
    "from itertools import groupby\n",
    "\n",
    "rows.sort(key=itemgetter('date'))\n",
    "for date, items in groupby(rows, key=itemgetter('date')):\n",
    "    print(date)\n",
    "    for i in items:\n",
    "        print(' ', i)"
   ]
  },
  {
   "cell_type": "markdown",
   "metadata": {},
   "source": [
    "#### 1.16 过滤序列元素\n",
    "你有一个数据序列，想利用一些规则从中提取出需要的值或者是缩短序列"
   ]
  },
  {
   "cell_type": "code",
   "execution_count": 84,
   "metadata": {},
   "outputs": [
    {
     "name": "stdout",
     "output_type": "stream",
     "text": [
      "[1, 4, 10, 2, 3]\n"
     ]
    }
   ],
   "source": [
    "mylist = [1, 4, -5, 10, -7, 2, 3, -1]\n",
    "print([n for n in mylist if n > 0])"
   ]
  },
  {
   "cell_type": "code",
   "execution_count": 85,
   "metadata": {},
   "outputs": [
    {
     "name": "stdout",
     "output_type": "stream",
     "text": [
      "['1', '2', '-3', '4', '5']\n"
     ]
    }
   ],
   "source": [
    "values = ['1', '2', '-3', '-', '4', 'N/A', '5']\n",
    "def is_int(val):\n",
    "    try:\n",
    "        x = int(val)\n",
    "        return True\n",
    "    except ValueError:\n",
    "        return False\n",
    "ivals = list(filter(is_int, values))\n",
    "print(ivals)"
   ]
  },
  {
   "cell_type": "code",
   "execution_count": 86,
   "metadata": {},
   "outputs": [],
   "source": [
    "addresses = [\n",
    "'5412 N CLARK',\n",
    "'5148 N CLARK',\n",
    "'5800 E 58TH',\n",
    "'2122 N CLARK',\n",
    "'5645 N RAVENSWOOD',\n",
    "'1060 W ADDISON',\n",
    "'4801 N BROADWAY',\n",
    "'1039 W GRANVILLE',\n",
    "]\n",
    "counts = [ 0, 3, 10, 4, 1, 7, 6, 1]"
   ]
  },
  {
   "cell_type": "code",
   "execution_count": 88,
   "metadata": {},
   "outputs": [
    {
     "name": "stdout",
     "output_type": "stream",
     "text": [
      "[False, False, True, False, False, True, True, False]\n",
      "['5800 E 58TH', '1060 W ADDISON', '4801 N BROADWAY']\n"
     ]
    }
   ],
   "source": [
    "from itertools import compress\n",
    "\n",
    "more5 = [n > 5 for n in counts]\n",
    "print(more5)\n",
    "print(list(compress(addresses, more5)))"
   ]
  },
  {
   "cell_type": "markdown",
   "metadata": {},
   "source": [
    "#### 1.17 从字典中提取子集\n",
    "你想构造一个字典，它是另外一个字典的子集。"
   ]
  },
  {
   "cell_type": "code",
   "execution_count": 2,
   "metadata": {},
   "outputs": [
    {
     "name": "stdout",
     "output_type": "stream",
     "text": [
      "{'AAPL': 612.78, 'IBM': 205.55}\n"
     ]
    }
   ],
   "source": [
    "prices = {\n",
    "    'ACME': 45.23,\n",
    "    'AAPL': 612.78,\n",
    "    'IBM': 205.55,\n",
    "    'HPQ': 37.20,\n",
    "    'FB': 10.75\n",
    "}\n",
    "p1 = {k: v for k, v in prices.items() if v > 200}\n",
    "print(p1)"
   ]
  },
  {
   "cell_type": "markdown",
   "metadata": {},
   "source": [
    "#### 1.18 映射名称到序列元素\n",
    "你有一段通过下标访问列表或者元组中元素的代码，但是这样有时候会使得你的\n",
    "代码难以阅读，于是你想通过名称来访问元素。"
   ]
  },
  {
   "cell_type": "code",
   "execution_count": 3,
   "metadata": {},
   "outputs": [
    {
     "name": "stdout",
     "output_type": "stream",
     "text": [
      "sdfsefsefwse 2019-12-11\n"
     ]
    }
   ],
   "source": [
    "from collections import namedtuple\n",
    "\n",
    "Subscriber = namedtuple('Subscriber', 'addr joined')\n",
    "sub = Subscriber('sdfsefsefwse', '2019-12-11')\n",
    "print(sub.addr, sub.joined)"
   ]
  },
  {
   "cell_type": "markdown",
   "metadata": {},
   "source": [
    "#### 1.19 转换并同时计算数据\n",
    "你需要在数据序列上执行聚集函数（比如 sum() , min() , max() ），但是首先你需\n",
    "要先转换或者过滤数据"
   ]
  },
  {
   "cell_type": "code",
   "execution_count": 2,
   "metadata": {},
   "outputs": [
    {
     "name": "stdout",
     "output_type": "stream",
     "text": [
      "55\n",
      "ACME,50,123.45\n"
     ]
    }
   ],
   "source": [
    "nums = [1, 2, 3, 4, 5]\n",
    "s = sum(x ** 2 for x in nums)\n",
    "print(s)\n",
    "s = ('ACME', 50, 123.45)\n",
    "print(','.join(str(x) for x in s))"
   ]
  },
  {
   "cell_type": "markdown",
   "metadata": {},
   "source": [
    "#### 1.20 合并多个字典或映射\n",
    "现在有多个字典或者映射，你想将它们从逻辑上合并为一个单一的映射后执行某\n",
    "些操作，比如查找值或者检查某些键是否存在。"
   ]
  },
  {
   "cell_type": "code",
   "execution_count": 9,
   "metadata": {},
   "outputs": [
    {
     "name": "stdout",
     "output_type": "stream",
     "text": [
      "1\n",
      "2\n",
      "3\n"
     ]
    }
   ],
   "source": [
    "a = {'x': 1, 'z': 3 }\n",
    "b = {'y': 2, 'z': 4 }\n",
    "\n",
    "from collections import ChainMap\n",
    "c = ChainMap(a, b)\n",
    "print(c['x'])\n",
    "print(c['y'])\n",
    "print(c['z'])"
   ]
  },
  {
   "cell_type": "markdown",
   "metadata": {},
   "source": [
    "### 第二章：字符串和文本\n",
    "#### 2.1 使用多个界定符分割字符串\n",
    "你需要将一个字符串分割为多个字段，但是分隔符 (还有周围的空格) 并不是固定\n",
    "的。"
   ]
  },
  {
   "cell_type": "code",
   "execution_count": 17,
   "metadata": {},
   "outputs": [
    {
     "name": "stdout",
     "output_type": "stream",
     "text": [
      "['asdf', 'fjdk', 'afed', 'fjek', 'asdf', 'foo']\n",
      "['asdf', ' ', 'fjdk', ';', 'afed', ',', 'fjek', ',', 'asdf', ',', 'foo']\n"
     ]
    }
   ],
   "source": [
    "line = 'asdf fjdk; afed, fjek,asdf, foo'\n",
    "import re\n",
    "print(re.split(r'[;,\\s]+', line))\n",
    "print(re.split(r'(;|,|\\s)\\s*', line))"
   ]
  },
  {
   "cell_type": "markdown",
   "metadata": {},
   "source": [
    "#### 2.2 字符串开头或结尾匹配\n",
    "你需要通过指定的文本模式去检查字符串的开头或者结尾，比如文件名后缀，URL\n",
    "Scheme 等等。"
   ]
  },
  {
   "cell_type": "code",
   "execution_count": 21,
   "metadata": {},
   "outputs": [
    {
     "name": "stdout",
     "output_type": "stream",
     "text": [
      "True\n",
      "True\n",
      "['foo.c', 'spam.c', 'spam.h']\n"
     ]
    },
    {
     "ename": "TypeError",
     "evalue": "endswith first arg must be str or a tuple of str, not list",
     "output_type": "error",
     "traceback": [
      "\u001b[1;31m---------------------------------------------------------------------------\u001b[0m",
      "\u001b[1;31mTypeError\u001b[0m                                 Traceback (most recent call last)",
      "\u001b[1;32m<ipython-input-21-66ad9d6d4f10>\u001b[0m in \u001b[0;36m<module>\u001b[1;34m\u001b[0m\n\u001b[0;32m      4\u001b[0m \u001b[0mfilename\u001b[0m \u001b[1;33m=\u001b[0m \u001b[1;33m[\u001b[0m \u001b[1;34m'Makefile'\u001b[0m\u001b[1;33m,\u001b[0m \u001b[1;34m'foo.c'\u001b[0m\u001b[1;33m,\u001b[0m \u001b[1;34m'bar.py'\u001b[0m\u001b[1;33m,\u001b[0m \u001b[1;34m'spam.c'\u001b[0m\u001b[1;33m,\u001b[0m \u001b[1;34m'spam.h'\u001b[0m \u001b[1;33m]\u001b[0m\u001b[1;33m\u001b[0m\u001b[1;33m\u001b[0m\u001b[0m\n\u001b[0;32m      5\u001b[0m \u001b[0mprint\u001b[0m\u001b[1;33m(\u001b[0m\u001b[1;33m[\u001b[0m\u001b[0mname\u001b[0m \u001b[1;32mfor\u001b[0m \u001b[0mname\u001b[0m \u001b[1;32min\u001b[0m \u001b[0mfilename\u001b[0m \u001b[1;32mif\u001b[0m \u001b[0mname\u001b[0m\u001b[1;33m.\u001b[0m\u001b[0mendswith\u001b[0m\u001b[1;33m(\u001b[0m\u001b[1;33m(\u001b[0m\u001b[1;34m'.c'\u001b[0m\u001b[1;33m,\u001b[0m \u001b[1;34m'.h'\u001b[0m\u001b[1;33m)\u001b[0m\u001b[1;33m)\u001b[0m\u001b[1;33m]\u001b[0m\u001b[1;33m)\u001b[0m\u001b[1;33m\u001b[0m\u001b[1;33m\u001b[0m\u001b[0m\n\u001b[1;32m----> 6\u001b[1;33m \u001b[0mprint\u001b[0m\u001b[1;33m(\u001b[0m\u001b[1;33m[\u001b[0m\u001b[0mname\u001b[0m \u001b[1;32mfor\u001b[0m \u001b[0mname\u001b[0m \u001b[1;32min\u001b[0m \u001b[0mfilename\u001b[0m \u001b[1;32mif\u001b[0m \u001b[0mname\u001b[0m\u001b[1;33m.\u001b[0m\u001b[0mendswith\u001b[0m\u001b[1;33m(\u001b[0m\u001b[1;33m[\u001b[0m\u001b[1;34m'.c'\u001b[0m\u001b[1;33m,\u001b[0m \u001b[1;34m'.h'\u001b[0m\u001b[1;33m]\u001b[0m\u001b[1;33m)\u001b[0m\u001b[1;33m]\u001b[0m\u001b[1;33m)\u001b[0m\u001b[1;33m\u001b[0m\u001b[1;33m\u001b[0m\u001b[0m\n\u001b[0m",
      "\u001b[1;32m<ipython-input-21-66ad9d6d4f10>\u001b[0m in \u001b[0;36m<listcomp>\u001b[1;34m(.0)\u001b[0m\n\u001b[0;32m      4\u001b[0m \u001b[0mfilename\u001b[0m \u001b[1;33m=\u001b[0m \u001b[1;33m[\u001b[0m \u001b[1;34m'Makefile'\u001b[0m\u001b[1;33m,\u001b[0m \u001b[1;34m'foo.c'\u001b[0m\u001b[1;33m,\u001b[0m \u001b[1;34m'bar.py'\u001b[0m\u001b[1;33m,\u001b[0m \u001b[1;34m'spam.c'\u001b[0m\u001b[1;33m,\u001b[0m \u001b[1;34m'spam.h'\u001b[0m \u001b[1;33m]\u001b[0m\u001b[1;33m\u001b[0m\u001b[1;33m\u001b[0m\u001b[0m\n\u001b[0;32m      5\u001b[0m \u001b[0mprint\u001b[0m\u001b[1;33m(\u001b[0m\u001b[1;33m[\u001b[0m\u001b[0mname\u001b[0m \u001b[1;32mfor\u001b[0m \u001b[0mname\u001b[0m \u001b[1;32min\u001b[0m \u001b[0mfilename\u001b[0m \u001b[1;32mif\u001b[0m \u001b[0mname\u001b[0m\u001b[1;33m.\u001b[0m\u001b[0mendswith\u001b[0m\u001b[1;33m(\u001b[0m\u001b[1;33m(\u001b[0m\u001b[1;34m'.c'\u001b[0m\u001b[1;33m,\u001b[0m \u001b[1;34m'.h'\u001b[0m\u001b[1;33m)\u001b[0m\u001b[1;33m)\u001b[0m\u001b[1;33m]\u001b[0m\u001b[1;33m)\u001b[0m\u001b[1;33m\u001b[0m\u001b[1;33m\u001b[0m\u001b[0m\n\u001b[1;32m----> 6\u001b[1;33m \u001b[0mprint\u001b[0m\u001b[1;33m(\u001b[0m\u001b[1;33m[\u001b[0m\u001b[0mname\u001b[0m \u001b[1;32mfor\u001b[0m \u001b[0mname\u001b[0m \u001b[1;32min\u001b[0m \u001b[0mfilename\u001b[0m \u001b[1;32mif\u001b[0m \u001b[0mname\u001b[0m\u001b[1;33m.\u001b[0m\u001b[0mendswith\u001b[0m\u001b[1;33m(\u001b[0m\u001b[1;33m[\u001b[0m\u001b[1;34m'.c'\u001b[0m\u001b[1;33m,\u001b[0m \u001b[1;34m'.h'\u001b[0m\u001b[1;33m]\u001b[0m\u001b[1;33m)\u001b[0m\u001b[1;33m]\u001b[0m\u001b[1;33m)\u001b[0m\u001b[1;33m\u001b[0m\u001b[1;33m\u001b[0m\u001b[0m\n\u001b[0m",
      "\u001b[1;31mTypeError\u001b[0m: endswith first arg must be str or a tuple of str, not list"
     ]
    }
   ],
   "source": [
    "filename = 'spam.txt'\n",
    "print(filename.endswith('.txt'))\n",
    "print(filename.startswith('spam'))\n",
    "filename = [ 'Makefile', 'foo.c', 'bar.py', 'spam.c', 'spam.h' ]\n",
    "print([name for name in filename if name.endswith(('.c', '.h'))])\n",
    "print([name for name in filename if name.endswith(['.c', '.h'])])"
   ]
  },
  {
   "cell_type": "markdown",
   "metadata": {},
   "source": [
    "#### 2.3 用 Shell 通配符匹配字符串\n",
    "你想使用 Unix Shell 中常用的通配符 (比如 *.py , Dat[0-9]*.csv 等) 去匹配文\n",
    "本字符串"
   ]
  },
  {
   "cell_type": "code",
   "execution_count": 28,
   "metadata": {},
   "outputs": [
    {
     "name": "stdout",
     "output_type": "stream",
     "text": [
      "True\n",
      "True\n",
      "False\n",
      "True\n"
     ]
    }
   ],
   "source": [
    "from fnmatch import fnmatch, fnmatchcase\n",
    "\n",
    "print(fnmatch('foo.txt', '*.txt'))\n",
    "print(fnmatch('foo.txt', '?oo.txT'))\n",
    "print(fnmatchcase('foo.txt', '?oo.txT'))\n",
    "print(fnmatch('Dat45.cxv', 'Dat[0-9]*'))"
   ]
  },
  {
   "cell_type": "markdown",
   "metadata": {},
   "source": [
    "#### 2.4 字符串匹配和搜索\n",
    "你想匹配或者搜索特定模式的文本\n",
    "- 如果你想匹配的是字面字符串，那么你通常只需要调用基本字符串方法就行，比如str.find() , str.endswith() , str.startswith() 或者类似的方法："
   ]
  },
  {
   "cell_type": "code",
   "execution_count": 33,
   "metadata": {},
   "outputs": [
    {
     "name": "stdout",
     "output_type": "stream",
     "text": [
      "False\n",
      "True\n",
      "False\n",
      "10\n"
     ]
    }
   ],
   "source": [
    "text = 'yeah, but no, but yeah, but no, but yeah'\n",
    "print(text == 'yeah')\n",
    "print(text.startswith('yeah'))\n",
    "print(text.endswith('no'))\n",
    "print(text.find('no'))"
   ]
  },
  {
   "cell_type": "markdown",
   "metadata": {},
   "source": [
    "- 对于复杂的匹配需要使用正则表达式和 re 模块。为了解释正则表达式的基本原理，\n",
    "假设你想匹配数字格式的日期字符串比如 11/27/2012 ，你可以这样做："
   ]
  },
  {
   "cell_type": "code",
   "execution_count": 35,
   "metadata": {},
   "outputs": [
    {
     "name": "stdout",
     "output_type": "stream",
     "text": [
      "yes\n"
     ]
    }
   ],
   "source": [
    "text1 = '11/27/2012'\n",
    "text2 = 'Nov 27, 2012'\n",
    "import re\n",
    "if re.match(r'\\d+/\\d+/\\d+', text1):\n",
    "    print('yes')\n",
    "else:\n",
    "    print('no')"
   ]
  },
  {
   "cell_type": "markdown",
   "metadata": {},
   "source": [
    "#### 2.5 字符串搜索和替换\n",
    "你想在字符串中搜索和替换指定的文本模式"
   ]
  },
  {
   "cell_type": "code",
   "execution_count": 40,
   "metadata": {},
   "outputs": [
    {
     "name": "stdout",
     "output_type": "stream",
     "text": [
      "yep, but no, but yep, but no, but yep\n",
      "Today is 2012-11-27. PyCon starts 2013-3-13.\n"
     ]
    }
   ],
   "source": [
    "text = 'yeah, but no, but yeah, but no, but yeah'\n",
    "print(text.replace('yeah', 'yep'))\n",
    "text = 'Today is 11/27/2012. PyCon starts 3/13/2013.'\n",
    "import re\n",
    "print(re.sub(r'(\\d+)/(\\d+)/(\\d+)', r'\\3-\\1-\\2', text))"
   ]
  },
  {
   "cell_type": "code",
   "execution_count": 43,
   "metadata": {},
   "outputs": [
    {
     "name": "stdout",
     "output_type": "stream",
     "text": [
      "Today is 27 Nov 2012. PyCon starts 13 Mar 2013.\n"
     ]
    }
   ],
   "source": [
    "from calendar import month_abbr\n",
    "\n",
    "def change_date(m):\n",
    "    mon_name = month_abbr[int(m.group(1))]\n",
    "    return '{} {} {}'.format(m.group(2), mon_name, m.group(3))\n",
    "print(re.sub(r'(\\d+)/(\\d+)/(\\d+)', change_date, text))"
   ]
  },
  {
   "cell_type": "markdown",
   "metadata": {},
   "source": [
    "#### 2.6 字符串忽略大小写的搜索替换\n",
    "你需要以忽略大小写的方式搜索与替换文本字符串\n",
    "- re.I \n",
    "\n",
    "#### 2.7 最短匹配模式\n",
    "你正在试着用正则表达式匹配某个文本模式，但是它找到的是模式的最长可能匹配。而你想修改它变成查找最短的可能匹配。\n",
    "- ? f非贪婪模式\n",
    "\n",
    "#### 2.8 多行匹配模式\n",
    "你正在试着使用正则表达式去匹配一大块的文本，而你需要跨越多行去匹配。\n",
    "- re.S\n",
    "\n",
    "#### 2.9 将 Unicode 文本标准化\n",
    "你正在处理 Unicode 字符串，需要确保所有字符串在底层有相同的表示。"
   ]
  },
  {
   "cell_type": "code",
   "execution_count": 47,
   "metadata": {},
   "outputs": [
    {
     "name": "stdout",
     "output_type": "stream",
     "text": [
      "Spicy Jalapeño\n",
      "Spicy Jalapeño\n",
      "False 14 15\n"
     ]
    }
   ],
   "source": [
    "s1 = 'Spicy Jalape\\u00f1o'\n",
    "s2 = 'Spicy Jalapen\\u0303o'\n",
    "print(s1)\n",
    "print(s2)\n",
    "print(s1 == s2, len(s1), len(s2))"
   ]
  },
  {
   "cell_type": "code",
   "execution_count": 52,
   "metadata": {},
   "outputs": [
    {
     "name": "stdout",
     "output_type": "stream",
     "text": [
      "True 'Spicy Jalape\\xf1o'\n",
      "True 'Spicy Jalapen\\u0303o'\n"
     ]
    }
   ],
   "source": [
    "import unicodedata\n",
    "t1 = unicodedata.normalize('NFC', s1)\n",
    "t2 = unicodedata.normalize('NFC', s2)\n",
    "print(t1 == t2, ascii(t1))\n",
    "t3 = unicodedata.normalize('NFD', s1)\n",
    "t4 = unicodedata.normalize('NFD', s2)\n",
    "print(t3 == t4, ascii(t3))"
   ]
  },
  {
   "cell_type": "code",
   "execution_count": 56,
   "metadata": {},
   "outputs": [
    {
     "name": "stdout",
     "output_type": "stream",
     "text": [
      "ﬁ\n",
      "fi\n",
      "fi\n"
     ]
    }
   ],
   "source": [
    "s = '\\ufb01'\n",
    "print(unicodedata.normalize('NFD', s))\n",
    "print(unicodedata.normalize('NFKC', s))\n",
    "print(unicodedata.normalize('NFKD', s))"
   ]
  },
  {
   "cell_type": "code",
   "execution_count": 59,
   "metadata": {},
   "outputs": [
    {
     "name": "stdout",
     "output_type": "stream",
     "text": [
      "Spicy Jalapeno\n"
     ]
    }
   ],
   "source": [
    "t1 = unicodedata.normalize('NFD', s1)\n",
    "print(''.join(c for c in t1 if not unicodedata.combining(c)))"
   ]
  },
  {
   "cell_type": "markdown",
   "metadata": {},
   "source": [
    "#### 2.10 在正则式中使用 Unicode\n",
    "你正在使用正则表达式处理文本，但是关注的是 Unicode 字符处理。"
   ]
  },
  {
   "cell_type": "code",
   "execution_count": 65,
   "metadata": {},
   "outputs": [
    {
     "name": "stdout",
     "output_type": "stream",
     "text": [
      "123\n",
      "١٢٣\n"
     ]
    }
   ],
   "source": [
    "import re\n",
    "\n",
    "num = re.compile(r'\\d+')\n",
    "print(num.match('123').group())\n",
    "print(num.match('\\u0661\\u0662\\u0663').group())\n"
   ]
  },
  {
   "cell_type": "markdown",
   "metadata": {},
   "source": [
    "#### 2.11 删除字符串中不需要的字符\n",
    "你想去掉文本字符串开头，结尾或者中间不想要的字符，比如空白。\n",
    "- strip、lstrip、rstrip、replace、re.sub\n",
    "\n",
    "#### 2.12 审查清理文本字符串\n",
    "一些无聊的幼稚黑客在你的网站页面表单中输入文本”pýtĥöñ”，然后你想将这些\n",
    "字符清理掉。"
   ]
  },
  {
   "cell_type": "code",
   "execution_count": 66,
   "metadata": {},
   "outputs": [
    {
     "name": "stdout",
     "output_type": "stream",
     "text": [
      "pýtĥöñ\f",
      "is\tawesome\r\n",
      "\n"
     ]
    }
   ],
   "source": [
    "s = 'pýtĥöñ\\fis\\tawesome\\r\\n'\n",
    "print(s)"
   ]
  },
  {
   "cell_type": "code",
   "execution_count": 70,
   "metadata": {},
   "outputs": [
    {
     "name": "stdout",
     "output_type": "stream",
     "text": [
      "pýtĥöñ is awesome\n",
      "\n"
     ]
    }
   ],
   "source": [
    "remap = {\n",
    "    ord('\\t'): ' ',\n",
    "    ord('\\f'): ' ',\n",
    "    ord('\\r'): None\n",
    "}\n",
    "a = s.translate(remap)\n",
    "print(a)"
   ]
  },
  {
   "cell_type": "code",
   "execution_count": 76,
   "metadata": {},
   "outputs": [
    {
     "name": "stdout",
     "output_type": "stream",
     "text": [
      "pýtĥöñ is awesome\n",
      "\n",
      "python is awesome\n",
      "\n"
     ]
    }
   ],
   "source": [
    "import unicodedata\n",
    "import sys\n",
    "cmb_chrs = dict.fromkeys(c for c in range(sys.maxunicode) if unicodedata.combining(chr(c)))\n",
    "b = unicodedata.normalize('NFD', a)\n",
    "print(b)\n",
    "print(b.translate(cmb_chrs))"
   ]
  },
  {
   "cell_type": "markdown",
   "metadata": {},
   "source": [
    "#### 2.13 字符串对齐\n",
    "你想通过某种对齐方式来格式化字符串"
   ]
  },
  {
   "cell_type": "code",
   "execution_count": 5,
   "metadata": {},
   "outputs": [
    {
     "name": "stdout",
     "output_type": "stream",
     "text": [
      "Hello World=========\n",
      "---------Hello World\n",
      "****Hello World*****\n",
      "        abc         \n"
     ]
    }
   ],
   "source": [
    "text = 'Hello World'\n",
    "print(text.ljust(20, '='))\n",
    "print(text.rjust(20, '-'))\n",
    "print(text.center(20, '*'))\n",
    "print('{:^20}'.format('abc'))"
   ]
  },
  {
   "cell_type": "markdown",
   "metadata": {},
   "source": [
    "#### 2.14 合并拼接字符串\n",
    "你想将几个小的字符串合并为一个大的字符串"
   ]
  },
  {
   "cell_type": "code",
   "execution_count": 9,
   "metadata": {},
   "outputs": [
    {
     "name": "stdout",
     "output_type": "stream",
     "text": [
      "IsChicagoNotChicago?\n",
      "Is Chicago Not Chicago?\n",
      "Is,Chicago,Not,Chicago?\n"
     ]
    }
   ],
   "source": [
    "parts = ['Is', 'Chicago', 'Not', 'Chicago?']\n",
    "print(''.join(parts))\n",
    "print(' '.join(parts))\n",
    "print(','.join(parts))"
   ]
  },
  {
   "cell_type": "markdown",
   "metadata": {},
   "source": [
    "#### 2.15 字符串中插入变量\n",
    "你想创建一个内嵌变量的字符串，变量被它的值所表示的字符串替换掉。"
   ]
  },
  {
   "cell_type": "code",
   "execution_count": 13,
   "metadata": {},
   "outputs": [
    {
     "name": "stdout",
     "output_type": "stream",
     "text": [
      "Guido has 39 message.\n"
     ]
    }
   ],
   "source": [
    "s = '{name} has {n} message.'\n",
    "print(s.format(name='Guido', n=39))"
   ]
  },
  {
   "cell_type": "code",
   "execution_count": 16,
   "metadata": {},
   "outputs": [
    {
     "name": "stdout",
     "output_type": "stream",
     "text": [
      "ling has 27 message.\n"
     ]
    }
   ],
   "source": [
    "name = 'ling'\n",
    "n = 27\n",
    "print(s.format_map(vars()))"
   ]
  },
  {
   "cell_type": "markdown",
   "metadata": {},
   "source": [
    "#### 2.16 以指定列宽格式化字符串\n",
    "你有一些长字符串，想以指定的列宽将它们重新格式化。"
   ]
  },
  {
   "cell_type": "code",
   "execution_count": 26,
   "metadata": {},
   "outputs": [
    {
     "name": "stdout",
     "output_type": "stream",
     "text": [
      "Look into my eyes, look into my eyes, the eyes, the eyes, the eyes,\n",
      "not around the eyes, don't look around the eyes, look into my eyes,\n",
      "you're under.\n",
      "    Look into my eyes, look into my\n",
      "eyes, the eyes, the eyes, the eyes, not\n",
      "around the eyes, don't look around the\n",
      "eyes, look into my eyes, you're under.\n",
      "Look into my eyes, look into my eyes,\n",
      "    the eyes, the eyes, the eyes, not\n",
      "    around the eyes, don't look around\n",
      "    the eyes, look into my eyes, you're\n",
      "    under.\n"
     ]
    }
   ],
   "source": [
    "import textwrap\n",
    "\n",
    "s = \"Look into my eyes, look into my eyes, the eyes, the eyes, \\\n",
    "the eyes, not around the eyes, don't look around the eyes, \\\n",
    "look into my eyes, you're under.\"\n",
    "\n",
    "print(textwrap.fill(s, 70))\n",
    "print(textwrap.fill(s, 40, initial_indent='    '))\n",
    "print(textwrap.fill(s, 40, subsequent_indent='    '))"
   ]
  },
  {
   "cell_type": "code",
   "execution_count": 29,
   "metadata": {},
   "outputs": [
    {
     "name": "stdout",
     "output_type": "stream",
     "text": [
      "100\n"
     ]
    }
   ],
   "source": [
    "import os\n",
    "print(os.get_terminal_size().columns)"
   ]
  },
  {
   "cell_type": "markdown",
   "metadata": {},
   "source": [
    "#### 2.17 在字符串中处理 html 和 xml\n",
    "你想将 HTML 或者 XML 实体如 &entity; 或 &#code; 替换为对应的文本。再者，\n",
    "你需要转换文本中特定的字符 (比如 <, >, 或 &)。"
   ]
  },
  {
   "cell_type": "code",
   "execution_count": 40,
   "metadata": {},
   "outputs": [
    {
     "name": "stdout",
     "output_type": "stream",
     "text": [
      "Elements are written as \"<tag>text</tag>\".\n",
      "Elements are written as &quot;&lt;tag&gt;text&lt;/tag&gt;&quot;.\n",
      "Elements are written as \"&lt;tag&gt;text&lt;/tag&gt;\".\n"
     ]
    }
   ],
   "source": [
    "s = 'Elements are written as \"<tag>text</tag>\".'\n",
    "import html\n",
    "print(s)\n",
    "print(html.escape(s))\n",
    "print(html.escape(s, quote=False))"
   ]
  },
  {
   "cell_type": "code",
   "execution_count": 47,
   "metadata": {},
   "outputs": [
    {
     "name": "stdout",
     "output_type": "stream",
     "text": [
      "Spicy \"Jalapeño\".\n",
      "The prompt is >>>\n"
     ]
    }
   ],
   "source": [
    "s = 'Spicy &quot;Jalape&#241;o&quot.'\n",
    "print(html.unescape(s))\n",
    "t = 'The prompt is &gt;&gt;&gt;'\n",
    "from xml.sax.saxutils import unescape\n",
    "print(unescape(t))"
   ]
  },
  {
   "cell_type": "markdown",
   "metadata": {},
   "source": [
    "#### 2.18 字符串令牌解析\n",
    "你有一个字符串，想从左至右将其解析为一个令牌流。"
   ]
  },
  {
   "cell_type": "code",
   "execution_count": 53,
   "metadata": {},
   "outputs": [],
   "source": [
    "import re\n",
    "from collections import namedtuple\n",
    "text = 'foo = 23 + 42 * 10'\n",
    "NAME = r'(?P<NAME>[a-zA-Z_][a-zA-Z_0-9]*)'\n",
    "NUM = r'(?P<NUM>\\d+)'\n",
    "PLUS = r'(?P<PLUS>\\+)'\n",
    "TIMES = r'(?P<TIMES>\\*)'\n",
    "EQ = r'(?P<EQ>=)'\n",
    "WS = r'(?P<WS>\\s+)'\n",
    "master_pat = re.compile('|'.join([NAME, NUM, PLUS, TIMES, EQ, WS]))\n",
    "\n",
    "def generate_tokens(pat, text):\n",
    "    Token = namedtuple('Token', ['type', 'value'])\n",
    "    scanner = pat.scanner(text)\n",
    "    for m in iter(scanner.match, None):\n",
    "        yield Token(m.lastgroup, m.group())"
   ]
  },
  {
   "cell_type": "code",
   "execution_count": 54,
   "metadata": {},
   "outputs": [
    {
     "name": "stdout",
     "output_type": "stream",
     "text": [
      "Token(type='NAME', value='foo')\n",
      "Token(type='EQ', value='=')\n",
      "Token(type='NUM', value='23')\n",
      "Token(type='PLUS', value='+')\n",
      "Token(type='NUM', value='42')\n",
      "Token(type='TIMES', value='*')\n",
      "Token(type='NUM', value='10')\n"
     ]
    }
   ],
   "source": [
    "tokens = (tok for tok in generate_tokens(master_pat, text)\n",
    "          if tok.type != 'WS')\n",
    "for tok in tokens:\n",
    "    print(tok)"
   ]
  },
  {
   "cell_type": "markdown",
   "metadata": {},
   "source": [
    "#### 2.19 实现一个简单的递归下降分析器\n",
    "你想根据一组语法规则解析文本并执行命令，或者构造一个代表输入的抽象语法\n",
    "树。如果语法非常简单，你可以自己写这个解析器，而不是使用一些框架。"
   ]
  },
  {
   "cell_type": "markdown",
   "metadata": {},
   "source": [
    "#### 2.20 字节字符串上的字符串操作\n",
    "你想在字节字符串上执行普通的文本操作 (比如移除，搜索和替换)。"
   ]
  },
  {
   "cell_type": "markdown",
   "metadata": {},
   "source": [
    "### 第三章：数字日期和时间\n",
    "#### 3.1 数字的四舍五入\n",
    "你想对浮点数执行指定精度的舍入运算。"
   ]
  },
  {
   "cell_type": "code",
   "execution_count": 8,
   "metadata": {},
   "outputs": [
    {
     "name": "stdout",
     "output_type": "stream",
     "text": [
      "1.2\n",
      "1.3\n",
      "-1.3\n",
      "1.254\n",
      "1627730\n",
      "1627700\n",
      "1628000\n"
     ]
    }
   ],
   "source": [
    "print(round(1.23, 1))\n",
    "print(round(1.27, 1))\n",
    "print(round(-1.27, 1))\n",
    "print(round(1.25361, 3))\n",
    "print(round(1627731, -1))\n",
    "print(round(1627731, -2))\n",
    "print(round(1627731, -3))"
   ]
  },
  {
   "cell_type": "code",
   "execution_count": 13,
   "metadata": {},
   "outputs": [
    {
     "name": "stdout",
     "output_type": "stream",
     "text": [
      "1.23\n",
      "1.235\n",
      "1.2346\n"
     ]
    }
   ],
   "source": [
    "x = 1.23456\n",
    "print(format(x, '0.2f'))\n",
    "print(format(x, '0.3f'))\n",
    "print(format(x, '0.4f'))"
   ]
  },
  {
   "cell_type": "code",
   "execution_count": 18,
   "metadata": {},
   "outputs": [
    {
     "name": "stdout",
     "output_type": "stream",
     "text": [
      "6.199999999999999\n"
     ]
    }
   ],
   "source": [
    "print(2.1 + 4.1)"
   ]
  },
  {
   "cell_type": "markdown",
   "metadata": {},
   "source": [
    "#### 3.2 执行精确的浮点数运算\n",
    "你需要对浮点数执行精确的计算操作，并且不希望有任何小误差的出现。"
   ]
  },
  {
   "cell_type": "code",
   "execution_count": 23,
   "metadata": {},
   "outputs": [
    {
     "name": "stdout",
     "output_type": "stream",
     "text": [
      "6.2\n",
      "True\n"
     ]
    }
   ],
   "source": [
    "from decimal import Decimal\n",
    "a = Decimal('2.1')\n",
    "b = Decimal('4.1')\n",
    "print(a + b)\n",
    "print((a + b == Decimal('6.2')))"
   ]
  },
  {
   "cell_type": "code",
   "execution_count": 29,
   "metadata": {},
   "outputs": [
    {
     "name": "stdout",
     "output_type": "stream",
     "text": [
      "0.5121951219512195121951219512\n",
      "0.5122\n",
      "0.51219512195121951219512195121951219512195121951220\n"
     ]
    }
   ],
   "source": [
    "from decimal import localcontext\n",
    "print(a / b)\n",
    "with localcontext() as ctx:\n",
    "    ctx.prec = 4\n",
    "    print(a / b)\n",
    "with localcontext() as ctx:\n",
    "    ctx.prec = 50\n",
    "    print(a / b)"
   ]
  },
  {
   "cell_type": "code",
   "execution_count": 31,
   "metadata": {},
   "outputs": [
    {
     "name": "stdout",
     "output_type": "stream",
     "text": [
      "0.0\n",
      "1.0\n"
     ]
    }
   ],
   "source": [
    "nums = [1.23e+18, 1, -1.23e+18]\n",
    "print(sum(nums))\n",
    "import math\n",
    "print(math.fsum(nums))"
   ]
  },
  {
   "cell_type": "markdown",
   "metadata": {},
   "source": [
    "#### 3.3 数字的格式化输出\n",
    "你需要将数字格式化后输出，并控制数字的位数、对齐、千位分隔符和其他的细节。"
   ]
  },
  {
   "cell_type": "code",
   "execution_count": 40,
   "metadata": {},
   "outputs": [
    {
     "name": "stdout",
     "output_type": "stream",
     "text": [
      "1234.57\n",
      "    1234.6\n",
      "1234.6    \n",
      "  1234.6  \n",
      "1,234.5678\n",
      "1,234.6\n",
      "1.234568e+03\n",
      "1.23E+03\n"
     ]
    }
   ],
   "source": [
    "x = 1234.5678\n",
    "print(format(x, '0.2f'))\n",
    "print(format(x, '>10.1f'))\n",
    "print(format(x, '<10.1f'))\n",
    "print(format(x, '^10.1f'))\n",
    "print(format(x, ','))\n",
    "print(format(x, '0,.1f'))\n",
    "print(format(x, 'e'))\n",
    "print(format(x, '0.2E'))"
   ]
  },
  {
   "cell_type": "markdown",
   "metadata": {},
   "source": [
    "#### 3.4 二八十六进制整数\n",
    "你需要转换或者输出使用二进制，八进制或十六进制表示的整数。"
   ]
  },
  {
   "cell_type": "code",
   "execution_count": 44,
   "metadata": {},
   "outputs": [
    {
     "name": "stdout",
     "output_type": "stream",
     "text": [
      "0b10011010010\n",
      "0o2322\n",
      "0x4d2\n",
      "10011010010\n",
      "2322\n",
      "4d2\n"
     ]
    }
   ],
   "source": [
    "x = 1234\n",
    "print(bin(x))\n",
    "print(oct(x))\n",
    "print(hex(x))\n",
    "print(format(x, 'b'))\n",
    "print(format(x, 'o'))\n",
    "print(format(x, 'x'))"
   ]
  },
  {
   "cell_type": "code",
   "execution_count": 47,
   "metadata": {},
   "outputs": [
    {
     "name": "stdout",
     "output_type": "stream",
     "text": [
      "1234\n",
      "1234\n",
      "1234\n"
     ]
    }
   ],
   "source": [
    "print(int('0b10011010010', 2))\n",
    "print(int('0o2322', 8))\n",
    "print(int('0x4d2', 16))"
   ]
  },
  {
   "cell_type": "markdown",
   "metadata": {},
   "source": [
    "#### 3.5 字节到大整数的打包与解包\n",
    "你有一个字节字符串并想将它解压成一个整数。或者，你需要将一个大整数转换为\n",
    "一个字节字符串。"
   ]
  },
  {
   "cell_type": "code",
   "execution_count": 55,
   "metadata": {},
   "outputs": [
    {
     "name": "stdout",
     "output_type": "stream",
     "text": [
      "16\n",
      "69120565665751139577663547927094891008\n",
      "94522842520747284487117727783387188\n",
      "b'4\\x00#\\x00\\x01\\xef\\xcd\\x00\\xab\\x90x\\x00V4\\x12\\x00'\n",
      "b'\\x00\\x124V\\x00x\\x90\\xab\\x00\\xcd\\xef\\x01\\x00#\\x004'\n"
     ]
    }
   ],
   "source": [
    "data = b'\\x00\\x124V\\x00x\\x90\\xab\\x00\\xcd\\xef\\x01\\x00#\\x004'\n",
    "print(len(data))\n",
    "print(int.from_bytes(data, 'little'))\n",
    "print(int.from_bytes(data, 'big'))\n",
    "n = 94522842520747284487117727783387188\n",
    "print(n.to_bytes(16, 'little'))\n",
    "print(n.to_bytes(16, 'big'))"
   ]
  },
  {
   "cell_type": "code",
   "execution_count": 58,
   "metadata": {},
   "outputs": [
    {
     "name": "stdout",
     "output_type": "stream",
     "text": [
      "5124093560524971 57965157801984052\n",
      "94522842520747284487117727783387188\n"
     ]
    }
   ],
   "source": [
    "import struct\n",
    "hi, lo = struct.unpack('>QQ', data)\n",
    "print(hi, lo)\n",
    "print((hi << 64) + lo)"
   ]
  },
  {
   "cell_type": "markdown",
   "metadata": {},
   "source": [
    "#### 3.6 复数的数学运算\n",
    "你写的最新的网络认证方案代码遇到了一个难题，并且你唯一的解决办法就是使\n",
    "用复数空间。再或者是你仅仅需要使用复数来执行一些计算操作。"
   ]
  },
  {
   "cell_type": "code",
   "execution_count": 64,
   "metadata": {},
   "outputs": [
    {
     "name": "stdout",
     "output_type": "stream",
     "text": [
      "(2+4j) (3-5j)\n",
      "2.0 4.0 (2-4j)\n",
      "(5-1j)\n",
      "(24.83130584894638-11.356612711218174j)\n"
     ]
    }
   ],
   "source": [
    "a = complex(2, 4)\n",
    "b = 3 - 5j\n",
    "print(a, b)\n",
    "print(a.real, a.imag, a.conjugate())\n",
    "print(a + b)\n",
    "import cmath\n",
    "print(cmath.sin(a))"
   ]
  },
  {
   "cell_type": "markdown",
   "metadata": {},
   "source": [
    "#### 3.7 无穷大与 NaN\n",
    "你想创建或测试正无穷、负无穷或 NaN(非数字) 的浮点数。"
   ]
  },
  {
   "cell_type": "code",
   "execution_count": 68,
   "metadata": {},
   "outputs": [
    {
     "name": "stdout",
     "output_type": "stream",
     "text": [
      "inf -inf nan\n",
      "True True\n"
     ]
    }
   ],
   "source": [
    "a = float('inf')\n",
    "b = float('-inf')\n",
    "c = float('nan')\n",
    "print(a, b, c)\n",
    "import math\n",
    "print(math.isinf(b), math.isnan(c))"
   ]
  },
  {
   "cell_type": "code",
   "execution_count": 74,
   "metadata": {},
   "outputs": [
    {
     "name": "stdout",
     "output_type": "stream",
     "text": [
      "inf inf\n",
      "nan nan\n",
      "False False\n"
     ]
    }
   ],
   "source": [
    "print(a + 45, a * 2)\n",
    "print(c + 45, c / 2)\n",
    "d = float('nan')\n",
    "print(c == d, c is d)"
   ]
  },
  {
   "cell_type": "markdown",
   "metadata": {},
   "source": [
    "#### 3.8 分数运算\n",
    "你进入时间机器，突然发现你正在做小学家庭作业，并涉及到分数计算问题。或者\n",
    "你可能需要写代码去计算在你的木工工厂中的测量值。"
   ]
  },
  {
   "cell_type": "code",
   "execution_count": 78,
   "metadata": {},
   "outputs": [
    {
     "name": "stdout",
     "output_type": "stream",
     "text": [
      "5/4 7/16 27/16\n",
      "35/64\n",
      "5 4\n",
      "(15, 4)\n"
     ]
    }
   ],
   "source": [
    "from fractions import Fraction\n",
    "a = Fraction(5, 4)\n",
    "b = Fraction(7, 16)\n",
    "print(a, b, a + b)\n",
    "print(a * b)\n",
    "print(a.numerator, a.denominator)\n",
    "print(3.75.as_integer_ratio())"
   ]
  },
  {
   "cell_type": "markdown",
   "metadata": {},
   "source": [
    "#### 3.9 大型数组运算\n",
    "你需要在大数据集 (比如数组或网格) 上面执行计算。"
   ]
  },
  {
   "cell_type": "code",
   "execution_count": 81,
   "metadata": {},
   "outputs": [
    {
     "name": "stdout",
     "output_type": "stream",
     "text": [
      "[1, 2, 3, 4, 1, 2, 3, 4]\n",
      "[1, 2, 3, 4, 5, 6, 7, 8]\n"
     ]
    }
   ],
   "source": [
    "x = [1, 2, 3, 4]\n",
    "y = [5, 6, 7, 8]\n",
    "print(x * 2)\n",
    "print(x + y)"
   ]
  },
  {
   "cell_type": "code",
   "execution_count": 86,
   "metadata": {},
   "outputs": [
    {
     "name": "stdout",
     "output_type": "stream",
     "text": [
      "[2 4 6 8]\n",
      "[15 16 17 18]\n",
      "[ 6  8 10 12]\n",
      "[ 5 12 21 32]\n"
     ]
    }
   ],
   "source": [
    "import numpy as np\n",
    "\n",
    "ax = np.array([1, 2, 3, 4])\n",
    "ay = np.array([5, 6, 7, 8])\n",
    "print(ax * 2)\n",
    "print(ay + 10)\n",
    "print(ax + ay)\n",
    "print(ax * ay)"
   ]
  },
  {
   "cell_type": "markdown",
   "metadata": {},
   "source": [
    "#### 3.10 矩阵与线性代数运算\n",
    "你需要执行矩阵和线性代数运算，比如矩阵乘法、寻找行列式、求解线性方程组等\n",
    "等。"
   ]
  },
  {
   "cell_type": "code",
   "execution_count": 88,
   "metadata": {},
   "outputs": [
    {
     "name": "stdout",
     "output_type": "stream",
     "text": [
      "[[ 1 -2  3]\n",
      " [ 0  4  5]\n",
      " [ 7  8 -9]]\n",
      "[[ 1  0  7]\n",
      " [-2  4  8]\n",
      " [ 3  5 -9]]\n",
      "[[ 0.33043478 -0.02608696  0.09565217]\n",
      " [-0.15217391  0.13043478  0.02173913]\n",
      " [ 0.12173913  0.09565217 -0.0173913 ]]\n"
     ]
    }
   ],
   "source": [
    "import numpy as np\n",
    "m = np.matrix([[1,-2,3],[0,4,5],[7,8,-9]])\n",
    "print(m)\n",
    "print(m.T)\n",
    "print(m.I)"
   ]
  },
  {
   "cell_type": "markdown",
   "metadata": {},
   "source": [
    "#### 3.11 随机选择\n",
    "你想从一个序列中随机抽取若干元素，或者想生成几个随机数。"
   ]
  },
  {
   "cell_type": "code",
   "execution_count": 89,
   "metadata": {},
   "outputs": [],
   "source": [
    "import random\n",
    "values = [1, 2, 3, 4, 5, 6]"
   ]
  },
  {
   "cell_type": "code",
   "execution_count": 107,
   "metadata": {},
   "outputs": [
    {
     "name": "stdout",
     "output_type": "stream",
     "text": [
      "3\n"
     ]
    }
   ],
   "source": [
    "# 随机选择一个元素\n",
    "print(random.choice(values))"
   ]
  },
  {
   "cell_type": "code",
   "execution_count": 141,
   "metadata": {},
   "outputs": [
    {
     "name": "stdout",
     "output_type": "stream",
     "text": [
      "[5, 2]\n"
     ]
    }
   ],
   "source": [
    "# 随机选择N个元素\n",
    "print(random.sample(values, 2))"
   ]
  },
  {
   "cell_type": "code",
   "execution_count": 144,
   "metadata": {},
   "outputs": [
    {
     "name": "stdout",
     "output_type": "stream",
     "text": [
      "[6, 5, 2, 3, 1, 4]\n"
     ]
    }
   ],
   "source": [
    "# 打乱序列顺序\n",
    "random.shuffle(values)\n",
    "print(values)"
   ]
  },
  {
   "cell_type": "code",
   "execution_count": 195,
   "metadata": {},
   "outputs": [
    {
     "name": "stdout",
     "output_type": "stream",
     "text": [
      "9\n"
     ]
    }
   ],
   "source": [
    "# 生成随机整数\n",
    "print(random.randint(0, 11))"
   ]
  },
  {
   "cell_type": "code",
   "execution_count": 218,
   "metadata": {},
   "outputs": [
    {
     "name": "stdout",
     "output_type": "stream",
     "text": [
      "0.5931006797746412\n"
     ]
    }
   ],
   "source": [
    "# 生成 0 到 1 范围内均匀分布的浮点数\n",
    "print(random.random())"
   ]
  },
  {
   "cell_type": "code",
   "execution_count": 252,
   "metadata": {},
   "outputs": [
    {
     "name": "stdout",
     "output_type": "stream",
     "text": [
      "403171516493486046159825657670799652904161931727364243720979\n"
     ]
    }
   ],
   "source": [
    "# 获取 N 位随机位 (二进制) 的整数\n",
    "print(random.getrandbits(200))"
   ]
  },
  {
   "cell_type": "code",
   "execution_count": 279,
   "metadata": {},
   "outputs": [
    {
     "name": "stdout",
     "output_type": "stream",
     "text": [
      "7\n"
     ]
    }
   ],
   "source": [
    "random.seed(1234)\n",
    "print(random.randint(0, 11))"
   ]
  },
  {
   "cell_type": "markdown",
   "metadata": {},
   "source": [
    "##### 3.12 基本的日期与时间转换\n",
    "你需要执行简单的时间转换，比如天到秒，小时到分钟等的转换。"
   ]
  },
  {
   "cell_type": "code",
   "execution_count": 282,
   "metadata": {},
   "outputs": [
    {
     "name": "stdout",
     "output_type": "stream",
     "text": [
      "2 days, 10:30:00 2 37800 210600.0\n"
     ]
    }
   ],
   "source": [
    "from datetime import timedelta\n",
    "a = timedelta(days=2, hours=6)\n",
    "b = timedelta(hours=4.5)\n",
    "c = a + b\n",
    "print(c, c.days, c.seconds, c.total_seconds())"
   ]
  },
  {
   "cell_type": "code",
   "execution_count": 9,
   "metadata": {},
   "outputs": [
    {
     "name": "stdout",
     "output_type": "stream",
     "text": [
      "2012-10-03 00:00:00\n",
      "89\n",
      "2019-12-26 13:47:10.839754\n"
     ]
    },
    {
     "ename": "TypeError",
     "evalue": "'months' is an invalid keyword argument for __new__()",
     "output_type": "error",
     "traceback": [
      "\u001b[1;31m---------------------------------------------------------------------------\u001b[0m",
      "\u001b[1;31mTypeError\u001b[0m                                 Traceback (most recent call last)",
      "\u001b[1;32m<ipython-input-9-8a60734f7031>\u001b[0m in \u001b[0;36m<module>\u001b[1;34m\u001b[0m\n\u001b[0;32m      7\u001b[0m \u001b[0mnow\u001b[0m \u001b[1;33m=\u001b[0m \u001b[0mdatetime\u001b[0m\u001b[1;33m.\u001b[0m\u001b[0mtoday\u001b[0m\u001b[1;33m(\u001b[0m\u001b[1;33m)\u001b[0m\u001b[1;33m\u001b[0m\u001b[1;33m\u001b[0m\u001b[0m\n\u001b[0;32m      8\u001b[0m \u001b[0mprint\u001b[0m\u001b[1;33m(\u001b[0m\u001b[0mnow\u001b[0m\u001b[1;33m)\u001b[0m\u001b[1;33m\u001b[0m\u001b[1;33m\u001b[0m\u001b[0m\n\u001b[1;32m----> 9\u001b[1;33m \u001b[0mprint\u001b[0m\u001b[1;33m(\u001b[0m\u001b[0mnow\u001b[0m \u001b[1;33m+\u001b[0m \u001b[0mtimedelta\u001b[0m\u001b[1;33m(\u001b[0m\u001b[0mmonths\u001b[0m\u001b[1;33m=\u001b[0m\u001b[1;36m10\u001b[0m\u001b[1;33m)\u001b[0m\u001b[1;33m)\u001b[0m\u001b[1;33m\u001b[0m\u001b[1;33m\u001b[0m\u001b[0m\n\u001b[0m",
      "\u001b[1;31mTypeError\u001b[0m: 'months' is an invalid keyword argument for __new__()"
     ]
    }
   ],
   "source": [
    "from datetime import datetime, timedelta\n",
    "a = datetime(2012, 9, 23)\n",
    "print(a + timedelta(days=10))\n",
    "b = datetime(2012, 12, 21)\n",
    "d = b - a\n",
    "print(d.days)\n",
    "now = datetime.today()\n",
    "print(now)\n",
    "print(now + timedelta(months=10))"
   ]
  },
  {
   "cell_type": "code",
   "execution_count": 10,
   "metadata": {},
   "outputs": [
    {
     "name": "stdout",
     "output_type": "stream",
     "text": [
      "2012-12-22 00:00:00\n"
     ]
    }
   ],
   "source": [
    "from dateutil.relativedelta import relativedelta\n",
    "print(b + relativedelta(days=1))"
   ]
  },
  {
   "cell_type": "markdown",
   "metadata": {},
   "source": [
    "#### 3.13 计算最后一个周五的日期\n",
    "你需要查找星期中某一天最后出现的日期，比如星期五。"
   ]
  },
  {
   "cell_type": "code",
   "execution_count": 1,
   "metadata": {},
   "outputs": [],
   "source": [
    "from datetime import datetime, timedelta\n",
    "\n",
    "weekdays = ['Monday', 'Tuesday', 'Webnesday',\n",
    "            'Thursday', 'Friday', 'Saturday', 'Sunday']\n",
    "\n",
    "\n",
    "def get_previous_byday(dayname, start_date=None):\n",
    "    if start_date is None:\n",
    "        start_date = datetime.today()\n",
    "    day_num = start_date.weekday()\n",
    "    day_num_target = weekdays.index(dayname)\n",
    "    days_ago = (7 + day_num - day_num_target) % 7\n",
    "    if days_ago == 0:\n",
    "        days_ago = 7\n",
    "    target_date = start_date - timedelta(days=days_ago)\n",
    "    return target_date"
   ]
  },
  {
   "cell_type": "code",
   "execution_count": 2,
   "metadata": {},
   "outputs": [
    {
     "name": "stdout",
     "output_type": "stream",
     "text": [
      "2019-12-27 13:28:08.297171\n",
      "2019-12-23 13:28:08.297171\n",
      "2019-12-24 13:28:08.297171\n",
      "2019-12-20 13:28:08.297171\n"
     ]
    }
   ],
   "source": [
    "print(datetime.today())\n",
    "print(get_previous_byday('Monday'))\n",
    "print(get_previous_byday('Tuesday'))\n",
    "print(get_previous_byday('Friday'))"
   ]
  },
  {
   "cell_type": "code",
   "execution_count": 28,
   "metadata": {},
   "outputs": [
    {
     "name": "stdout",
     "output_type": "stream",
     "text": [
      "2019-12-26 14:19:08.634798 3\n",
      "2019-12-27 14:19:08.634798\n",
      "2019-12-23 14:19:08.634798\n"
     ]
    }
   ],
   "source": [
    "from datetime import datetime\n",
    "from dateutil.relativedelta import relativedelta\n",
    "from dateutil.rrule import *\n",
    "\n",
    "d = datetime.now()\n",
    "print(d, d.weekday())\n",
    "print(d + relativedelta(weekday=FR))\n",
    "print(d + relativedelta(weekday=MO(-1)))"
   ]
  },
  {
   "cell_type": "markdown",
   "metadata": {},
   "source": [
    "#### 3.14 计算当前月份的日期范围\n",
    "你的代码需要在当前月份中循环每一天，想找到一个计算这个日期范围的高效方\n",
    "法。"
   ]
  },
  {
   "cell_type": "code",
   "execution_count": 32,
   "metadata": {},
   "outputs": [],
   "source": [
    "from datetime import datetime, date, timedelta\n",
    "import calendar\n",
    "\n",
    "\n",
    "def get_month_range(start_date=None):\n",
    "    if start_date is None:\n",
    "        start_date = date.today()\n",
    "    start_date.replace(day=1)\n",
    "    _, days_in_month = calendar.monthrange(start_date.year, start_date.month)\n",
    "    end_date = start_date + timedelta(days=days_in_month)\n",
    "    return (start_date, end_date)"
   ]
  },
  {
   "cell_type": "code",
   "execution_count": 35,
   "metadata": {},
   "outputs": [
    {
     "name": "stdout",
     "output_type": "stream",
     "text": [
      "2019-12-01 2020-01-01\n",
      "2019-12-01\n",
      "2019-12-02\n",
      "2019-12-03\n",
      "2019-12-04\n",
      "2019-12-05\n",
      "2019-12-06\n",
      "2019-12-07\n",
      "2019-12-08\n",
      "2019-12-09\n",
      "2019-12-10\n",
      "2019-12-11\n",
      "2019-12-12\n",
      "2019-12-13\n",
      "2019-12-14\n",
      "2019-12-15\n",
      "2019-12-16\n",
      "2019-12-17\n",
      "2019-12-18\n",
      "2019-12-19\n",
      "2019-12-20\n",
      "2019-12-21\n",
      "2019-12-22\n",
      "2019-12-23\n",
      "2019-12-24\n",
      "2019-12-25\n",
      "2019-12-26\n",
      "2019-12-27\n",
      "2019-12-28\n",
      "2019-12-29\n",
      "2019-12-30\n",
      "2019-12-31\n"
     ]
    }
   ],
   "source": [
    "a_day = timedelta(days=1)\n",
    "first_day, last_day = get_month_range()\n",
    "print(first_day, last_day)\n",
    "while first_day < last_day:\n",
    "    print(first_day)\n",
    "    first_day += a_day"
   ]
  },
  {
   "cell_type": "code",
   "execution_count": 36,
   "metadata": {},
   "outputs": [],
   "source": [
    "def date_range(start, stop, step):\n",
    "    while start < stop:\n",
    "        yield start\n",
    "        start += step"
   ]
  },
  {
   "cell_type": "code",
   "execution_count": 37,
   "metadata": {},
   "outputs": [
    {
     "name": "stdout",
     "output_type": "stream",
     "text": [
      "2019-12-01\n",
      "2019-12-02\n",
      "2019-12-03\n",
      "2019-12-04\n",
      "2019-12-05\n",
      "2019-12-06\n",
      "2019-12-07\n",
      "2019-12-08\n",
      "2019-12-09\n",
      "2019-12-10\n",
      "2019-12-11\n",
      "2019-12-12\n",
      "2019-12-13\n",
      "2019-12-14\n",
      "2019-12-15\n",
      "2019-12-16\n",
      "2019-12-17\n",
      "2019-12-18\n",
      "2019-12-19\n",
      "2019-12-20\n",
      "2019-12-21\n",
      "2019-12-22\n",
      "2019-12-23\n",
      "2019-12-24\n",
      "2019-12-25\n",
      "2019-12-26\n",
      "2019-12-27\n",
      "2019-12-28\n",
      "2019-12-29\n",
      "2019-12-30\n",
      "2019-12-31\n"
     ]
    }
   ],
   "source": [
    "for d in date_range(*get_month_range(), a_day):\n",
    "    print(d)"
   ]
  },
  {
   "cell_type": "markdown",
   "metadata": {},
   "source": [
    "#### 3.15 字符串转换为日期\n",
    "你的应用程序接受字符串格式的输入，但是你想将它们转换为 datetime 对象以便\n",
    "在上面执行非字符串操作。"
   ]
  },
  {
   "cell_type": "code",
   "execution_count": 41,
   "metadata": {},
   "outputs": [
    {
     "name": "stdout",
     "output_type": "stream",
     "text": [
      "97 days, 14:44:50.827785 2019-09-20 00:00:00 2019-12-26 14:44:50.827785\n",
      "Thursday December 26 2019\n"
     ]
    }
   ],
   "source": [
    "from datetime import datetime\n",
    "\n",
    "text = '2019-09-20'\n",
    "y = datetime.strptime(text, '%Y-%m-%d')\n",
    "z = datetime.now()\n",
    "diff = z - y\n",
    "print(diff, y , z)\n",
    "nice_z = datetime.strftime(z, '%A %B %d %Y')\n",
    "print(nice_z)"
   ]
  },
  {
   "cell_type": "markdown",
   "metadata": {},
   "source": [
    "#### 3.16 结合时区的日期操作\n",
    "你有一个安排在 2012 年 12 月 21 日早上 9:30 的电话会议，地点在芝加哥。而你\n",
    "的朋友在印度的班加罗尔，那么他应该在当地时间几点参加这个会议呢？"
   ]
  },
  {
   "cell_type": "code",
   "execution_count": 46,
   "metadata": {},
   "outputs": [
    {
     "name": "stdout",
     "output_type": "stream",
     "text": [
      "2019-12-21 09:30:00\n",
      "2019-12-21 09:30:00-06:00\n",
      "2019-12-21 21:00:00+05:30\n"
     ]
    }
   ],
   "source": [
    "from datetime import datetime\n",
    "from pytz import timezone\n",
    "import pytz\n",
    "\n",
    "d = datetime(2019, 12, 21, 9, 30, 0)\n",
    "print(d)\n",
    "central = timezone('US/Central')\n",
    "loc_d = central.localize(d)\n",
    "print(loc_d)\n",
    "bang_d = loc_d.astimezone(timezone('Asia/Kolkata'))\n",
    "print(bang_d)"
   ]
  },
  {
   "cell_type": "code",
   "execution_count": 47,
   "metadata": {},
   "outputs": [
    {
     "name": "stdout",
     "output_type": "stream",
     "text": [
      "2019-12-21 15:30:00+00:00\n"
     ]
    }
   ],
   "source": [
    "utc_d = loc_d.astimezone(pytz.utc)\n",
    "print(utc_d)"
   ]
  },
  {
   "cell_type": "markdown",
   "metadata": {},
   "source": [
    "### 第四章：迭代器与生成器\n",
    "#### 4.1 手动遍历迭代器\n",
    "你想遍历一个可迭代对象中的所有元素，但是却不想使用 for 循环。\n",
    "- next(), 并捕获StopIteration异常表示迭代结束。"
   ]
  },
  {
   "cell_type": "code",
   "execution_count": 3,
   "metadata": {},
   "outputs": [],
   "source": [
    "items = [1, 2, 3]\n",
    "it = iter(items)"
   ]
  },
  {
   "cell_type": "code",
   "execution_count": 4,
   "metadata": {},
   "outputs": [
    {
     "data": {
      "text/plain": [
       "1"
      ]
     },
     "execution_count": 4,
     "metadata": {},
     "output_type": "execute_result"
    }
   ],
   "source": [
    "next(it)"
   ]
  },
  {
   "cell_type": "code",
   "execution_count": 5,
   "metadata": {},
   "outputs": [
    {
     "data": {
      "text/plain": [
       "2"
      ]
     },
     "execution_count": 5,
     "metadata": {},
     "output_type": "execute_result"
    }
   ],
   "source": [
    "next(it)"
   ]
  },
  {
   "cell_type": "code",
   "execution_count": 6,
   "metadata": {},
   "outputs": [
    {
     "data": {
      "text/plain": [
       "3"
      ]
     },
     "execution_count": 6,
     "metadata": {},
     "output_type": "execute_result"
    }
   ],
   "source": [
    "next(it)"
   ]
  },
  {
   "cell_type": "code",
   "execution_count": 7,
   "metadata": {},
   "outputs": [
    {
     "ename": "StopIteration",
     "evalue": "",
     "output_type": "error",
     "traceback": [
      "\u001b[1;31m---------------------------------------------------------------------------\u001b[0m",
      "\u001b[1;31mStopIteration\u001b[0m                             Traceback (most recent call last)",
      "\u001b[1;32m<ipython-input-7-bc1ab118995a>\u001b[0m in \u001b[0;36m<module>\u001b[1;34m\u001b[0m\n\u001b[1;32m----> 1\u001b[1;33m \u001b[0mnext\u001b[0m\u001b[1;33m(\u001b[0m\u001b[0mit\u001b[0m\u001b[1;33m)\u001b[0m\u001b[1;33m\u001b[0m\u001b[1;33m\u001b[0m\u001b[0m\n\u001b[0m",
      "\u001b[1;31mStopIteration\u001b[0m: "
     ]
    }
   ],
   "source": [
    "next(it)"
   ]
  },
  {
   "cell_type": "markdown",
   "metadata": {},
   "source": [
    "#### 4.2 代理迭代\n",
    "你构建了一个自定义容器对象，里面包含有列表、元组或其他可迭代对象。你想直\n",
    "接在你的这个新容器对象上执行迭代操作。"
   ]
  },
  {
   "cell_type": "code",
   "execution_count": 8,
   "metadata": {},
   "outputs": [],
   "source": [
    "class Node:\n",
    "    def __init__(self, value):\n",
    "        self._value = value\n",
    "        self._children = []\n",
    "    \n",
    "    def __repr__(self):\n",
    "        return 'Node({!r})'.format(self._value)\n",
    "    \n",
    "    def add_child(self, node):\n",
    "        self._children.append(node)\n",
    "    \n",
    "    def __iter__(self):\n",
    "        return iter(self._children)"
   ]
  },
  {
   "cell_type": "code",
   "execution_count": 11,
   "metadata": {},
   "outputs": [
    {
     "name": "stdout",
     "output_type": "stream",
     "text": [
      "Node(1)\n",
      "Node(2)\n"
     ]
    }
   ],
   "source": [
    "root = Node(0)\n",
    "child1 = Node(1)\n",
    "child2 = Node(2)\n",
    "root.add_child(child1)\n",
    "root.add_child(child2)\n",
    "for ch in root:\n",
    "    print(ch)"
   ]
  },
  {
   "cell_type": "markdown",
   "metadata": {},
   "source": [
    "#### 4.3 使用生成器创建新的迭代模式\n",
    "你想实现一个自定义迭代模式，跟普通的内置函数比如 range() , reversed() 不\n",
    "一样。"
   ]
  },
  {
   "cell_type": "code",
   "execution_count": 12,
   "metadata": {},
   "outputs": [],
   "source": [
    "def frange(start, stop, increment):\n",
    "    x = start\n",
    "    while x < stop:\n",
    "        yield x\n",
    "        x += increment"
   ]
  },
  {
   "cell_type": "code",
   "execution_count": 13,
   "metadata": {},
   "outputs": [
    {
     "name": "stdout",
     "output_type": "stream",
     "text": [
      "0\n",
      "0.5\n",
      "1.0\n",
      "1.5\n",
      "2.0\n",
      "2.5\n",
      "3.0\n",
      "3.5\n"
     ]
    }
   ],
   "source": [
    "for n in frange(0, 4, 0.5):\n",
    "    print(n)"
   ]
  },
  {
   "cell_type": "code",
   "execution_count": 14,
   "metadata": {},
   "outputs": [
    {
     "name": "stdout",
     "output_type": "stream",
     "text": [
      "[0, 0.5, 1.0, 1.5, 2.0, 2.5, 3.0, 3.5]\n"
     ]
    }
   ],
   "source": [
    "print(list(frange(0, 4, 0.5)))"
   ]
  },
  {
   "cell_type": "markdown",
   "metadata": {},
   "source": [
    "#### 4.4 实现迭代器协议\n",
    "你想构建一个能支持迭代操作的自定义对象，并希望找到一个能实现迭代协议的\n",
    "简单方法。"
   ]
  },
  {
   "cell_type": "code",
   "execution_count": 15,
   "metadata": {},
   "outputs": [],
   "source": [
    "class Node1:\n",
    "    def __init__(self, value):\n",
    "        self._value = value\n",
    "        self._children = []\n",
    "    \n",
    "    def __repr__(self):\n",
    "        return 'Node({!r})'.format(self._value)\n",
    "    \n",
    "    def add_child(self, node):\n",
    "        self._children.append(node)\n",
    "    \n",
    "    def __iter__(self):\n",
    "        return iter(self._children)\n",
    "    \n",
    "    def depth_first(self):\n",
    "        yield self\n",
    "        for c in self:\n",
    "            yield from c.depth_first()"
   ]
  },
  {
   "cell_type": "code",
   "execution_count": 16,
   "metadata": {},
   "outputs": [
    {
     "name": "stdout",
     "output_type": "stream",
     "text": [
      "Node(0)\n",
      "Node(1)\n",
      "Node(3)\n",
      "Node(4)\n",
      "Node(2)\n",
      "Node(5)\n"
     ]
    }
   ],
   "source": [
    "root = Node1(0)\n",
    "child1 = Node1(1)\n",
    "child2 = Node1(2)\n",
    "root.add_child(child1)\n",
    "root.add_child(child2)\n",
    "child1.add_child(Node1(3))\n",
    "child1.add_child(Node1(4))\n",
    "child2.add_child(Node1(5))\n",
    "for c in root.depth_first():\n",
    "    print(c)"
   ]
  },
  {
   "cell_type": "markdown",
   "metadata": {},
   "source": [
    "#### 4.5 反向迭代\n",
    "你想反方向迭代一个序列"
   ]
  },
  {
   "cell_type": "code",
   "execution_count": 17,
   "metadata": {},
   "outputs": [
    {
     "name": "stdout",
     "output_type": "stream",
     "text": [
      "5\n",
      "4\n",
      "2\n",
      "1\n"
     ]
    }
   ],
   "source": [
    "a = [1, 2, 4, 5]\n",
    "for x in reversed(a):\n",
    "    print(x)"
   ]
  },
  {
   "cell_type": "code",
   "execution_count": 19,
   "metadata": {},
   "outputs": [],
   "source": [
    "class Countdown:\n",
    "    def __init__(self, start):\n",
    "        self.start = start\n",
    "    \n",
    "    def __iter__(self):\n",
    "        n = self.start\n",
    "        while n > 0:\n",
    "            yield n\n",
    "            n -= 1\n",
    "    \n",
    "    def __reversed__(self):\n",
    "        n = 1\n",
    "        while n <= self.start:\n",
    "            yield n\n",
    "            n += 1"
   ]
  },
  {
   "cell_type": "code",
   "execution_count": 20,
   "metadata": {},
   "outputs": [
    {
     "name": "stdout",
     "output_type": "stream",
     "text": [
      "1\n",
      "2\n",
      "3\n",
      "4\n",
      "5\n"
     ]
    }
   ],
   "source": [
    "for r in reversed(Countdown(5)):\n",
    "    print(r)"
   ]
  },
  {
   "cell_type": "code",
   "execution_count": 21,
   "metadata": {},
   "outputs": [
    {
     "name": "stdout",
     "output_type": "stream",
     "text": [
      "5\n",
      "4\n",
      "3\n",
      "2\n",
      "1\n"
     ]
    }
   ],
   "source": [
    "for r in Countdown(5):\n",
    "    print(r)"
   ]
  },
  {
   "cell_type": "markdown",
   "metadata": {},
   "source": [
    "#### 4.6 带有外部状态的生成器函数\n",
    "你想定义一个生成器函数，但是它会调用某个你想暴露给用户使用的外部状态值。\n",
    "#### 4.7 迭代器切片\n",
    "你想得到一个由迭代器生成的切片对象，但是标准切片操作并不能做到。"
   ]
  },
  {
   "cell_type": "code",
   "execution_count": 22,
   "metadata": {},
   "outputs": [],
   "source": [
    "def count1(n):\n",
    "    while True:\n",
    "        yield n\n",
    "        n += 1"
   ]
  },
  {
   "cell_type": "code",
   "execution_count": 23,
   "metadata": {},
   "outputs": [
    {
     "ename": "TypeError",
     "evalue": "'generator' object is not subscriptable",
     "output_type": "error",
     "traceback": [
      "\u001b[1;31m---------------------------------------------------------------------------\u001b[0m",
      "\u001b[1;31mTypeError\u001b[0m                                 Traceback (most recent call last)",
      "\u001b[1;32m<ipython-input-23-1a981e440181>\u001b[0m in \u001b[0;36m<module>\u001b[1;34m\u001b[0m\n\u001b[0;32m      1\u001b[0m \u001b[0mc\u001b[0m \u001b[1;33m=\u001b[0m \u001b[0mcount1\u001b[0m\u001b[1;33m(\u001b[0m\u001b[1;36m0\u001b[0m\u001b[1;33m)\u001b[0m\u001b[1;33m\u001b[0m\u001b[1;33m\u001b[0m\u001b[0m\n\u001b[1;32m----> 2\u001b[1;33m \u001b[0mprint\u001b[0m\u001b[1;33m(\u001b[0m\u001b[0mc\u001b[0m\u001b[1;33m[\u001b[0m\u001b[1;36m10\u001b[0m\u001b[1;33m:\u001b[0m\u001b[1;36m20\u001b[0m\u001b[1;33m]\u001b[0m\u001b[1;33m)\u001b[0m\u001b[1;33m\u001b[0m\u001b[1;33m\u001b[0m\u001b[0m\n\u001b[0m",
      "\u001b[1;31mTypeError\u001b[0m: 'generator' object is not subscriptable"
     ]
    }
   ],
   "source": [
    "c = count1(0)\n",
    "print(c[10:20])"
   ]
  },
  {
   "cell_type": "code",
   "execution_count": 34,
   "metadata": {},
   "outputs": [
    {
     "name": "stdout",
     "output_type": "stream",
     "text": [
      "165\n",
      "166\n",
      "167\n",
      "168\n",
      "169\n"
     ]
    }
   ],
   "source": [
    "from itertools import islice\n",
    "\n",
    "for x in islice(c, 10, 15):\n",
    "    print(x)"
   ]
  },
  {
   "cell_type": "markdown",
   "metadata": {},
   "source": [
    "#### 4.8 跳过可迭代对象的开始部分\n",
    "你想遍历一个可迭代对象，但是它开始的某些元素你并不感兴趣，想跳过它们。"
   ]
  },
  {
   "cell_type": "code",
   "execution_count": 71,
   "metadata": {},
   "outputs": [],
   "source": [
    "c = count1(0)"
   ]
  },
  {
   "cell_type": "code",
   "execution_count": 73,
   "metadata": {},
   "outputs": [
    {
     "name": "stdout",
     "output_type": "stream",
     "text": [
      "10\n",
      "11\n",
      "12\n",
      "13\n",
      "14\n"
     ]
    }
   ],
   "source": [
    "from itertools import dropwhile\n",
    "\n",
    "for n in islice(dropwhile(lambda x: x<10, c), 0, 5):\n",
    "    print(n)"
   ]
  },
  {
   "cell_type": "markdown",
   "metadata": {},
   "source": [
    "#### 4.9 排列组合的迭代\n",
    "你想迭代遍历一个集合中元素的所有可能的排列或组合"
   ]
  },
  {
   "cell_type": "code",
   "execution_count": 74,
   "metadata": {},
   "outputs": [
    {
     "name": "stdout",
     "output_type": "stream",
     "text": [
      "('a', 'b', 'c')\n",
      "('a', 'c', 'b')\n",
      "('b', 'a', 'c')\n",
      "('b', 'c', 'a')\n",
      "('c', 'a', 'b')\n",
      "('c', 'b', 'a')\n"
     ]
    }
   ],
   "source": [
    "from itertools import permutations\n",
    "\n",
    "items = ['a', 'b', 'c']\n",
    "for p in permutations(items):\n",
    "    print(p)"
   ]
  },
  {
   "cell_type": "code",
   "execution_count": 75,
   "metadata": {},
   "outputs": [
    {
     "name": "stdout",
     "output_type": "stream",
     "text": [
      "('a', 'b')\n",
      "('a', 'c')\n",
      "('b', 'a')\n",
      "('b', 'c')\n",
      "('c', 'a')\n",
      "('c', 'b')\n"
     ]
    }
   ],
   "source": [
    "for p in permutations(items, 2):\n",
    "    print(p)"
   ]
  },
  {
   "cell_type": "code",
   "execution_count": 78,
   "metadata": {},
   "outputs": [
    {
     "name": "stdout",
     "output_type": "stream",
     "text": [
      "('a', 'b', 'c')\n"
     ]
    }
   ],
   "source": [
    "from itertools import combinations\n",
    "\n",
    "for c in combinations(items, 3):\n",
    "    print(c)"
   ]
  },
  {
   "cell_type": "code",
   "execution_count": 80,
   "metadata": {},
   "outputs": [
    {
     "name": "stdout",
     "output_type": "stream",
     "text": [
      "('a', 'b')\n",
      "('a', 'c')\n",
      "('b', 'c')\n"
     ]
    }
   ],
   "source": [
    "for c in combinations(items, 2):\n",
    "    print(c)"
   ]
  },
  {
   "cell_type": "markdown",
   "metadata": {},
   "source": [
    "#### 4.10 序列上索引值迭代\n",
    "你想在迭代一个序列的同时跟踪正在被处理的元素索引。"
   ]
  },
  {
   "cell_type": "code",
   "execution_count": 91,
   "metadata": {},
   "outputs": [
    {
     "name": "stdout",
     "output_type": "stream",
     "text": [
      "0 a\n",
      "1 b\n",
      "2 c\n"
     ]
    }
   ],
   "source": [
    "my_list = ['a', 'b', 'c']\n",
    "for i, v in enumerate(my_list):\n",
    "    print(i, v)"
   ]
  },
  {
   "cell_type": "markdown",
   "metadata": {},
   "source": [
    "#### 4.11 同时迭代多个序列\n",
    "你想同时迭代多个序列，每次分别从一个序列中取一个元素。"
   ]
  },
  {
   "cell_type": "code",
   "execution_count": 93,
   "metadata": {},
   "outputs": [
    {
     "name": "stdout",
     "output_type": "stream",
     "text": [
      "1 101\n",
      "5 78\n",
      "4 37\n",
      "2 15\n",
      "10 62\n"
     ]
    }
   ],
   "source": [
    "xpts = [1, 5, 4, 2, 10]\n",
    "ypts = [101, 78, 37, 15, 62, 99]\n",
    "for x, y in zip(xpts, ypts):\n",
    "    print(x, y)"
   ]
  },
  {
   "cell_type": "code",
   "execution_count": 94,
   "metadata": {},
   "outputs": [
    {
     "name": "stdout",
     "output_type": "stream",
     "text": [
      "1 101\n",
      "5 78\n",
      "4 37\n",
      "2 15\n",
      "10 62\n",
      "0 99\n"
     ]
    }
   ],
   "source": [
    "from itertools import zip_longest\n",
    "for x, y in zip_longest(xpts, ypts, fillvalue=0):\n",
    "    print(x, y)"
   ]
  },
  {
   "cell_type": "markdown",
   "metadata": {},
   "source": [
    "#### 4.12 不同集合上元素的迭代\n",
    "你想在多个对象执行相同的操作，但是这些对象在不同的容器中，你希望代码在不\n",
    "失可读性的情况下避免写重复的循环。"
   ]
  },
  {
   "cell_type": "code",
   "execution_count": 95,
   "metadata": {},
   "outputs": [
    {
     "name": "stdout",
     "output_type": "stream",
     "text": [
      "1\n",
      "2\n",
      "3\n",
      "4\n",
      "x\n",
      "y\n",
      "z\n"
     ]
    }
   ],
   "source": [
    "from itertools import chain\n",
    "\n",
    "a = [1, 2, 3, 4]\n",
    "b = ['x', 'y', 'z']\n",
    "for x in chain(a, b):\n",
    "    print(x)"
   ]
  },
  {
   "cell_type": "markdown",
   "metadata": {},
   "source": [
    "#### 4.13 创建数据处理管道\n",
    "你想以数据管道 (类似 Unix 管道) 的方式迭代处理数据。比如，你有个大量的数据\n",
    "需要处理，但是不能将它们一次性放入内存中。\n",
    "#### 4.14 展开嵌套的序列\n",
    "你想将一个多层嵌套的序列展开成一个单层列表"
   ]
  },
  {
   "cell_type": "code",
   "execution_count": 2,
   "metadata": {},
   "outputs": [],
   "source": [
    "from collections.abc import Iterable\n",
    "\n",
    "def flatten(items, ignore_types=(str, bytes)):\n",
    "    for x in items:\n",
    "        if isinstance(x, Iterable) and not isinstance(x, ignore_types):\n",
    "            yield from flatten(x)\n",
    "        else:\n",
    "            yield x"
   ]
  },
  {
   "cell_type": "code",
   "execution_count": 3,
   "metadata": {},
   "outputs": [
    {
     "name": "stdout",
     "output_type": "stream",
     "text": [
      "1\n",
      "2\n",
      "3\n",
      "4\n",
      "5\n",
      "6\n",
      "7\n",
      "8\n"
     ]
    }
   ],
   "source": [
    "items = [1, 2, [3, 4, [5, 6], 7], 8]\n",
    "for x in flatten(items):\n",
    "    print(x)"
   ]
  },
  {
   "cell_type": "markdown",
   "metadata": {},
   "source": [
    "#### 4.15 顺序迭代合并后的排序迭代对象\n",
    "你有一系列排序序列，想将它们合并后得到一个排序序列并在上面迭代遍历。"
   ]
  },
  {
   "cell_type": "code",
   "execution_count": 4,
   "metadata": {},
   "outputs": [
    {
     "name": "stdout",
     "output_type": "stream",
     "text": [
      "1\n",
      "2\n",
      "4\n",
      "5\n",
      "6\n",
      "7\n",
      "10\n",
      "34\n"
     ]
    }
   ],
   "source": [
    "import heapq\n",
    "a = [1, 4, 5, 10]\n",
    "b = [2, 6, 7, 34]\n",
    "for c in heapq.merge(a, b):\n",
    "    print(c)"
   ]
  },
  {
   "cell_type": "markdown",
   "metadata": {},
   "source": [
    "#### 4.16 迭代器代替 while 无限循环\n",
    "你在代码中使用 while 循环来迭代处理数据，因为它需要调用某个函数或者和一\n",
    "般迭代模式不同的测试条件。能不能用迭代器来重写这个循环呢？"
   ]
  },
  {
   "cell_type": "code",
   "execution_count": 7,
   "metadata": {},
   "outputs": [
    {
     "name": "stdout",
     "output_type": "stream",
     "text": [
      "sdfasdf\n",
      "sd\n",
      "\n",
      "fas\n",
      "d\n",
      "f\n",
      "w\n",
      "\n",
      "e\n",
      "g\n",
      "x\n",
      "g\n",
      "s\n",
      "\n",
      "dg\n",
      "s\n",
      "df\n",
      "a\n",
      "\n",
      "sdfas\n",
      "dg\n",
      "\n",
      "\n",
      "\n"
     ]
    }
   ],
   "source": [
    "import sys\n",
    "f = open('passwd')\n",
    "for chunk in iter(lambda: f.read(10), ''):\n",
    "    print(chunk)"
   ]
  },
  {
   "cell_type": "code",
   "execution_count": null,
   "metadata": {},
   "outputs": [],
   "source": []
  }
 ],
 "metadata": {
  "kernelspec": {
   "display_name": "Python 3",
   "language": "python",
   "name": "python3"
  },
  "language_info": {
   "codemirror_mode": {
    "name": "ipython",
    "version": 3
   },
   "file_extension": ".py",
   "mimetype": "text/x-python",
   "name": "python",
   "nbconvert_exporter": "python",
   "pygments_lexer": "ipython3",
   "version": "3.7.3"
  }
 },
 "nbformat": 4,
 "nbformat_minor": 2
}
