{
 "cells": [
  {
   "cell_type": "markdown",
   "metadata": {},
   "source": [
    "### 第五章：文件与 IO\n",
    "#### 5.1 读写文本数据\n",
    "你需要读写各种不同编码的文本数据，比如 ASCII，UTF-8 或 UTF-16 编码等。"
   ]
  },
  {
   "cell_type": "code",
   "execution_count": 9,
   "metadata": {},
   "outputs": [
    {
     "name": "stdout",
     "output_type": "stream",
     "text": [
      "utf-8\n",
      "sdfasdf\n",
      "\n",
      "sd\n",
      "\n",
      "fas\n",
      "\n",
      "d\n",
      "\n",
      "f\n",
      "\n",
      "w\n",
      "\n",
      "e\n",
      "\n",
      "g\n",
      "\n",
      "x\n",
      "\n",
      "g\n",
      "\n",
      "s\n",
      "\n",
      "dg\n",
      "\n",
      "s\n",
      "\n",
      "df\n",
      "\n",
      "a\n",
      "\n",
      "sdfas\n",
      "\n",
      "dg\n",
      "\n",
      "\n",
      "\n"
     ]
    }
   ],
   "source": [
    "import sys\n",
    "print(sys.getdefaultencoding())\n",
    "with open('passwd', 'r', newline='') as f:\n",
    "    for line in f:\n",
    "        print(line)"
   ]
  },
  {
   "cell_type": "markdown",
   "metadata": {},
   "source": [
    "#### 5.2 打印输出至文件中\n",
    "你想将 print() 函数的输出重定向到一个文件中去。"
   ]
  },
  {
   "cell_type": "code",
   "execution_count": 10,
   "metadata": {},
   "outputs": [],
   "source": [
    "with open('test.txt', 'w', encoding='utf-8') as f:\n",
    "    print('Hello World!', file=f)"
   ]
  },
  {
   "cell_type": "markdown",
   "metadata": {},
   "source": [
    "#### 5.3 使用其他分隔符或行终止符打印\n",
    "你想使用 print() 函数输出数据，但是想改变默认的分隔符或者行尾符。"
   ]
  },
  {
   "cell_type": "code",
   "execution_count": 12,
   "metadata": {},
   "outputs": [
    {
     "name": "stdout",
     "output_type": "stream",
     "text": [
      "ACME 50 4456.3434\n",
      "ACME,50,4456.3434\n",
      "ACME,50,4456.3434!!\n"
     ]
    }
   ],
   "source": [
    "print('ACME', 50, 4456.3434)\n",
    "print('ACME', 50, 4456.3434, sep=',')\n",
    "print('ACME', 50, 4456.3434, sep=',', end='!!\\n')"
   ]
  },
  {
   "cell_type": "markdown",
   "metadata": {},
   "source": [
    "#### 5.4 读写字节数据\n",
    "你想读写二进制文件，比如图片，声音文件等等。"
   ]
  },
  {
   "cell_type": "code",
   "execution_count": 14,
   "metadata": {},
   "outputs": [],
   "source": [
    "with open('test.bin', 'wb') as f:\n",
    "    text = 'Hello World!'\n",
    "    f.write(text.encode('utf-8'))"
   ]
  },
  {
   "cell_type": "code",
   "execution_count": 21,
   "metadata": {},
   "outputs": [
    {
     "name": "stdout",
     "output_type": "stream",
     "text": [
      "Hello World!\n"
     ]
    }
   ],
   "source": [
    "with open('test.bin', 'rb') as f:\n",
    "    data = f.read()\n",
    "    print(data.decode('utf-8'))"
   ]
  },
  {
   "cell_type": "code",
   "execution_count": 22,
   "metadata": {},
   "outputs": [
    {
     "name": "stdout",
     "output_type": "stream",
     "text": [
      "H\n",
      "H\n",
      "e\n",
      "l\n",
      "l\n",
      "o\n",
      " \n",
      "W\n",
      "o\n",
      "r\n",
      "l\n",
      "d\n",
      "!\n"
     ]
    }
   ],
   "source": [
    "t = 'Hello World!'\n",
    "print(t[0])\n",
    "for c in t:\n",
    "    print(c)"
   ]
  },
  {
   "cell_type": "code",
   "execution_count": 23,
   "metadata": {},
   "outputs": [
    {
     "name": "stdout",
     "output_type": "stream",
     "text": [
      "b'Hello World!'\n",
      "72\n",
      "101\n",
      "108\n",
      "108\n",
      "111\n",
      "32\n",
      "87\n",
      "111\n",
      "114\n",
      "108\n",
      "100\n",
      "33\n"
     ]
    }
   ],
   "source": [
    "t = b'Hello World!'\n",
    "print(t)\n",
    "for c in t:\n",
    "    print(c)"
   ]
  },
  {
   "cell_type": "markdown",
   "metadata": {},
   "source": [
    "#### 5.5 文件不存在才能写入\n",
    "你想向一个文件中写入数据，但是前提必须是这个文件在文件系统上不存在。也就\n",
    "是不允许覆盖已存在的文件内容。"
   ]
  },
  {
   "cell_type": "code",
   "execution_count": 26,
   "metadata": {},
   "outputs": [],
   "source": [
    "with open('somefile', 'x') as f:\n",
    "    f.write('Hello\\n')"
   ]
  },
  {
   "cell_type": "code",
   "execution_count": 27,
   "metadata": {},
   "outputs": [
    {
     "ename": "FileExistsError",
     "evalue": "[Errno 17] File exists: 'somefile'",
     "output_type": "error",
     "traceback": [
      "\u001b[1;31m---------------------------------------------------------------------------\u001b[0m",
      "\u001b[1;31mFileExistsError\u001b[0m                           Traceback (most recent call last)",
      "\u001b[1;32m<ipython-input-27-f981e18947d9>\u001b[0m in \u001b[0;36m<module>\u001b[1;34m\u001b[0m\n\u001b[1;32m----> 1\u001b[1;33m \u001b[1;32mwith\u001b[0m \u001b[0mopen\u001b[0m\u001b[1;33m(\u001b[0m\u001b[1;34m'somefile'\u001b[0m\u001b[1;33m,\u001b[0m \u001b[1;34m'x'\u001b[0m\u001b[1;33m)\u001b[0m \u001b[1;32mas\u001b[0m \u001b[0mf\u001b[0m\u001b[1;33m:\u001b[0m\u001b[1;33m\u001b[0m\u001b[1;33m\u001b[0m\u001b[0m\n\u001b[0m\u001b[0;32m      2\u001b[0m     \u001b[0mf\u001b[0m\u001b[1;33m.\u001b[0m\u001b[0mwrite\u001b[0m\u001b[1;33m(\u001b[0m\u001b[1;34m'Hello\\n'\u001b[0m\u001b[1;33m)\u001b[0m\u001b[1;33m\u001b[0m\u001b[1;33m\u001b[0m\u001b[0m\n",
      "\u001b[1;31mFileExistsError\u001b[0m: [Errno 17] File exists: 'somefile'"
     ]
    }
   ],
   "source": [
    "with open('somefile', 'x') as f:\n",
    "    f.write('Hello\\n')"
   ]
  },
  {
   "cell_type": "markdown",
   "metadata": {},
   "source": [
    "#### 5.6 字符串的 I/O 操作\n",
    "你想使用操作类文件对象的程序来操作文本或二进制字符串。"
   ]
  },
  {
   "cell_type": "code",
   "execution_count": 30,
   "metadata": {},
   "outputs": [
    {
     "name": "stdout",
     "output_type": "stream",
     "text": [
      "Hello World\n",
      "This is a test\n",
      "\n"
     ]
    }
   ],
   "source": [
    "import io\n",
    "s = io.StringIO()\n",
    "s.write('Hello World\\n')\n",
    "print('This is a test', file=s)\n",
    "print(s.getvalue())"
   ]
  },
  {
   "cell_type": "code",
   "execution_count": 39,
   "metadata": {},
   "outputs": [],
   "source": [
    "s = io.StringIO('Hello\\nWorld\\n')"
   ]
  },
  {
   "cell_type": "code",
   "execution_count": 57,
   "metadata": {},
   "outputs": [
    {
     "name": "stdout",
     "output_type": "stream",
     "text": [
      "Hell\n"
     ]
    }
   ],
   "source": [
    "s.seek(0)\n",
    "print(s.read(4))"
   ]
  },
  {
   "cell_type": "code",
   "execution_count": 58,
   "metadata": {},
   "outputs": [
    {
     "name": "stdout",
     "output_type": "stream",
     "text": [
      "b'binary data'\n"
     ]
    }
   ],
   "source": [
    "s = io.BytesIO()\n",
    "s.write(b'binary data')\n",
    "print(s.getvalue())"
   ]
  },
  {
   "cell_type": "markdown",
   "metadata": {},
   "source": [
    "#### 5.7 读写压缩文件\n",
    "你想读写一个 gzip 或 bz2 格式的压缩文件。"
   ]
  },
  {
   "cell_type": "code",
   "execution_count": 60,
   "metadata": {},
   "outputs": [],
   "source": [
    "import gzip\n",
    "import bz2"
   ]
  },
  {
   "cell_type": "code",
   "execution_count": 64,
   "metadata": {},
   "outputs": [],
   "source": [
    "with gzip.open('somefile.gz', 'wt') as f:\n",
    "    f.write('hello world')"
   ]
  },
  {
   "cell_type": "code",
   "execution_count": 65,
   "metadata": {},
   "outputs": [
    {
     "name": "stdout",
     "output_type": "stream",
     "text": [
      "hello world\n"
     ]
    }
   ],
   "source": [
    "with gzip.open('somefile.gz', 'rt') as f:\n",
    "    print(f.read())"
   ]
  },
  {
   "cell_type": "code",
   "execution_count": 66,
   "metadata": {},
   "outputs": [
    {
     "name": "stdout",
     "output_type": "stream",
     "text": [
      "hello world\n"
     ]
    }
   ],
   "source": [
    "with open('somefile.gz', 'rb') as f:\n",
    "    with gzip.open(f, 'rt') as g:\n",
    "        print(g.read())"
   ]
  },
  {
   "cell_type": "markdown",
   "metadata": {},
   "source": [
    "#### 5.8 固定大小记录的文件迭代\n",
    "你想在一个固定长度记录或者数据块的集合上迭代，而不是在一个文件中一行一\n",
    "行的迭代。"
   ]
  },
  {
   "cell_type": "code",
   "execution_count": 68,
   "metadata": {},
   "outputs": [],
   "source": [
    "from functools import partial"
   ]
  },
  {
   "cell_type": "markdown",
   "metadata": {},
   "source": [
    "#### 5.9 读取二进制数据到可变缓冲区中\n",
    "你想直接读取二进制数据到一个可变缓冲区中，而不需要做任何的中间复制操作。\n",
    "或者你想原地修改数据并将它写回到一个文件中去。"
   ]
  },
  {
   "cell_type": "code",
   "execution_count": 1,
   "metadata": {},
   "outputs": [],
   "source": [
    "import os\n",
    "\n",
    "def read_into_buffer(filename):\n",
    "    buf = bytearray(os.path.getsize(filename))\n",
    "    with open(filename, 'rb') as f:\n",
    "        f.readinto(buf)\n",
    "    return buf"
   ]
  },
  {
   "cell_type": "code",
   "execution_count": 2,
   "metadata": {},
   "outputs": [],
   "source": [
    "with open('sample.bin', 'wb') as f:\n",
    "    f.write(b'Hello World')"
   ]
  },
  {
   "cell_type": "code",
   "execution_count": 3,
   "metadata": {},
   "outputs": [
    {
     "name": "stdout",
     "output_type": "stream",
     "text": [
      "bytearray(b'Hello World')\n"
     ]
    }
   ],
   "source": [
    "buf = read_into_buffer('sample.bin')\n",
    "print(buf)"
   ]
  },
  {
   "cell_type": "code",
   "execution_count": 4,
   "metadata": {},
   "outputs": [
    {
     "name": "stdout",
     "output_type": "stream",
     "text": [
      "bytearray(b'Hello')\n"
     ]
    }
   ],
   "source": [
    "print(buf[0:5])"
   ]
  },
  {
   "cell_type": "code",
   "execution_count": 6,
   "metadata": {},
   "outputs": [
    {
     "name": "stdout",
     "output_type": "stream",
     "text": [
      "<memory at 0x000001E78AA421C8>\n"
     ]
    }
   ],
   "source": [
    "m1 = memoryview(buf)\n",
    "m2 = m1[-5:]\n",
    "print(m2)"
   ]
  },
  {
   "cell_type": "code",
   "execution_count": 7,
   "metadata": {},
   "outputs": [
    {
     "name": "stdout",
     "output_type": "stream",
     "text": [
      "bytearray(b'Hello WORLD')\n"
     ]
    }
   ],
   "source": [
    "m2[:] = b'WORLD'\n",
    "print(buf)"
   ]
  },
  {
   "cell_type": "markdown",
   "metadata": {},
   "source": [
    "#### 5.10 内存映射的二进制文件\n",
    "你想内存映射一个二进制文件到一个可变字节数组中，目的可能是为了随机访问\n",
    "它的内容或者是原地做些修改。"
   ]
  },
  {
   "cell_type": "code",
   "execution_count": 8,
   "metadata": {},
   "outputs": [],
   "source": [
    "size = 1000000\n",
    "with open('data', 'wb') as f:\n",
    "    f.seek(size-1)\n",
    "    f.write(b'\\x00')"
   ]
  },
  {
   "cell_type": "code",
   "execution_count": 9,
   "metadata": {},
   "outputs": [],
   "source": [
    "import os\n",
    "import mmap\n",
    "\n",
    "def memory_map(filename, access=mmap.ACCESS_WRITE):\n",
    "    size = os.path.getsize(filename)\n",
    "    fd = os.open(filename, os.O_RDWR)\n",
    "    return mmap.mmap(fd, size, access=access)"
   ]
  },
  {
   "cell_type": "code",
   "execution_count": 13,
   "metadata": {},
   "outputs": [
    {
     "name": "stdout",
     "output_type": "stream",
     "text": [
      "1000000\n",
      "b'\\x00\\x00\\x00\\x00\\x00\\x00\\x00\\x00\\x00\\x00'\n",
      "0\n"
     ]
    }
   ],
   "source": [
    "m = memory_map('data')\n",
    "print(len(m))\n",
    "print(m[0:10])\n",
    "print(m[0])\n",
    "m[0:11] = b'Hello World'\n",
    "m.close()"
   ]
  },
  {
   "cell_type": "code",
   "execution_count": 14,
   "metadata": {},
   "outputs": [
    {
     "name": "stdout",
     "output_type": "stream",
     "text": [
      "b'Hello World'\n"
     ]
    }
   ],
   "source": [
    "with open('data', 'rb') as f:\n",
    "    print(f.read(11))"
   ]
  },
  {
   "cell_type": "markdown",
   "metadata": {},
   "source": [
    "#### 5.11 文件路径名的操作\n",
    "你需要使用路径名来获取文件名，目录名，绝对路径等等。"
   ]
  },
  {
   "cell_type": "code",
   "execution_count": 16,
   "metadata": {},
   "outputs": [],
   "source": [
    "import os\n",
    "path = '/Users/beazley/Data/data.csv'"
   ]
  },
  {
   "cell_type": "code",
   "execution_count": 19,
   "metadata": {},
   "outputs": [
    {
     "name": "stdout",
     "output_type": "stream",
     "text": [
      "data.csv\n",
      "/Users/beazley/Data\n",
      "tmp\\data\\data.csv\n"
     ]
    }
   ],
   "source": [
    "print(os.path.basename(path))\n",
    "print(os.path.dirname(path))\n",
    "print(os.path.join('tmp', 'data', os.path.basename(path)))"
   ]
  },
  {
   "cell_type": "code",
   "execution_count": 20,
   "metadata": {},
   "outputs": [],
   "source": [
    "path = '~/Data/data.csv'"
   ]
  },
  {
   "cell_type": "code",
   "execution_count": 22,
   "metadata": {},
   "outputs": [
    {
     "name": "stdout",
     "output_type": "stream",
     "text": [
      "C:\\Users\\lingfangyuan/Data/data.csv\n",
      "('~/Data/data', '.csv')\n"
     ]
    }
   ],
   "source": [
    "print(os.path.expanduser(path))\n",
    "print(os.path.splitext(path))"
   ]
  },
  {
   "cell_type": "markdown",
   "metadata": {},
   "source": [
    "#### 5.12 测试文件是否存在\n",
    "你想测试一个文件或目录是否存在。"
   ]
  },
  {
   "cell_type": "code",
   "execution_count": 24,
   "metadata": {},
   "outputs": [
    {
     "name": "stdout",
     "output_type": "stream",
     "text": [
      "False\n",
      "True\n"
     ]
    }
   ],
   "source": [
    "import os\n",
    "print(os.path.exists('/etc/passwd'))\n",
    "print(os.path.exists('data'))"
   ]
  },
  {
   "cell_type": "code",
   "execution_count": 31,
   "metadata": {},
   "outputs": [
    {
     "name": "stdout",
     "output_type": "stream",
     "text": [
      "True\n",
      "True\n",
      "False\n",
      "F:\\GitRepository\\Learning\\jupyter\n"
     ]
    }
   ],
   "source": [
    "print(os.path.isfile('data'))\n",
    "print(os.path.isdir('.'))\n",
    "print(os.path.islink('~'))\n",
    "print(os.path.realpath('..'))"
   ]
  },
  {
   "cell_type": "code",
   "execution_count": 34,
   "metadata": {},
   "outputs": [
    {
     "name": "stdout",
     "output_type": "stream",
     "text": [
      "1000000\n",
      "1577943779.3228784\n",
      "Thu Jan  2 13:42:59 2020\n"
     ]
    }
   ],
   "source": [
    "print(os.path.getsize('data'))\n",
    "print(os.path.getmtime('data'))\n",
    "import time\n",
    "print(time.ctime(os.path.getmtime('data')))"
   ]
  },
  {
   "cell_type": "markdown",
   "metadata": {},
   "source": [
    "####  5.13 获取文件夹中的文件列表\n",
    "你想获取文件系统中某个目录下的所有文件列表。"
   ]
  },
  {
   "cell_type": "code",
   "execution_count": 37,
   "metadata": {},
   "outputs": [
    {
     "name": "stdout",
     "output_type": "stream",
     "text": [
      "[('.', ['.ipynb_checkpoints'], ['data', 'passwd', 'sample.bin', 'somefile', 'somefile.gz', 'test.bin', 'test.txt', 'Untitled.ipynb', '第一~五章.ipynb']), ('.\\\\.ipynb_checkpoints', [], ['Untitled-checkpoint.ipynb', '第一~五章-checkpoint.ipynb'])]\n",
      "['.ipynb_checkpoints', 'data', 'passwd', 'sample.bin', 'somefile', 'somefile.gz', 'test.bin', 'test.txt', 'Untitled.ipynb', '第一~五章.ipynb']\n"
     ]
    }
   ],
   "source": [
    "print(list(os.walk('.')))\n",
    "print(os.listdir('.'))"
   ]
  },
  {
   "cell_type": "markdown",
   "metadata": {},
   "source": [
    "#### 5.14 忽略文件名编码\n",
    "你想使用原始文件名执行文件的 I/O 操作，也就是说文件名并没有经过系统默认\n",
    "编码去解码或编码过。"
   ]
  },
  {
   "cell_type": "code",
   "execution_count": 38,
   "metadata": {},
   "outputs": [
    {
     "name": "stdout",
     "output_type": "stream",
     "text": [
      "utf-8\n"
     ]
    }
   ],
   "source": [
    "import sys\n",
    "print(sys.getfilesystemencoding())"
   ]
  },
  {
   "cell_type": "markdown",
   "metadata": {},
   "source": [
    "#### 5.15 打印不合法的文件名\n",
    "#### 5.16 增加或改变已打开文件的编码\n",
    "你想在不关闭一个已打开的文件前提下增加或改变它的 Unicode 编码。\n",
    "#### 5.17 将字节写入文本文件\n",
    "你想在文本模式打开的文件中写入原始的字节数据。\n",
    "#### 5.18 将文件描述符包装成文件对象\n",
    "你有一个对应于操作系统上一个已打开的 I/O 通道 (比如文件、管道、套接字等)\n",
    "的整型文件描述符，你想将它包装成一个更高层的 Python 文件对象。\n",
    "#### 5.19 创建临时文件和文件夹\n",
    "你需要在程序执行时创建一个临时文件或目录，并希望使用完之后可以自动销毁\n",
    "掉。"
   ]
  },
  {
   "cell_type": "code",
   "execution_count": 39,
   "metadata": {},
   "outputs": [],
   "source": [
    "from tempfile import TemporaryFile\n",
    "\n",
    "with TemporaryFile('w+t') as f:\n",
    "    f.write(\"hello World\\n\")\n",
    "    f.write('Testing\\n')\n",
    "    \n",
    "    f.seek(0)\n",
    "    data = f.read()"
   ]
  },
  {
   "cell_type": "code",
   "execution_count": 40,
   "metadata": {},
   "outputs": [
    {
     "name": "stdout",
     "output_type": "stream",
     "text": [
      "hello World\n",
      "Testing\n",
      "\n"
     ]
    }
   ],
   "source": [
    "print(data)"
   ]
  },
  {
   "cell_type": "markdown",
   "metadata": {},
   "source": [
    "#### 5.20 与串行端口的数据通信\n",
    "你想通过串行端口读写数据，典型场景就是和一些硬件设备打交道 (比如一个机器\n",
    "人或传感器)。\n",
    "#### 5.21 序列化 Python 对象\n",
    "你需要将一个 Python 对象序列化为一个字节流，以便将它保存到一个文件、存储\n",
    "到数据库或者通过网络传输它。"
   ]
  },
  {
   "cell_type": "code",
   "execution_count": 41,
   "metadata": {},
   "outputs": [],
   "source": [
    "import pickle"
   ]
  },
  {
   "cell_type": "code",
   "execution_count": 42,
   "metadata": {},
   "outputs": [],
   "source": [
    "data = 'dfsddddddd'\n",
    "with open('somefile.plk', 'wb') as f:\n",
    "    pickle.dump(data, f)"
   ]
  },
  {
   "cell_type": "markdown",
   "metadata": {},
   "source": [
    "### 第六章：数据编码和处理\n",
    "#### 6.1 读写 CSV 数据"
   ]
  },
  {
   "cell_type": "code",
   "execution_count": 1,
   "metadata": {},
   "outputs": [],
   "source": [
    "import csv"
   ]
  },
  {
   "cell_type": "code",
   "execution_count": 6,
   "metadata": {},
   "outputs": [
    {
     "name": "stdout",
     "output_type": "stream",
     "text": [
      "['Symbol', 'Price', 'Date', 'Time', 'Change', 'Volume']\n",
      "AA\n",
      "AIG\n",
      "AXP\n",
      "BA\n",
      "C\n",
      "CAT\n"
     ]
    }
   ],
   "source": [
    "from collections import namedtuple\n",
    "with open('stocks.csv', 'r') as f:\n",
    "    f_csv = csv.reader(f)\n",
    "    headers = next(f_csv)\n",
    "    Row = namedtuple('Row', headers)\n",
    "    print(headers)\n",
    "    for r in f_csv:\n",
    "        row = Row(*r)\n",
    "        print(row.Symbol)"
   ]
  },
  {
   "cell_type": "code",
   "execution_count": 10,
   "metadata": {},
   "outputs": [
    {
     "name": "stdout",
     "output_type": "stream",
     "text": [
      "OrderedDict([('Symbol', 'AA'), ('Price', '39.48'), ('Date', '6/11/2007'), ('Time', '9:36am'), ('Change', '-0.18'), ('Volume', '181800')])\n",
      "OrderedDict([('Symbol', 'AIG'), ('Price', '71.38'), ('Date', '6/11/2007'), ('Time', '9:36am'), ('Change', '-0.15'), ('Volume', '195500')])\n",
      "OrderedDict([('Symbol', 'AXP'), ('Price', '62.58'), ('Date', '6/11/2007'), ('Time', '9:36am'), ('Change', '-0.46'), ('Volume', '935000')])\n"
     ]
    }
   ],
   "source": [
    "with open('stocks.csv', 'r') as f:\n",
    "    f_csv = csv.DictReader(f)\n",
    "    for row in f_csv:\n",
    "        print(row)"
   ]
  },
  {
   "cell_type": "code",
   "execution_count": 8,
   "metadata": {},
   "outputs": [],
   "source": [
    "headers = ['Symbol','Price','Date','Time','Change','Volume']\n",
    "rows = [('AA', 39.48, '6/11/2007', '9:36am', -0.18, 181800),\n",
    "('AIG', 71.38, '6/11/2007', '9:36am', -0.15, 195500),\n",
    "('AXP', 62.58, '6/11/2007', '9:36am', -0.46, 935000),\n",
    "]"
   ]
  },
  {
   "cell_type": "code",
   "execution_count": 9,
   "metadata": {},
   "outputs": [],
   "source": [
    "with open('stocks.csv', 'w') as f:\n",
    "    f_csv = csv.writer(f)\n",
    "    f_csv.writerow(headers)\n",
    "    f_csv.writerows(rows)"
   ]
  },
  {
   "cell_type": "markdown",
   "metadata": {},
   "source": [
    "#### 6.2 读写 JSON 数据\n",
    "你想读写 JSON(JavaScript Object Notation) 编码格式的数据。"
   ]
  },
  {
   "cell_type": "code",
   "execution_count": 11,
   "metadata": {},
   "outputs": [],
   "source": [
    "import json"
   ]
  },
  {
   "cell_type": "code",
   "execution_count": 12,
   "metadata": {},
   "outputs": [],
   "source": [
    "data = {\n",
    "    'name': 'ACME',\n",
    "    'shares': 100,\n",
    "    'price': 542.23\n",
    "}"
   ]
  },
  {
   "cell_type": "code",
   "execution_count": 15,
   "metadata": {},
   "outputs": [
    {
     "name": "stdout",
     "output_type": "stream",
     "text": [
      "<class 'str'> {\"name\": \"ACME\", \"shares\": 100, \"price\": 542.23}\n"
     ]
    }
   ],
   "source": [
    "json_str = json.dumps(data)\n",
    "print(type(json_str), json_str)"
   ]
  },
  {
   "cell_type": "code",
   "execution_count": 17,
   "metadata": {},
   "outputs": [
    {
     "name": "stdout",
     "output_type": "stream",
     "text": [
      "<class 'dict'> {'name': 'ACME', 'shares': 100, 'price': 542.23}\n"
     ]
    }
   ],
   "source": [
    "data1 = json.loads(json_str)\n",
    "print(type(data1), data1)"
   ]
  },
  {
   "cell_type": "code",
   "execution_count": 18,
   "metadata": {},
   "outputs": [],
   "source": [
    "with open('data.json', 'w') as f:\n",
    "    json.dump(data, f)"
   ]
  },
  {
   "cell_type": "code",
   "execution_count": 19,
   "metadata": {},
   "outputs": [
    {
     "name": "stdout",
     "output_type": "stream",
     "text": [
      "<class 'dict'> {'name': 'ACME', 'shares': 100, 'price': 542.23}\n"
     ]
    }
   ],
   "source": [
    "with open('data.json', 'r') as f:\n",
    "    data2 = json.load(f)\n",
    "print(type(data2), data2)"
   ]
  },
  {
   "cell_type": "markdown",
   "metadata": {},
   "source": [
    "#### 6.3 解析简单的 XML 数据\n",
    "你想从一个简单的 XML 文档中提取数据。"
   ]
  },
  {
   "cell_type": "code",
   "execution_count": 124,
   "metadata": {},
   "outputs": [],
   "source": [
    "from urllib.request import urlopen\n",
    "# from xml.etree.ElementTree import parse\n",
    "from lxml.etree import parse"
   ]
  },
  {
   "cell_type": "code",
   "execution_count": 125,
   "metadata": {},
   "outputs": [
    {
     "name": "stdout",
     "output_type": "stream",
     "text": [
      "<lxml.etree._ElementTree object at 0x00000280977B1488>\n"
     ]
    }
   ],
   "source": [
    "u = urlopen('http://feed.cnblogs.com/blog/u/269038/rss/')\n",
    "doc = parse(u)\n",
    "print(doc)"
   ]
  },
  {
   "cell_type": "code",
   "execution_count": 126,
   "metadata": {},
   "outputs": [
    {
     "name": "stdout",
     "output_type": "stream",
     "text": [
      "脚本代码混淆-Python篇-pyminifier（1） - 七夜的故事\n",
      "2019-09-15T14:32:00Z\n",
      "http://www.cnblogs.com/qiyeboy/p/11524806.html\n",
      "\n",
      "Python RASP 工程化:一次入侵的思考 - 七夜的故事\n",
      "2019-02-10T04:57:00Z\n",
      "http://www.cnblogs.com/qiyeboy/p/10359081.html\n",
      "\n",
      "教你学木马攻防 | 隧道木马 | 第一课 - 七夜的故事\n",
      "2019-02-03T08:40:00Z\n",
      "http://www.cnblogs.com/qiyeboy/p/10350621.html\n",
      "\n",
      "一个Python开源项目-哈勃沙箱源码剖析（下） - 七夜的故事\n",
      "2019-01-13T06:03:00Z\n",
      "http://www.cnblogs.com/qiyeboy/p/10262441.html\n",
      "\n",
      "一个Python开源项目-腾讯哈勃沙箱源码剖析(上) - 七夜的故事\n",
      "2019-01-04T11:40:00Z\n",
      "http://www.cnblogs.com/qiyeboy/p/10222084.html\n",
      "\n",
      "golang高性能端口扫描 - 七夜的故事\n",
      "2018-12-17T12:33:00Z\n",
      "http://www.cnblogs.com/qiyeboy/p/10133716.html\n",
      "\n",
      "QQ快速登录协议分析以及风险反思 - 七夜的故事\n",
      "2018-08-22T02:09:00Z\n",
      "http://www.cnblogs.com/qiyeboy/p/9496262.html\n",
      "\n",
      "小知识点--crontab - 七夜的故事\n",
      "2018-08-12T12:14:00Z\n",
      "http://www.cnblogs.com/qiyeboy/p/9464262.html\n",
      "\n",
      "基于HTTPS的中间人攻击-BaseProxy - 七夜的故事\n",
      "2018-07-11T10:16:00Z\n",
      "http://www.cnblogs.com/qiyeboy/p/9296038.html\n",
      "\n",
      "BaseProxy:异步http/https中间人 - 七夜的故事\n",
      "2018-06-23T02:14:00Z\n",
      "http://www.cnblogs.com/qiyeboy/p/9216433.html\n",
      "\n"
     ]
    }
   ],
   "source": [
    "ns = {'i': 'http://www.w3.org/2005/Atom'}\n",
    "for item in doc.iterfind('i:entry', namespaces=ns):\n",
    "    title = item.findtext('i:title', namespaces=ns)\n",
    "    updated = item.findtext('i:updated', namespaces=ns)\n",
    "    link = item.findall('i:link', namespaces=ns)[-1].get('href')\n",
    "    print(title)\n",
    "    print(updated)\n",
    "    print(link)\n",
    "    print()"
   ]
  },
  {
   "cell_type": "markdown",
   "metadata": {},
   "source": [
    "#### 6.4 增量式解析大型 XML 文件\n",
    "你想使用尽可能少的内存从一个超大的 XML 文档中提取数据。\n",
    "#### 6.5 将字典转换为 XML\n",
    "你想使用一个 Python 字典存储数据，并将它转换成 XML 格式。\n",
    "#### 6.6 解析和修改 XML\n",
    "你想读取一个 XML 文档，对它最一些修改，然后将结果写回 XML 文档。\n",
    "#### 6.8 与关系型数据库的交互\n",
    "你想在关系型数据库中查询、增加或删除记录。\n",
    "#### 6.9 编码和解码十六进制数\n",
    "你想将一个十六进制字符串解码成一个字节字符串或者将一个字节字符串编码成\n",
    "一个十六进制字符串。"
   ]
  },
  {
   "cell_type": "code",
   "execution_count": 3,
   "metadata": {},
   "outputs": [],
   "source": [
    "import binascii"
   ]
  },
  {
   "cell_type": "code",
   "execution_count": 12,
   "metadata": {},
   "outputs": [
    {
     "name": "stdout",
     "output_type": "stream",
     "text": [
      "b'68656c6c6f'\n",
      "b'hello'\n"
     ]
    }
   ],
   "source": [
    "s = b'hello'\n",
    "h = binascii.b2a_hex(s)\n",
    "print(h)\n",
    "print(binascii.a2b_hex(h))"
   ]
  },
  {
   "cell_type": "code",
   "execution_count": 14,
   "metadata": {},
   "outputs": [
    {
     "name": "stdout",
     "output_type": "stream",
     "text": [
      "b'68656C6C6F'\n",
      "b'hello'\n"
     ]
    }
   ],
   "source": [
    "import base64\n",
    "h = base64.b16encode(s)\n",
    "print(h)\n",
    "print(base64.b16decode(h))"
   ]
  },
  {
   "cell_type": "markdown",
   "metadata": {},
   "source": [
    "#### 6.10 编码解码 Base64 数据\n",
    "你需要使用 Base64 格式解码或编码二进制数据。"
   ]
  },
  {
   "cell_type": "code",
   "execution_count": 15,
   "metadata": {},
   "outputs": [],
   "source": [
    "import base64"
   ]
  },
  {
   "cell_type": "code",
   "execution_count": 18,
   "metadata": {},
   "outputs": [
    {
     "name": "stdout",
     "output_type": "stream",
     "text": [
      "b'aGVsbG8='\n",
      "b'hello'\n"
     ]
    }
   ],
   "source": [
    "s = b'hello'\n",
    "a = base64.b64encode(s)\n",
    "print(a)\n",
    "print(base64.b64decode(a))"
   ]
  },
  {
   "cell_type": "markdown",
   "metadata": {},
   "source": [
    "#### 6.11 读写二进制数组数据\n",
    "你想读写一个二进制数组的结构化数据到 Python 元组中。"
   ]
  },
  {
   "cell_type": "code",
   "execution_count": null,
   "metadata": {},
   "outputs": [],
   "source": []
  }
 ],
 "metadata": {
  "kernelspec": {
   "display_name": "Python 3",
   "language": "python",
   "name": "python3"
  },
  "language_info": {
   "codemirror_mode": {
    "name": "ipython",
    "version": 3
   },
   "file_extension": ".py",
   "mimetype": "text/x-python",
   "name": "python",
   "nbconvert_exporter": "python",
   "pygments_lexer": "ipython3",
   "version": "3.7.3"
  }
 },
 "nbformat": 4,
 "nbformat_minor": 2
}
