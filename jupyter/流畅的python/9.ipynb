{
 "cells": [
  {
   "cell_type": "markdown",
   "metadata": {},
   "source": [
    "### 第六部分 元编程\n",
    "#### 第十九章 动态属性和特性\n",
    "##### 19.1 使用动态属性转换数据"
   ]
  },
  {
   "cell_type": "code",
   "execution_count": 2,
   "metadata": {},
   "outputs": [],
   "source": [
    "# 下载osconfeed.json\n",
    "from urllib.request import urlopen\n",
    "import warnings\n",
    "import os\n",
    "import json\n",
    "\n",
    "URL = 'http://www.oreilly.com/pub/sc/osconfeed'\n",
    "JSON = 'data/osconfeed.json'\n",
    "\n",
    "def load():\n",
    "    if not os.path.exists(JSON):\n",
    "        msg = 'downloading {} to {}'.format(URL, JSON)\n",
    "        warnings.warn(msg)\n",
    "        with urlopen(URL) as remote, open(JSON, 'wb') as local:\n",
    "            local.write(remote.read())\n",
    "    with open(JSON, encoding='utf-8') as fp:\n",
    "        return json.load(fp)"
   ]
  },
  {
   "cell_type": "code",
   "execution_count": 16,
   "metadata": {},
   "outputs": [
    {
     "name": "stdout",
     "output_type": "stream",
     "text": [
      "['conferences', 'events', 'speakers', 'venues']\n",
      "  1 conferences\n",
      "494 events\n",
      "357 speakers\n",
      " 53 venues\n",
      "Carina C. Zona\n",
      "141590\n",
      "There *Will* Be Bugs\n",
      "[3471, 5199]\n"
     ]
    }
   ],
   "source": [
    "feed = load()\n",
    "print(sorted(feed['Schedule'].keys()))\n",
    "for key, value in sorted(feed['Schedule'].items()):\n",
    "    print('{:3} {}'.format(len(value), key))\n",
    "print(feed['Schedule']['speakers'][-1]['name'])\n",
    "print(feed['Schedule']['speakers'][-1]['serial'])\n",
    "print(feed['Schedule']['events'][40]['name'])\n",
    "print(feed['Schedule']['events'][40]['speakers'])"
   ]
  },
  {
   "cell_type": "code",
   "execution_count": 35,
   "metadata": {},
   "outputs": [],
   "source": [
    "# 吧一个JSON数据集转换成一个嵌套着FrozenJSON对象、列表和简单类型的FrozenJSON对象\n",
    "from collections import abc\n",
    "import keyword\n",
    "\n",
    "class FrozenJSON:\n",
    "    '''一个只读接口， 使用属性表示法访问JSON类对象\n",
    "    '''\n",
    "    def __init__(self, mapping):\n",
    "        self.__data = {}\n",
    "        for key, value in mapping.items():\n",
    "            if keyword.iskeyword(key):\n",
    "                key += '_'\n",
    "            self.__data[key] = value\n",
    "        \n",
    "    def __getattr__(self, name):\n",
    "        if hasattr(self.__data, name):\n",
    "            return getattr(self.__data, name)\n",
    "        else:\n",
    "            try:\n",
    "                return FrozenJSON.build(self.__data[name])\n",
    "            except KeyError:\n",
    "                raise AttributeError('没有这个属性！')\n",
    "    \n",
    "    @classmethod\n",
    "    def build(cls, obj):\n",
    "        if isinstance(obj, abc.Mapping):\n",
    "            return cls(obj)\n",
    "        elif isinstance(obj, abc.MutableSequence):\n",
    "            return [cls.build(item) for item in obj]\n",
    "        else:\n",
    "            return obj"
   ]
  },
  {
   "cell_type": "code",
   "execution_count": 3,
   "metadata": {},
   "outputs": [
    {
     "name": "stdout",
     "output_type": "stream",
     "text": [
      "357\n",
      "['conferences', 'events', 'speakers', 'venues']\n",
      "  1 conferences\n",
      "494 events\n",
      "357 speakers\n",
      " 53 venues\n",
      "Carina C. Zona\n",
      "<class '__main__.FrozenJSON'>\n",
      "There *Will* Be Bugs [3471, 5199]\n"
     ]
    },
    {
     "ename": "KeyError",
     "evalue": "'flavor'",
     "output_type": "error",
     "traceback": [
      "\u001b[1;31m---------------------------------------------------------------------------\u001b[0m",
      "\u001b[1;31mKeyError\u001b[0m                                  Traceback (most recent call last)",
      "\u001b[1;32m<ipython-input-3-03be2dc88e92>\u001b[0m in \u001b[0;36m<module>\u001b[1;34m\u001b[0m\n\u001b[0;32m      9\u001b[0m \u001b[0mprint\u001b[0m\u001b[1;33m(\u001b[0m\u001b[0mtype\u001b[0m\u001b[1;33m(\u001b[0m\u001b[0mtalk\u001b[0m\u001b[1;33m)\u001b[0m\u001b[1;33m)\u001b[0m\u001b[1;33m\u001b[0m\u001b[1;33m\u001b[0m\u001b[0m\n\u001b[0;32m     10\u001b[0m \u001b[0mprint\u001b[0m\u001b[1;33m(\u001b[0m\u001b[0mtalk\u001b[0m\u001b[1;33m.\u001b[0m\u001b[0mname\u001b[0m\u001b[1;33m,\u001b[0m \u001b[0mtalk\u001b[0m\u001b[1;33m.\u001b[0m\u001b[0mspeakers\u001b[0m\u001b[1;33m)\u001b[0m\u001b[1;33m\u001b[0m\u001b[1;33m\u001b[0m\u001b[0m\n\u001b[1;32m---> 11\u001b[1;33m \u001b[0mprint\u001b[0m\u001b[1;33m(\u001b[0m\u001b[0mtalk\u001b[0m\u001b[1;33m.\u001b[0m\u001b[0mflavor\u001b[0m\u001b[1;33m)\u001b[0m\u001b[1;33m\u001b[0m\u001b[1;33m\u001b[0m\u001b[0m\n\u001b[0m",
      "\u001b[1;32m<ipython-input-1-9172a7a1d5d5>\u001b[0m in \u001b[0;36m__getattr__\u001b[1;34m(self, name)\u001b[0m\n\u001b[0;32m     24\u001b[0m             \u001b[1;32mreturn\u001b[0m \u001b[0mgetattr\u001b[0m\u001b[1;33m(\u001b[0m\u001b[0mself\u001b[0m\u001b[1;33m.\u001b[0m\u001b[0m__data\u001b[0m\u001b[1;33m,\u001b[0m \u001b[0mname\u001b[0m\u001b[1;33m)\u001b[0m\u001b[1;33m\u001b[0m\u001b[1;33m\u001b[0m\u001b[0m\n\u001b[0;32m     25\u001b[0m         \u001b[1;32melse\u001b[0m\u001b[1;33m:\u001b[0m\u001b[1;33m\u001b[0m\u001b[1;33m\u001b[0m\u001b[0m\n\u001b[1;32m---> 26\u001b[1;33m             \u001b[1;32mreturn\u001b[0m \u001b[0mFrozenJSON\u001b[0m\u001b[1;33m(\u001b[0m\u001b[0mself\u001b[0m\u001b[1;33m.\u001b[0m\u001b[0m__data\u001b[0m\u001b[1;33m[\u001b[0m\u001b[0mname\u001b[0m\u001b[1;33m]\u001b[0m\u001b[1;33m)\u001b[0m\u001b[1;33m\u001b[0m\u001b[1;33m\u001b[0m\u001b[0m\n\u001b[0m",
      "\u001b[1;31mKeyError\u001b[0m: 'flavor'"
     ]
    }
   ],
   "source": [
    "raw_feed = load()\n",
    "feed = FrozenJSON(raw_feed)\n",
    "print(len(feed.Schedule.speakers))\n",
    "print(sorted(feed.Schedule.keys()))\n",
    "for key, value in sorted(feed.Schedule.items()):\n",
    "    print('{:3} {}'.format(len(value), key))\n",
    "print(feed.Schedule.speakers[-1].name)\n",
    "talk = feed.Schedule.events[40]\n",
    "print(type(talk))\n",
    "print(talk.name, talk.speakers)\n",
    "print(talk.flavor)"
   ]
  },
  {
   "cell_type": "code",
   "execution_count": 1,
   "metadata": {},
   "outputs": [],
   "source": [
    "# 使用__new__方法取代build方法，构建可能是也可能不是FrozenJSON实例的新对象\n",
    "from collections import abc\n",
    "from keyword import iskeyword\n",
    "\n",
    "class FrozenJSON:\n",
    "    \n",
    "    def __new__(cls, arg):\n",
    "        if isinstance(arg, abc.Mapping):\n",
    "            return super().__new__(cls)\n",
    "        elif isinstance(arg, abc.MutableSequence):\n",
    "            return [cls(item) for item in arg]\n",
    "        else:\n",
    "            return arg\n",
    "    \n",
    "    def __init__(self, mapping):\n",
    "        self.__data = {}\n",
    "        for key, value in mapping.items():\n",
    "            if iskeyword(key):\n",
    "                key += '_'\n",
    "            self.__data[key] = value\n",
    "    \n",
    "    def __getattr__(self, name):\n",
    "        if hasattr(self.__data, name):\n",
    "            return getattr(self.__data, name)\n",
    "        else:\n",
    "            return FrozenJSON(self.__data[name])"
   ]
  },
  {
   "cell_type": "code",
   "execution_count": 6,
   "metadata": {},
   "outputs": [],
   "source": [
    "# 访问保存在shelve.Shelf对象里的OSCON日程数据\n",
    "import warnings\n",
    "\n",
    "DB_NAME = 'data/schedule1.db'\n",
    "CONFERENCE = 'conference.115'\n",
    "\n",
    "class Record:\n",
    "    def __init__(self, **kwargs):\n",
    "        self.__dict__.update(kwargs)\n",
    "    \n",
    "def load_db(db):\n",
    "    raw_data = load()\n",
    "    warnings.warn('loading ' + DB_NAME)\n",
    "    for collection, rec_list in raw_data['Schedule'].items():\n",
    "        record_type = collection[:-1]\n",
    "        for record in rec_list:\n",
    "            key = '{}.{}'.format(record_type, record['serial'])\n",
    "            record['serial'] = key\n",
    "            db[key] = Record(**record)"
   ]
  },
  {
   "cell_type": "code",
   "execution_count": 7,
   "metadata": {},
   "outputs": [],
   "source": [
    "# 导入模块，定义常量和增强的Record类\n",
    "import warnings\n",
    "import inspect\n",
    "\n",
    "DB_NAME = 'data/schedule2_db'\n",
    "CONFERENCE = 'conference.115'\n",
    "\n",
    "class Record:\n",
    "    def __init__(self, **kwargs):\n",
    "        self.__dict__.update(kwargs)\n",
    "    \n",
    "    def __eq__(self, other):\n",
    "        if isinstance(other, Record):\n",
    "            return self.__dict__ == other.__dict__\n",
    "        else:\n",
    "            return NotImplemented"
   ]
  },
  {
   "cell_type": "code",
   "execution_count": 8,
   "metadata": {},
   "outputs": [],
   "source": [
    "# MissingDatabaseError类和DbRecord类\n",
    "class MissingDatabaseError(RuntimeError):\n",
    "    '''需要数据库但没有指定数据库时抛出'''\n",
    "\n",
    "class DbRecord(Record):\n",
    "    \n",
    "    __db = None\n",
    "    \n",
    "    @staticmethod\n",
    "    def set_db(db):\n",
    "        DbRecord.__db = db\n",
    "    \n",
    "    @staticmethod\n",
    "    def get_db():\n",
    "        return DbRecord.__db\n",
    "    \n",
    "    @classmethod\n",
    "    def fetch(cls, ident):\n",
    "        db = cls.get_db()\n",
    "        try:\n",
    "            return db[ident]\n",
    "        except TypeError:\n",
    "            if db is None:\n",
    "                msg = \"database not set; call '{}.set_db(my_db)'\"\n",
    "                raise MissingDatabaseError(msg.format(cls.__name__))\n",
    "            else:\n",
    "                raise\n",
    "    \n",
    "    def __repr__(self):\n",
    "        if hasattr(self, 'serial'):\n",
    "            cls_name = self.__class__.__name__\n",
    "            return '<{} serial={!r}>'.format(cls_name, self.serial)\n",
    "        else:\n",
    "            return super().__repr__()"
   ]
  },
  {
   "cell_type": "code",
   "execution_count": 9,
   "metadata": {},
   "outputs": [],
   "source": [
    "# Event类\n",
    "class Event(DbRecord):\n",
    "    \n",
    "    @property\n",
    "    def venue(self):\n",
    "        key = 'venue.{}'.format(self.venue_serial)\n",
    "        return self.__class__.fetch(key)\n",
    "    \n",
    "    @property\n",
    "    def speakers(self):\n",
    "        if not hasattr(self, '_speaker_objs'):\n",
    "            spkr_serials = self.__dict__['speakers']\n",
    "            fetch = self.__class__.fetch\n",
    "            self._speakers_objs = [fecth('speaker.{}'.format(key))\n",
    "                                        for key in spkr_serials]\n",
    "        return self._speakers_objs\n",
    "    \n",
    "    def __repr__(self):\n",
    "        if hasattr(self, 'name'):\n",
    "            cls_name = self.__class__.__name__\n",
    "            return '<{} {!r}>'.format(cls_name, self.name)\n",
    "        else:\n",
    "            return super().__repr__()"
   ]
  },
  {
   "cell_type": "code",
   "execution_count": 12,
   "metadata": {},
   "outputs": [],
   "source": [
    "def load_db(db):\n",
    "    raw_data = load()\n",
    "    warnings.warn('loading ' + DB_NAME)\n",
    "    for collection, rec_list in raw_data['Schedule'].items():\n",
    "        record_type = collection[:-1]\n",
    "        cls_name = record_type.capitalize()\n",
    "        cls = globals().get(cls_name, DbRecord)\n",
    "        if inspect.isclass(cls) and issubclass(cls, DbRecord):\n",
    "            factory = cls\n",
    "        else:\n",
    "            factory = DbRecord\n",
    "        for record in rec_list:\n",
    "            key = '{}.{}'.format(record_type, record['serial'])\n",
    "            record['serial'] = key\n",
    "            db[key] = factory(**record)"
   ]
  },
  {
   "cell_type": "markdown",
   "metadata": {},
   "source": [
    "##### 19.2 使用特性验证属性\n"
   ]
  },
  {
   "cell_type": "code",
   "execution_count": 3,
   "metadata": {},
   "outputs": [],
   "source": [
    "# 最简单的LineItem类\n",
    "class LineItem:\n",
    "    \n",
    "    def __init__(self, description, weight, price):\n",
    "        self.description = description\n",
    "        self.weight= weight\n",
    "        self.price = price\n",
    "    \n",
    "    def subtotal(self):\n",
    "        return self.weight * self.price"
   ]
  },
  {
   "cell_type": "code",
   "execution_count": 12,
   "metadata": {},
   "outputs": [
    {
     "name": "stdout",
     "output_type": "stream",
     "text": [
      "69.5\n"
     ]
    },
    {
     "ename": "ValueError",
     "evalue": "value must be > 0",
     "output_type": "error",
     "traceback": [
      "\u001b[1;31m---------------------------------------------------------------------------\u001b[0m",
      "\u001b[1;31mValueError\u001b[0m                                Traceback (most recent call last)",
      "\u001b[1;32m<ipython-input-12-75bb2d3230a6>\u001b[0m in \u001b[0;36m<module>\u001b[1;34m\u001b[0m\n\u001b[0;32m      1\u001b[0m \u001b[0mraisins\u001b[0m \u001b[1;33m=\u001b[0m \u001b[0mLineItem\u001b[0m\u001b[1;33m(\u001b[0m\u001b[1;34m'Golden raisins'\u001b[0m\u001b[1;33m,\u001b[0m \u001b[1;36m10\u001b[0m\u001b[1;33m,\u001b[0m \u001b[1;36m6.95\u001b[0m\u001b[1;33m)\u001b[0m\u001b[1;33m\u001b[0m\u001b[1;33m\u001b[0m\u001b[0m\n\u001b[0;32m      2\u001b[0m \u001b[0mprint\u001b[0m\u001b[1;33m(\u001b[0m\u001b[0mraisins\u001b[0m\u001b[1;33m.\u001b[0m\u001b[0msubtotal\u001b[0m\u001b[1;33m(\u001b[0m\u001b[1;33m)\u001b[0m\u001b[1;33m)\u001b[0m\u001b[1;33m\u001b[0m\u001b[1;33m\u001b[0m\u001b[0m\n\u001b[1;32m----> 3\u001b[1;33m \u001b[0mraisins\u001b[0m\u001b[1;33m.\u001b[0m\u001b[0mweight\u001b[0m \u001b[1;33m=\u001b[0m \u001b[1;33m-\u001b[0m\u001b[1;36m20\u001b[0m\u001b[1;33m\u001b[0m\u001b[1;33m\u001b[0m\u001b[0m\n\u001b[0m\u001b[0;32m      4\u001b[0m \u001b[0mprint\u001b[0m\u001b[1;33m(\u001b[0m\u001b[0mraisins\u001b[0m\u001b[1;33m.\u001b[0m\u001b[0msubtotal\u001b[0m\u001b[1;33m(\u001b[0m\u001b[1;33m)\u001b[0m\u001b[1;33m)\u001b[0m\u001b[1;33m\u001b[0m\u001b[1;33m\u001b[0m\u001b[0m\n",
      "\u001b[1;32m<ipython-input-11-c6f8b3d2bc2a>\u001b[0m in \u001b[0;36mweight\u001b[1;34m(self, value)\u001b[0m\n\u001b[0;32m     19\u001b[0m             \u001b[0mself\u001b[0m\u001b[1;33m.\u001b[0m\u001b[0m_weight\u001b[0m \u001b[1;33m=\u001b[0m \u001b[0mvalue\u001b[0m\u001b[1;33m\u001b[0m\u001b[1;33m\u001b[0m\u001b[0m\n\u001b[0;32m     20\u001b[0m         \u001b[1;32melse\u001b[0m\u001b[1;33m:\u001b[0m\u001b[1;33m\u001b[0m\u001b[1;33m\u001b[0m\u001b[0m\n\u001b[1;32m---> 21\u001b[1;33m             \u001b[1;32mraise\u001b[0m \u001b[0mValueError\u001b[0m\u001b[1;33m(\u001b[0m\u001b[1;34m'value must be > 0'\u001b[0m\u001b[1;33m)\u001b[0m\u001b[1;33m\u001b[0m\u001b[1;33m\u001b[0m\u001b[0m\n\u001b[0m",
      "\u001b[1;31mValueError\u001b[0m: value must be > 0"
     ]
    }
   ],
   "source": [
    "raisins = LineItem('Golden raisins', 10, 6.95)\n",
    "print(raisins.subtotal())\n",
    "raisins.weight = -20\n",
    "print(raisins.subtotal())"
   ]
  },
  {
   "cell_type": "code",
   "execution_count": 11,
   "metadata": {},
   "outputs": [],
   "source": [
    "# 定义了weight特性的LineItem类\n",
    "class LineItem:\n",
    "    \n",
    "    def __init__(self, description, weight, price):\n",
    "        self.description = description\n",
    "        self.weight = weight\n",
    "        self.price = price\n",
    "    \n",
    "    def subtotal(self):\n",
    "        return self.weight * self.price\n",
    "    \n",
    "    @property\n",
    "    def weight(self):\n",
    "        return self._weight\n",
    "    \n",
    "    @weight.setter\n",
    "    def weight(self, value):\n",
    "        if value > 0:\n",
    "            self._weight = value\n",
    "        else:\n",
    "            raise ValueError('value must be > 0')"
   ]
  },
  {
   "cell_type": "markdown",
   "metadata": {},
   "source": [
    "##### 19.3 特性全解析\n",
    "虽然内置的 property 经常用作装饰器，但它其实是一个类。在 Python\n",
    "中，函数和类通常可以互换，因为二者都是可调用的对象，而且没有实\n",
    "例化对象的 new 运算符，所以调用构造方法与调用工厂函数没有区别。\n",
    "此外，只要能返回新的可调用对象，代替被装饰的函数，二者都可以用\n",
    "作装饰器。"
   ]
  },
  {
   "cell_type": "code",
   "execution_count": 29,
   "metadata": {},
   "outputs": [],
   "source": [
    "# 实例属性覆盖类的数据属性\n",
    "class Class:\n",
    "    data = 'the class data attr'\n",
    "    @property\n",
    "    def prop(self):\n",
    "        return 'the prop value'"
   ]
  },
  {
   "cell_type": "code",
   "execution_count": 30,
   "metadata": {},
   "outputs": [
    {
     "name": "stdout",
     "output_type": "stream",
     "text": [
      "{} the class data attr\n",
      "{'data': 'bar'}\n",
      "bar the class data attr\n"
     ]
    }
   ],
   "source": [
    "obj = Class()\n",
    "print(vars(obj), obj.data)\n",
    "obj.data = 'bar'\n",
    "print(vars(obj))\n",
    "print(obj.data, Class.data)"
   ]
  },
  {
   "cell_type": "code",
   "execution_count": 31,
   "metadata": {},
   "outputs": [
    {
     "name": "stdout",
     "output_type": "stream",
     "text": [
      "<property object at 0x0000027472715F48>\n",
      "the prop value\n"
     ]
    },
    {
     "ename": "AttributeError",
     "evalue": "can't set attribute",
     "output_type": "error",
     "traceback": [
      "\u001b[1;31m---------------------------------------------------------------------------\u001b[0m",
      "\u001b[1;31mAttributeError\u001b[0m                            Traceback (most recent call last)",
      "\u001b[1;32m<ipython-input-31-7b9cd3d53266>\u001b[0m in \u001b[0;36m<module>\u001b[1;34m\u001b[0m\n\u001b[0;32m      2\u001b[0m \u001b[0mprint\u001b[0m\u001b[1;33m(\u001b[0m\u001b[0mClass\u001b[0m\u001b[1;33m.\u001b[0m\u001b[0mprop\u001b[0m\u001b[1;33m)\u001b[0m\u001b[1;33m\u001b[0m\u001b[1;33m\u001b[0m\u001b[0m\n\u001b[0;32m      3\u001b[0m \u001b[0mprint\u001b[0m\u001b[1;33m(\u001b[0m\u001b[0mobj\u001b[0m\u001b[1;33m.\u001b[0m\u001b[0mprop\u001b[0m\u001b[1;33m)\u001b[0m\u001b[1;33m\u001b[0m\u001b[1;33m\u001b[0m\u001b[0m\n\u001b[1;32m----> 4\u001b[1;33m \u001b[0mobj\u001b[0m\u001b[1;33m.\u001b[0m\u001b[0mprop\u001b[0m \u001b[1;33m=\u001b[0m \u001b[1;34m'foo'\u001b[0m\u001b[1;33m\u001b[0m\u001b[1;33m\u001b[0m\u001b[0m\n\u001b[0m",
      "\u001b[1;31mAttributeError\u001b[0m: can't set attribute"
     ]
    }
   ],
   "source": [
    "# 实例属性不会覆盖类特性\n",
    "print(Class.prop)\n",
    "print(obj.prop)\n",
    "obj.prop = 'foo'"
   ]
  },
  {
   "cell_type": "code",
   "execution_count": 32,
   "metadata": {},
   "outputs": [
    {
     "name": "stdout",
     "output_type": "stream",
     "text": [
      "{'data': 'bar', 'prop': 'foo'}\n",
      "the prop value\n",
      "foo\n"
     ]
    }
   ],
   "source": [
    "obj.__dict__['prop'] = 'foo'\n",
    "print(vars(obj))\n",
    "print(obj.prop)\n",
    "Class.prop = 'baz'\n",
    "print(obj.prop)"
   ]
  },
  {
   "cell_type": "code",
   "execution_count": 35,
   "metadata": {},
   "outputs": [
    {
     "name": "stdout",
     "output_type": "stream",
     "text": [
      "bar\n",
      "the class data attr\n",
      "the \"data\" prop value\n"
     ]
    }
   ],
   "source": [
    "# 新添加的类特性覆盖现有的实例属性\n",
    "print(obj.data)\n",
    "print(Class.data)\n",
    "Class.data = property(lambda self: 'the \"data\" prop value')\n",
    "print(obj.data)"
   ]
  },
  {
   "cell_type": "code",
   "execution_count": 36,
   "metadata": {},
   "outputs": [
    {
     "name": "stdout",
     "output_type": "stream",
     "text": [
      "bar\n"
     ]
    }
   ],
   "source": [
    "del Class.data\n",
    "print(obj.data)"
   ]
  },
  {
   "cell_type": "code",
   "execution_count": 37,
   "metadata": {},
   "outputs": [],
   "source": [
    "# 特性文档\n",
    "class Foo:\n",
    "    \n",
    "    @property\n",
    "    def bar(self):\n",
    "        '''The bar attribute'''\n",
    "        return self.__dict__['bar']\n",
    "    \n",
    "    @bar.setter\n",
    "    def bar(self, value):\n",
    "        self.__dict__['bar'] = value"
   ]
  },
  {
   "cell_type": "code",
   "execution_count": 39,
   "metadata": {},
   "outputs": [
    {
     "name": "stdout",
     "output_type": "stream",
     "text": [
      "Help on property:\n",
      "\n",
      "    The bar attribute\n",
      "\n",
      "None\n",
      "Help on class Foo in module __main__:\n",
      "\n",
      "class Foo(builtins.object)\n",
      " |  Data descriptors defined here:\n",
      " |  \n",
      " |  __dict__\n",
      " |      dictionary for instance variables (if defined)\n",
      " |  \n",
      " |  __weakref__\n",
      " |      list of weak references to the object (if defined)\n",
      " |  \n",
      " |  bar\n",
      " |      The bar attribute\n",
      "\n",
      "None\n"
     ]
    }
   ],
   "source": [
    "print(help(Foo.bar))\n",
    "print(help(Foo))"
   ]
  },
  {
   "cell_type": "markdown",
   "metadata": {},
   "source": [
    "##### 19.4 定义一个特性工厂函数"
   ]
  },
  {
   "cell_type": "code",
   "execution_count": 40,
   "metadata": {},
   "outputs": [],
   "source": [
    "def quantity(storage_name):\n",
    "    \n",
    "    def qty_getter(instance):\n",
    "        return instance.__dict__[storage_name]\n",
    "    \n",
    "    def qty_setter(instance, value):\n",
    "        if value > 0:\n",
    "            instance.__dict__[storage_name] = value\n",
    "        else:\n",
    "            raise ValueError('value must be > 0')\n",
    "    \n",
    "    return property(qty_getter, qty_setter)"
   ]
  },
  {
   "cell_type": "code",
   "execution_count": 41,
   "metadata": {},
   "outputs": [],
   "source": [
    "class LineItem:\n",
    "    weight = quantity('weight')\n",
    "    price = quantity('price')\n",
    "    \n",
    "    def __init__(self, description, weight, price):\n",
    "        self.description = description\n",
    "        self.weight = weight\n",
    "        self.price = price\n",
    "    \n",
    "    def subtotal(self):\n",
    "        return self.weigth * self.price"
   ]
  },
  {
   "cell_type": "code",
   "execution_count": 46,
   "metadata": {},
   "outputs": [
    {
     "name": "stdout",
     "output_type": "stream",
     "text": [
      "8 13.95\n",
      "[('description', 'Moluccan nutmeg'), ('price', 13.95), ('weight', 8)]\n"
     ]
    }
   ],
   "source": [
    "nutmeg = LineItem('Moluccan nutmeg', 8, 13.95)\n",
    "print(nutmeg.weight, nutmeg.price)\n",
    "print(sorted(vars(nutmeg).items()))"
   ]
  },
  {
   "cell_type": "markdown",
   "metadata": {},
   "source": [
    "##### 19.5 处理属性删除操作"
   ]
  },
  {
   "cell_type": "code",
   "execution_count": 47,
   "metadata": {},
   "outputs": [],
   "source": [
    "class BlackKnight:\n",
    "\n",
    "    def __init__(self):\n",
    "        self.members = ['an arm', 'another arm',\n",
    "                        'a leg', 'another leg']\n",
    "        self.phrases = [\"'Tis but a scratch.\",\n",
    "                        \"It's just a flesh wound.\",\n",
    "                        \"I'm invincible!\",\n",
    "                        \"All right, we'll call it a draw.\"]\n",
    "    \n",
    "    @property\n",
    "    def member(self):\n",
    "        print('next member is:')\n",
    "        return self.members[0]\n",
    "    \n",
    "    @member.deleter\n",
    "    def member(self):\n",
    "        text = 'BLACK KNIGHT (loses {})\\n-- {}'\n",
    "        print(text.format(self.members.pop(0), self.phrases.pop(0)))"
   ]
  },
  {
   "cell_type": "code",
   "execution_count": 49,
   "metadata": {},
   "outputs": [
    {
     "name": "stdout",
     "output_type": "stream",
     "text": [
      "next member is:\n",
      "an arm\n",
      "BLACK KNIGHT (loses an arm)\n",
      "-- 'Tis but a scratch.\n",
      "BLACK KNIGHT (loses another arm)\n",
      "-- It's just a flesh wound.\n",
      "BLACK KNIGHT (loses a leg)\n",
      "-- I'm invincible!\n",
      "BLACK KNIGHT (loses another leg)\n",
      "-- All right, we'll call it a draw.\n"
     ]
    }
   ],
   "source": [
    "knight = BlackKnight()\n",
    "print(knight.member)\n",
    "del knight.member\n",
    "del knight.member\n",
    "del knight.member\n",
    "del knight.member"
   ]
  },
  {
   "cell_type": "markdown",
   "metadata": {},
   "source": [
    "##### 19.6 处理属性的重要属性和函数"
   ]
  },
  {
   "cell_type": "code",
   "execution_count": 56,
   "metadata": {},
   "outputs": [
    {
     "data": {
      "text/plain": [
       "{'__name__': '__main__',\n",
       " '__doc__': 'Automatically created module for IPython interactive environment',\n",
       " '__package__': None,\n",
       " '__loader__': None,\n",
       " '__spec__': None,\n",
       " '__builtin__': <module 'builtins' (built-in)>,\n",
       " '__builtins__': <module 'builtins' (built-in)>,\n",
       " '_ih': ['',\n",
       "  '# 最简单的LineItem类\\nclass LineItem:\\n    \\n    def __init__(self, description, weight, price):\\n        self.description = description\\n        self.weight= weight\\n        self.price = price\\n    \\n    def subtotal(self):\\n        return self.weight * self.price',\n",
       "  \"raisins = LineIteme('Golden raisins', 10, 6.95)\\nprint(raisins.subtotal())\",\n",
       "  '# 最简单的LineItem类\\nclass LineItem:\\n    \\n    def __init__(self, description, weight, price):\\n        self.description = description\\n        self.weight= weight\\n        self.price = price\\n    \\n    def subtotal(self):\\n        return self.weight * self.price',\n",
       "  \"raisins = LineIteme('Golden raisins', 10, 6.95)\\nprint(raisins.subtotal())\",\n",
       "  \"raisins = LineItem('Golden raisins', 10, 6.95)\\nprint(raisins.subtotal())\",\n",
       "  \"raisins = LineItem('Golden raisins', 10, 6.95)\\nprint(raisins.subtotal())\\nraisins.weight = -20\\nprint(raisins.subtotal())\",\n",
       "  '# 定义了weight特性的LineItem类\\nclass LineItem:\\n    \\n    def __init__(self, description, weight, price):\\n        self.description = description\\n        self._weight = weight\\n        self.price = price\\n    \\n    def subtotal(self):\\n        return self.weight * self.price\\n    \\n    @property\\n    def weight(self):\\n        return self.weight\\n    \\n    @weight.setattr\\n    def weight(self, weight):\\n        self._weight = weight',\n",
       "  '# 定义了weight特性的LineItem类\\nclass LineItem:\\n    \\n    def __init__(self, description, weight, price):\\n        self.description = description\\n        self._weight = weight\\n        self.price = price\\n    \\n    def subtotal(self):\\n        return self.weight * self.price\\n    \\n    @property\\n    def weight(self):\\n        return self.weight\\n    \\n    @weight.set\\n    def weight(self, weight):\\n        self._weight = weight',\n",
       "  '# 定义了weight特性的LineItem类\\nclass LineItem:\\n    \\n    def __init__(self, description, weight, price):\\n        self.description = description\\n        self._weight = weight\\n        self.price = price\\n    \\n    def subtotal(self):\\n        return self.weight * self.price\\n    \\n    @property\\n    def weight(self):\\n        return self.weight\\n    \\n    @weight.setter\\n    def weight(self, weight):\\n        self._weight = weight',\n",
       "  \"# 定义了weight特性的LineItem类\\nclass LineItem:\\n    \\n    def __init__(self, description, weight, price):\\n        self.description = description\\n        self.weight = weight\\n        self.price = price\\n    \\n    def subtotal(self):\\n        return self.weight * self.price\\n    \\n    @property\\n    def weight(self):\\n        return self._weight\\n    \\n    @weight.setter\\n    def weight(self, value):\\n        if value > 0:\\n            self._weight = value\\n        else:\\n            raise ValueError('value must be > 0')\",\n",
       "  \"# 定义了weight特性的LineItem类\\nclass LineItem:\\n    \\n    def __init__(self, description, weight, price):\\n        self.description = description\\n        self.weight = weight\\n        self.price = price\\n    \\n    def subtotal(self):\\n        return self.weight * self.price\\n    \\n    @property\\n    def weight(self):\\n        return self._weight\\n    \\n    @weight.setter\\n    def weight(self, value):\\n        if value > 0:\\n            self._weight = value\\n        else:\\n            raise ValueError('value must be > 0')\",\n",
       "  \"raisins = LineItem('Golden raisins', 10, 6.95)\\nprint(raisins.subtotal())\\nraisins.weight = -20\\nprint(raisins.subtotal())\",\n",
       "  \"# 实例属性覆盖类的数据属性\\nclass Class:\\n    data = 'the class data attr'\\n    @property\\n    def prop(self):\\n        return 'the prop value'\",\n",
       "  'obj = Class()\\nprint(vars(obj))',\n",
       "  'obj = Class()\\nprint(vars(obj), obj.data)',\n",
       "  'obj = Class()\\nprint(vars(obj), obj.data)\\nprint(vars(obj))',\n",
       "  \"obj = Class()\\nprint(vars(obj), obj.data)\\nobj.data = 'bar'\\nprint(vars(obj))\",\n",
       "  \"obj = Class()\\nprint(vars(obj), obj.data)\\nobj.data = 'bar'\\nprint(vars(obj))\\nprint(obj.data, Class.data)\",\n",
       "  \"obj = Class()\\nprint(vars(obj), obj.data)\\nobj.data = 'bar'\\nprint(vars(obj))\\nprint(obj.data, Class.data)\\nprint(obj.__dict__)\",\n",
       "  \"obj = Class()\\nprint(vars(obj), obj.data)\\nobj.data = 'bar'\\nprint(vars(obj))\\nprint(obj.data, Class.data)\",\n",
       "  'print(Class.prop)',\n",
       "  'print(Class.prop)\\nprint(obj.prop)',\n",
       "  \"print(Class.prop)\\nprint(obj.prop)\\nobj.prop = 'foo'\",\n",
       "  \"obj.__dict__['prop'] = 'foo'\\nprint(vars(obj))\",\n",
       "  \"obj.__dict__['prop'] = 'foo'\\nprint(vars(obj))\\nprint(obj.prop)\",\n",
       "  \"obj.__dict__['prop'] = 'foo'\\nprint(vars(obj))\\nprint(obj.prop)\\nClass.prop = 'baz'\\nprint(obj.prop)\",\n",
       "  \"# 实例属性不会覆盖类特性\\nprint(Class.prop)\\nprint(obj.prop)\\nobj.prop = 'foo'\",\n",
       "  \"obj.__dict__['prop'] = 'foo'\\nprint(vars(obj))\\nprint(obj.prop)\\nClass.prop = 'baz'\\nprint(obj.prop)\",\n",
       "  \"# 实例属性覆盖类的数据属性\\nclass Class:\\n    data = 'the class data attr'\\n    @property\\n    def prop(self):\\n        return 'the prop value'\",\n",
       "  \"obj = Class()\\nprint(vars(obj), obj.data)\\nobj.data = 'bar'\\nprint(vars(obj))\\nprint(obj.data, Class.data)\",\n",
       "  \"# 实例属性不会覆盖类特性\\nprint(Class.prop)\\nprint(obj.prop)\\nobj.prop = 'foo'\",\n",
       "  \"obj.__dict__['prop'] = 'foo'\\nprint(vars(obj))\\nprint(obj.prop)\\nClass.prop = 'baz'\\nprint(obj.prop)\",\n",
       "  '# 新添加的类特性覆盖现有的实例属性\\nprint(obj.data)',\n",
       "  '# 新添加的类特性覆盖现有的实例属性\\nprint(obj.data)\\nprint(Class.data)',\n",
       "  '# 新添加的类特性覆盖现有的实例属性\\nprint(obj.data)\\nprint(Class.data)\\nClass.data = property(lambda self: \\'the \"data\" prop value\\')\\nprint(obj.data)',\n",
       "  'del Class.data\\nprint(obj.data)',\n",
       "  \"# 特性文档\\nclass Foo:\\n    \\n    @property\\n    def bar(self):\\n        '''The bar attribute'''\\n        return self.__dict__['bar']\\n    \\n    @bar.setter\\n    def bar(self, value):\\n        self.__dict__['bar'] = value\",\n",
       "  'print(help(Foo.bar))',\n",
       "  'print(help(Foo.bar))\\nprint(help(Foo))',\n",
       "  \"def quantity(storage_name):\\n    \\n    def qty_getter(instance):\\n        return instance.__dict__[storage_name]\\n    \\n    def qty_setter(instance, value):\\n        if value > 0:\\n            instance.__dict__[storage_name] = value\\n        else:\\n            raise ValueError('value must be > 0')\\n    \\n    return property(qty_getter, qty_setter)\",\n",
       "  \"class LineItem:\\n    weight = quantity('weight')\\n    price = quantity('price')\\n    \\n    def __init__(self, description, weight, price):\\n        self.description = description\\n        self.weight = weight\\n        self.price = price\\n    \\n    def subtotal(self):\\n        return self.weigth * self.price\",\n",
       "  \"nutmeg = LineItem('Moluccan nutmeg', 8, 13.95)\\nprint(nutmeg.weight, nutmeg.price)\",\n",
       "  \"nutmeg = LineItem('Moluccan nutmeg', 8, 13.95)\\nprint(nutmeg.weight, nutmeg.price)\\nprint(sorted(vars(nutmeg).items()))\",\n",
       "  \"nutmeg = LineItem('Moluccan nutmeg', 8, 13.95)\\nprint(nutmeg.weight, nutmeg.price)\\nprint(sorted(vars(nutmeg)))\",\n",
       "  \"nutmeg = LineItem('Moluccan nutmeg', 8, 13.95)\\nprint(nutmeg.weight, nutmeg.price)\\nprint(vars(nutmeg))\",\n",
       "  \"nutmeg = LineItem('Moluccan nutmeg', 8, 13.95)\\nprint(nutmeg.weight, nutmeg.price)\\nprint(sorted(vars(nutmeg).items()))\",\n",
       "  'class BlackKnight:\\n\\n    def __init__(self):\\n        self.members = [\\'an arm\\', \\'another arm\\',\\n                        \\'a leg\\', \\'another leg\\']\\n        self.phrases = [\"\\'Tis but a scratch.\",\\n                        \"It\\'s just a flesh wound.\",\\n                        \"I\\'m invincible!\",\\n                        \"All right, we\\'ll call it a draw.\"]\\n    \\n    @property\\n    def member(self):\\n        print(\\'next member is:\\')\\n        return self.members[0]\\n    \\n    @member.deleter\\n    def member(self):\\n        text = \\'BLACK KNIGHT (loses {})\\\\n-- {}\\'\\n        print(text.format(self.members.pop(0), self.phrases.pop(0)))',\n",
       "  'knight = BlackKnight()\\nprint(knight.member)',\n",
       "  'knight = BlackKnight()\\nprint(knight.member)\\ndel knight.member\\ndel knight.member\\ndel knight.member\\ndel knight.member',\n",
       "  'dir()',\n",
       "  'dir(BlackKnight)',\n",
       "  'vars(BlackKnight)',\n",
       "  'BlackKnight.__dict__',\n",
       "  'locals()',\n",
       "  'globals()',\n",
       "  'vars()'],\n",
       " '_oh': {50: ['BlackKnight',\n",
       "   'Class',\n",
       "   'Foo',\n",
       "   'In',\n",
       "   'LineItem',\n",
       "   'Out',\n",
       "   '_',\n",
       "   '__',\n",
       "   '___',\n",
       "   '__builtin__',\n",
       "   '__builtins__',\n",
       "   '__doc__',\n",
       "   '__loader__',\n",
       "   '__name__',\n",
       "   '__package__',\n",
       "   '__spec__',\n",
       "   '_dh',\n",
       "   '_i',\n",
       "   '_i1',\n",
       "   '_i10',\n",
       "   '_i11',\n",
       "   '_i12',\n",
       "   '_i13',\n",
       "   '_i14',\n",
       "   '_i15',\n",
       "   '_i16',\n",
       "   '_i17',\n",
       "   '_i18',\n",
       "   '_i19',\n",
       "   '_i2',\n",
       "   '_i20',\n",
       "   '_i21',\n",
       "   '_i22',\n",
       "   '_i23',\n",
       "   '_i24',\n",
       "   '_i25',\n",
       "   '_i26',\n",
       "   '_i27',\n",
       "   '_i28',\n",
       "   '_i29',\n",
       "   '_i3',\n",
       "   '_i30',\n",
       "   '_i31',\n",
       "   '_i32',\n",
       "   '_i33',\n",
       "   '_i34',\n",
       "   '_i35',\n",
       "   '_i36',\n",
       "   '_i37',\n",
       "   '_i38',\n",
       "   '_i39',\n",
       "   '_i4',\n",
       "   '_i40',\n",
       "   '_i41',\n",
       "   '_i42',\n",
       "   '_i43',\n",
       "   '_i44',\n",
       "   '_i45',\n",
       "   '_i46',\n",
       "   '_i47',\n",
       "   '_i48',\n",
       "   '_i49',\n",
       "   '_i5',\n",
       "   '_i50',\n",
       "   '_i6',\n",
       "   '_i7',\n",
       "   '_i8',\n",
       "   '_i9',\n",
       "   '_ih',\n",
       "   '_ii',\n",
       "   '_iii',\n",
       "   '_oh',\n",
       "   'autopep8',\n",
       "   'exit',\n",
       "   'get_ipython',\n",
       "   'json',\n",
       "   'knight',\n",
       "   'nutmeg',\n",
       "   'obj',\n",
       "   'quantity',\n",
       "   'quit',\n",
       "   'raisins'],\n",
       "  51: ['__class__',\n",
       "   '__delattr__',\n",
       "   '__dict__',\n",
       "   '__dir__',\n",
       "   '__doc__',\n",
       "   '__eq__',\n",
       "   '__format__',\n",
       "   '__ge__',\n",
       "   '__getattribute__',\n",
       "   '__gt__',\n",
       "   '__hash__',\n",
       "   '__init__',\n",
       "   '__init_subclass__',\n",
       "   '__le__',\n",
       "   '__lt__',\n",
       "   '__module__',\n",
       "   '__ne__',\n",
       "   '__new__',\n",
       "   '__reduce__',\n",
       "   '__reduce_ex__',\n",
       "   '__repr__',\n",
       "   '__setattr__',\n",
       "   '__sizeof__',\n",
       "   '__str__',\n",
       "   '__subclasshook__',\n",
       "   '__weakref__',\n",
       "   'member'],\n",
       "  52: mappingproxy({'__module__': '__main__',\n",
       "                '__init__': <function __main__.BlackKnight.__init__(self)>,\n",
       "                'member': <property at 0x27473dfe8b8>,\n",
       "                '__dict__': <attribute '__dict__' of 'BlackKnight' objects>,\n",
       "                '__weakref__': <attribute '__weakref__' of 'BlackKnight' objects>,\n",
       "                '__doc__': None}),\n",
       "  53: mappingproxy({'__module__': '__main__',\n",
       "                '__init__': <function __main__.BlackKnight.__init__(self)>,\n",
       "                'member': <property at 0x27473dfe8b8>,\n",
       "                '__dict__': <attribute '__dict__' of 'BlackKnight' objects>,\n",
       "                '__weakref__': <attribute '__weakref__' of 'BlackKnight' objects>,\n",
       "                '__doc__': None}),\n",
       "  54: {...},\n",
       "  55: {...}},\n",
       " '_dh': ['F:\\\\GitRepository\\\\Learning\\\\jupyter\\\\流畅的python'],\n",
       " 'In': ['',\n",
       "  '# 最简单的LineItem类\\nclass LineItem:\\n    \\n    def __init__(self, description, weight, price):\\n        self.description = description\\n        self.weight= weight\\n        self.price = price\\n    \\n    def subtotal(self):\\n        return self.weight * self.price',\n",
       "  \"raisins = LineIteme('Golden raisins', 10, 6.95)\\nprint(raisins.subtotal())\",\n",
       "  '# 最简单的LineItem类\\nclass LineItem:\\n    \\n    def __init__(self, description, weight, price):\\n        self.description = description\\n        self.weight= weight\\n        self.price = price\\n    \\n    def subtotal(self):\\n        return self.weight * self.price',\n",
       "  \"raisins = LineIteme('Golden raisins', 10, 6.95)\\nprint(raisins.subtotal())\",\n",
       "  \"raisins = LineItem('Golden raisins', 10, 6.95)\\nprint(raisins.subtotal())\",\n",
       "  \"raisins = LineItem('Golden raisins', 10, 6.95)\\nprint(raisins.subtotal())\\nraisins.weight = -20\\nprint(raisins.subtotal())\",\n",
       "  '# 定义了weight特性的LineItem类\\nclass LineItem:\\n    \\n    def __init__(self, description, weight, price):\\n        self.description = description\\n        self._weight = weight\\n        self.price = price\\n    \\n    def subtotal(self):\\n        return self.weight * self.price\\n    \\n    @property\\n    def weight(self):\\n        return self.weight\\n    \\n    @weight.setattr\\n    def weight(self, weight):\\n        self._weight = weight',\n",
       "  '# 定义了weight特性的LineItem类\\nclass LineItem:\\n    \\n    def __init__(self, description, weight, price):\\n        self.description = description\\n        self._weight = weight\\n        self.price = price\\n    \\n    def subtotal(self):\\n        return self.weight * self.price\\n    \\n    @property\\n    def weight(self):\\n        return self.weight\\n    \\n    @weight.set\\n    def weight(self, weight):\\n        self._weight = weight',\n",
       "  '# 定义了weight特性的LineItem类\\nclass LineItem:\\n    \\n    def __init__(self, description, weight, price):\\n        self.description = description\\n        self._weight = weight\\n        self.price = price\\n    \\n    def subtotal(self):\\n        return self.weight * self.price\\n    \\n    @property\\n    def weight(self):\\n        return self.weight\\n    \\n    @weight.setter\\n    def weight(self, weight):\\n        self._weight = weight',\n",
       "  \"# 定义了weight特性的LineItem类\\nclass LineItem:\\n    \\n    def __init__(self, description, weight, price):\\n        self.description = description\\n        self.weight = weight\\n        self.price = price\\n    \\n    def subtotal(self):\\n        return self.weight * self.price\\n    \\n    @property\\n    def weight(self):\\n        return self._weight\\n    \\n    @weight.setter\\n    def weight(self, value):\\n        if value > 0:\\n            self._weight = value\\n        else:\\n            raise ValueError('value must be > 0')\",\n",
       "  \"# 定义了weight特性的LineItem类\\nclass LineItem:\\n    \\n    def __init__(self, description, weight, price):\\n        self.description = description\\n        self.weight = weight\\n        self.price = price\\n    \\n    def subtotal(self):\\n        return self.weight * self.price\\n    \\n    @property\\n    def weight(self):\\n        return self._weight\\n    \\n    @weight.setter\\n    def weight(self, value):\\n        if value > 0:\\n            self._weight = value\\n        else:\\n            raise ValueError('value must be > 0')\",\n",
       "  \"raisins = LineItem('Golden raisins', 10, 6.95)\\nprint(raisins.subtotal())\\nraisins.weight = -20\\nprint(raisins.subtotal())\",\n",
       "  \"# 实例属性覆盖类的数据属性\\nclass Class:\\n    data = 'the class data attr'\\n    @property\\n    def prop(self):\\n        return 'the prop value'\",\n",
       "  'obj = Class()\\nprint(vars(obj))',\n",
       "  'obj = Class()\\nprint(vars(obj), obj.data)',\n",
       "  'obj = Class()\\nprint(vars(obj), obj.data)\\nprint(vars(obj))',\n",
       "  \"obj = Class()\\nprint(vars(obj), obj.data)\\nobj.data = 'bar'\\nprint(vars(obj))\",\n",
       "  \"obj = Class()\\nprint(vars(obj), obj.data)\\nobj.data = 'bar'\\nprint(vars(obj))\\nprint(obj.data, Class.data)\",\n",
       "  \"obj = Class()\\nprint(vars(obj), obj.data)\\nobj.data = 'bar'\\nprint(vars(obj))\\nprint(obj.data, Class.data)\\nprint(obj.__dict__)\",\n",
       "  \"obj = Class()\\nprint(vars(obj), obj.data)\\nobj.data = 'bar'\\nprint(vars(obj))\\nprint(obj.data, Class.data)\",\n",
       "  'print(Class.prop)',\n",
       "  'print(Class.prop)\\nprint(obj.prop)',\n",
       "  \"print(Class.prop)\\nprint(obj.prop)\\nobj.prop = 'foo'\",\n",
       "  \"obj.__dict__['prop'] = 'foo'\\nprint(vars(obj))\",\n",
       "  \"obj.__dict__['prop'] = 'foo'\\nprint(vars(obj))\\nprint(obj.prop)\",\n",
       "  \"obj.__dict__['prop'] = 'foo'\\nprint(vars(obj))\\nprint(obj.prop)\\nClass.prop = 'baz'\\nprint(obj.prop)\",\n",
       "  \"# 实例属性不会覆盖类特性\\nprint(Class.prop)\\nprint(obj.prop)\\nobj.prop = 'foo'\",\n",
       "  \"obj.__dict__['prop'] = 'foo'\\nprint(vars(obj))\\nprint(obj.prop)\\nClass.prop = 'baz'\\nprint(obj.prop)\",\n",
       "  \"# 实例属性覆盖类的数据属性\\nclass Class:\\n    data = 'the class data attr'\\n    @property\\n    def prop(self):\\n        return 'the prop value'\",\n",
       "  \"obj = Class()\\nprint(vars(obj), obj.data)\\nobj.data = 'bar'\\nprint(vars(obj))\\nprint(obj.data, Class.data)\",\n",
       "  \"# 实例属性不会覆盖类特性\\nprint(Class.prop)\\nprint(obj.prop)\\nobj.prop = 'foo'\",\n",
       "  \"obj.__dict__['prop'] = 'foo'\\nprint(vars(obj))\\nprint(obj.prop)\\nClass.prop = 'baz'\\nprint(obj.prop)\",\n",
       "  '# 新添加的类特性覆盖现有的实例属性\\nprint(obj.data)',\n",
       "  '# 新添加的类特性覆盖现有的实例属性\\nprint(obj.data)\\nprint(Class.data)',\n",
       "  '# 新添加的类特性覆盖现有的实例属性\\nprint(obj.data)\\nprint(Class.data)\\nClass.data = property(lambda self: \\'the \"data\" prop value\\')\\nprint(obj.data)',\n",
       "  'del Class.data\\nprint(obj.data)',\n",
       "  \"# 特性文档\\nclass Foo:\\n    \\n    @property\\n    def bar(self):\\n        '''The bar attribute'''\\n        return self.__dict__['bar']\\n    \\n    @bar.setter\\n    def bar(self, value):\\n        self.__dict__['bar'] = value\",\n",
       "  'print(help(Foo.bar))',\n",
       "  'print(help(Foo.bar))\\nprint(help(Foo))',\n",
       "  \"def quantity(storage_name):\\n    \\n    def qty_getter(instance):\\n        return instance.__dict__[storage_name]\\n    \\n    def qty_setter(instance, value):\\n        if value > 0:\\n            instance.__dict__[storage_name] = value\\n        else:\\n            raise ValueError('value must be > 0')\\n    \\n    return property(qty_getter, qty_setter)\",\n",
       "  \"class LineItem:\\n    weight = quantity('weight')\\n    price = quantity('price')\\n    \\n    def __init__(self, description, weight, price):\\n        self.description = description\\n        self.weight = weight\\n        self.price = price\\n    \\n    def subtotal(self):\\n        return self.weigth * self.price\",\n",
       "  \"nutmeg = LineItem('Moluccan nutmeg', 8, 13.95)\\nprint(nutmeg.weight, nutmeg.price)\",\n",
       "  \"nutmeg = LineItem('Moluccan nutmeg', 8, 13.95)\\nprint(nutmeg.weight, nutmeg.price)\\nprint(sorted(vars(nutmeg).items()))\",\n",
       "  \"nutmeg = LineItem('Moluccan nutmeg', 8, 13.95)\\nprint(nutmeg.weight, nutmeg.price)\\nprint(sorted(vars(nutmeg)))\",\n",
       "  \"nutmeg = LineItem('Moluccan nutmeg', 8, 13.95)\\nprint(nutmeg.weight, nutmeg.price)\\nprint(vars(nutmeg))\",\n",
       "  \"nutmeg = LineItem('Moluccan nutmeg', 8, 13.95)\\nprint(nutmeg.weight, nutmeg.price)\\nprint(sorted(vars(nutmeg).items()))\",\n",
       "  'class BlackKnight:\\n\\n    def __init__(self):\\n        self.members = [\\'an arm\\', \\'another arm\\',\\n                        \\'a leg\\', \\'another leg\\']\\n        self.phrases = [\"\\'Tis but a scratch.\",\\n                        \"It\\'s just a flesh wound.\",\\n                        \"I\\'m invincible!\",\\n                        \"All right, we\\'ll call it a draw.\"]\\n    \\n    @property\\n    def member(self):\\n        print(\\'next member is:\\')\\n        return self.members[0]\\n    \\n    @member.deleter\\n    def member(self):\\n        text = \\'BLACK KNIGHT (loses {})\\\\n-- {}\\'\\n        print(text.format(self.members.pop(0), self.phrases.pop(0)))',\n",
       "  'knight = BlackKnight()\\nprint(knight.member)',\n",
       "  'knight = BlackKnight()\\nprint(knight.member)\\ndel knight.member\\ndel knight.member\\ndel knight.member\\ndel knight.member',\n",
       "  'dir()',\n",
       "  'dir(BlackKnight)',\n",
       "  'vars(BlackKnight)',\n",
       "  'BlackKnight.__dict__',\n",
       "  'locals()',\n",
       "  'globals()',\n",
       "  'vars()'],\n",
       " 'Out': {50: ['BlackKnight',\n",
       "   'Class',\n",
       "   'Foo',\n",
       "   'In',\n",
       "   'LineItem',\n",
       "   'Out',\n",
       "   '_',\n",
       "   '__',\n",
       "   '___',\n",
       "   '__builtin__',\n",
       "   '__builtins__',\n",
       "   '__doc__',\n",
       "   '__loader__',\n",
       "   '__name__',\n",
       "   '__package__',\n",
       "   '__spec__',\n",
       "   '_dh',\n",
       "   '_i',\n",
       "   '_i1',\n",
       "   '_i10',\n",
       "   '_i11',\n",
       "   '_i12',\n",
       "   '_i13',\n",
       "   '_i14',\n",
       "   '_i15',\n",
       "   '_i16',\n",
       "   '_i17',\n",
       "   '_i18',\n",
       "   '_i19',\n",
       "   '_i2',\n",
       "   '_i20',\n",
       "   '_i21',\n",
       "   '_i22',\n",
       "   '_i23',\n",
       "   '_i24',\n",
       "   '_i25',\n",
       "   '_i26',\n",
       "   '_i27',\n",
       "   '_i28',\n",
       "   '_i29',\n",
       "   '_i3',\n",
       "   '_i30',\n",
       "   '_i31',\n",
       "   '_i32',\n",
       "   '_i33',\n",
       "   '_i34',\n",
       "   '_i35',\n",
       "   '_i36',\n",
       "   '_i37',\n",
       "   '_i38',\n",
       "   '_i39',\n",
       "   '_i4',\n",
       "   '_i40',\n",
       "   '_i41',\n",
       "   '_i42',\n",
       "   '_i43',\n",
       "   '_i44',\n",
       "   '_i45',\n",
       "   '_i46',\n",
       "   '_i47',\n",
       "   '_i48',\n",
       "   '_i49',\n",
       "   '_i5',\n",
       "   '_i50',\n",
       "   '_i6',\n",
       "   '_i7',\n",
       "   '_i8',\n",
       "   '_i9',\n",
       "   '_ih',\n",
       "   '_ii',\n",
       "   '_iii',\n",
       "   '_oh',\n",
       "   'autopep8',\n",
       "   'exit',\n",
       "   'get_ipython',\n",
       "   'json',\n",
       "   'knight',\n",
       "   'nutmeg',\n",
       "   'obj',\n",
       "   'quantity',\n",
       "   'quit',\n",
       "   'raisins'],\n",
       "  51: ['__class__',\n",
       "   '__delattr__',\n",
       "   '__dict__',\n",
       "   '__dir__',\n",
       "   '__doc__',\n",
       "   '__eq__',\n",
       "   '__format__',\n",
       "   '__ge__',\n",
       "   '__getattribute__',\n",
       "   '__gt__',\n",
       "   '__hash__',\n",
       "   '__init__',\n",
       "   '__init_subclass__',\n",
       "   '__le__',\n",
       "   '__lt__',\n",
       "   '__module__',\n",
       "   '__ne__',\n",
       "   '__new__',\n",
       "   '__reduce__',\n",
       "   '__reduce_ex__',\n",
       "   '__repr__',\n",
       "   '__setattr__',\n",
       "   '__sizeof__',\n",
       "   '__str__',\n",
       "   '__subclasshook__',\n",
       "   '__weakref__',\n",
       "   'member'],\n",
       "  52: mappingproxy({'__module__': '__main__',\n",
       "                '__init__': <function __main__.BlackKnight.__init__(self)>,\n",
       "                'member': <property at 0x27473dfe8b8>,\n",
       "                '__dict__': <attribute '__dict__' of 'BlackKnight' objects>,\n",
       "                '__weakref__': <attribute '__weakref__' of 'BlackKnight' objects>,\n",
       "                '__doc__': None}),\n",
       "  53: mappingproxy({'__module__': '__main__',\n",
       "                '__init__': <function __main__.BlackKnight.__init__(self)>,\n",
       "                'member': <property at 0x27473dfe8b8>,\n",
       "                '__dict__': <attribute '__dict__' of 'BlackKnight' objects>,\n",
       "                '__weakref__': <attribute '__weakref__' of 'BlackKnight' objects>,\n",
       "                '__doc__': None}),\n",
       "  54: {...},\n",
       "  55: {...}},\n",
       " 'get_ipython': <bound method InteractiveShell.get_ipython of <ipykernel.zmqshell.ZMQInteractiveShell object at 0x000002747152DFD0>>,\n",
       " 'exit': <IPython.core.autocall.ZMQExitAutocall at 0x274715ad320>,\n",
       " 'quit': <IPython.core.autocall.ZMQExitAutocall at 0x274715ad320>,\n",
       " '_': {...},\n",
       " '__': {...},\n",
       " '___': mappingproxy({'__module__': '__main__',\n",
       "               '__init__': <function __main__.BlackKnight.__init__(self)>,\n",
       "               'member': <property at 0x27473dfe8b8>,\n",
       "               '__dict__': <attribute '__dict__' of 'BlackKnight' objects>,\n",
       "               '__weakref__': <attribute '__weakref__' of 'BlackKnight' objects>,\n",
       "               '__doc__': None}),\n",
       " 'json': <module 'json' from 'D:\\\\anaconda3\\\\lib\\\\json\\\\__init__.py'>,\n",
       " 'autopep8': <module 'autopep8' from 'D:\\\\anaconda3\\\\lib\\\\site-packages\\\\autopep8.py'>,\n",
       " '_i': 'globals()',\n",
       " '_ii': 'locals()',\n",
       " '_iii': 'BlackKnight.__dict__',\n",
       " '_i1': '# 最简单的LineItem类\\nclass LineItem:\\n    \\n    def __init__(self, description, weight, price):\\n        self.description = description\\n        self.weight= weight\\n        self.price = price\\n    \\n    def subtotal(self):\\n        return self.weight * self.price',\n",
       " 'LineItem': __main__.LineItem,\n",
       " '_i2': \"raisins = LineIteme('Golden raisins', 10, 6.95)\\nprint(raisins.subtotal())\",\n",
       " '_i3': '# 最简单的LineItem类\\nclass LineItem:\\n    \\n    def __init__(self, description, weight, price):\\n        self.description = description\\n        self.weight= weight\\n        self.price = price\\n    \\n    def subtotal(self):\\n        return self.weight * self.price',\n",
       " '_i4': \"raisins = LineIteme('Golden raisins', 10, 6.95)\\nprint(raisins.subtotal())\",\n",
       " '_i5': \"raisins = LineItem('Golden raisins', 10, 6.95)\\nprint(raisins.subtotal())\",\n",
       " 'raisins': <__main__.LineItem at 0x27472711550>,\n",
       " '_i6': \"raisins = LineItem('Golden raisins', 10, 6.95)\\nprint(raisins.subtotal())\\nraisins.weight = -20\\nprint(raisins.subtotal())\",\n",
       " '_i7': '# 定义了weight特性的LineItem类\\nclass LineItem:\\n    \\n    def __init__(self, description, weight, price):\\n        self.description = description\\n        self._weight = weight\\n        self.price = price\\n    \\n    def subtotal(self):\\n        return self.weight * self.price\\n    \\n    @property\\n    def weight(self):\\n        return self.weight\\n    \\n    @weight.setattr\\n    def weight(self, weight):\\n        self._weight = weight',\n",
       " '_i8': '# 定义了weight特性的LineItem类\\nclass LineItem:\\n    \\n    def __init__(self, description, weight, price):\\n        self.description = description\\n        self._weight = weight\\n        self.price = price\\n    \\n    def subtotal(self):\\n        return self.weight * self.price\\n    \\n    @property\\n    def weight(self):\\n        return self.weight\\n    \\n    @weight.set\\n    def weight(self, weight):\\n        self._weight = weight',\n",
       " '_i9': '# 定义了weight特性的LineItem类\\nclass LineItem:\\n    \\n    def __init__(self, description, weight, price):\\n        self.description = description\\n        self._weight = weight\\n        self.price = price\\n    \\n    def subtotal(self):\\n        return self.weight * self.price\\n    \\n    @property\\n    def weight(self):\\n        return self.weight\\n    \\n    @weight.setter\\n    def weight(self, weight):\\n        self._weight = weight',\n",
       " '_i10': \"# 定义了weight特性的LineItem类\\nclass LineItem:\\n    \\n    def __init__(self, description, weight, price):\\n        self.description = description\\n        self.weight = weight\\n        self.price = price\\n    \\n    def subtotal(self):\\n        return self.weight * self.price\\n    \\n    @property\\n    def weight(self):\\n        return self._weight\\n    \\n    @weight.setter\\n    def weight(self, value):\\n        if value > 0:\\n            self._weight = value\\n        else:\\n            raise ValueError('value must be > 0')\",\n",
       " '_i11': \"# 定义了weight特性的LineItem类\\nclass LineItem:\\n    \\n    def __init__(self, description, weight, price):\\n        self.description = description\\n        self.weight = weight\\n        self.price = price\\n    \\n    def subtotal(self):\\n        return self.weight * self.price\\n    \\n    @property\\n    def weight(self):\\n        return self._weight\\n    \\n    @weight.setter\\n    def weight(self, value):\\n        if value > 0:\\n            self._weight = value\\n        else:\\n            raise ValueError('value must be > 0')\",\n",
       " '_i12': \"raisins = LineItem('Golden raisins', 10, 6.95)\\nprint(raisins.subtotal())\\nraisins.weight = -20\\nprint(raisins.subtotal())\",\n",
       " '_i13': \"# 实例属性覆盖类的数据属性\\nclass Class:\\n    data = 'the class data attr'\\n    @property\\n    def prop(self):\\n        return 'the prop value'\",\n",
       " 'Class': __main__.Class,\n",
       " '_i14': 'obj = Class()\\nprint(vars(obj))',\n",
       " 'obj': <__main__.Class at 0x274726253c8>,\n",
       " '_i15': 'obj = Class()\\nprint(vars(obj), obj.data)',\n",
       " '_i16': 'obj = Class()\\nprint(vars(obj), obj.data)\\nprint(vars(obj))',\n",
       " '_i17': \"obj = Class()\\nprint(vars(obj), obj.data)\\nobj.data = 'bar'\\nprint(vars(obj))\",\n",
       " '_i18': \"obj = Class()\\nprint(vars(obj), obj.data)\\nobj.data = 'bar'\\nprint(vars(obj))\\nprint(obj.data, Class.data)\",\n",
       " '_i19': \"obj = Class()\\nprint(vars(obj), obj.data)\\nobj.data = 'bar'\\nprint(vars(obj))\\nprint(obj.data, Class.data)\\nprint(obj.__dict__)\",\n",
       " '_i20': \"obj = Class()\\nprint(vars(obj), obj.data)\\nobj.data = 'bar'\\nprint(vars(obj))\\nprint(obj.data, Class.data)\",\n",
       " '_i21': 'print(Class.prop)',\n",
       " '_i22': 'print(Class.prop)\\nprint(obj.prop)',\n",
       " '_i23': \"print(Class.prop)\\nprint(obj.prop)\\nobj.prop = 'foo'\",\n",
       " '_i24': \"obj.__dict__['prop'] = 'foo'\\nprint(vars(obj))\",\n",
       " '_i25': \"obj.__dict__['prop'] = 'foo'\\nprint(vars(obj))\\nprint(obj.prop)\",\n",
       " '_i26': \"obj.__dict__['prop'] = 'foo'\\nprint(vars(obj))\\nprint(obj.prop)\\nClass.prop = 'baz'\\nprint(obj.prop)\",\n",
       " '_i27': \"# 实例属性不会覆盖类特性\\nprint(Class.prop)\\nprint(obj.prop)\\nobj.prop = 'foo'\",\n",
       " '_i28': \"obj.__dict__['prop'] = 'foo'\\nprint(vars(obj))\\nprint(obj.prop)\\nClass.prop = 'baz'\\nprint(obj.prop)\",\n",
       " '_i29': \"# 实例属性覆盖类的数据属性\\nclass Class:\\n    data = 'the class data attr'\\n    @property\\n    def prop(self):\\n        return 'the prop value'\",\n",
       " '_i30': \"obj = Class()\\nprint(vars(obj), obj.data)\\nobj.data = 'bar'\\nprint(vars(obj))\\nprint(obj.data, Class.data)\",\n",
       " '_i31': \"# 实例属性不会覆盖类特性\\nprint(Class.prop)\\nprint(obj.prop)\\nobj.prop = 'foo'\",\n",
       " '_i32': \"obj.__dict__['prop'] = 'foo'\\nprint(vars(obj))\\nprint(obj.prop)\\nClass.prop = 'baz'\\nprint(obj.prop)\",\n",
       " '_i33': '# 新添加的类特性覆盖现有的实例属性\\nprint(obj.data)',\n",
       " '_i34': '# 新添加的类特性覆盖现有的实例属性\\nprint(obj.data)\\nprint(Class.data)',\n",
       " '_i35': '# 新添加的类特性覆盖现有的实例属性\\nprint(obj.data)\\nprint(Class.data)\\nClass.data = property(lambda self: \\'the \"data\" prop value\\')\\nprint(obj.data)',\n",
       " '_i36': 'del Class.data\\nprint(obj.data)',\n",
       " '_i37': \"# 特性文档\\nclass Foo:\\n    \\n    @property\\n    def bar(self):\\n        '''The bar attribute'''\\n        return self.__dict__['bar']\\n    \\n    @bar.setter\\n    def bar(self, value):\\n        self.__dict__['bar'] = value\",\n",
       " 'Foo': __main__.Foo,\n",
       " '_i38': 'print(help(Foo.bar))',\n",
       " '_i39': 'print(help(Foo.bar))\\nprint(help(Foo))',\n",
       " '_i40': \"def quantity(storage_name):\\n    \\n    def qty_getter(instance):\\n        return instance.__dict__[storage_name]\\n    \\n    def qty_setter(instance, value):\\n        if value > 0:\\n            instance.__dict__[storage_name] = value\\n        else:\\n            raise ValueError('value must be > 0')\\n    \\n    return property(qty_getter, qty_setter)\",\n",
       " 'quantity': <function __main__.quantity(storage_name)>,\n",
       " '_i41': \"class LineItem:\\n    weight = quantity('weight')\\n    price = quantity('price')\\n    \\n    def __init__(self, description, weight, price):\\n        self.description = description\\n        self.weight = weight\\n        self.price = price\\n    \\n    def subtotal(self):\\n        return self.weigth * self.price\",\n",
       " '_i42': \"nutmeg = LineItem('Moluccan nutmeg', 8, 13.95)\\nprint(nutmeg.weight, nutmeg.price)\",\n",
       " 'nutmeg': <__main__.LineItem at 0x274727bc8d0>,\n",
       " '_i43': \"nutmeg = LineItem('Moluccan nutmeg', 8, 13.95)\\nprint(nutmeg.weight, nutmeg.price)\\nprint(sorted(vars(nutmeg).items()))\",\n",
       " '_i44': \"nutmeg = LineItem('Moluccan nutmeg', 8, 13.95)\\nprint(nutmeg.weight, nutmeg.price)\\nprint(sorted(vars(nutmeg)))\",\n",
       " '_i45': \"nutmeg = LineItem('Moluccan nutmeg', 8, 13.95)\\nprint(nutmeg.weight, nutmeg.price)\\nprint(vars(nutmeg))\",\n",
       " '_i46': \"nutmeg = LineItem('Moluccan nutmeg', 8, 13.95)\\nprint(nutmeg.weight, nutmeg.price)\\nprint(sorted(vars(nutmeg).items()))\",\n",
       " '_i47': 'class BlackKnight:\\n\\n    def __init__(self):\\n        self.members = [\\'an arm\\', \\'another arm\\',\\n                        \\'a leg\\', \\'another leg\\']\\n        self.phrases = [\"\\'Tis but a scratch.\",\\n                        \"It\\'s just a flesh wound.\",\\n                        \"I\\'m invincible!\",\\n                        \"All right, we\\'ll call it a draw.\"]\\n    \\n    @property\\n    def member(self):\\n        print(\\'next member is:\\')\\n        return self.members[0]\\n    \\n    @member.deleter\\n    def member(self):\\n        text = \\'BLACK KNIGHT (loses {})\\\\n-- {}\\'\\n        print(text.format(self.members.pop(0), self.phrases.pop(0)))',\n",
       " 'BlackKnight': __main__.BlackKnight,\n",
       " '_i48': 'knight = BlackKnight()\\nprint(knight.member)',\n",
       " 'knight': <__main__.BlackKnight at 0x27473e0fac8>,\n",
       " '_i49': 'knight = BlackKnight()\\nprint(knight.member)\\ndel knight.member\\ndel knight.member\\ndel knight.member\\ndel knight.member',\n",
       " '_i50': 'dir()',\n",
       " '_50': ['BlackKnight',\n",
       "  'Class',\n",
       "  'Foo',\n",
       "  'In',\n",
       "  'LineItem',\n",
       "  'Out',\n",
       "  '_',\n",
       "  '__',\n",
       "  '___',\n",
       "  '__builtin__',\n",
       "  '__builtins__',\n",
       "  '__doc__',\n",
       "  '__loader__',\n",
       "  '__name__',\n",
       "  '__package__',\n",
       "  '__spec__',\n",
       "  '_dh',\n",
       "  '_i',\n",
       "  '_i1',\n",
       "  '_i10',\n",
       "  '_i11',\n",
       "  '_i12',\n",
       "  '_i13',\n",
       "  '_i14',\n",
       "  '_i15',\n",
       "  '_i16',\n",
       "  '_i17',\n",
       "  '_i18',\n",
       "  '_i19',\n",
       "  '_i2',\n",
       "  '_i20',\n",
       "  '_i21',\n",
       "  '_i22',\n",
       "  '_i23',\n",
       "  '_i24',\n",
       "  '_i25',\n",
       "  '_i26',\n",
       "  '_i27',\n",
       "  '_i28',\n",
       "  '_i29',\n",
       "  '_i3',\n",
       "  '_i30',\n",
       "  '_i31',\n",
       "  '_i32',\n",
       "  '_i33',\n",
       "  '_i34',\n",
       "  '_i35',\n",
       "  '_i36',\n",
       "  '_i37',\n",
       "  '_i38',\n",
       "  '_i39',\n",
       "  '_i4',\n",
       "  '_i40',\n",
       "  '_i41',\n",
       "  '_i42',\n",
       "  '_i43',\n",
       "  '_i44',\n",
       "  '_i45',\n",
       "  '_i46',\n",
       "  '_i47',\n",
       "  '_i48',\n",
       "  '_i49',\n",
       "  '_i5',\n",
       "  '_i50',\n",
       "  '_i6',\n",
       "  '_i7',\n",
       "  '_i8',\n",
       "  '_i9',\n",
       "  '_ih',\n",
       "  '_ii',\n",
       "  '_iii',\n",
       "  '_oh',\n",
       "  'autopep8',\n",
       "  'exit',\n",
       "  'get_ipython',\n",
       "  'json',\n",
       "  'knight',\n",
       "  'nutmeg',\n",
       "  'obj',\n",
       "  'quantity',\n",
       "  'quit',\n",
       "  'raisins'],\n",
       " '_i51': 'dir(BlackKnight)',\n",
       " '_51': ['__class__',\n",
       "  '__delattr__',\n",
       "  '__dict__',\n",
       "  '__dir__',\n",
       "  '__doc__',\n",
       "  '__eq__',\n",
       "  '__format__',\n",
       "  '__ge__',\n",
       "  '__getattribute__',\n",
       "  '__gt__',\n",
       "  '__hash__',\n",
       "  '__init__',\n",
       "  '__init_subclass__',\n",
       "  '__le__',\n",
       "  '__lt__',\n",
       "  '__module__',\n",
       "  '__ne__',\n",
       "  '__new__',\n",
       "  '__reduce__',\n",
       "  '__reduce_ex__',\n",
       "  '__repr__',\n",
       "  '__setattr__',\n",
       "  '__sizeof__',\n",
       "  '__str__',\n",
       "  '__subclasshook__',\n",
       "  '__weakref__',\n",
       "  'member'],\n",
       " '_i52': 'vars(BlackKnight)',\n",
       " '_52': mappingproxy({'__module__': '__main__',\n",
       "               '__init__': <function __main__.BlackKnight.__init__(self)>,\n",
       "               'member': <property at 0x27473dfe8b8>,\n",
       "               '__dict__': <attribute '__dict__' of 'BlackKnight' objects>,\n",
       "               '__weakref__': <attribute '__weakref__' of 'BlackKnight' objects>,\n",
       "               '__doc__': None}),\n",
       " '_i53': 'BlackKnight.__dict__',\n",
       " '_53': mappingproxy({'__module__': '__main__',\n",
       "               '__init__': <function __main__.BlackKnight.__init__(self)>,\n",
       "               'member': <property at 0x27473dfe8b8>,\n",
       "               '__dict__': <attribute '__dict__' of 'BlackKnight' objects>,\n",
       "               '__weakref__': <attribute '__weakref__' of 'BlackKnight' objects>,\n",
       "               '__doc__': None}),\n",
       " '_i54': 'locals()',\n",
       " '_54': {...},\n",
       " '_i55': 'globals()',\n",
       " '_55': {...},\n",
       " '_i56': 'vars()'}"
      ]
     },
     "execution_count": 56,
     "metadata": {},
     "output_type": "execute_result"
    }
   ],
   "source": [
    "vars()"
   ]
  },
  {
   "cell_type": "markdown",
   "metadata": {},
   "source": [
    "#### 第二十章 属性描述符\n",
    "- 描述符是实现了特定协议的类，这个协议包括 \\_\\_get\\_\\_、\\_\\_set\\_\\_ 和\\_\\_delete\\_\\_ 方法。property 类实现了完整的描述符协议。通常，可以只实现部分协议。其实，我们在真实的代码中见到的大多数描述符只实现了 \\_\\_get\\_\\_ 和 \\_\\_set\\_\\_ 方法，还有很多只实现了其中的一个。"
   ]
  },
  {
   "cell_type": "markdown",
   "metadata": {},
   "source": [
    "#####  20.1 描述符示例：验证属性"
   ]
  },
  {
   "cell_type": "code",
   "execution_count": 6,
   "metadata": {},
   "outputs": [],
   "source": [
    "# 使用Quantity描述符管理LineItem的属性\n",
    "class Quantity:\n",
    "    \n",
    "    def __init__(self, storage_name):\n",
    "        self.storage_name = storage_name\n",
    "    \n",
    "    def __set__(self, instance, value):\n",
    "        if value > 0:\n",
    "            instance.__dict__[self.storage_name] = value\n",
    "        else:\n",
    "            raise ValueError('value must be > 0')"
   ]
  },
  {
   "cell_type": "code",
   "execution_count": 6,
   "metadata": {},
   "outputs": [],
   "source": [
    "# 自动获取存储属性的名称\n",
    "class Quantity:\n",
    "    __counter = 0\n",
    "\n",
    "    def __init__(self):\n",
    "        cls = self.__class__\n",
    "        prefix = cls.__name__\n",
    "        index = cls.__counter\n",
    "        self.storage_name = '_{}#{}'.format(prefix, index)\n",
    "        cls.__counter += 1\n",
    "\n",
    "    def __get__(self, instance, owner):\n",
    "        if instance is None:\n",
    "            return self\n",
    "        else:\n",
    "            return getattr(instance, self.storage_name)\n",
    "\n",
    "    def __set__(self, instance, value):\n",
    "        if value > 0:\n",
    "            setattr(instance, self.storage_name, value)\n",
    "        else:\n",
    "            raise ValueError('value must be > 0')"
   ]
  },
  {
   "cell_type": "code",
   "execution_count": 7,
   "metadata": {},
   "outputs": [],
   "source": [
    "class LineItem:\n",
    "    #     weight = Quantity('weight')\n",
    "    #     price = Quantity('price')\n",
    "    weight = Quantity()\n",
    "    price = Quantity()\n",
    "\n",
    "    def __init__(self, description, weight, price):\n",
    "        self.description = description\n",
    "        self.weight = weight\n",
    "        self.price = price\n",
    "\n",
    "    def subtotal(self):\n",
    "        return self.weight * self.price"
   ]
  },
  {
   "cell_type": "code",
   "execution_count": 8,
   "metadata": {},
   "outputs": [
    {
     "ename": "ValueError",
     "evalue": "value must be > 0",
     "output_type": "error",
     "traceback": [
      "\u001b[1;31m---------------------------------------------------------------------------\u001b[0m",
      "\u001b[1;31mValueError\u001b[0m                                Traceback (most recent call last)",
      "\u001b[1;32m<ipython-input-8-374bbc05eae3>\u001b[0m in \u001b[0;36m<module>\u001b[1;34m\u001b[0m\n\u001b[1;32m----> 1\u001b[1;33m \u001b[0mtruffle\u001b[0m \u001b[1;33m=\u001b[0m \u001b[0mLineItem\u001b[0m\u001b[1;33m(\u001b[0m\u001b[1;34m'White truffle'\u001b[0m\u001b[1;33m,\u001b[0m \u001b[1;36m100\u001b[0m\u001b[1;33m,\u001b[0m \u001b[1;36m0\u001b[0m\u001b[1;33m)\u001b[0m\u001b[1;33m\u001b[0m\u001b[1;33m\u001b[0m\u001b[0m\n\u001b[0m",
      "\u001b[1;32m<ipython-input-7-e68c9a3a4ceb>\u001b[0m in \u001b[0;36m__init__\u001b[1;34m(self, description, weight, price)\u001b[0m\n\u001b[0;32m      8\u001b[0m         \u001b[0mself\u001b[0m\u001b[1;33m.\u001b[0m\u001b[0mdescription\u001b[0m \u001b[1;33m=\u001b[0m \u001b[0mdescription\u001b[0m\u001b[1;33m\u001b[0m\u001b[1;33m\u001b[0m\u001b[0m\n\u001b[0;32m      9\u001b[0m         \u001b[0mself\u001b[0m\u001b[1;33m.\u001b[0m\u001b[0mweight\u001b[0m \u001b[1;33m=\u001b[0m \u001b[0mweight\u001b[0m\u001b[1;33m\u001b[0m\u001b[1;33m\u001b[0m\u001b[0m\n\u001b[1;32m---> 10\u001b[1;33m         \u001b[0mself\u001b[0m\u001b[1;33m.\u001b[0m\u001b[0mprice\u001b[0m \u001b[1;33m=\u001b[0m \u001b[0mprice\u001b[0m\u001b[1;33m\u001b[0m\u001b[1;33m\u001b[0m\u001b[0m\n\u001b[0m\u001b[0;32m     11\u001b[0m \u001b[1;33m\u001b[0m\u001b[0m\n\u001b[0;32m     12\u001b[0m     \u001b[1;32mdef\u001b[0m \u001b[0msubtotal\u001b[0m\u001b[1;33m(\u001b[0m\u001b[0mself\u001b[0m\u001b[1;33m)\u001b[0m\u001b[1;33m:\u001b[0m\u001b[1;33m\u001b[0m\u001b[1;33m\u001b[0m\u001b[0m\n",
      "\u001b[1;32m<ipython-input-6-1754b57372e3>\u001b[0m in \u001b[0;36m__set__\u001b[1;34m(self, instance, value)\u001b[0m\n\u001b[0;32m     20\u001b[0m             \u001b[0msetattr\u001b[0m\u001b[1;33m(\u001b[0m\u001b[0minstance\u001b[0m\u001b[1;33m,\u001b[0m \u001b[0mself\u001b[0m\u001b[1;33m.\u001b[0m\u001b[0mstorage_name\u001b[0m\u001b[1;33m,\u001b[0m \u001b[0mvalue\u001b[0m\u001b[1;33m)\u001b[0m\u001b[1;33m\u001b[0m\u001b[1;33m\u001b[0m\u001b[0m\n\u001b[0;32m     21\u001b[0m         \u001b[1;32melse\u001b[0m\u001b[1;33m:\u001b[0m\u001b[1;33m\u001b[0m\u001b[1;33m\u001b[0m\u001b[0m\n\u001b[1;32m---> 22\u001b[1;33m             \u001b[1;32mraise\u001b[0m \u001b[0mValueError\u001b[0m\u001b[1;33m(\u001b[0m\u001b[1;34m'value must be > 0'\u001b[0m\u001b[1;33m)\u001b[0m\u001b[1;33m\u001b[0m\u001b[1;33m\u001b[0m\u001b[0m\n\u001b[0m",
      "\u001b[1;31mValueError\u001b[0m: value must be > 0"
     ]
    }
   ],
   "source": [
    "truffle = LineItem('White truffle', 100, 0)"
   ]
  },
  {
   "cell_type": "code",
   "execution_count": 8,
   "metadata": {},
   "outputs": [],
   "source": [
    "# 重构后的描述符类\n",
    "import abc\n",
    "\n",
    "class AutoStorage:\n",
    "    __counter = 0\n",
    "    \n",
    "    def __init__(self):\n",
    "        cls = self.__class__\n",
    "        prefix = cls.__name__\n",
    "        index = cls.__counter\n",
    "        self.storage_name = '_{}#{}'.format(prefix, index)\n",
    "        cls.__counter += 1\n",
    "    \n",
    "    def __get__(self, instance, owner):\n",
    "        if instance is None:\n",
    "            return self\n",
    "        else:\n",
    "            return getattr(instance, self.storage_name)\n",
    "    \n",
    "    def __set__(self, instance, value):\n",
    "        setattr(instance, self.storage_name, value)"
   ]
  },
  {
   "cell_type": "code",
   "execution_count": 9,
   "metadata": {},
   "outputs": [],
   "source": [
    "class Validated(abc.ABC, AutoStorage):\n",
    "    \n",
    "    def __set__(self, instance, value):\n",
    "        value = self.validate(instance, value)\n",
    "        super().__set__(instance, value)\n",
    "    \n",
    "    @abc.abstractmethod\n",
    "    def validate(self, instance, value):\n",
    "        '''return validated value or raise ValueError'''"
   ]
  },
  {
   "cell_type": "code",
   "execution_count": 10,
   "metadata": {},
   "outputs": [],
   "source": [
    "class Quantity(Validated):\n",
    "    '''a number greater then zero'''\n",
    "    \n",
    "    def validate(self, instance, value):\n",
    "        if value <= 0:\n",
    "            raise ValueError('value must be > 0')\n",
    "        return value"
   ]
  },
  {
   "cell_type": "code",
   "execution_count": 11,
   "metadata": {},
   "outputs": [],
   "source": [
    "class NonBlank(Validated):\n",
    "    '''a string with at least one non-space character'''\n",
    "    \n",
    "    def validate(self, instance, value):\n",
    "        value = value.strip()\n",
    "        if len(value) == 0:\n",
    "            raise ValueError('value cannot be empty or blank')\n",
    "        return value"
   ]
  },
  {
   "cell_type": "code",
   "execution_count": 13,
   "metadata": {},
   "outputs": [],
   "source": [
    "class LineItem:\n",
    "    description = NonBlank()\n",
    "    weight = Quantity()\n",
    "    price = Quantity()\n",
    "    \n",
    "    def __init__(self, description, weight, price):\n",
    "        self.description = description\n",
    "        self.weight = weight\n",
    "        self.price = price\n",
    "    \n",
    "    def subtotal(self):\n",
    "        return self.weight * self.price"
   ]
  },
  {
   "cell_type": "code",
   "execution_count": 19,
   "metadata": {},
   "outputs": [
    {
     "name": "stdout",
     "output_type": "stream",
     "text": [
      "['_NonBlank#0', '_Quantity#0', '_Quantity#1', '__class__', '__delattr__', '__dict__', '__dir__', '__doc__', '__eq__', '__format__', '__ge__', '__getattribute__', '__gt__', '__hash__', '__init__', '__init_subclass__', '__le__', '__lt__', '__module__', '__ne__', '__new__', '__reduce__', '__reduce_ex__', '__repr__', '__setattr__', '__sizeof__', '__str__', '__subclasshook__', '__weakref__', 'description', 'price', 'subtotal', 'weight']\n",
      "['_NonBlank#0', '_Quantity#0', '_Quantity#1', '__class__', '__delattr__', '__dict__', '__dir__', '__doc__', '__eq__', '__format__', '__ge__', '__getattribute__', '__gt__', '__hash__', '__init__', '__init_subclass__', '__le__', '__lt__', '__module__', '__ne__', '__new__', '__reduce__', '__reduce_ex__', '__repr__', '__setattr__', '__sizeof__', '__str__', '__subclasshook__', '__weakref__', 'description', 'price', 'subtotal', 'weight']\n"
     ]
    }
   ],
   "source": [
    "truffle1 = LineItem('White truffle', 100, 1)\n",
    "truffle2 = LineItem('White truffle', 100, 1)\n",
    "print(dir(truffle1))\n",
    "print(dir(truffle2))"
   ]
  },
  {
   "cell_type": "markdown",
   "metadata": {},
   "source": [
    "##### 20.2 覆盖型与非覆盖型描述符对比"
   ]
  },
  {
   "cell_type": "code",
   "execution_count": 2,
   "metadata": {},
   "outputs": [],
   "source": [
    "# 几个简单的类， 用于研究描述符的覆盖行为\n",
    "# 辅助函数， 仅用于显示\n",
    "\n",
    "def cls_name(obj_or_cls):\n",
    "    cls = type(obj_or_cls)\n",
    "    if cls is type:\n",
    "        cls = obj_or_cls\n",
    "    return cls.__name__.split('.')[-1]\n",
    "\n",
    "def display(obj):\n",
    "    cls = type(obj)\n",
    "    if cls is type:\n",
    "        return '<class {}>'.format(obj.__name__)\n",
    "    elif cls in [type(None), int]:\n",
    "        return repr(obj)\n",
    "    else:\n",
    "        return '<{} object>'.format(cls_name(obj))\n",
    "\n",
    "def print_args(name, *args):\n",
    "    pseudo_arg = ', '.join(display(x) for x in args)\n",
    "    print('-> {}.__{}__({})'.format(cls_name(args[0]), name, pseudo_arg))"
   ]
  },
  {
   "cell_type": "code",
   "execution_count": 3,
   "metadata": {},
   "outputs": [],
   "source": [
    "class Overriding:\n",
    "    '''也称数据描述符或强制描述符'''\n",
    "    \n",
    "    def __get__(self, instance, owner):\n",
    "        print_args('get', self, instance, owner)\n",
    "    \n",
    "    def __set__(self, instance, value):\n",
    "        print_args('set', self, instance, value)\n",
    "\n",
    "class OverridingNoGet:\n",
    "    '''没有__get__方法的覆盖型描述符'''\n",
    "    \n",
    "    def __set__(self, instance, value):\n",
    "        print_args('set', self, instance, value)\n",
    "\n",
    "class NonOverriding:\n",
    "    '''也称非数据描述符或覆盖型描述符'''\n",
    "    \n",
    "    def __get__(self, instance, owner):\n",
    "        print_args('get', self, instance, owner)\n",
    "\n",
    "class Managed:\n",
    "    over = Overriding()\n",
    "    over_no_get = OverridingNoGet()\n",
    "    non_over = NonOverriding()\n",
    "    \n",
    "    def spam(self):\n",
    "        print('-> Managed.spam({})'.format(display(self)))"
   ]
  },
  {
   "cell_type": "code",
   "execution_count": 4,
   "metadata": {},
   "outputs": [
    {
     "name": "stdout",
     "output_type": "stream",
     "text": [
      "-> Overriding.__get__(<Overriding object>, <Managed object>, <class Managed>)\n",
      "-> Overriding.__get__(<Overriding object>, None, <class Managed>)\n",
      "-> Overriding.__set__(<Overriding object>, <Managed object>, 7)\n",
      "-> Overriding.__get__(<Overriding object>, <Managed object>, <class Managed>)\n",
      "{'over': 8}\n",
      "-> Overriding.__get__(<Overriding object>, <Managed object>, <class Managed>)\n"
     ]
    }
   ],
   "source": [
    "# 覆盖型描述符的行为\n",
    "obj = Managed()\n",
    "obj.over\n",
    "Managed.over\n",
    "obj.over = 7\n",
    "obj.over\n",
    "obj.__dict__['over'] = 8\n",
    "print(vars(obj))\n",
    "obj.over"
   ]
  },
  {
   "cell_type": "code",
   "execution_count": 5,
   "metadata": {},
   "outputs": [
    {
     "name": "stdout",
     "output_type": "stream",
     "text": [
      "<__main__.OverridingNoGet object at 0x000001F23765EE10>\n",
      "<__main__.OverridingNoGet object at 0x000001F23765EE10>\n",
      "-> OverridingNoGet.__set__(<OverridingNoGet object>, <Managed object>, 7)\n",
      "<__main__.OverridingNoGet object at 0x000001F23765EE10>\n",
      "9\n",
      "-> OverridingNoGet.__set__(<OverridingNoGet object>, <Managed object>, 7)\n",
      "9\n"
     ]
    }
   ],
   "source": [
    "# 没有__get__方法的覆盖型描述符\n",
    "print(obj.over_no_get)\n",
    "print(Managed.over_no_get)\n",
    "obj.over_no_get = 7\n",
    "print(obj.over_no_get)\n",
    "obj.__dict__['over_no_get'] = 9\n",
    "print(obj.over_no_get)\n",
    "obj.over_no_get = 7\n",
    "print(obj.over_no_get)"
   ]
  },
  {
   "cell_type": "code",
   "execution_count": 6,
   "metadata": {},
   "outputs": [
    {
     "name": "stdout",
     "output_type": "stream",
     "text": [
      "-> NonOverriding.__get__(<NonOverriding object>, <Managed object>, <class Managed>)\n",
      "None\n",
      "7\n",
      "-> NonOverriding.__get__(<NonOverriding object>, None, <class Managed>)\n",
      "-> NonOverriding.__get__(<NonOverriding object>, <Managed object>, <class Managed>)\n",
      "None\n"
     ]
    }
   ],
   "source": [
    "# 非覆盖型描述符\n",
    "obj = Managed()\n",
    "print(obj.non_over)\n",
    "obj.non_over = 7\n",
    "print(obj.non_over)\n",
    "Managed.non_over\n",
    "del obj.non_over\n",
    "print(obj.non_over)"
   ]
  },
  {
   "cell_type": "markdown",
   "metadata": {},
   "source": [
    "#####  20.3 方法是描述符\n",
    "- 在类中定义的函数属于绑定方法（bound method），因为用户定义的函数都有 __get__ 方法，所以依附到类上时，就相当于描述符。"
   ]
  },
  {
   "cell_type": "code",
   "execution_count": 12,
   "metadata": {},
   "outputs": [
    {
     "name": "stdout",
     "output_type": "stream",
     "text": [
      "<bound method Managed.spam of <__main__.Managed object at 0x000001F239595BE0>>\n",
      "<function Managed.spam at 0x000001F2376F1620>\n",
      "7\n"
     ]
    }
   ],
   "source": [
    "obj = Managed()\n",
    "print(obj.spam)\n",
    "print(Managed.spam)\n",
    "obj.spam = 7\n",
    "print(obj.spam)"
   ]
  },
  {
   "cell_type": "code",
   "execution_count": 13,
   "metadata": {},
   "outputs": [],
   "source": [
    "# Text类型， 继承自UserString类\n",
    "import collections\n",
    "\n",
    "class Text(collections.UserString):\n",
    "    \n",
    "    def __repr__(self):\n",
    "        return 'Text({!r})'.format(self.data)\n",
    "    \n",
    "    def reverse(self):\n",
    "        return self[::-1]"
   ]
  },
  {
   "cell_type": "code",
   "execution_count": 28,
   "metadata": {},
   "outputs": [
    {
     "name": "stdout",
     "output_type": "stream",
     "text": [
      "Text('forward')\n",
      "Text('drawrof')\n",
      "Text('drawkcab')\n",
      "<class 'function'> <class 'method'>\n",
      "['diaper', (30, 20, 10), Text('desserts')]\n",
      "<bound method Text.reverse of Text('forward')>\n",
      "<function Text.reverse at 0x000001F239AA8378>\n",
      "<bound method Text.reverse of Text('forward')>\n",
      "Text('forward')\n",
      "True\n"
     ]
    }
   ],
   "source": [
    "word = Text('forward')\n",
    "print(repr(word))\n",
    "print(repr(word.reverse()))\n",
    "print(repr(Text.reverse(Text('backward'))))\n",
    "print(type(Text.reverse), type(word.reverse))\n",
    "print(list(map(Text.reverse, ['repaid', (10, 20, 30), Text('stressed')])))\n",
    "print(Text.reverse.__get__(word))\n",
    "print(Text.reverse.__get__(None, Text))\n",
    "print(word.reverse)\n",
    "print(repr(word.reverse.__self__))\n",
    "print(word.reverse.__func__ is Text.reverse)"
   ]
  },
  {
   "cell_type": "markdown",
   "metadata": {},
   "source": [
    "#### 第二十一章 类元编程\n",
    "- 类元编程是指在运行时创建或定制类的技艺。在 Python 中，类是一等对象，因此任何时候都可以使用函数新建类，而无需使用 class 关键字。类装饰器也是函数，不过能够审查、修改，甚至把被装饰的类替换成其他类。最后，元类是类元编程最高级的工具：使用元类可以创建具有某种特质的全新类种，例如我们见过的抽象基类。\n",
    "- 除非开发框架，否则不要编写元类——然而，为了寻找乐趣，或者练习相关的概念，可以这么做。\n",
    "\n",
    "##### 21.1 类工厂函数"
   ]
  },
  {
   "cell_type": "code",
   "execution_count": 3,
   "metadata": {},
   "outputs": [],
   "source": [
    "# 一个简单的类工厂函数\n",
    "def record_factory(cls_name, field_names):\n",
    "    try:\n",
    "        field_names = field_names.replace(',', ' ').split()\n",
    "    except AttributeError: # 不能调用.replace或.split方法\n",
    "        pass  # 假定field_names本身就是标志符组成的序列\n",
    "    field_names = tuple(field_names)\n",
    "    \n",
    "    def __init__(self, *args, **kwargs):\n",
    "        attrs = dict(zip(self.__slots__, args))\n",
    "        attrs.update(kwargs)\n",
    "        for name, value in attrs.items():\n",
    "            setattr(self, name, value)\n",
    "    \n",
    "    def __iter__(self):\n",
    "        for name in self.__slots__:\n",
    "            yield getattr(self, name)\n",
    "    \n",
    "    def __repr__(self):\n",
    "        values = ', '.join('{}={!r}'.format(*i) for i\n",
    "                          in zip(self.__slots__, self))\n",
    "        return '{}({})'.format(self.__class__.__name__, values)\n",
    "    \n",
    "    cls_attrs = dict(__slots__ = field_names,\n",
    "                    __init__ = __init__,\n",
    "                    __iter__ = __iter__,\n",
    "                    __repr__ = __repr__)\n",
    "    \n",
    "    return type(cls_name, (object,), cls_attrs)"
   ]
  },
  {
   "cell_type": "code",
   "execution_count": 7,
   "metadata": {},
   "outputs": [
    {
     "name": "stdout",
     "output_type": "stream",
     "text": [
      "Dog(name='Rex', weight=30, owner='Bob')\n",
      "(<class '__main__.Dog'>, <class 'object'>)\n"
     ]
    }
   ],
   "source": [
    "Dog = record_factory('Dog', 'name weight owner')\n",
    "rex = Dog('Rex', 30, 'Bob')\n",
    "print(rex)\n",
    "print(Dog.__mro__)"
   ]
  },
  {
   "cell_type": "markdown",
   "metadata": {},
   "source": [
    "##### 定制描述符的类装饰器"
   ]
  },
  {
   "cell_type": "code",
   "execution_count": 12,
   "metadata": {},
   "outputs": [],
   "source": [
    "# 一个类装饰器\n",
    "def entity(cls):\n",
    "    for key, attr in cls.__dict__.items():\n",
    "        if isinstance(attr, Validated):\n",
    "            type_name = type(attr).__name__\n",
    "            attr.storage_name = '_{}#{}'.format(type_name, key)\n",
    "    return cls"
   ]
  },
  {
   "cell_type": "code",
   "execution_count": 13,
   "metadata": {},
   "outputs": [],
   "source": [
    "@entity\n",
    "class LineItem:\n",
    "    description = NonBlank()\n",
    "    weight = Quantity()\n",
    "    price = Quantity()\n",
    "    \n",
    "    def __init__(self, description, weight, price):\n",
    "        self.description = description\n",
    "        self.weight = weight\n",
    "        self.price = price\n",
    "    \n",
    "    def subtotal(self):\n",
    "        return self.weight * self.price"
   ]
  },
  {
   "cell_type": "code",
   "execution_count": 15,
   "metadata": {},
   "outputs": [
    {
     "name": "stdout",
     "output_type": "stream",
     "text": [
      "_NonBlank#description\n"
     ]
    }
   ],
   "source": [
    "print(LineItem.description.storage_name)"
   ]
  },
  {
   "cell_type": "markdown",
   "metadata": {},
   "source": [
    "##### 21.3 导入时和运行时比较"
   ]
  },
  {
   "cell_type": "code",
   "execution_count": 24,
   "metadata": {},
   "outputs": [],
   "source": [
    "import evaltime"
   ]
  },
  {
   "cell_type": "markdown",
   "metadata": {},
   "source": [
    "##### 21.4 元类基础知识\n",
    "- 根据 Python 对象模型，类是对象，因此类肯定是另外某个类的实例。默认情况下，Python 中的类是 type 类的实例。也就是说，type 是大多数内置的类和用户定义的类的元类"
   ]
  },
  {
   "cell_type": "code",
   "execution_count": 17,
   "metadata": {},
   "outputs": [
    {
     "name": "stdout",
     "output_type": "stream",
     "text": [
      "<class 'type'> <class 'type'>\n"
     ]
    }
   ],
   "source": [
    "print(type(LineItem), type.__class__)"
   ]
  },
  {
   "cell_type": "code",
   "execution_count": 21,
   "metadata": {},
   "outputs": [
    {
     "name": "stdout",
     "output_type": "stream",
     "text": [
      "<class 'abc.ABCMeta'>\n",
      "<class 'type'>\n",
      "(<class 'abc.ABCMeta'>, <class 'type'>, <class 'object'>)\n"
     ]
    }
   ],
   "source": [
    "import collections\n",
    "print(collections.abc.Iterable.__class__)\n",
    "import abc\n",
    "print(abc.ABCMeta.__class__)\n",
    "print(abc.ABCMeta.__mro__)"
   ]
  },
  {
   "cell_type": "markdown",
   "metadata": {},
   "source": [
    "#####  21.5 定制描述符的元类"
   ]
  },
  {
   "cell_type": "code",
   "execution_count": 30,
   "metadata": {},
   "outputs": [],
   "source": [
    "# EntityMeta元类以及它的一个实例\n",
    "import collections\n",
    "\n",
    "class EntityMeta(type):\n",
    "    '''元类，用于创建带有验证字段的业务实体'''\n",
    "    \n",
    "    @classmethod\n",
    "    def __prepare__(cls, name, bases):\n",
    "        return collections.OrderedDict()\n",
    "    \n",
    "    def __init__(cls, name, bases, attr_dict):\n",
    "        super().__init__(name, bases, attr_dict)\n",
    "        cls._field_names = []\n",
    "        for key, attr in attr_dict.items():\n",
    "            if isinstance(attr, Validated):\n",
    "                type_name = type(attr).__name__\n",
    "                attr.storage_name = '_{}#{}'.format(type_name, key)\n",
    "                cls._field_names.append(key)"
   ]
  },
  {
   "cell_type": "code",
   "execution_count": 34,
   "metadata": {},
   "outputs": [],
   "source": [
    "class Entity(metaclass=EntityMeta):\n",
    "    '''带有验证字段的业务实体'''\n",
    "    \n",
    "    @classmethod\n",
    "    def field_names(cls):\n",
    "        for name in cls._field_names:\n",
    "            yield name"
   ]
  },
  {
   "cell_type": "code",
   "execution_count": 32,
   "metadata": {},
   "outputs": [],
   "source": [
    "class LineItem(Entity):\n",
    "    description = NonBlank()\n",
    "    weight = Quantity()\n",
    "    price = Quantity()\n",
    "    \n",
    "    def __init__(self, description, weight, price):\n",
    "        self.description = description\n",
    "        self.weight = weigth\n",
    "        self.price = price\n",
    "    \n",
    "    def subtotal(self):\n",
    "        return self.weight * self.price"
   ]
  },
  {
   "cell_type": "code",
   "execution_count": 33,
   "metadata": {},
   "outputs": [
    {
     "name": "stdout",
     "output_type": "stream",
     "text": [
      "_NonBlank#description\n"
     ]
    }
   ],
   "source": [
    "print(LineItem.description.storage_name)"
   ]
  },
  {
   "cell_type": "markdown",
   "metadata": {},
   "source": [
    "##### 21.6 元类的特殊方法 \\_\\_prepare\\_\\_"
   ]
  },
  {
   "cell_type": "code",
   "execution_count": 35,
   "metadata": {},
   "outputs": [
    {
     "name": "stdout",
     "output_type": "stream",
     "text": [
      "description\n",
      "weight\n",
      "price\n"
     ]
    }
   ],
   "source": [
    "for name in LineItem.field_names():\n",
    "    print(name)"
   ]
  },
  {
   "cell_type": "code",
   "execution_count": 36,
   "metadata": {},
   "outputs": [
    {
     "name": "stdout",
     "output_type": "stream",
     "text": [
      "[<class '__main__.LineItem'>, <class '__main__.Entity'>, <class 'object'>]\n"
     ]
    }
   ],
   "source": [
    "print(LineItem.mro())"
   ]
  }
 ],
 "metadata": {
  "kernelspec": {
   "display_name": "Python 3",
   "language": "python",
   "name": "python3"
  },
  "language_info": {
   "codemirror_mode": {
    "name": "ipython",
    "version": 3
   },
   "file_extension": ".py",
   "mimetype": "text/x-python",
   "name": "python",
   "nbconvert_exporter": "python",
   "pygments_lexer": "ipython3",
   "version": "3.7.3"
  }
 },
 "nbformat": 4,
 "nbformat_minor": 2
}
