{
 "cells": [
  {
   "cell_type": "markdown",
   "metadata": {},
   "source": [
    "#### 第十二章 继承的优缺点\n",
    "##### 12.1 子类化内置类型很麻烦\n",
    "- 内置类型的方法不会调用子类覆盖的方法。\n",
    "- 直接子类化内置类型（如 dict、list 或 str）容易出错，因为内置类型的方法通常会忽略用户覆盖的方法。不要子类化内置类型，用户自己定义的类应该继承 collections 模块（http://docs.python.org/3/library/collections.html）中的类，例如: UserDict、UserList 和 UserString，这些类做了特殊设计，因此易于扩展。"
   ]
  },
  {
   "cell_type": "code",
   "execution_count": 29,
   "metadata": {},
   "outputs": [],
   "source": [
    "# 内置类型dict的__init__和__update__方法会忽略我们覆盖的__setitem__方法\n",
    "class DoppelDict(dict):\n",
    "    def __setitem__(self, key, value):\n",
    "        super().__setitem__(key, [value] * 2)"
   ]
  },
  {
   "cell_type": "code",
   "execution_count": 30,
   "metadata": {},
   "outputs": [
    {
     "name": "stdout",
     "output_type": "stream",
     "text": [
      "{'one': 1}\n",
      "{'one': 1, 'two': [2, 2]}\n",
      "{'one': 1, 'two': [2, 2], 'three': 3}\n"
     ]
    }
   ],
   "source": [
    "dd = DoppelDict(one=1)\n",
    "print(dd)\n",
    "dd['two'] = 2\n",
    "print(dd)\n",
    "dd.update(three=3)\n",
    "print(dd)"
   ]
  },
  {
   "cell_type": "code",
   "execution_count": 31,
   "metadata": {},
   "outputs": [],
   "source": [
    "# dict.update方法会忽略AnswerDict.__getitem__方法\n",
    "class AnswerDict(dict):\n",
    "    def __getitem__(self, key):\n",
    "        return 42"
   ]
  },
  {
   "cell_type": "code",
   "execution_count": 32,
   "metadata": {},
   "outputs": [
    {
     "name": "stdout",
     "output_type": "stream",
     "text": [
      "42\n",
      "{'a': 'foo'}\n"
     ]
    }
   ],
   "source": [
    "ad = AnswerDict(a='foo')\n",
    "print(ad['a'])\n",
    "d = {}\n",
    "d.update(ad)\n",
    "print(d)"
   ]
  },
  {
   "cell_type": "code",
   "execution_count": 33,
   "metadata": {},
   "outputs": [],
   "source": [
    "import collections\n",
    "\n",
    "class DoppelDict2(collections.UserDict):\n",
    "    def __setitem__(self, key, value):\n",
    "        super().__setitem__(key, [value] * 2)"
   ]
  },
  {
   "cell_type": "code",
   "execution_count": 36,
   "metadata": {},
   "outputs": [
    {
     "name": "stdout",
     "output_type": "stream",
     "text": [
      "{'one': [1, 1]}\n",
      "{'one': [1, 1], 'two': [2, 2]}\n",
      "{'one': [1, 1], 'two': [2, 2], 'three': [3, 3]}\n"
     ]
    }
   ],
   "source": [
    "dd = DoppelDict2(one=1)\n",
    "print(dd)\n",
    "dd['two'] = 2\n",
    "print(dd)\n",
    "dd.update(three=3)\n",
    "print(dd)"
   ]
  },
  {
   "cell_type": "code",
   "execution_count": 37,
   "metadata": {},
   "outputs": [],
   "source": [
    "class AnswerDict2(collections.UserDict):\n",
    "    def __getitem__(self, key):\n",
    "        return 42"
   ]
  },
  {
   "cell_type": "code",
   "execution_count": 40,
   "metadata": {},
   "outputs": [
    {
     "name": "stdout",
     "output_type": "stream",
     "text": [
      "42\n",
      "{'a': 42}\n"
     ]
    }
   ],
   "source": [
    "ad = AnswerDict2(a='foo')\n",
    "print(ad['a'])\n",
    "dd = {}\n",
    "dd.update(ad)\n",
    "print(dd)"
   ]
  },
  {
   "cell_type": "markdown",
   "metadata": {},
   "source": [
    "##### 12.2 多重继承和方法解析顺序\n",
    "任何实现多重继承的语言都要处理潜在的命名冲突，这种冲突由不相关的祖先类实现同名方法引起。这种冲突称为“菱形问题”：\n",
    "![title](rhombus.jpg)"
   ]
  },
  {
   "cell_type": "code",
   "execution_count": 43,
   "metadata": {},
   "outputs": [],
   "source": [
    "class A:\n",
    "    def ping(self):\n",
    "        print('ping:', self)\n",
    "\n",
    "class B(A):\n",
    "    def pong(self):\n",
    "        print('pong:', self)\n",
    "\n",
    "class C(A):\n",
    "    def pong(self):\n",
    "        print('PONG:', self)\n",
    "\n",
    "class D(B, C):\n",
    "    def ping(self):\n",
    "        super().ping()\n",
    "        print('post-ping:', self)\n",
    "    \n",
    "    def pingpong(self):\n",
    "        self.ping()\n",
    "        super().ping()\n",
    "        self.pong()\n",
    "        super().pong()\n",
    "        C.pong(self)"
   ]
  },
  {
   "cell_type": "code",
   "execution_count": 49,
   "metadata": {},
   "outputs": [
    {
     "name": "stdout",
     "output_type": "stream",
     "text": [
      "pong: <__main__.D object at 0x000001D83AAC97F0>\n",
      "PONG: <__main__.D object at 0x000001D83AAC97F0>\n",
      "(<class '__main__.D'>, <class '__main__.B'>, <class '__main__.C'>, <class '__main__.A'>, <class 'object'>)\n",
      "ping: <__main__.D object at 0x000001D83AAC97F0>\n",
      "post-ping: <__main__.D object at 0x000001D83AAC97F0>\n",
      "--------------\n",
      "ping: <__main__.D object at 0x000001D83AAC97F0>\n",
      "post-ping: <__main__.D object at 0x000001D83AAC97F0>\n",
      "ping: <__main__.D object at 0x000001D83AAC97F0>\n",
      "pong: <__main__.D object at 0x000001D83AAC97F0>\n",
      "pong: <__main__.D object at 0x000001D83AAC97F0>\n",
      "PONG: <__main__.D object at 0x000001D83AAC97F0>\n"
     ]
    }
   ],
   "source": [
    "d = D()\n",
    "d.pong()\n",
    "C.pong(d)\n",
    "print(D.__mro__)\n",
    "d.ping()\n",
    "print('--------------')\n",
    "d.pingpong()"
   ]
  },
  {
   "cell_type": "markdown",
   "metadata": {},
   "source": [
    "#### 第十三章 正确重载运算符\n",
    "##### 13.1 运算符重载基础\n",
    "- 不能重载内置类型的运算符\n",
    "- 不能新建运算符，只能重载现有的\n",
    "- 某些运算符不能重载----is、and、or 和 not（不过位运算符\n",
    "&、| 和 ~ 可以）"
   ]
  },
  {
   "cell_type": "markdown",
   "metadata": {},
   "source": [
    "##### 13.2 一元运算符"
   ]
  },
  {
   "cell_type": "code",
   "execution_count": 10,
   "metadata": {},
   "outputs": [],
   "source": [
    "from array import array\n",
    "import reprlib\n",
    "import math\n",
    "import numbers\n",
    "import functools\n",
    "import operator\n",
    "import itertools\n",
    "\n",
    "\n",
    "class Vector:\n",
    "    typecode = 'd'\n",
    "    shortcut_names = 'xyzt'\n",
    "\n",
    "    def __init__(self, components):\n",
    "        self._components = array(self.typecode, components)\n",
    "\n",
    "    def __iter__(self):\n",
    "        return iter(self._components)\n",
    "\n",
    "    def __repr__(self):\n",
    "        components = reprlib.repr(self._components)\n",
    "        components = components[components.find('['):-1]\n",
    "        return 'Vecotor({})'.format(components)\n",
    "\n",
    "    def __str__(self):\n",
    "        return str(tuple(self))\n",
    "\n",
    "    def __bytes__(self):\n",
    "        return (bytes([ord(self.typecode)]) +\n",
    "                bytes(self._components))\n",
    "\n",
    "    def __eq__(self, other):\n",
    "        if isinstance(other, Vector):\n",
    "            return len(self) == len(other) and all(a == b for a, b in zip(self, other))\n",
    "        else:\n",
    "            return NotImplemented\n",
    "    \n",
    "    def __hash__(self):\n",
    "        hashes = map(hash, self._components)\n",
    "        return functools.reduce(operator.xor, hashes, 0)\n",
    "\n",
    "    def __abs__(self):\n",
    "        return math.sqrt(sum(x ** 2 for x in self))\n",
    "    \n",
    "    def __neg__(self):\n",
    "        return Vector(-x for x in self)\n",
    "    \n",
    "    def __pos__(self):\n",
    "        return Vector(self)\n",
    "    \n",
    "    def __add__(self, other):\n",
    "        try:\n",
    "            pairs = itertools.zip_longest(self, other, fillvalue=0.0)\n",
    "            return Vector(a + b for a, b in pairs)\n",
    "        except TypeError:\n",
    "            return NotImplemented\n",
    "    \n",
    "    def __radd__(self, other):\n",
    "        return self + other\n",
    "    \n",
    "    def __mul__(self, scalar):\n",
    "        if isinstance(scalar, numbers.Real):\n",
    "            return Vector(n * scalar for n in self)\n",
    "        else:\n",
    "            return NotImplemented\n",
    "    \n",
    "    def __rmul__(self, scalar):\n",
    "        return self * scalar\n",
    "    \n",
    "    def __matmul__(self, other):\n",
    "        try:\n",
    "            return sum(a * b for a, b in zip(self, other))\n",
    "        except TypeError:\n",
    "            return NotImplemented\n",
    "    \n",
    "    def __rmatmul__(self, other):\n",
    "        return self @ other\n",
    "\n",
    "    def __bool__(self):\n",
    "        return bool(abs(self))\n",
    "\n",
    "    @classmethod\n",
    "    def frombytes(cls, octets):\n",
    "        typecode = chr(octets[0])\n",
    "        memv = memoryview(octets[1:]).cast(typecode)\n",
    "        return cls(memv)\n",
    "\n",
    "    def __len__(self):\n",
    "        return len(self._components)\n",
    "\n",
    "    def __getitem__(self, index):\n",
    "        '''实现可切片'''\n",
    "        cls = type(self)\n",
    "        if isinstance(index, slice):\n",
    "            return cls(self._components[index])\n",
    "        elif isinstance(index, numbers.Integral):\n",
    "            return self._components[index]\n",
    "        else:\n",
    "            msg = '{cls.__name__} indices must be integers'\n",
    "            raise TypeError(msg.format(cls=cls))\n",
    "    \n",
    "    def __getattr__(self, name):\n",
    "        '''获取属性'''\n",
    "        cls = type(self)\n",
    "        \n",
    "        if len(name) == 1:\n",
    "            pos = cls.shortcut_names.find(name)\n",
    "            if 0 <= pos < len(self._components):\n",
    "                return self._components[pos]\n",
    "        msg = '{.__name!r} object has no attribute {!r}'\n",
    "        raise AttributeError(msg.format(cls, name))\n",
    "    \n",
    "    def __setattr__(self, name, value):\n",
    "        cls = type(self)\n",
    "        if len(name) == 1:\n",
    "            if name in cls.shortcut_names:\n",
    "                error = 'readonly attribute {attr_name!r}'\n",
    "            elif name.islower():\n",
    "                error = \"can't set attributes 'a' to 'z' in {cls_name!r}\"\n",
    "            else:\n",
    "                error = ''\n",
    "            if error:\n",
    "                msg = error.format(cls_name=cls.__name__, attr_name=name)\n",
    "                raise AttributeError(msg)\n",
    "        super().__setattr__(name, value)\n",
    "    \n",
    "    def angle(self, n):\n",
    "        r = math.sqrt(sum(x * x for x in self[n:]))\n",
    "        a = math.atan2(r, self[n-1])\n",
    "        if (n == len(self) - 1) and (self[-1] < 0):\n",
    "            return math.pi * 2 - a\n",
    "        else:\n",
    "            return a\n",
    "    \n",
    "    def angles(self):\n",
    "        return (self.angle(n) for n in range(1, len(self)))\n",
    "    \n",
    "    def __format__(self, fmt_spec=''):\n",
    "        if fmt_spec.endswith('h'):\n",
    "            fmt_spec = fmt_spec[:-1]\n",
    "            coords = itertools.chain([abs(self)], self.angles())\n",
    "            outer_fmt = '<{}>'\n",
    "        else:\n",
    "            coords = self\n",
    "            outer_fmt = '({})'\n",
    "        components = (format(c, fmt_spec) for c in coords)\n",
    "        return outer_fmt.format(', '.join(components))"
   ]
  },
  {
   "cell_type": "code",
   "execution_count": 11,
   "metadata": {},
   "outputs": [
    {
     "name": "stdout",
     "output_type": "stream",
     "text": [
      "(-3.0, -4.0)\n",
      "(3.0, 4.0)\n"
     ]
    }
   ],
   "source": [
    "v = Vector([3,4])\n",
    "print(-v)\n",
    "print(+v)"
   ]
  },
  {
   "cell_type": "code",
   "execution_count": 63,
   "metadata": {},
   "outputs": [
    {
     "name": "stdout",
     "output_type": "stream",
     "text": [
      "28\n",
      "0.3333333333333333333333333333333333333333\n",
      "True\n",
      "False\n",
      "0.3333333333333333333333333333\n"
     ]
    }
   ],
   "source": [
    "# 算术运算符上下文的精度变化可能导致x不等于+x\n",
    "import decimal\n",
    "\n",
    "ctx = decimal.getcontext()\n",
    "print(ctx.prec)\n",
    "ctx.prec = 40\n",
    "one_third = decimal.Decimal('1') / decimal.Decimal('3')\n",
    "print(one_third)\n",
    "print(one_third == + one_third)\n",
    "ctx.prec = 28\n",
    "print(one_third == + one_third)\n",
    "print(+one_third)"
   ]
  },
  {
   "cell_type": "code",
   "execution_count": 70,
   "metadata": {},
   "outputs": [
    {
     "name": "stdout",
     "output_type": "stream",
     "text": [
      "Counter({'a': 5, 'b': 2, 'r': 2, 'c': 1, 'd': 1})\n",
      "Counter({'a': 5, 'b': 2, 'c': 1, 'd': 0, 'r': -3})\n",
      "False\n"
     ]
    }
   ],
   "source": [
    "# 医院运算符+的大奥一个新的Counter实例，但是没有零值和复制计数器\n",
    "from collections import Counter\n",
    "\n",
    "ct = Counter('abracadabra')\n",
    "print(ct)\n",
    "ct['r'] = -3\n",
    "ct['d'] = 0\n",
    "print(ct)\n",
    "print(ct == +ct)"
   ]
  },
  {
   "cell_type": "markdown",
   "metadata": {},
   "source": [
    "##### 13.3 重载向量加法运算符+\n",
    "- \\_\\_add\\_\\_、\\_\\_radd\\_\\_\n",
    "- 为了遵守鸭子类型精神，我们不能测试 other 操作数的类型，或者它\n",
    "的元素的类型。我们要捕获异常，然后返回 NotImplemented。如果解\n",
    "释器还未反转操作数，那么它将尝试去做。如果反向方法返回\n",
    "NotImplemented，那么 Python 会抛出 TypeError，并返回一个标准的\n",
    "错误消息，例如“unsupported operand type(s) for +: Vector\n",
    "and str”。"
   ]
  },
  {
   "cell_type": "code",
   "execution_count": 86,
   "metadata": {},
   "outputs": [
    {
     "name": "stdout",
     "output_type": "stream",
     "text": [
      "Vecotor([13.0, 24.0, 35.0])\n",
      "Vecotor([13.0, 24.0, 35.0])\n"
     ]
    }
   ],
   "source": [
    "v1 = Vector([3, 4, 5])\n",
    "print(repr(v1 + (10, 20, 30)))\n",
    "print(repr((10, 20, 30) + v1))"
   ]
  },
  {
   "cell_type": "code",
   "execution_count": 87,
   "metadata": {},
   "outputs": [
    {
     "ename": "TypeError",
     "evalue": "unsupported operand type(s) for +: 'Vector' and 'int'",
     "output_type": "error",
     "traceback": [
      "\u001b[1;31m---------------------------------------------------------------------------\u001b[0m",
      "\u001b[1;31mTypeError\u001b[0m                                 Traceback (most recent call last)",
      "\u001b[1;32m<ipython-input-87-4c3a4f2e82c5>\u001b[0m in \u001b[0;36m<module>\u001b[1;34m\u001b[0m\n\u001b[1;32m----> 1\u001b[1;33m \u001b[0mv1\u001b[0m \u001b[1;33m+\u001b[0m \u001b[1;36m1\u001b[0m\u001b[1;33m\u001b[0m\u001b[1;33m\u001b[0m\u001b[0m\n\u001b[0m",
      "\u001b[1;31mTypeError\u001b[0m: unsupported operand type(s) for +: 'Vector' and 'int'"
     ]
    }
   ],
   "source": [
    "v1 + 1"
   ]
  },
  {
   "cell_type": "markdown",
   "metadata": {},
   "source": [
    "##### 13.4 重载标量乘法运算符 *\n",
    "Vector([1, 2, 3]) * x 是什么意思？如果 x 是数字，就是计算标量\n",
    "积（scalar product），结果是一个新 Vector 实例，各个分量都会乘以\n",
    "x——这也叫元素级乘法（elementwise multiplication）。"
   ]
  },
  {
   "cell_type": "code",
   "execution_count": 7,
   "metadata": {},
   "outputs": [
    {
     "name": "stdout",
     "output_type": "stream",
     "text": [
      "(14.0, 28.0, 42.0)\n",
      "(1.0, 2.0, 3.0)\n",
      "(0.3333333333333333, 0.6666666666666666, 1.0)\n",
      "14.0\n"
     ]
    }
   ],
   "source": [
    "v1 = Vector([1.0, 2.0, 3.0])\n",
    "print(14 * v1)\n",
    "print(v1 * True)\n",
    "from fractions import Fraction\n",
    "print(v1 * Fraction(1, 3))\n",
    "print(v1 @ [1, 2, 3])"
   ]
  },
  {
   "cell_type": "markdown",
   "metadata": {},
   "source": [
    "##### 13.5 众多比较运算符\n",
    "Python 解释器对众多比较运算符（==、!=、>、<、>=、<=）的处理与前文类似，不过在两个方面有重大区别。\n",
    "- 正向和反向调用使用的是同一系列方法。例如，对 == 来说，正向和反向调用都是 \\_\\_eq\\_\\_ 方法，只是把参数对调了；而正向的 \\_\\_gt\\_\\_ 方法调用的是反向的 \\_\\_lt\\_\\_方法，并把参数对调。\n",
    "- 对 == 和 != 来说，如果反向调用失败，Python 会比较对象的 ID，而不抛出 TypeError。"
   ]
  },
  {
   "cell_type": "code",
   "execution_count": 15,
   "metadata": {},
   "outputs": [
    {
     "name": "stdout",
     "output_type": "stream",
     "text": [
      "True\n",
      "False\n",
      "False\n"
     ]
    }
   ],
   "source": [
    "va = Vector([1.0, 2.0, 3.0])\n",
    "vb = Vector(range(1, 4))\n",
    "print(va == vb)\n",
    "print(va == (1, 2, 3))\n",
    "print(va != vb)"
   ]
  },
  {
   "cell_type": "markdown",
   "metadata": {},
   "source": [
    "##### 13.6 增量赋值运算符"
   ]
  },
  {
   "cell_type": "code",
   "execution_count": 23,
   "metadata": {},
   "outputs": [
    {
     "name": "stdout",
     "output_type": "stream",
     "text": [
      "1825181429264 1825181429264\n",
      "(5.0, 7.0, 9.0) 1825181429600\n",
      "(1.0, 2.0, 3.0)\n",
      "(55.0, 77.0, 99.0) 1825181429488\n"
     ]
    }
   ],
   "source": [
    "v1 = Vector([1, 2, 3])\n",
    "v1_alias = v1\n",
    "print(id(v1), id(v1_alias))\n",
    "v1 += Vector([4, 5, 6])\n",
    "print(v1, id(v1))\n",
    "print(v1_alias)\n",
    "v1 *= 11\n",
    "print(v1, id(v1))"
   ]
  },
  {
   "cell_type": "code",
   "execution_count": 24,
   "metadata": {},
   "outputs": [],
   "source": [
    "import abc\n",
    "\n",
    "class Tombola(abc.ABC):\n",
    "    \n",
    "    @abc.abstractmethod\n",
    "    def load(self, iterable):\n",
    "        '''从可迭代对象中添加元素'''\n",
    "    \n",
    "    @abc.abstractmethod\n",
    "    def pick(self):\n",
    "        '''随机删除元素，然后将其返回\n",
    "        如果实例为空， 这个方法应该抛出'LookupError'\n",
    "        '''\n",
    "    \n",
    "    def loaded(self):\n",
    "        '''如果至少有一个元素，返回'True', 否则返回'False'\n",
    "        '''\n",
    "        return bool(self.inspect())\n",
    "    \n",
    "    def inspect(self):\n",
    "        '''返回一个有序元组，有当前元素构成\n",
    "        '''\n",
    "        items = []\n",
    "        while True:\n",
    "            try:\n",
    "                items.append(self.pick())\n",
    "            except LookupError:\n",
    "                break\n",
    "        self.load(items)\n",
    "        return tuple(sorted(items))"
   ]
  },
  {
   "cell_type": "code",
   "execution_count": 25,
   "metadata": {},
   "outputs": [],
   "source": [
    "import random\n",
    "\n",
    "class BingoCage(Tombola):\n",
    "    \n",
    "    def __init__(self, items):\n",
    "        self._randomizer = random.SystemRandom()\n",
    "        self._items = []\n",
    "        self.load(items)\n",
    "    \n",
    "    def load(self, items):\n",
    "        self._items.extend(items)\n",
    "        self._randomizer.shuffle(self._items)\n",
    "    \n",
    "    def pick(self):\n",
    "        try:\n",
    "            return self._items.pop()\n",
    "        except IndexError:\n",
    "            raise LookupError('pick from empty BingoCage')\n",
    "    \n",
    "    def __call__(self):\n",
    "        self.pick()"
   ]
  },
  {
   "cell_type": "code",
   "execution_count": 26,
   "metadata": {},
   "outputs": [],
   "source": [
    "# AddableBingoCage扩展BingoCage，支持+ 和 +=\n",
    "import itertools\n",
    "\n",
    "\n",
    "class AddbaleBingoCage(BingoCage):\n",
    "\n",
    "    def __add__(self, other):\n",
    "        if isinstance(ohter, Tombola):\n",
    "            return AddableBingoCage(self.inspcet() + other.inspect())\n",
    "        else:\n",
    "            return NotImplemented\n",
    "        \n",
    "    def __iadd__(self, ohter):\n",
    "        if isinstance(other, Tombola):\n",
    "            other_iterable = other.inspect()\n",
    "        else:\n",
    "            try:\n",
    "                other_iterable = iter(other)\n",
    "            except TypeError:\n",
    "                self_cls = type(self).__name__\n",
    "                msg = 'right operand in += must be {!r} or an iterable'\n",
    "                raise TypeError(msg.format(self_cls))\n",
    "        self.load(other_iterable)\n",
    "        return self"
   ]
  },
  {
   "cell_type": "code",
   "execution_count": null,
   "metadata": {},
   "outputs": [],
   "source": []
  }
 ],
 "metadata": {
  "kernelspec": {
   "display_name": "Python 3",
   "language": "python",
   "name": "python3"
  },
  "language_info": {
   "codemirror_mode": {
    "name": "ipython",
    "version": 3
   },
   "file_extension": ".py",
   "mimetype": "text/x-python",
   "name": "python",
   "nbconvert_exporter": "python",
   "pygments_lexer": "ipython3",
   "version": "3.7.3"
  }
 },
 "nbformat": 4,
 "nbformat_minor": 2
}
