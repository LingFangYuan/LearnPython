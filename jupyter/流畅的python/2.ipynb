{
 "cells": [
  {
   "cell_type": "markdown",
   "metadata": {},
   "source": [
    "#### 第六章 使用一等函数实现设计模式\n",
    "##### 6.1 案例分析：重构“策略”模式"
   ]
  },
  {
   "cell_type": "code",
   "execution_count": 4,
   "metadata": {},
   "outputs": [],
   "source": [
    "# 实现Order类， 支持插入式折扣策略\n",
    "from abc import ABC, abstractmethod\n",
    "from collections import namedtuple\n",
    "\n",
    "Customer = namedtuple('Customer', 'name fidelity')"
   ]
  },
  {
   "cell_type": "code",
   "execution_count": 5,
   "metadata": {},
   "outputs": [],
   "source": [
    "class LineItem:\n",
    "    \n",
    "    def __init__(self, product, quantity, price):\n",
    "        self.product = product\n",
    "        self.quantity = quantity\n",
    "        self.price = price\n",
    "    \n",
    "    def total(self):\n",
    "        return self.price * self.quantity"
   ]
  },
  {
   "cell_type": "code",
   "execution_count": 6,
   "metadata": {},
   "outputs": [],
   "source": [
    "class Order: # 上下文\n",
    "    \n",
    "    def __init__(self, customer, cart, promotion=None):\n",
    "        self.customer = customer\n",
    "        self.cart = cart\n",
    "        self.promotion = promotion\n",
    "    \n",
    "    def total(self):\n",
    "        if not hasattr(self, '__total'):\n",
    "            self.__total = sum(item.total() for item in self.cart)\n",
    "        return self.__total\n",
    "    \n",
    "    def due(self):\n",
    "        if self.promotion is None:\n",
    "            discount = 0\n",
    "        else:\n",
    "            discount = self.promotion.discount(self)\n",
    "        return self.total() - discount\n",
    "    \n",
    "    def __repr__(self):\n",
    "        fmt = '<Order total: {:.2f} due: {:.2f}>'\n",
    "        return fmt.format(self.total(), self.due())"
   ]
  },
  {
   "cell_type": "code",
   "execution_count": 7,
   "metadata": {},
   "outputs": [],
   "source": [
    "class Promotion(ABC): # 策略：抽象基类\n",
    "    \n",
    "    @abstractmethod\n",
    "    def discount(self, order):\n",
    "        '''返回折扣金额（正值）'''"
   ]
  },
  {
   "cell_type": "code",
   "execution_count": 8,
   "metadata": {},
   "outputs": [],
   "source": [
    "class FidelityPromo(Promotion): # 第一个具体策略\n",
    "    '''为积分为1000或以上的顾客提供5%折扣'''\n",
    "    \n",
    "    def discount(self, order):\n",
    "        return order.total() * .05 if order.customer.fidelity >= 1000 else 0"
   ]
  },
  {
   "cell_type": "code",
   "execution_count": 9,
   "metadata": {},
   "outputs": [],
   "source": [
    "class BulkItemPromo(Promotion): # 第二个具体策略\n",
    "    '''单个商品为20个或以上是提供10%折扣'''\n",
    "    \n",
    "    def discount(self, order):\n",
    "        discount = 0\n",
    "        for item in order.cart:\n",
    "            if item.quantity >= 20:\n",
    "                discount += item.total() * .1\n",
    "        return discount"
   ]
  },
  {
   "cell_type": "code",
   "execution_count": 10,
   "metadata": {},
   "outputs": [],
   "source": [
    "class LargeOrderPromo(Promotion): # 第三个具体策略\n",
    "    '''订单中的不同商品达到10个或以上时提供7%折扣'''\n",
    "    \n",
    "    def discount(self, order):\n",
    "        distinc_items = {item.product for item in order.cart}\n",
    "        if len(distinc_items) >= 10:\n",
    "            return order.total() * .07\n",
    "        return 0"
   ]
  },
  {
   "cell_type": "code",
   "execution_count": 19,
   "metadata": {},
   "outputs": [
    {
     "name": "stdout",
     "output_type": "stream",
     "text": [
      "<Order total: 42.00 due: 42.00>\n",
      "<Order total: 42.00 due: 39.90>\n",
      "<Order total: 30.00 due: 28.50>\n",
      "<Order total: 10.00 due: 9.30>\n",
      "<Order total: 42.00 due: 42.00>\n"
     ]
    }
   ],
   "source": [
    "# 使用不同促销折扣的Order类示例\n",
    "joe = Customer('John Doe', 0)\n",
    "ann = Customer('Ann Smith', 1100)\n",
    "cart = [LineItem('banana', 4, .5),\n",
    "        LineItem('apple', 10, 1.5),\n",
    "        LineItem('watermellon', 5, 5.0)]\n",
    "o_1 = Order(joe, cart, FidelityPromo())\n",
    "print(o_1)\n",
    "o_2 = Order(ann, cart, FidelityPromo())\n",
    "print(o_2)\n",
    "banana_cart = [LineItem('banana', 30, .5),\n",
    "               LineItem('apple', 10, 1.5)]\n",
    "o_3 = Order(joe, banana_cart, BulkItemPromo())\n",
    "print(o_3)\n",
    "long_order = [LineItem(str(item_code), 1, 1.0)\n",
    "             for item_code in range(10)]\n",
    "o_4 = Order(joe, long_order, LargeOrderPromo())\n",
    "print(o_4)\n",
    "o_5 = Order(joe, cart, LargeOrderPromo())\n",
    "print(o_5)"
   ]
  },
  {
   "cell_type": "code",
   "execution_count": 22,
   "metadata": {},
   "outputs": [],
   "source": [
    "# Order类和使用函数实现的折扣策略\n",
    "class Order1:\n",
    "    \n",
    "    def __init__(self, customer, cart, promotion=None):\n",
    "        self.customer = customer\n",
    "        self.cart = cart\n",
    "        self.promotion = promotion\n",
    "    \n",
    "    def total(self):\n",
    "        if not hasattr(self, '__total'):\n",
    "            self.__total = sum(item.total() for item in self.cart)\n",
    "        return self.__total\n",
    "    \n",
    "    def due(self):\n",
    "        if self.promotion is None:\n",
    "            discount = 0\n",
    "        else:\n",
    "            discount = self.promotion(self)\n",
    "        return self.total() - discount\n",
    "    \n",
    "    def __repr__(self):\n",
    "        fmt = '<Order total: {:.2f} due: {:.2f}>'\n",
    "        return fmt.format(self.total(), self.due())"
   ]
  },
  {
   "cell_type": "code",
   "execution_count": 24,
   "metadata": {},
   "outputs": [],
   "source": [
    "def fidelity_promo(order): \n",
    "    \"\"\"为积分为1000或以上的顾客提供5%折扣\"\"\"\n",
    "    return order.total() * .05 if order.customer.fidelity >= 1000 else 0"
   ]
  },
  {
   "cell_type": "code",
   "execution_count": 26,
   "metadata": {},
   "outputs": [],
   "source": [
    "def bulk_item_promo(order):\n",
    "    \"\"\"单个商品为20个或以上时提供10%折扣\"\"\"\n",
    "    discount = 0\n",
    "    for item in order.cart:\n",
    "        if item.quantity >= 20:\n",
    "            discount += item.total() * .1\n",
    "    return discount"
   ]
  },
  {
   "cell_type": "code",
   "execution_count": 27,
   "metadata": {},
   "outputs": [],
   "source": [
    "def large_order_promo(order):\n",
    "    \"\"\"订单中的不同商品达到10个或以上时提供7%折扣\"\"\"\n",
    "    distinct_items = {item.product for item in order.cart}\n",
    "    if len(distinct_items) >= 10:\n",
    "        return order.total() * .07\n",
    "    return 0"
   ]
  },
  {
   "cell_type": "code",
   "execution_count": 28,
   "metadata": {},
   "outputs": [],
   "source": [
    "# best_promo 迭代一个函数列表，并找出折扣额度最大的\n",
    "promos = [fidelity_promo, bulk_item_promo, large_order_promo]\n",
    "\n",
    "def best_promo(order):\n",
    "    '''选择可用的最佳折扣'''\n",
    "    \n",
    "    return max(promo(order) for promo in promos)"
   ]
  },
  {
   "cell_type": "code",
   "execution_count": 30,
   "metadata": {},
   "outputs": [
    {
     "name": "stdout",
     "output_type": "stream",
     "text": [
      "<Order total: 10.00 due: 9.30>\n",
      "<Order total: 30.00 due: 28.50>\n",
      "<Order total: 42.00 due: 39.90>\n"
     ]
    }
   ],
   "source": [
    "print(Order1(joe, long_order, best_promo))\n",
    "print(Order1(joe, banana_cart, best_promo))\n",
    "print(Order1(ann, cart, best_promo))"
   ]
  },
  {
   "cell_type": "code",
   "execution_count": 40,
   "metadata": {},
   "outputs": [
    {
     "name": "stdout",
     "output_type": "stream",
     "text": [
      "[<function fidelity_promo at 0x0000023C2CB1B840>, <function bulk_item_promo at 0x0000023C2CBB7488>, <function large_order_promo at 0x0000023C2CBB7598>]\n"
     ]
    }
   ],
   "source": [
    "# 内省模块的全局命名空间， 构建promos列表\n",
    "promos = [globals()[name] for name in globals()\n",
    "          if name.endswith('_promo')\n",
    "          and name != 'best_promo']\n",
    "print(promos)\n",
    "\n",
    "def best_prom(order):\n",
    "    '''选择可用的最佳折扣'''\n",
    "    \n",
    "    return max(promo(order) for promo in promos)"
   ]
  },
  {
   "cell_type": "markdown",
   "metadata": {},
   "source": [
    "##### 6.2 “命令”模式\n"
   ]
  },
  {
   "cell_type": "markdown",
   "metadata": {},
   "source": [
    "#### 第七章 函数装饰器和闭包\n",
    "函数装饰器用于在源码中“标记”函数，以某种方式增强函数的行为。这\n",
    "是一项强大的功能，但是若想掌握，必须理解闭包。\n",
    "##### 7.1 装饰器基础知识\n",
    "装饰器是可调用的对象，其参数是另一个函数（被装饰的函数）。 装\n",
    "饰器可能会处理被装饰的函数，然后把它返回，或者将其替换成另一个\n",
    "函数或可调用对象。"
   ]
  },
  {
   "cell_type": "code",
   "execution_count": 6,
   "metadata": {},
   "outputs": [],
   "source": [
    "from functools import wraps\n",
    "def deco(func):\n",
    "    @wraps(func)\n",
    "    def inner():\n",
    "        print('running inner()')\n",
    "    return inner\n",
    "\n",
    "@deco\n",
    "def target():\n",
    "    print('running target()')"
   ]
  },
  {
   "cell_type": "code",
   "execution_count": 7,
   "metadata": {},
   "outputs": [
    {
     "name": "stdout",
     "output_type": "stream",
     "text": [
      "running inner()\n",
      "<function target at 0x00000229A925AC80>\n"
     ]
    }
   ],
   "source": [
    "target()\n",
    "print(target)"
   ]
  },
  {
   "cell_type": "markdown",
   "metadata": {},
   "source": [
    "##### 7.2 python何时执行装饰器\n",
    "装饰器的一个关键特性是，它们在被装饰的函数定义之后立即执行。这通常是在导入时。"
   ]
  },
  {
   "cell_type": "code",
   "execution_count": 11,
   "metadata": {},
   "outputs": [
    {
     "name": "stdout",
     "output_type": "stream",
     "text": [
      "running register(<function f1 at 0x00000229A925AD08>)\n",
      "running register(<function f2 at 0x00000229A925A510>)\n",
      "running main()\n",
      "regitry -> [<function f1 at 0x00000229A925AD08>, <function f2 at 0x00000229A925A510>]\n",
      "running f1()\n",
      "running f2()\n",
      "running f3()\n"
     ]
    }
   ],
   "source": [
    "registry = []\n",
    "\n",
    "def register(func):\n",
    "    print('running register(%s)' % func)\n",
    "    registry.append(func)\n",
    "    return func\n",
    "\n",
    "@register\n",
    "def f1():\n",
    "    print('running f1()')\n",
    "\n",
    "@register\n",
    "def f2():\n",
    "    print('running f2()')\n",
    "\n",
    "def f3():\n",
    "    print('running f3()')\n",
    "\n",
    "def main():\n",
    "    print('running main()')\n",
    "    print('regitry ->', registry)\n",
    "    f1()\n",
    "    f2()\n",
    "    f3()\n",
    "\n",
    "main()"
   ]
  },
  {
   "cell_type": "markdown",
   "metadata": {},
   "source": [
    "##### 7.3 使用装饰器改进“策略”模式"
   ]
  },
  {
   "cell_type": "code",
   "execution_count": 13,
   "metadata": {},
   "outputs": [],
   "source": [
    "# proms列表中的值使用promtion装饰器填充\n",
    "promos = []\n",
    "\n",
    "def promtion(promo_func):\n",
    "    promos.append(promo_func)\n",
    "    return promo_func\n",
    "\n",
    "@promtion\n",
    "def fidelity(order):\n",
    "    '''为积分为1000或以上的顾客提供5%折扣'''\n",
    "    return order.total() * 0.05 if order.customer.fidelity >= 1000 else 0\n",
    "\n",
    "@promtion\n",
    "def bulk_item(order):\n",
    "    '''单个商品为20个或以上时提供10折扣'''\n",
    "    discount = 0\n",
    "    for item in order.cart:\n",
    "        if item.quantity >= 20:\n",
    "            discount += item.total() * 0.1\n",
    "    return discount\n",
    "\n",
    "@promtion\n",
    "def large_order(order):\n",
    "    '''订单中的不同商品达到10个或以上时提供7%折扣'''\n",
    "    discount_items = {item.product for item in order.cart}\n",
    "    if len(discount_items) >= 10:\n",
    "        return order.total() * 0.07\n",
    "    return 0\n",
    "\n",
    "def best_promo(order):\n",
    "    '''选择可用的最佳折扣'''\n",
    "    return max(promo(order) for promo in promos)"
   ]
  },
  {
   "cell_type": "markdown",
   "metadata": {},
   "source": [
    "##### 7.4 变量作用域规则"
   ]
  },
  {
   "cell_type": "code",
   "execution_count": 21,
   "metadata": {},
   "outputs": [
    {
     "name": "stdout",
     "output_type": "stream",
     "text": [
      "3\n",
      "4\n",
      "4\n"
     ]
    }
   ],
   "source": [
    "b = 4\n",
    "def f1(a):\n",
    "    global b\n",
    "    print(a)\n",
    "    print(b)\n",
    "f1(3)\n",
    "print(b)"
   ]
  },
  {
   "cell_type": "code",
   "execution_count": 25,
   "metadata": {},
   "outputs": [
    {
     "name": "stdout",
     "output_type": "stream",
     "text": [
      "3\n",
      "4\n",
      "4\n"
     ]
    }
   ],
   "source": [
    "b = 4\n",
    "def f2(a):\n",
    "    print(a)\n",
    "    print(b)\n",
    "    b = 9\n",
    "f1(3)\n",
    "print(b)"
   ]
  },
  {
   "cell_type": "code",
   "execution_count": 26,
   "metadata": {},
   "outputs": [
    {
     "name": "stdout",
     "output_type": "stream",
     "text": [
      "  4           0 LOAD_GLOBAL              0 (print)\n",
      "              2 LOAD_FAST                0 (a)\n",
      "              4 CALL_FUNCTION            1\n",
      "              6 POP_TOP\n",
      "\n",
      "  5           8 LOAD_GLOBAL              0 (print)\n",
      "             10 LOAD_GLOBAL              1 (b)\n",
      "             12 CALL_FUNCTION            1\n",
      "             14 POP_TOP\n",
      "             16 LOAD_CONST               0 (None)\n",
      "             18 RETURN_VALUE\n",
      "None\n",
      "----------\n",
      "  3           0 LOAD_GLOBAL              0 (print)\n",
      "              2 LOAD_FAST                0 (a)\n",
      "              4 CALL_FUNCTION            1\n",
      "              6 POP_TOP\n",
      "\n",
      "  4           8 LOAD_GLOBAL              0 (print)\n",
      "             10 LOAD_FAST                1 (b)\n",
      "             12 CALL_FUNCTION            1\n",
      "             14 POP_TOP\n",
      "\n",
      "  5          16 LOAD_CONST               1 (9)\n",
      "             18 STORE_FAST               1 (b)\n",
      "             20 LOAD_CONST               0 (None)\n",
      "             22 RETURN_VALUE\n",
      "None\n"
     ]
    }
   ],
   "source": [
    "from dis import dis\n",
    "print(dis(f1))\n",
    "print('----------')\n",
    "print(dis(f2))"
   ]
  },
  {
   "cell_type": "markdown",
   "metadata": {},
   "source": [
    "编译器把 b 视作局部变量，即使在后\n",
    "面才为 b 赋值，因为变量的种类（是不是局部变量）不能改变函数\n",
    "的定义体。"
   ]
  },
  {
   "cell_type": "markdown",
   "metadata": {},
   "source": [
    "##### 7.5 闭包\n",
    "闭包指延伸了作用域的函数，其中包含函数定义体中引用、但是\n",
    "不在定义体中定义的非全局变量。函数是不是匿名的没有关系，关键是\n",
    "它能访问定义体之外定义的非全局变量。  \n",
    "闭包是一种函数，它会保留定义函数时存在的自由变量的绑定，\n",
    "这样调用函数时，虽然定义作用域不可用了，但是仍能使用那些绑定。"
   ]
  },
  {
   "cell_type": "code",
   "execution_count": 4,
   "metadata": {},
   "outputs": [],
   "source": [
    "# 计算移动平均值的高阶函数\n",
    "def make_averager():\n",
    "    series = []\n",
    "\n",
    "    def averager(new_value):\n",
    "        series.append(new_value)\n",
    "        total = sum(series)\n",
    "        return total / len(series)\n",
    "\n",
    "    return averager"
   ]
  },
  {
   "cell_type": "code",
   "execution_count": 5,
   "metadata": {},
   "outputs": [
    {
     "name": "stdout",
     "output_type": "stream",
     "text": [
      "10.0 10.5 11.0\n"
     ]
    }
   ],
   "source": [
    "avg = make_averager()\n",
    "print(avg(10), avg(11), avg(12))"
   ]
  },
  {
   "cell_type": "code",
   "execution_count": 13,
   "metadata": {},
   "outputs": [
    {
     "name": "stdout",
     "output_type": "stream",
     "text": [
      "('new_value', 'total') ('series',)\n",
      "(<cell at 0x00000138256F66A8: list object at 0x00000138259D7788>,)\n",
      "[10, 11, 12]\n"
     ]
    }
   ],
   "source": [
    "print(avg.__code__.co_varnames, avg.__code__.co_freevars)\n",
    "print(avg.__closure__)\n",
    "print(avg.__closure__[0].cell_contents)"
   ]
  },
  {
   "cell_type": "markdown",
   "metadata": {},
   "source": [
    "##### 7.6 nonlocal 声明"
   ]
  },
  {
   "cell_type": "code",
   "execution_count": 17,
   "metadata": {},
   "outputs": [],
   "source": [
    "# 计算移动平均值的高阶函数，不保存所有历史值，但有缺陷\n",
    "def make_averager():\n",
    "    count = 0\n",
    "    total = 0\n",
    "    \n",
    "    def averager(new_value):\n",
    "        nonlocal count, total\n",
    "        count += 1\n",
    "        total += new_value\n",
    "        return total / count\n",
    "    \n",
    "    return averager"
   ]
  },
  {
   "cell_type": "code",
   "execution_count": 18,
   "metadata": {},
   "outputs": [
    {
     "name": "stdout",
     "output_type": "stream",
     "text": [
      "10.0\n"
     ]
    }
   ],
   "source": [
    "avg = make_averager()\n",
    "print(avg(10))"
   ]
  },
  {
   "cell_type": "markdown",
   "metadata": {},
   "source": [
    "##### 7.7 实现一个简单的装饰器"
   ]
  },
  {
   "cell_type": "code",
   "execution_count": 13,
   "metadata": {},
   "outputs": [],
   "source": [
    "# 一个简单的装饰器，它会在每次调用被装饰的函数时计时，然后把经过的时间、传入的参数和调用的结果打印出来。\n",
    "import time\n",
    "from functools import wraps\n",
    "\n",
    "def clock(func):\n",
    "    @wraps(func)\n",
    "    def clocked(*args, **kw):\n",
    "        t0 = time.perf_counter()\n",
    "        result = func(*args, **kw)\n",
    "        elapsed = time.perf_counter() - t0\n",
    "        name = func.__name__\n",
    "        arg_lst = []\n",
    "        if args:\n",
    "            arg_lst.append(', '.join(repr(arg) for arg in args))\n",
    "        if kw:\n",
    "            pairs = ['%s=%r' % (k, w) for k, w in sorted(kw.items())]\n",
    "            arg_lst.append(', '.join(pairs))\n",
    "        arg_str = ', '.join(arg_lst)\n",
    "        print('[%0.8fs] %s(%s) -> %r' % (elapsed, name, arg_str, result))\n",
    "        return result\n",
    "    return clocked"
   ]
  },
  {
   "cell_type": "code",
   "execution_count": 14,
   "metadata": {},
   "outputs": [],
   "source": [
    "# 使用clock装饰器\n",
    "@clock\n",
    "def snooze(seconds):\n",
    "    time.sleep(seconds)\n",
    "\n",
    "\n",
    "@clock\n",
    "def factorial(n):\n",
    "    return 1 if n < 2 else n * factorial(n-1)"
   ]
  },
  {
   "cell_type": "code",
   "execution_count": 15,
   "metadata": {},
   "outputs": [
    {
     "name": "stdout",
     "output_type": "stream",
     "text": [
      "**************************************** Calling snooze(.123)\n",
      "[0.12322828s] snooze(0.123) -> None\n",
      "None\n",
      "**************************************** Calling factorial(6)\n",
      "[0.00000045s] factorial(1) -> 1\n",
      "[0.00113570s] factorial(2) -> 2\n",
      "[0.00183319s] factorial(3) -> 6\n",
      "[0.00249810s] factorial(4) -> 24\n",
      "[0.00357400s] factorial(5) -> 120\n",
      "[0.00384398s] factorial(6) -> 720\n",
      "720\n"
     ]
    }
   ],
   "source": [
    "print('*' * 40, 'Calling snooze(.123)')\n",
    "print(snooze(.123))\n",
    "print('*' * 40, 'Calling factorial(6)')\n",
    "print(factorial(6))"
   ]
  },
  {
   "cell_type": "markdown",
   "metadata": {},
   "source": [
    "##### 7.8 标准库中的装饰器"
   ]
  },
  {
   "cell_type": "code",
   "execution_count": 18,
   "metadata": {},
   "outputs": [],
   "source": [
    "# 生成第N个斐波那契数，递归方式非常耗时\n",
    "from functools import lru_cache\n",
    "\n",
    "@lru_cache()\n",
    "@clock\n",
    "def fibonacii(n):\n",
    "    if n < 2:\n",
    "        return n\n",
    "    return fibonacii(n-2) + fibonacii(n-1)"
   ]
  },
  {
   "cell_type": "code",
   "execution_count": 19,
   "metadata": {},
   "outputs": [
    {
     "name": "stdout",
     "output_type": "stream",
     "text": [
      "[0.00000223s] fibonacii(0) -> 0\n",
      "[0.00000134s] fibonacii(1) -> 1\n",
      "[0.00069302s] fibonacii(2) -> 1\n",
      "[0.00000491s] fibonacii(3) -> 2\n",
      "[0.00099513s] fibonacii(4) -> 3\n",
      "[0.00000178s] fibonacii(5) -> 5\n",
      "[0.00107367s] fibonacii(6) -> 8\n",
      "8\n"
     ]
    }
   ],
   "source": [
    "print(fibonacii(6))"
   ]
  },
  {
   "cell_type": "code",
   "execution_count": 20,
   "metadata": {},
   "outputs": [],
   "source": [
    "import html\n",
    "\n",
    "def htmlize(obj):\n",
    "    content = html.escape(repr(obj))\n",
    "    return '<pre>{}</pre>'.format(content)"
   ]
  },
  {
   "cell_type": "code",
   "execution_count": 22,
   "metadata": {},
   "outputs": [
    {
     "name": "stdout",
     "output_type": "stream",
     "text": [
      "<pre>{1, 2, 3}</pre>\n",
      "<pre>&#x27;dfd&#x27;</pre>\n"
     ]
    }
   ],
   "source": [
    "print(htmlize({1, 2, 3}))\n",
    "print(htmlize('dfd'))"
   ]
  },
  {
   "cell_type": "code",
   "execution_count": 25,
   "metadata": {},
   "outputs": [],
   "source": [
    "# singledispatch创建一个自定义的htmlize.register装饰器，把多个函数绑在一起组成一个泛函数\n",
    "from functools import singledispatch\n",
    "from collections import abc\n",
    "import numbers\n",
    "import html\n",
    "\n",
    "@singledispatch\n",
    "def htmlize(obj):\n",
    "    content = html.escape(repr(obj))\n",
    "    return '<pre>{}</pre>'.format(content)\n",
    "\n",
    "@htmlize.register(str)\n",
    "def _(text):\n",
    "    content = html.escape(text).replace('\\n', '<br />\\n')\n",
    "    return '<p>{}</p>'.format(content)\n",
    "\n",
    "@htmlize.register(numbers.Integral)\n",
    "def _(text):\n",
    "    return '<pre>{} (0x{0:x})</pre>'.format(n)\n",
    "\n",
    "@htmlize.register(tuple)\n",
    "@htmlize.register(abc.MutableSequence)\n",
    "def _(seq):\n",
    "    inner = '</li>\\n<li>'.join(htmlize(item) for item in seq)\n",
    "    return '<ul>\\n<li>' + inner + '</li>\\n</ul>'"
   ]
  },
  {
   "cell_type": "markdown",
   "metadata": {},
   "source": [
    "##### 7.9 叠放装饰器\n",
    "@d1  \n",
    "@d2  \n",
    "def f(): print('f')  \n",
    "等于：  \n",
    "def f(): print('f')  \n",
    "f = d1(d2(f))  "
   ]
  },
  {
   "cell_type": "markdown",
   "metadata": {},
   "source": [
    "##### 7.10 参数化装饰器\n",
    "创建一个装饰器工厂函数，把参数传给它，返回一个装饰器，然后再把它应用到要装饰的函数上。"
   ]
  },
  {
   "cell_type": "code",
   "execution_count": 34,
   "metadata": {},
   "outputs": [
    {
     "name": "stdout",
     "output_type": "stream",
     "text": [
      "running register(<function f1 at 0x00000289EF2970D0>)\n",
      "running main()\n",
      "registry -> [<function f1 at 0x00000289EF2970D0>]\n",
      "running f1()\n"
     ]
    }
   ],
   "source": [
    "registry = []\n",
    "\n",
    "def register(func):\n",
    "    print('running register(%s)' % func)\n",
    "    registry.append(func)\n",
    "    return func\n",
    "\n",
    "@register\n",
    "def f1():\n",
    "    print('running f1()')\n",
    "\n",
    "print('running main()')\n",
    "print('registry ->', registry)\n",
    "f1()"
   ]
  },
  {
   "cell_type": "code",
   "execution_count": 51,
   "metadata": {},
   "outputs": [],
   "source": [
    "# 为了接收参数，新的register装饰器必须作为函数调用\n",
    "registry = set()\n",
    "\n",
    "\n",
    "def register(active=True):\n",
    "    def decorate(func):\n",
    "        print('running register(active=%s) -> decorate(%s)'\n",
    "              % (active, func))\n",
    "        if active:\n",
    "            registry.add(func)\n",
    "        else:\n",
    "            registry.discard(func)\n",
    "        return func\n",
    "    return decorate"
   ]
  },
  {
   "cell_type": "code",
   "execution_count": 52,
   "metadata": {},
   "outputs": [
    {
     "name": "stdout",
     "output_type": "stream",
     "text": [
      "running register(active=False) -> decorate(<function f1 at 0x00000289EF721AE8>)\n",
      "running register(active=True) -> decorate(<function f2 at 0x00000289EEF739D8>)\n"
     ]
    }
   ],
   "source": [
    "@register(active=False)\n",
    "def f1():\n",
    "    print('running f1()')\n",
    "\n",
    "\n",
    "@register()\n",
    "def f2():\n",
    "    print('running f2()')\n",
    "\n",
    "\n",
    "def f3():\n",
    "    print('runing f3()')"
   ]
  },
  {
   "cell_type": "code",
   "execution_count": 89,
   "metadata": {},
   "outputs": [],
   "source": [
    "import time\n",
    "\n",
    "DEFAULT_FMT = '[{elapsed:0.8f}s] {name}({args}) -> {result}'\n",
    "\n",
    "def clock(fmt=DEFAULT_FMT):\n",
    "    def decorate(func):\n",
    "        def clocked(*_args):\n",
    "            t0 = time.time()\n",
    "            _result = func(*_args)\n",
    "            elapsed = time.time() - t0\n",
    "            name = func.__name__\n",
    "            args = ', '.join(repr(arg) for arg in _args)\n",
    "            result = repr(_result)\n",
    "            print(fmt.format(**locals()))\n",
    "            return result\n",
    "        return clocked\n",
    "    return decorate"
   ]
  },
  {
   "cell_type": "code",
   "execution_count": 90,
   "metadata": {},
   "outputs": [],
   "source": [
    "@clock()\n",
    "def snooze(seconds):\n",
    "    time.sleep(seconds)"
   ]
  },
  {
   "cell_type": "code",
   "execution_count": 91,
   "metadata": {},
   "outputs": [
    {
     "name": "stdout",
     "output_type": "stream",
     "text": [
      "[0.12392879s] snooze(0.123) -> None\n",
      "[0.12492585s] snooze(0.123) -> None\n",
      "[0.12492537s] snooze(0.123) -> None\n"
     ]
    }
   ],
   "source": [
    "for i in range(3):\n",
    "    snooze(.123)"
   ]
  },
  {
   "cell_type": "code",
   "execution_count": null,
   "metadata": {},
   "outputs": [],
   "source": []
  }
 ],
 "metadata": {
  "kernelspec": {
   "display_name": "Python 3",
   "language": "python",
   "name": "python3"
  },
  "language_info": {
   "codemirror_mode": {
    "name": "ipython",
    "version": 3
   },
   "file_extension": ".py",
   "mimetype": "text/x-python",
   "name": "python",
   "nbconvert_exporter": "python",
   "pygments_lexer": "ipython3",
   "version": "3.7.3"
  }
 },
 "nbformat": 4,
 "nbformat_minor": 2
}
