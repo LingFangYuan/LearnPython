{
 "cells": [
  {
   "cell_type": "markdown",
   "metadata": {},
   "source": [
    "#### 第十八章 使用asyncio包处理并发\n",
    "并发是指一次处理多件事。  \n",
    "并行是指一次做多件事。  \n",
    "二者不同，但是有联系。  \n",
    "一个关于结构，一个关于执行。  \n",
    "并发用于制定方案，用来解决可能（但未必）并行的问题。"
   ]
  },
  {
   "cell_type": "markdown",
   "metadata": {},
   "source": [
    "##### 18.1 线程与协程对比"
   ]
  },
  {
   "cell_type": "code",
   "execution_count": 7,
   "metadata": {},
   "outputs": [],
   "source": [
    "# 通过线程以动画形式显示文本式旋转指针\n",
    "import threading\n",
    "import itertools\n",
    "import time\n",
    "import sys\n",
    "\n",
    "class Signal:\n",
    "    go = True\n",
    "    \n",
    "def spin(msg, signal):\n",
    "    write, flush = sys.stdout.write, sys.stdout.flush\n",
    "    for char in itertools.cycle('|/-\\\\'):\n",
    "        status = char + ' ' + msg\n",
    "        write(status)\n",
    "        flush()\n",
    "        write('\\x08' * len(status))\n",
    "        time.sleep(.1)\n",
    "        if not signal.go:\n",
    "            break\n",
    "    write(' ' * len(status) + '\\x08' * len(status))\n",
    "\n",
    "def slow_function():\n",
    "    # 假装等等I/O一段时间\n",
    "    time.sleep(3)\n",
    "    return 42\n",
    "\n",
    "def supervisor():\n",
    "    signal = Signal()\n",
    "    spinner = threading.Thread(target=spin, args=('thinking!', signal))\n",
    "    print('spinner object:', spinner)\n",
    "    spinner.start()\n",
    "    result = slow_function()\n",
    "    signal.go = False\n",
    "    spinner.join()\n",
    "    return result\n",
    "\n",
    "def main():\n",
    "    result = supervisor()\n",
    "    print('Answer:', result)"
   ]
  },
  {
   "cell_type": "code",
   "execution_count": 8,
   "metadata": {},
   "outputs": [
    {
     "name": "stdout",
     "output_type": "stream",
     "text": [
      "spinner object: <Thread(Thread-7, initial)>\n",
      "| thinking/ thinking- thinking\\ thinking| thinking/ thinking- thinking\\ thinking| thinking/ thinking- thinking\\ thinking| thinking/ thinking- thinking\\ thinking| thinking/ thinking- thinking\\ thinking| thinking/ thinking- thinking\\ thinking| thinking/ thinking- thinking\\ thinking| thinking/ thinking          Answer: 42\n"
     ]
    }
   ],
   "source": [
    "main()"
   ]
  },
  {
   "cell_type": "markdown",
   "metadata": {},
   "source": [
    "- 适合 asyncio API 的协程在定义体中必须使用 yield from，而不能使用 yield。此外，适合 asyncio 的协程要由调用方驱动，并由调用方通过 yield from 调用；或者把协程传给 asyncio包中的某个函数，例如 asyncio.async(...)，从而驱动协程。最后，@asyncio.coroutine 装饰器应该应用在协程上。"
   ]
  },
  {
   "cell_type": "code",
   "execution_count": 2,
   "metadata": {},
   "outputs": [],
   "source": [
    "# 通过协程以动画形式显示文本式旋转指针\n",
    "import asyncio\n",
    "import itertools\n",
    "import sys\n",
    "\n",
    "@asyncio.coroutine\n",
    "def spin(msg):\n",
    "    write, flush = sys.stdout.write, sys.stdout.flush\n",
    "    for char in itertools.cycle('|/-\\\\'):\n",
    "        status = char + ' ' + msg\n",
    "        write(status)\n",
    "        flush()\n",
    "        write('\\x08' * len(status))\n",
    "        try:\n",
    "            yield from asyncio.sleep(.1)\n",
    "        except asyncio.CancelledError:\n",
    "            break\n",
    "    write(' ' * len(status) + '\\x08' * len(status))\n",
    "\n",
    "@asyncio.coroutine\n",
    "def slow_function():\n",
    "    # 假装等等I/O一段时间\n",
    "    yield from asyncio.sleep(3)\n",
    "    return 42\n",
    "\n",
    "@asyncio.coroutine\n",
    "def supervisor():\n",
    "    spinner = asyncio.ensure_future(spin('thinking!'))\n",
    "    print('spinner object:', spinner)\n",
    "    result = yield from slow_function()\n",
    "    spinner.cancel()\n",
    "    return result\n",
    "\n",
    "def main():\n",
    "    loop = asyncio.get_event_loop()\n",
    "    result = loop.run_until_complete(supervisor())\n",
    "    loop.close()\n",
    "    print('Answer:', result)"
   ]
  },
  {
   "cell_type": "code",
   "execution_count": 1,
   "metadata": {},
   "outputs": [
    {
     "name": "stdout",
     "output_type": "stream",
     "text": [
      "\n"
     ]
    }
   ],
   "source": [
    "main()"
   ]
  },
  {
   "cell_type": "markdown",
   "metadata": {},
   "source": [
    "##### 18.2 使用asyncio和aiohttp包下载"
   ]
  },
  {
   "cell_type": "code",
   "execution_count": 3,
   "metadata": {},
   "outputs": [],
   "source": [
    "# 使用asyncion 和 aiohttp包实现的异步下载脚本\n",
    "import asyncio\n",
    "import os\n",
    "import time\n",
    "\n",
    "import aiohttp\n",
    "\n",
    "POP20_CC = 'CN IN US ID BR PK NG BD RU JP \\\n",
    "            MX PH VN ET EG DE IR TR CD FR'.split()\n",
    "BASE_URL = 'http://flupy.org/data/flags'\n",
    "DEST_DIR = 'downloads/'\n",
    "\n",
    "\n",
    "def save_flag(img, filename):\n",
    "    path = os.path.join(DEST_DIR, filename)\n",
    "    with open(path, 'wb') as fp:\n",
    "        fp.write(img)\n",
    "\n",
    "\n",
    "def show(text):\n",
    "    print(text, end=' ')\n",
    "    sys.stdout.flush()\n",
    "\n",
    "\n",
    "def main(download_many):\n",
    "    t0 = time.time()\n",
    "    count = download_many(POP20_CC)\n",
    "    elapsed = time.time() - t0\n",
    "    msg = '\\n{} flags downloaded in {:.2f}s'\n",
    "    print(msg.format(count, elapsed))\n",
    "\n",
    "\n",
    "@asyncio.coroutine\n",
    "def get_flag(cc):\n",
    "    url = '{}/{cc}/{cc}.gif'.format(BASE_URL, cc=cc.lower())\n",
    "    resp = yield from aiohttp.ClientSession().get(url)\n",
    "    image = yield from resp.read()\n",
    "    return image\n",
    "\n",
    "\n",
    "@asyncio.coroutine\n",
    "def download_one(cc):\n",
    "    image = yield from get_flag(cc)\n",
    "    show(cc)\n",
    "    save_flag(image, cc.lower() + '.gif')\n",
    "    return cc\n",
    "\n",
    "\n",
    "def download_many(cc_list):\n",
    "    loop = asyncio.get_event_loop()\n",
    "    to_do = [download_one(cc) for cc in sorted(cc_list)]\n",
    "    wait_coro = asyncio.wait(to_do)\n",
    "    res, _ = loop.run_until_complete(wait_coro)\n",
    "    # loop.close()\n",
    "\n",
    "    return len(res)"
   ]
  },
  {
   "cell_type": "code",
   "execution_count": 4,
   "metadata": {},
   "outputs": [
    {
     "ename": "RuntimeError",
     "evalue": "This event loop is already running",
     "output_type": "error",
     "traceback": [
      "\u001b[1;31m---------------------------------------------------------------------------\u001b[0m",
      "\u001b[1;31mRuntimeError\u001b[0m                              Traceback (most recent call last)",
      "\u001b[1;32m<ipython-input-4-6222a4082c56>\u001b[0m in \u001b[0;36m<module>\u001b[1;34m\u001b[0m\n\u001b[1;32m----> 1\u001b[1;33m \u001b[0mmain\u001b[0m\u001b[1;33m(\u001b[0m\u001b[0mdownload_many\u001b[0m\u001b[1;33m)\u001b[0m\u001b[1;33m\u001b[0m\u001b[1;33m\u001b[0m\u001b[0m\n\u001b[0m",
      "\u001b[1;32m<ipython-input-3-5237640313a6>\u001b[0m in \u001b[0;36mmain\u001b[1;34m(download_many)\u001b[0m\n\u001b[0;32m     25\u001b[0m \u001b[1;32mdef\u001b[0m \u001b[0mmain\u001b[0m\u001b[1;33m(\u001b[0m\u001b[0mdownload_many\u001b[0m\u001b[1;33m)\u001b[0m\u001b[1;33m:\u001b[0m\u001b[1;33m\u001b[0m\u001b[1;33m\u001b[0m\u001b[0m\n\u001b[0;32m     26\u001b[0m     \u001b[0mt0\u001b[0m \u001b[1;33m=\u001b[0m \u001b[0mtime\u001b[0m\u001b[1;33m.\u001b[0m\u001b[0mtime\u001b[0m\u001b[1;33m(\u001b[0m\u001b[1;33m)\u001b[0m\u001b[1;33m\u001b[0m\u001b[1;33m\u001b[0m\u001b[0m\n\u001b[1;32m---> 27\u001b[1;33m     \u001b[0mcount\u001b[0m \u001b[1;33m=\u001b[0m \u001b[0mdownload_many\u001b[0m\u001b[1;33m(\u001b[0m\u001b[0mPOP20_CC\u001b[0m\u001b[1;33m)\u001b[0m\u001b[1;33m\u001b[0m\u001b[1;33m\u001b[0m\u001b[0m\n\u001b[0m\u001b[0;32m     28\u001b[0m     \u001b[0melapsed\u001b[0m \u001b[1;33m=\u001b[0m \u001b[0mtime\u001b[0m\u001b[1;33m.\u001b[0m\u001b[0mtime\u001b[0m\u001b[1;33m(\u001b[0m\u001b[1;33m)\u001b[0m \u001b[1;33m-\u001b[0m \u001b[0mt0\u001b[0m\u001b[1;33m\u001b[0m\u001b[1;33m\u001b[0m\u001b[0m\n\u001b[0;32m     29\u001b[0m     \u001b[0mmsg\u001b[0m \u001b[1;33m=\u001b[0m \u001b[1;34m'\\n{} flags downloaded in {:.2f}s'\u001b[0m\u001b[1;33m\u001b[0m\u001b[1;33m\u001b[0m\u001b[0m\n",
      "\u001b[1;32m<ipython-input-3-5237640313a6>\u001b[0m in \u001b[0;36mdownload_many\u001b[1;34m(cc_list)\u001b[0m\n\u001b[0;32m     51\u001b[0m     \u001b[0mto_do\u001b[0m \u001b[1;33m=\u001b[0m \u001b[1;33m[\u001b[0m\u001b[0mdownload_one\u001b[0m\u001b[1;33m(\u001b[0m\u001b[0mcc\u001b[0m\u001b[1;33m)\u001b[0m \u001b[1;32mfor\u001b[0m \u001b[0mcc\u001b[0m \u001b[1;32min\u001b[0m \u001b[0msorted\u001b[0m\u001b[1;33m(\u001b[0m\u001b[0mcc_list\u001b[0m\u001b[1;33m)\u001b[0m\u001b[1;33m]\u001b[0m\u001b[1;33m\u001b[0m\u001b[1;33m\u001b[0m\u001b[0m\n\u001b[0;32m     52\u001b[0m     \u001b[0mwait_coro\u001b[0m \u001b[1;33m=\u001b[0m \u001b[0masyncio\u001b[0m\u001b[1;33m.\u001b[0m\u001b[0mwait\u001b[0m\u001b[1;33m(\u001b[0m\u001b[0mto_do\u001b[0m\u001b[1;33m)\u001b[0m\u001b[1;33m\u001b[0m\u001b[1;33m\u001b[0m\u001b[0m\n\u001b[1;32m---> 53\u001b[1;33m     \u001b[0mres\u001b[0m\u001b[1;33m,\u001b[0m \u001b[0m_\u001b[0m \u001b[1;33m=\u001b[0m \u001b[0mloop\u001b[0m\u001b[1;33m.\u001b[0m\u001b[0mrun_until_complete\u001b[0m\u001b[1;33m(\u001b[0m\u001b[0mwait_coro\u001b[0m\u001b[1;33m)\u001b[0m\u001b[1;33m\u001b[0m\u001b[1;33m\u001b[0m\u001b[0m\n\u001b[0m\u001b[0;32m     54\u001b[0m     \u001b[1;31m# loop.close()\u001b[0m\u001b[1;33m\u001b[0m\u001b[1;33m\u001b[0m\u001b[1;33m\u001b[0m\u001b[0m\n\u001b[0;32m     55\u001b[0m \u001b[1;33m\u001b[0m\u001b[0m\n",
      "\u001b[1;32mD:\\anaconda3\\lib\\asyncio\\base_events.py\u001b[0m in \u001b[0;36mrun_until_complete\u001b[1;34m(self, future)\u001b[0m\n\u001b[0;32m    569\u001b[0m         \u001b[0mfuture\u001b[0m\u001b[1;33m.\u001b[0m\u001b[0madd_done_callback\u001b[0m\u001b[1;33m(\u001b[0m\u001b[0m_run_until_complete_cb\u001b[0m\u001b[1;33m)\u001b[0m\u001b[1;33m\u001b[0m\u001b[1;33m\u001b[0m\u001b[0m\n\u001b[0;32m    570\u001b[0m         \u001b[1;32mtry\u001b[0m\u001b[1;33m:\u001b[0m\u001b[1;33m\u001b[0m\u001b[1;33m\u001b[0m\u001b[0m\n\u001b[1;32m--> 571\u001b[1;33m             \u001b[0mself\u001b[0m\u001b[1;33m.\u001b[0m\u001b[0mrun_forever\u001b[0m\u001b[1;33m(\u001b[0m\u001b[1;33m)\u001b[0m\u001b[1;33m\u001b[0m\u001b[1;33m\u001b[0m\u001b[0m\n\u001b[0m\u001b[0;32m    572\u001b[0m         \u001b[1;32mexcept\u001b[0m\u001b[1;33m:\u001b[0m\u001b[1;33m\u001b[0m\u001b[1;33m\u001b[0m\u001b[0m\n\u001b[0;32m    573\u001b[0m             \u001b[1;32mif\u001b[0m \u001b[0mnew_task\u001b[0m \u001b[1;32mand\u001b[0m \u001b[0mfuture\u001b[0m\u001b[1;33m.\u001b[0m\u001b[0mdone\u001b[0m\u001b[1;33m(\u001b[0m\u001b[1;33m)\u001b[0m \u001b[1;32mand\u001b[0m \u001b[1;32mnot\u001b[0m \u001b[0mfuture\u001b[0m\u001b[1;33m.\u001b[0m\u001b[0mcancelled\u001b[0m\u001b[1;33m(\u001b[0m\u001b[1;33m)\u001b[0m\u001b[1;33m:\u001b[0m\u001b[1;33m\u001b[0m\u001b[1;33m\u001b[0m\u001b[0m\n",
      "\u001b[1;32mD:\\anaconda3\\lib\\asyncio\\base_events.py\u001b[0m in \u001b[0;36mrun_forever\u001b[1;34m(self)\u001b[0m\n\u001b[0;32m    524\u001b[0m         \u001b[0mself\u001b[0m\u001b[1;33m.\u001b[0m\u001b[0m_check_closed\u001b[0m\u001b[1;33m(\u001b[0m\u001b[1;33m)\u001b[0m\u001b[1;33m\u001b[0m\u001b[1;33m\u001b[0m\u001b[0m\n\u001b[0;32m    525\u001b[0m         \u001b[1;32mif\u001b[0m \u001b[0mself\u001b[0m\u001b[1;33m.\u001b[0m\u001b[0mis_running\u001b[0m\u001b[1;33m(\u001b[0m\u001b[1;33m)\u001b[0m\u001b[1;33m:\u001b[0m\u001b[1;33m\u001b[0m\u001b[1;33m\u001b[0m\u001b[0m\n\u001b[1;32m--> 526\u001b[1;33m             \u001b[1;32mraise\u001b[0m \u001b[0mRuntimeError\u001b[0m\u001b[1;33m(\u001b[0m\u001b[1;34m'This event loop is already running'\u001b[0m\u001b[1;33m)\u001b[0m\u001b[1;33m\u001b[0m\u001b[1;33m\u001b[0m\u001b[0m\n\u001b[0m\u001b[0;32m    527\u001b[0m         \u001b[1;32mif\u001b[0m \u001b[0mevents\u001b[0m\u001b[1;33m.\u001b[0m\u001b[0m_get_running_loop\u001b[0m\u001b[1;33m(\u001b[0m\u001b[1;33m)\u001b[0m \u001b[1;32mis\u001b[0m \u001b[1;32mnot\u001b[0m \u001b[1;32mNone\u001b[0m\u001b[1;33m:\u001b[0m\u001b[1;33m\u001b[0m\u001b[1;33m\u001b[0m\u001b[0m\n\u001b[0;32m    528\u001b[0m             raise RuntimeError(\n",
      "\u001b[1;31mRuntimeError\u001b[0m: This event loop is already running"
     ]
    },
    {
     "name": "stderr",
     "output_type": "stream",
     "text": [
      "Unclosed client session\n",
      "client_session: <aiohttp.client.ClientSession object at 0x00000173AFD55BA8>\n",
      "Unclosed connector\n",
      "connections: ['[(<aiohttp.client_proto.ResponseHandler object at 0x00000173B0317E28>, 3530557.843)]']\n",
      "connector: <aiohttp.connector.TCPConnector object at 0x00000173B03058D0>\n",
      "Unclosed client session\n",
      "client_session: <aiohttp.client.ClientSession object at 0x00000173AFD559B0>\n",
      "Unclosed connector\n",
      "connections: ['[(<aiohttp.client_proto.ResponseHandler object at 0x00000173B0317FA8>, 3530557.953)]']\n",
      "connector: <aiohttp.connector.TCPConnector object at 0x00000173B030F630>\n"
     ]
    },
    {
     "name": "stdout",
     "output_type": "stream",
     "text": [
      "FR IR "
     ]
    },
    {
     "name": "stderr",
     "output_type": "stream",
     "text": [
      "Unclosed client session\n",
      "client_session: <aiohttp.client.ClientSession object at 0x00000173AFD55358>\n",
      "Unclosed connector\n",
      "connections: ['[(<aiohttp.client_proto.ResponseHandler object at 0x00000173B046E408>, 3530558.062)]']\n",
      "connector: <aiohttp.connector.TCPConnector object at 0x00000173B02F9710>\n",
      "Unclosed client session\n",
      "client_session: <aiohttp.client.ClientSession object at 0x00000173AFD556D8>\n",
      "Unclosed connector\n",
      "connections: ['[(<aiohttp.client_proto.ResponseHandler object at 0x00000173B0317CA8>, 3530558.078)]']\n",
      "connector: <aiohttp.connector.TCPConnector object at 0x00000173B02C87F0>\n"
     ]
    },
    {
     "name": "stdout",
     "output_type": "stream",
     "text": [
      "CN RU "
     ]
    },
    {
     "name": "stderr",
     "output_type": "stream",
     "text": [
      "Unclosed client session\n",
      "client_session: <aiohttp.client.ClientSession object at 0x00000173B0106A90>\n",
      "Unclosed connector\n",
      "connections: ['[(<aiohttp.client_proto.ResponseHandler object at 0x00000173B046E0A8>, 3530558.546)]']\n",
      "connector: <aiohttp.connector.TCPConnector object at 0x00000173B031B390>\n",
      "Unclosed client session\n",
      "client_session: <aiohttp.client.ClientSession object at 0x00000173AFD557B8>\n",
      "Unclosed connector\n",
      "connections: ['[(<aiohttp.client_proto.ResponseHandler object at 0x00000173B0317D68>, 3530558.609)]']\n",
      "connector: <aiohttp.connector.TCPConnector object at 0x00000173B02EF550>\n",
      "Unclosed client session\n",
      "client_session: <aiohttp.client.ClientSession object at 0x00000173AFD55B00>\n",
      "Unclosed connector\n",
      "connections: ['[(<aiohttp.client_proto.ResponseHandler object at 0x00000173B046E228>, 3530558.656)]']\n",
      "connector: <aiohttp.connector.TCPConnector object at 0x00000173B030FEF0>\n",
      "Unclosed client session\n",
      "client_session: <aiohttp.client.ClientSession object at 0x00000173AFD55780>\n"
     ]
    },
    {
     "name": "stdout",
     "output_type": "stream",
     "text": [
      "NG TR MX "
     ]
    },
    {
     "name": "stderr",
     "output_type": "stream",
     "text": [
      "Unclosed connector\n",
      "connections: ['[(<aiohttp.client_proto.ResponseHandler object at 0x00000173B0317DC8>, 3530558.734)]']\n",
      "connector: <aiohttp.connector.TCPConnector object at 0x00000173B02EF0F0>\n",
      "Unclosed client session\n",
      "client_session: <aiohttp.client.ClientSession object at 0x00000173AFD55AC8>\n",
      "Unclosed connector\n",
      "connections: ['[(<aiohttp.client_proto.ResponseHandler object at 0x00000173B046E348>, 3530558.765)]']\n",
      "connector: <aiohttp.connector.TCPConnector object at 0x00000173B02F9B70>\n",
      "Unclosed client session\n",
      "client_session: <aiohttp.client.ClientSession object at 0x00000173AFD55828>\n",
      "Unclosed connector\n",
      "connections: ['[(<aiohttp.client_proto.ResponseHandler object at 0x00000173B02EE948>, 3530558.828)]']\n",
      "connector: <aiohttp.connector.TCPConnector object at 0x00000173B02C8C50>\n",
      "Unclosed client session\n",
      "client_session: <aiohttp.client.ClientSession object at 0x00000173AFD55978>\n",
      "Unclosed connector\n",
      "connections: ['[(<aiohttp.client_proto.ResponseHandler object at 0x00000173B02EE948>, 3530558.875)]']\n",
      "connector: <aiohttp.connector.TCPConnector object at 0x00000173B0305D30>\n",
      "Unclosed client session\n",
      "client_session: <aiohttp.client.ClientSession object at 0x00000173AFD55C18>\n",
      "Unclosed connector\n",
      "connections: ['[(<aiohttp.client_proto.ResponseHandler object at 0x00000173B046E168>, 3530558.875)]']\n",
      "connector: <aiohttp.connector.TCPConnector object at 0x00000173B02F92B0>\n"
     ]
    },
    {
     "name": "stdout",
     "output_type": "stream",
     "text": [
      "CD DE BD ID VN "
     ]
    },
    {
     "name": "stderr",
     "output_type": "stream",
     "text": [
      "Unclosed client session\n",
      "client_session: <aiohttp.client.ClientSession object at 0x00000173AFD55A58>\n",
      "Unclosed connector\n",
      "connections: ['[(<aiohttp.client_proto.ResponseHandler object at 0x00000173B02EED08>, 3530559.156)]']\n",
      "connector: <aiohttp.connector.TCPConnector object at 0x00000173B02F9FD0>\n"
     ]
    },
    {
     "name": "stdout",
     "output_type": "stream",
     "text": [
      "EG "
     ]
    },
    {
     "name": "stderr",
     "output_type": "stream",
     "text": [
      "Unclosed client session\n",
      "client_session: <aiohttp.client.ClientSession object at 0x00000173AFD557F0>\n",
      "Unclosed connector\n",
      "connections: ['[(<aiohttp.client_proto.ResponseHandler object at 0x00000173B02EE1C8>, 3530560.515)]']\n",
      "connector: <aiohttp.connector.TCPConnector object at 0x00000173B02EFE10>\n"
     ]
    },
    {
     "name": "stdout",
     "output_type": "stream",
     "text": [
      "BR "
     ]
    },
    {
     "name": "stderr",
     "output_type": "stream",
     "text": [
      "Unclosed client session\n",
      "client_session: <aiohttp.client.ClientSession object at 0x00000173AFD55908>\n",
      "Unclosed connector\n",
      "connections: ['[(<aiohttp.client_proto.ResponseHandler object at 0x00000173B02EE1C8>, 3530561.234)]']\n",
      "connector: <aiohttp.connector.TCPConnector object at 0x00000173AFD55A20>\n",
      "Unclosed client session\n",
      "client_session: <aiohttp.client.ClientSession object at 0x00000173AFD55390>\n",
      "Unclosed connector\n",
      "connections: ['[(<aiohttp.client_proto.ResponseHandler object at 0x00000173B02EE708>, 3530561.25)]']\n",
      "connector: <aiohttp.connector.TCPConnector object at 0x00000173B030F1D0>\n"
     ]
    },
    {
     "name": "stdout",
     "output_type": "stream",
     "text": [
      "PK IN "
     ]
    },
    {
     "name": "stderr",
     "output_type": "stream",
     "text": [
      "Unclosed client session\n",
      "client_session: <aiohttp.client.ClientSession object at 0x00000173AFD55940>\n",
      "Unclosed connector\n",
      "connections: ['[(<aiohttp.client_proto.ResponseHandler object at 0x00000173B02EE0A8>, 3530561.968)]']\n",
      "connector: <aiohttp.connector.TCPConnector object at 0x00000173B02EF9B0>\n",
      "Unclosed client session\n",
      "client_session: <aiohttp.client.ClientSession object at 0x00000173B0106B70>\n",
      "Unclosed connector\n",
      "connections: ['[(<aiohttp.client_proto.ResponseHandler object at 0x00000173B02EE408>, 3530562.14)]']\n",
      "connector: <aiohttp.connector.TCPConnector object at 0x00000173B031B7F0>\n"
     ]
    },
    {
     "name": "stdout",
     "output_type": "stream",
     "text": [
      "US PH "
     ]
    },
    {
     "name": "stderr",
     "output_type": "stream",
     "text": [
      "Unclosed client session\n",
      "client_session: <aiohttp.client.ClientSession object at 0x00000173AFD55860>\n",
      "Unclosed connector\n",
      "connections: ['[(<aiohttp.client_proto.ResponseHandler object at 0x00000173B02EE5E8>, 3530564.875)]']\n",
      "connector: <aiohttp.connector.TCPConnector object at 0x00000173B0305470>\n"
     ]
    },
    {
     "name": "stdout",
     "output_type": "stream",
     "text": [
      "ET "
     ]
    },
    {
     "name": "stderr",
     "output_type": "stream",
     "text": [
      "Unclosed client session\n",
      "client_session: <aiohttp.client.ClientSession object at 0x00000173AFD559E8>\n",
      "Unclosed connector\n",
      "connections: ['[(<aiohttp.client_proto.ResponseHandler object at 0x00000173B02DFF48>, 3530567.109)]']\n",
      "connector: <aiohttp.connector.TCPConnector object at 0x00000173B030FA90>\n"
     ]
    },
    {
     "name": "stdout",
     "output_type": "stream",
     "text": [
      "JP "
     ]
    }
   ],
   "source": [
    "main(download_many)"
   ]
  },
  {
   "cell_type": "markdown",
   "metadata": {},
   "source": [
    "##### 18.4 改进asyncio下载脚本"
   ]
  },
  {
   "cell_type": "code",
   "execution_count": 5,
   "metadata": {},
   "outputs": [],
   "source": [
    "# flags2_asyncio.py\n",
    "import asyncio\n",
    "import collections\n",
    "\n",
    "import aiohttp\n",
    "from aiohttp import web\n",
    "import tqdm\n",
    "\n",
    "from flags2_common import main, HTTPStatus, Result, save_flag\n",
    "\n",
    "# 默认设为较小值， 防止远程网站出错\n",
    "DEFAULT_CONCUR_REQ = 5\n",
    "MAX_CONCUR_REQ = 1000\n",
    "\n",
    "class FetchError(Exception):\n",
    "    def __init__(self, country_code):\n",
    "        self.country_code = country_code\n",
    "\n",
    "@asyncio.coroutine\n",
    "def get_flag(base_url, cc):\n",
    "    url = '{}/{cc}/{cc}.gif'.format(base_url, cc=cc.lower())\n",
    "    resp = yield from aiohttp.ClientSession.get(url)\n",
    "    if resp.status == 200:\n",
    "        image = yield from resp.read()\n",
    "        return image\n",
    "    elif resp.status == 404:\n",
    "        raise web.HTTPNotFound()\n",
    "    else:\n",
    "        raise aiohttp.HttpProcessingError(\n",
    "            code=resp.status, message=resp.reason,\n",
    "            headers=resp.headers)\n",
    "\n",
    "@asyncio.coroutine\n",
    "def download_one(cc, base_url, semaphore, verbose):\n",
    "    try:\n",
    "        with (yield from semaphore):\n",
    "            image = yield from get_flag(base_url, cc)\n",
    "    except web.HTTPNotFound:\n",
    "        status = HTTPStatus.not_found\n",
    "        msg = 'not found'\n",
    "    except Exception as exc:\n",
    "        raise FetchError(cc) from exc\n",
    "    else:\n",
    "        loop = asyncio.get_event_loop()\n",
    "        loop.run_in_executor(None, save_flag,\n",
    "                            image, cc.lower() + '.gif')\n",
    "        # save_flag(image, cc.lower() + '.gif')\n",
    "        status = HTTPStatus.ok\n",
    "        msg = 'OK'\n",
    "    \n",
    "    if verbose and msg:\n",
    "        print(cc, msg)\n",
    "    \n",
    "    return Result(status, cc)"
   ]
  },
  {
   "cell_type": "code",
   "execution_count": 2,
   "metadata": {},
   "outputs": [],
   "source": [
    "@asyncio.coroutine\n",
    "def downloader_coro(cc_list, base_url, verbose, concur_req):\n",
    "    counter = collections.Counter()\n",
    "    semaphore = asyncio.Semaphore(concur_req)\n",
    "    to_do = [download_one(cc, base_url, semaphore, verbose)\n",
    "             for cc in sorted(cc_list)]\n",
    "\n",
    "    to_do_iter = asyncio.as_completed(to_do)\n",
    "    if not verbose:\n",
    "        to_do_iter = tqdm.tqdm(to_do_iter, total=len(cc_list))\n",
    "    for future in to_do_iter:\n",
    "        try:\n",
    "            res = yield from future\n",
    "        except FetchError as exc:\n",
    "            country_code = exc.country_code\n",
    "            try:\n",
    "                error_msg = exc.__cause__.args[0]\n",
    "            except IndexError:\n",
    "                error_msg = exc.__cause__.__class__.__name__\n",
    "            if verbose and error_msg:\n",
    "                msg = '*** Error for {}: {}'\n",
    "                print(msg.format(country_code, error_msg))\n",
    "            status = HTTPStatus.error\n",
    "        else:\n",
    "            status = res.status\n",
    "        counter[status] += 1\n",
    "    return counter"
   ]
  },
  {
   "cell_type": "code",
   "execution_count": 3,
   "metadata": {},
   "outputs": [
    {
     "name": "stderr",
     "output_type": "stream",
     "text": [
      "usage: ipykernel_launcher.py [-h] [-a] [-e] [-l N] [-m CONCURRENT] [-s LABEL]\n",
      "                             [-v]\n",
      "                             [CC [CC ...]]\n",
      "ipykernel_launcher.py: error: unrecognized arguments: -f\n"
     ]
    },
    {
     "ename": "SystemExit",
     "evalue": "2",
     "output_type": "error",
     "traceback": [
      "An exception has occurred, use %tb to see the full traceback.\n",
      "\u001b[1;31mSystemExit\u001b[0m\u001b[1;31m:\u001b[0m 2\n"
     ]
    },
    {
     "name": "stderr",
     "output_type": "stream",
     "text": [
      "D:\\anaconda3\\lib\\site-packages\\IPython\\core\\interactiveshell.py:3334: UserWarning: To exit: use 'exit', 'quit', or Ctrl-D.\n",
      "  warn(\"To exit: use 'exit', 'quit', or Ctrl-D.\", stacklevel=1)\n"
     ]
    }
   ],
   "source": [
    "def download_many(cc_list, base_url, verbose, concur_req):\n",
    "    loop = asyncio.get_event_loop()\n",
    "    coro = downloader_coro(cc_list, base_url, verbose, concur_req)\n",
    "    counts = loop.run_until_complete(coro)\n",
    "    loop.close()\n",
    "    return counts\n",
    "\n",
    "main(download_many, DEFAULT_CONCUR_REQ, MAX_CONCUR_REQ)"
   ]
  },
  {
   "cell_type": "markdown",
   "metadata": {},
   "source": [
    "##### 18.5 从回调到期物和协程"
   ]
  },
  {
   "cell_type": "code",
   "execution_count": 6,
   "metadata": {},
   "outputs": [
    {
     "ename": "NameError",
     "evalue": "name 'api_call1' is not defined",
     "output_type": "error",
     "traceback": [
      "\u001b[1;31m---------------------------------------------------------------------------\u001b[0m",
      "\u001b[1;31mNameError\u001b[0m                                 Traceback (most recent call last)",
      "\u001b[1;32m<ipython-input-6-dc360dc12dcd>\u001b[0m in \u001b[0;36m<module>\u001b[1;34m\u001b[0m\n\u001b[0;32m     11\u001b[0m     \u001b[0mstep3\u001b[0m\u001b[1;33m(\u001b[0m\u001b[0mresponse3\u001b[0m\u001b[1;33m)\u001b[0m\u001b[1;33m\u001b[0m\u001b[1;33m\u001b[0m\u001b[0m\n\u001b[0;32m     12\u001b[0m \u001b[1;33m\u001b[0m\u001b[0m\n\u001b[1;32m---> 13\u001b[1;33m \u001b[0mapi_call1\u001b[0m\u001b[1;33m(\u001b[0m\u001b[0mrequest1\u001b[0m\u001b[1;33m,\u001b[0m \u001b[0mstage1\u001b[0m\u001b[1;33m)\u001b[0m\u001b[1;33m\u001b[0m\u001b[1;33m\u001b[0m\u001b[0m\n\u001b[0m",
      "\u001b[1;31mNameError\u001b[0m: name 'api_call1' is not defined"
     ]
    }
   ],
   "source": [
    "# Python 中的回调地狱：链式回调\n",
    "def stage1(response1):\n",
    "    request2 = step(response1)\n",
    "    api_call2(request2, stage2)\n",
    "\n",
    "def stage2(response2):\n",
    "    request3 = step2(response2)\n",
    "    api_call3(request3, stage3)\n",
    "\n",
    "def stage3(response3):\n",
    "    step3(response3)\n",
    "\n",
    "api_call1(request1, stage1)"
   ]
  },
  {
   "cell_type": "markdown",
   "metadata": {},
   "source": [
    "##### 18.6 使用asyncio包编写服务器"
   ]
  },
  {
   "cell_type": "code",
   "execution_count": null,
   "metadata": {},
   "outputs": [],
   "source": []
  }
 ],
 "metadata": {
  "kernelspec": {
   "display_name": "Python 3",
   "language": "python",
   "name": "python3"
  },
  "language_info": {
   "codemirror_mode": {
    "name": "ipython",
    "version": 3
   },
   "file_extension": ".py",
   "mimetype": "text/x-python",
   "name": "python",
   "nbconvert_exporter": "python",
   "pygments_lexer": "ipython3",
   "version": "3.7.3"
  }
 },
 "nbformat": 4,
 "nbformat_minor": 2
}
