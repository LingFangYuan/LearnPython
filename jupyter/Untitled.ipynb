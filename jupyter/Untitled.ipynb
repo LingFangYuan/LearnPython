{
 "cells": [
  {
   "cell_type": "markdown",
   "metadata": {},
   "source": [
    "## logging模块"
   ]
  },
  {
   "cell_type": "code",
   "execution_count": 1,
   "metadata": {},
   "outputs": [
    {
     "name": "stderr",
     "output_type": "stream",
     "text": [
      "2019-04-23 16:25:14,932 - __main__ - ERROR - dfdf\n",
      "Traceback (most recent call last):\n",
      "  File \"<ipython-input-1-3254e9835aa4>\", line 28, in <module>\n",
      "    10/0\n",
      "ZeroDivisionError: division by zero\n",
      "2019-04-23 16:25:14,945 - __main__ - INFO - Start print log\n",
      "2019-04-23 16:25:14,951 - __main__ - WARNING - Something maybe fail.\n",
      "2019-04-23 16:25:14,954 - __main__ - INFO - Finish\n"
     ]
    },
    {
     "name": "stdout",
     "output_type": "stream",
     "text": [
      "division by zero\n",
      "ddddd\n",
      "END\n"
     ]
    }
   ],
   "source": [
    "import logging\n",
    "\n",
    "# logging.basicConfig(level=logging.DEBUG, format='%(asctime)s - %(name)s - %(levelname)s -%(message)s')\n",
    "#logger = logging.getLogger(__name__)\n",
    "\n",
    "logger = logging.getLogger(__name__) # 创建记录器\n",
    "logger.setLevel(level=logging.INFO)  # 给记录器设置日志等级\n",
    "handler = logging.FileHandler(\"log.txt\") # 创建文件处理器\n",
    "handler.setLevel(logging.INFO) # 给文件处理器设置日志等级\n",
    "# 格式化消息\n",
    "formatter = logging.Formatter('%(asctime)s - %(name)s - %(levelname)s - %(message)s')\n",
    "handler.setFormatter(formatter) # 给文件处理器设置格式化消息\n",
    "\n",
    "console = logging.StreamHandler() # 创建流处理器\n",
    "console.setLevel(logging.INFO)    # 给流处理器设置日志等级\n",
    "console.setFormatter(formatter)   # 给流处理器设置格式化消息\n",
    "\n",
    "# 创建回滚日志处理器\n",
    "rHandle = logging.handlers.RotatingFileHandler(\"log1.txt\", maxBytes=1*1024, backupCount=3)\n",
    "rHandle.setLevel(logging.INFO) # 设置日志等级\n",
    "rHandle.setFormatter(formatter) # 设置格式化消息\n",
    "\n",
    "logger.addHandler(handler)  # 把文件处理器添加到记录器\n",
    "logger.addHandler(rHandle)  # 把回滚日志处理器添加到记录器\n",
    "logger.addHandler(console)  # 把流处理器添加到记录器\n",
    "\n",
    "try:\n",
    "   10/0\n",
    "except ZeroDivisionError as e:\n",
    "    print(str(e))\n",
    "    print(\"ddddd\")\n",
    "    logger.exception(e)\n",
    "    \n",
    "logger.info(\"Start print log\")\n",
    "logger.debug(\"Do something\")\n",
    "logger.warning(\"Something maybe fail.\")\n",
    "logger.info(\"Finish\")\n",
    "print(\"END\")"
   ]
  },
  {
   "cell_type": "code",
   "execution_count": 2,
   "metadata": {},
   "outputs": [
    {
     "name": "stdout",
     "output_type": "stream",
     "text": [
      "2019-04-23 16:25:15\n",
      "Tue Apr 23 16:25:15 2019\n"
     ]
    }
   ],
   "source": [
    "import time\n",
    "print(time.strftime('%Y-%m-%d %H:%M:%S',time.localtime()))\n",
    "print(time.asctime())"
   ]
  },
  {
   "cell_type": "code",
   "execution_count": null,
   "metadata": {},
   "outputs": [],
   "source": []
  }
 ],
 "metadata": {
  "kernelspec": {
   "display_name": "Python 3",
   "language": "python",
   "name": "python3"
  },
  "language_info": {
   "codemirror_mode": {
    "name": "ipython",
    "version": 3
   },
   "file_extension": ".py",
   "mimetype": "text/x-python",
   "name": "python",
   "nbconvert_exporter": "python",
   "pygments_lexer": "ipython3",
   "version": "3.7.3"
  }
 },
 "nbformat": 4,
 "nbformat_minor": 2
}
