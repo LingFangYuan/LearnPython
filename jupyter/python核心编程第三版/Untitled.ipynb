{
 "cells": [
  {
   "cell_type": "markdown",
   "metadata": {},
   "source": [
    "### 第一章、正则表达式"
   ]
  },
  {
   "cell_type": "code",
   "execution_count": 2,
   "metadata": {},
   "outputs": [
    {
     "name": "stdout",
     "output_type": "stream",
     "text": [
      "aaa%abd ff\n",
      "\n"
     ]
    }
   ],
   "source": [
    "import re\n",
    "\n",
    "s = 'aaa abd ff\\n'\n",
    "p = re.sub(r'\\s', '%', s, count=1)\n",
    "print(p)"
   ]
  },
  {
   "cell_type": "code",
   "execution_count": 73,
   "metadata": {},
   "outputs": [
    {
     "name": "stdout",
     "output_type": "stream",
     "text": [
      "匹配失败！ 'NoneType' object has no attribute 'group'\n"
     ]
    }
   ],
   "source": [
    "p = re.match(r'daa', s)\n",
    "try:\n",
    "    print(p.group(), p)\n",
    "except AttributeError as e:\n",
    "    print('匹配失败！', e)"
   ]
  },
  {
   "cell_type": "code",
   "execution_count": 74,
   "metadata": {},
   "outputs": [
    {
     "name": "stdout",
     "output_type": "stream",
     "text": [
      " ab <re.Match object; span=(3, 6), match=' ab'>\n"
     ]
    }
   ],
   "source": [
    "p = re.search(r'\\sab', s)\n",
    "try:\n",
    "    print(p.group(), p)\n",
    "except AttributeError as e:\n",
    "    print('匹配失败！', e)"
   ]
  },
  {
   "cell_type": "code",
   "execution_count": 75,
   "metadata": {},
   "outputs": [
    {
     "name": "stdout",
     "output_type": "stream",
     "text": [
      "<re.Match object; span=(3, 5), match=' a'>\n"
     ]
    }
   ],
   "source": [
    "pattern = re.compile(r'\\sa')\n",
    "p = pattern.match(s, pos=3, endpos=6)\n",
    "print(p)"
   ]
  },
  {
   "cell_type": "code",
   "execution_count": 102,
   "metadata": {},
   "outputs": [
    {
     "name": "stdout",
     "output_type": "stream",
     "text": [
      "\n",
      "\n"
     ]
    }
   ],
   "source": [
    "p = re.match(r'.', '\\n', flags=re.S)\n",
    "print(p.group())"
   ]
  },
  {
   "cell_type": "code",
   "execution_count": 8,
   "metadata": {},
   "outputs": [
    {
     "name": "stdout",
     "output_type": "stream",
     "text": [
      "ab ab a b ('ab', 'a', 'b')\n"
     ]
    }
   ],
   "source": [
    "p = re.match(r'((a)(b))', 'ab')\n",
    "print(p.group(), p.group(1), p.group(2), p.group(3), p.groups())"
   ]
  },
  {
   "cell_type": "code",
   "execution_count": 3,
   "metadata": {},
   "outputs": [
    {
     "name": "stdout",
     "output_type": "stream",
     "text": [
      "aaa-\n"
     ]
    }
   ],
   "source": [
    "p = re.finditer(r'aaa-', 'aaa--aaa')\n",
    "for i in p:\n",
    "    print(i.group())"
   ]
  },
  {
   "cell_type": "code",
   "execution_count": 8,
   "metadata": {},
   "outputs": [
    {
     "name": "stdout",
     "output_type": "stream",
     "text": [
      "('attn: Mr. Smith\\n\\nDear Mr. Smith,\\n', 2)\n"
     ]
    }
   ],
   "source": [
    "print(re.subn('X', 'Mr. Smith', 'attn: X\\n\\nDear X,\\n'))"
   ]
  },
  {
   "cell_type": "code",
   "execution_count": 148,
   "metadata": {},
   "outputs": [
    {
     "name": "stdout",
     "output_type": "stream",
     "text": [
      "['Mountain View', 'CA', '94040']\n",
      "['Sunnyvale', 'CA']\n",
      "['Los Altos', '94023']\n",
      "['Cupertino', '95014']\n",
      "['Palo Alto', 'CA']\n"
     ]
    }
   ],
   "source": [
    "DATA = (\n",
    "    'Mountain View, CA 94040',\n",
    "    'Sunnyvale, CA',\n",
    "    'Los Altos, 94023',\n",
    "    'Cupertino 95014',\n",
    "    'Palo Alto CA',\n",
    ")\n",
    "for datum in DATA:\n",
    "    print(re.split(', | (?=(?:\\d{5}|[A-Z]{2}))', datum))"
   ]
  },
  {
   "cell_type": "code",
   "execution_count": 154,
   "metadata": {},
   "outputs": [
    {
     "data": {
      "text/plain": [
       "True"
      ]
     },
     "execution_count": 154,
     "metadata": {},
     "output_type": "execute_result"
    }
   ],
   "source": [
    "bool(re.search(r'(?:(x)|y)(?(1)y|x)', 'yx'))"
   ]
  },
  {
   "cell_type": "markdown",
   "metadata": {},
   "source": [
    "### 用于正则表达式练习的数据生成器（gendata.py）"
   ]
  },
  {
   "cell_type": "code",
   "execution_count": 180,
   "metadata": {},
   "outputs": [
    {
     "name": "stdout",
     "output_type": "stream",
     "text": [
      "Thu Dec 27 16:21:15 2007::nqxluc@liphzsuykile.edu::1198743675-6-12\n",
      "Tue Dec 13 07:22:47 2033::zhxqiuv@efnuvaup.org::2018042567-7-8\n",
      "Wed Jun 14 01:35:24 2248::zgubao@nrsnwijqyq.edu::8787029724-6-10\n",
      "Tue Aug 21 02:39:29 2001::xanyunh@cndkrhqau.com::998332769-7-9\n",
      "Wed Sep 23 08:07:54 2195::jfxr@vcjchpxkinss.edu::7123248474-4-12\n",
      "Wed Feb  5 08:45:22 1975::unszgxy@sfakvsixjxdd.gov::160793122-7-12\n",
      "Wed Aug 31 06:21:10 2022::xnfs@iccvzpxxx.com::1661898070-4-9\n",
      "Sat Sep 20 11:05:09 2149::hbmaw@kjvliyzg.net::5671393509-5-8\n",
      "Mon Jul 25 19:41:47 2225::qmhu@nqlpombawu.gov::8064790907-4-10\n"
     ]
    }
   ],
   "source": [
    "from random import randrange, choice\n",
    "from string import ascii_lowercase as lc\n",
    "from sys import maxsize\n",
    "from time import ctime\n",
    "\n",
    "tlds = ('com', 'edu', 'net', 'org', 'gov')\n",
    "\n",
    "for i in range(randrange(5, 11)):\n",
    "    dtint = randrange(maxsize)/10**9\n",
    "    dtstr = ctime(dtint)\n",
    "    llen = randrange(4, 8)\n",
    "    login = ''.join(choice(lc) for j in range(llen))\n",
    "    dlen = randrange(llen, 13)\n",
    "    dom = ''.join(choice(lc) for j in range(dlen))\n",
    "    print('%s::%s@%s.%s::%d-%d-%d' % (dtstr, login, dom,\n",
    "                                     choice(tlds), dtint, llen, dlen))"
   ]
  },
  {
   "cell_type": "code",
   "execution_count": 231,
   "metadata": {},
   "outputs": [
    {
     "name": "stdout",
     "output_type": "stream",
     "text": [
      "Thu\n"
     ]
    }
   ],
   "source": [
    "import re\n",
    "\n",
    "data = 'Thu Dec 27 16:21:15 2007::nqxluc@liphzsuykile.edu::1198743675-6-12'\n",
    "patt = r'^(\\w{3})'\n",
    "m = re.match(patt, data)\n",
    "print(m.group())"
   ]
  },
  {
   "cell_type": "markdown",
   "metadata": {},
   "source": [
    "#### 练习"
   ]
  },
  {
   "cell_type": "code",
   "execution_count": 238,
   "metadata": {},
   "outputs": [
    {
     "name": "stdout",
     "output_type": "stream",
     "text": [
      "-10 - 345i\n"
     ]
    }
   ],
   "source": [
    "# 1-1\n",
    "patt = r'[bh][aiu]t'\n",
    "# 1-2\n",
    "patt = r'[A-Za-z]+ [A-Za-z]+'\n",
    "# 1-3\n",
    "patt = r'[A-Za-z]+, [A-Za-z]'\n",
    "# 1-4\n",
    "patt = r'^[A-Za-z_][_\\w]*'\n",
    "# 1-5\n",
    "patt = r'\\d+.+'\n",
    "# 1-6\n",
    "patt = r'http://(www\\(.[\\w]+)+\\.(com|edu|net|cn|cc|org))'\n",
    "# 1-7\n",
    "patt = r'[\\-\\+]?\\d+'\n",
    "# 1-8\n",
    "patt = r'[\\-\\+]?\\d+[lL]'\n",
    "# 1-9\n",
    "patt = r'[\\-\\+]?\\d+\\.\\d*'\n",
    "# 1-10\n",
    "patt = r'([\\-\\+]?\\d+)\\s*([\\-\\+]\\s*(\\d*)i)?'\n",
    "print(re.match(patt, '-10 - 345i').group())\n",
    "# 1-11\n",
    "patt = r''"
   ]
  },
  {
   "cell_type": "code",
   "execution_count": null,
   "metadata": {},
   "outputs": [],
   "source": []
  }
 ],
 "metadata": {
  "kernelspec": {
   "display_name": "Python 3",
   "language": "python",
   "name": "python3"
  },
  "language_info": {
   "codemirror_mode": {
    "name": "ipython",
    "version": 3
   },
   "file_extension": ".py",
   "mimetype": "text/x-python",
   "name": "python",
   "nbconvert_exporter": "python",
   "pygments_lexer": "ipython3",
   "version": "3.7.3"
  }
 },
 "nbformat": 4,
 "nbformat_minor": 2
}
